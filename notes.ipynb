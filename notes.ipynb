{
 "cells": [
  {
   "cell_type": "markdown",
   "metadata": {},
   "source": [
    "# 2021.10.13\n",
    "\n",
    "## 主要知识点\n",
    "* sklearn pipeline\n",
    "* 自定义数据清洗器\n",
    "* 随机划分数据集"
   ]
  },
  {
   "cell_type": "code",
   "execution_count": null,
   "metadata": {},
   "outputs": [],
   "source": [
    "# 一个较为标准的sklearn流程: 以OLS为例\n",
    "from sklearn.preprocessing import StandardScaler\n",
    "from sklearn.pipeline import Pipeline\n",
    "from sklearn.linear_model import LinearRegression\n",
    "import matplotlib.pyplot as plt\n",
    "\n",
    "for style, width, degree in ((\"g-\", 1, 300), (\"b--\", 2, 2), (\"r-+\", 2, 1)):\n",
    "    polybig_features = PolynomialFeatures(degree=degree, include_bias=False)\n",
    "    std_scaler = StandardScaler()\n",
    "    lin_reg = LinearRegression()\n",
    "    polynomial_regression = Pipeline([\n",
    "            (\"poly_features\", polybig_features),\n",
    "            (\"std_scaler\", std_scaler),\n",
    "            (\"lin_reg\", lin_reg),\n",
    "        ])\n",
    "    polynomial_regression.fit(X, y)\n",
    "    y_newbig = polynomial_regression.predict(X_new)\n"
   ]
  },
  {
   "cell_type": "code",
   "execution_count": null,
   "metadata": {},
   "outputs": [],
   "source": [
    "# 创建一个自定义的数据清洗器\n",
    "from sklearn.base import BaseEstimator, TransformerMixin\n",
    "\n",
    "class DataFrameSelector(BaseEstimator, TransformerMixin):\n",
    "    def __init__(self, attribute_names):\n",
    "        self.attribute_names = attribute_names\n",
    "    def fit(self, X, y=None):\n",
    "        return self\n",
    "    def transform(self, X):\n",
    "        return X[self.attribute_names]"
   ]
  },
  {
   "cell_type": "code",
   "execution_count": null,
   "metadata": {},
   "outputs": [],
   "source": [
    "# 随机选取训练集\n",
    "import numpy as np\n",
    "np.random.permutation()"
   ]
  },
  {
   "cell_type": "code",
   "execution_count": null,
   "metadata": {},
   "outputs": [],
   "source": [
    "plt.plot(X[y==1, 0], X[y==1, 1], \"g^\") # 通过指定样式 g^可以间接选择sccater，而g-*就是plot\n",
    "\n",
    "plt.annotate('Best model',\n",
    "             xy=(best_epoch, best_val_rmse),\n",
    "             xytext=(best_epoch, best_val_rmse + 1),\n",
    "             ha=\"center\",\n",
    "             arrowprops=dict(facecolor='black', shrink=0.05),\n",
    "             fontsize=16,\n",
    "            ) # 箭头，图形，注释\n",
    "\n",
    "# 绘制等高线，zz是x0，x1的函数\n",
    "contour = plt.contour(x0, x1, zz, cmap=plt.cm.brg) \n",
    "plt.clabel(contour, inline=1, fontsize=12)\n",
    "# 为等高线内部填色\n",
    "plt.contourf(x0, x1, zz, cmap=custom_cmap"
   ]
  },
  {
   "cell_type": "markdown",
   "metadata": {},
   "source": [
    "# 2021.10.14\n",
    "\n",
    "## 主要知识点\n",
    "* softmax代码手写\n"
   ]
  },
  {
   "cell_type": "markdown",
   "metadata": {},
   "source": [
    "## 手撸softmax（包含正则的梯度下降求解）\n",
    "the equations we will need are the cost function:\n",
    "\n",
    "$J(\\mathbf{\\Theta}) = \\dfrac{1}{m}\\sum\\limits_{i=1}^{m}\\sum\\limits_{k=1}^{K}{y_k^{(i)}\\log\\left(\\hat{p}_k^{(i)}\\right)}$\n",
    "\n",
    "And the equation for the gradients:\n",
    "\n",
    "$\\nabla_{\\mathbf{\\theta}^{(k)}} \\, J(\\mathbf{\\Theta}) = \\dfrac{1}{m} \\sum\\limits_{i=1}^{m}{ \\left ( \\hat{p}^{(i)}_k - y_k^{(i)} \\right ) \\mathbf{x}^{(i)}}$\n",
    "\n",
    "Note that $\\log\\left(\\hat{p}_k^{(i)}\\right)$ may not be computable if $\\hat{p}_k^{(i)} = 0$. So we will add a tiny value $\\epsilon$ to $\\log\\left(\\hat{p}_k^{(i)}\\right)$ to avoid getting `nan` values."
   ]
  },
  {
   "cell_type": "code",
   "execution_count": null,
   "metadata": {},
   "outputs": [],
   "source": [
    "from sklearn.base import BaseEstimator\n",
    "from sklearn.base import TransformerMixin\n",
    "\n",
    "class Softmax(BaseEstimator, TransformerMixin):\n",
    "    \n",
    "    def __init__(\n",
    "        self, \n",
    "        lr = 0.1, # 学习率\n",
    "        max_iter = 5001, # 最大循环次数\n",
    "        if_regu = True,\n",
    "        alpha = 0.1, #正则化参数      \n",
    "        early_stop = True\n",
    "        ) -> None:\n",
    "        super().__init__()\n",
    "        self.lr = lr\n",
    "        self.max_iter = max_iter\n",
    "        self.regu = if_regu\n",
    "        if if_regu:\n",
    "            if not isinstance(alpha, float):\n",
    "                raise NotImplementedError('please set alpha !')\n",
    "            else:\n",
    "                self.regu = True\n",
    "                self.alpha = alpha\n",
    "        self.early_stop = early_stop\n",
    "    \n",
    "    @staticmethod\n",
    "    def _softmax(logits:np.array) -> np.array:\n",
    "        exps = np.exp(logits)\n",
    "        exp_sums = np.sum(exps, axis=1, keepdims=True)\n",
    "        return exps / exp_sums\n",
    "    \n",
    "    @staticmethod\n",
    "    def to_one_hot(y:np.array) -> np.ndarray:\n",
    "        n_classes = y.max() + 1\n",
    "        m = len(y)\n",
    "        Y_one_hot = np.zeros((m, n_classes))\n",
    "        Y_one_hot[np.arange(m), y] = 1\n",
    "        return Y_one_hot\n",
    "    \n",
    "    def fit(self, X:np.ndarray, y:np.array) -> None:\n",
    "    # fit softmax classifacation by gradient decend\n",
    "        \n",
    "        # init\n",
    "        epsilon = 1e-7\n",
    "        n_inputs = X.shape[1]\n",
    "        n_outputs = len(np.unique(y))\n",
    "        Theta = np.random.randn(n_inputs, n_outputs)  \n",
    "        best_loss = np.infty \n",
    "        m = len(X)  # num of trainning set\n",
    "\n",
    "        # label to one hot\n",
    "        Y_one_hot = self.to_one_hot(y)\n",
    "        \n",
    "        # gradient decend\n",
    "        for iteration in range(self.max_iter):\n",
    "\n",
    "            # update theta\n",
    "            logits = np.dot(X, Theta)\n",
    "            Y_prob = self._softmax(logits)\n",
    "            error = Y_prob - Y_one_hot\n",
    "            if self.regu:\n",
    "                gradients = 1/m * X_train.T.dot(error) + np.r_[np.zeros([1, n_outputs]), self.alpha * Theta[1:]]\n",
    "            else:\n",
    "                gradients = 1/m * X_train.T.dot(error)\n",
    "            Theta = Theta - self.lr * gradients\n",
    "\n",
    "            # calculate loss\n",
    "            xentropy_loss = -np.mean(np.sum(Y_one_hot * np.log(Y_prob + epsilon), axis=1))\n",
    "            if self.regu:\n",
    "                l2_loss = 1/2 * np.sum(np.square(Theta[1:]))\n",
    "                loss = xentropy_loss + self.alpha * l2_loss\n",
    "            else:\n",
    "                loss = xentropy_loss\n",
    "            \n",
    "            if iteration%500 == 0:\n",
    "                print(f'iteration : {iteration}, loss : {loss}')\n",
    "            \n",
    "            # early stop\n",
    "            if self.early_stop:\n",
    "                if loss < best_loss:\n",
    "                    best_loss = loss\n",
    "                else:\n",
    "                    print(f'early stop at iteration {iteration - 1}, best loss = {best_loss}')\n",
    "                    break\n",
    "            self.Theta = Theta\n",
    "\n",
    "    def predict(self, X_test:np.ndarray, prob = False) -> np.array:\n",
    "        if prob:\n",
    "            return self._softmax(X_test.dot(self.Theta))\n",
    "        else:\n",
    "            return np.argmax(self._softmax(X_test.dot(self.Theta)), axis = 1)"
   ]
  },
  {
   "cell_type": "markdown",
   "metadata": {},
   "source": [
    "# 2021.10.15\n",
    "\n",
    "## 主要知识点：\n",
    "* 手写线性SVM\n",
    "* 在sklearn中使用网格搜索训练模型"
   ]
  },
  {
   "cell_type": "markdown",
   "metadata": {},
   "source": [
    "## 手写使用gradient decend的线性SVM"
   ]
  },
  {
   "cell_type": "code",
   "execution_count": null,
   "metadata": {},
   "outputs": [],
   "source": [
    "from sklearn.base import BaseEstimator\n",
    "\n",
    "class MyLinearSVC(BaseEstimator):\n",
    "    def __init__(self, C=1, eta0=1, eta_d=10000, n_epochs=1000, random_state=None):\n",
    "        self.C = C\n",
    "        self.eta0 = eta0\n",
    "        self.n_epochs = n_epochs\n",
    "        self.random_state = random_state\n",
    "        self.eta_d = eta_d\n",
    "\n",
    "    def eta(self, epoch):\n",
    "        # 随着迭代的次数实时修改学习率，次数越大，学习率越低\n",
    "        return self.eta0 / (epoch + self.eta_d)\n",
    "        \n",
    "    def fit(self, X, y):\n",
    "        # Random initialization\n",
    "        if self.random_state:\n",
    "            np.random.seed(self.random_state)\n",
    "        w = np.random.randn(X.shape[1], 1) # n feature weights\n",
    "        b = 0\n",
    "\n",
    "        m = len(X)\n",
    "        t = y * 2 - 1  # -1 if t==0, +1 if t==1\n",
    "        X_t = X * t\n",
    "        self.Js=[]\n",
    "\n",
    "        # Training\n",
    "        for epoch in range(self.n_epochs):\n",
    "            support_vectors_idx = (X_t.dot(w) + t * b < 1).ravel()\n",
    "            X_t_sv = X_t[support_vectors_idx]\n",
    "            t_sv = t[support_vectors_idx]\n",
    "\n",
    "            J = 1/2 * np.sum(w * w) + self.C * (np.sum(1 - X_t_sv.dot(w)) - b * np.sum(t_sv))\n",
    "            self.Js.append(J)\n",
    "\n",
    "            w_gradient_vector = w - self.C * np.sum(X_t_sv, axis=0).reshape(-1, 1)\n",
    "            b_derivative = -self.C * np.sum(t_sv)\n",
    "                \n",
    "            w = w - self.eta(epoch) * w_gradient_vector\n",
    "            b = b - self.eta(epoch) * b_derivative\n",
    "            \n",
    "\n",
    "        self.intercept_ = np.array([b])\n",
    "        self.coef_ = np.array([w])\n",
    "        support_vectors_idx = (X_t.dot(w) + t * b < 1).ravel()\n",
    "        self.support_vectors_ = X[support_vectors_idx]\n",
    "        return self\n",
    "\n",
    "    def decision_function(self, X):\n",
    "        return X.dot(self.coef_[0]) + self.intercept_[0]\n",
    "\n",
    "    def predict(self, X):\n",
    "        return (self.decision_function(X) >= 0).astype(np.float64)\n",
    "\n",
    "C=2\n",
    "svm_clf = MyLinearSVC(C=C, eta0 = 10, eta_d = 1000, n_epochs=60000, random_state=2)"
   ]
  },
  {
   "cell_type": "markdown",
   "metadata": {},
   "source": [
    "## 通过网格搜索系统的训练一个模型"
   ]
  },
  {
   "cell_type": "code",
   "execution_count": null,
   "metadata": {},
   "outputs": [],
   "source": [
    "# 读取数据\n",
    "from sklearn.datasets import fetch_openml\n",
    "mnist = fetch_openml('mnist_784', version=1, cache=True, as_frame=False)\n",
    "\n",
    "X = mnist[\"data\"]\n",
    "y = mnist[\"target\"].astype(np.uint8)\n",
    "\n",
    "X_train = X[:60000]\n",
    "y_train = y[:60000]\n",
    "X_test = X[60000:]\n",
    "y_test = y[60000:]"
   ]
  },
  {
   "cell_type": "code",
   "execution_count": null,
   "metadata": {},
   "outputs": [],
   "source": [
    "# 测试模型\n",
    "from sklearn.svm import SVC, LinearSVC\n",
    "from sklearn.preprocessing import StandardScaler\n",
    "from sklearn.metrics import accuracy_score\n",
    "\n",
    "scaler = StandardScaler()\n",
    "X_train_scaled = scaler.fit_transform(X_train.astype(np.float32))\n",
    "X_test_scaled = scaler.transform(X_test.astype(np.float32))\n",
    "\n",
    "svm_clf = SVC(gamma=\"scale\")\n",
    "svm_clf.fit(X_train_scaled[:10000], y_train[:10000])\n",
    "\n",
    "y_pred = svm_clf.predict(X_train_scaled)\n",
    "accuracy_score(y_train, y_pred)"
   ]
  },
  {
   "cell_type": "code",
   "execution_count": null,
   "metadata": {},
   "outputs": [],
   "source": [
    "# 随机搜索 最佳参数\n",
    "from sklearn.model_selection import RandomizedSearchCV\n",
    "from scipy.stats import reciprocal, uniform\n",
    "\n",
    "param_distributions = {\"gamma\": reciprocal(0.001, 0.1), \"C\": uniform(1, 10)}\n",
    "rnd_search_cv = RandomizedSearchCV(svm_clf, param_distributions, n_iter=10, verbose=2, cv=3)\n",
    "rnd_search_cv.fit(X_train_scaled[:1000], y_train[:1000])"
   ]
  },
  {
   "cell_type": "code",
   "execution_count": null,
   "metadata": {},
   "outputs": [],
   "source": [
    "# 测试最佳参数模型\n",
    "rnd_search_cv.best_estimator_\n",
    "rnd_search_cv.best_score_"
   ]
  },
  {
   "cell_type": "code",
   "execution_count": null,
   "metadata": {},
   "outputs": [],
   "source": [
    "rnd_search_cv.best_estimator_.fit(X_train_scaled, y_train)\n",
    "y_pred = rnd_search_cv.best_estimator_.predict(X_test_scaled)\n",
    "accuracy_score(y_test, y_pred)"
   ]
  },
  {
   "cell_type": "markdown",
   "metadata": {},
   "source": [
    "# 2021.10.17\n",
    "* 一些notes\n"
   ]
  },
  {
   "cell_type": "code",
   "execution_count": null,
   "metadata": {},
   "outputs": [],
   "source": [
    "# sklearn某种分类器既可以输出分类分数，也可以输出类别：\n",
    "clf.decison_function(x)\n",
    "clf.predict_proba(x)\n",
    "clf.predict(x)"
   ]
  },
  {
   "cell_type": "markdown",
   "metadata": {},
   "source": [
    "# 2021.10.19\n",
    "## 知识点：\n",
    "* 绘制决策边界\n",
    "* 使用SVM的AdaBoost实现"
   ]
  },
  {
   "cell_type": "code",
   "execution_count": null,
   "metadata": {},
   "outputs": [],
   "source": [
    "# 绘制决策边界\n",
    "def plot_decision_boundary(clf, X, y, axes=[-1.5, 2.45, -1, 1.5], alpha=0.5, contour=True):\n",
    "    x1s = np.linspace(axes[0], axes[1], 100)\n",
    "    x2s = np.linspace(axes[2], axes[3], 100)\n",
    "    x1, x2 = np.meshgrid(x1s, x2s)\n",
    "    X_new = np.c_[x1.ravel(), x2.ravel()]\n",
    "    y_pred = clf.predict(X_new).reshape(x1.shape)\n",
    "    custom_cmap = ListedColormap(['#fafab0','#9898ff','#a0faa0'])\n",
    "    plt.contourf(x1, x2, y_pred, alpha=0.3, cmap=custom_cmap)\n",
    "    if contour:\n",
    "        custom_cmap2 = ListedColormap(['#7d7d58','#4c4c7f','#507d50'])\n",
    "        plt.contour(x1, x2, y_pred, cmap=custom_cmap2, alpha=0.8)\n",
    "    plt.plot(X[:, 0][y==0], X[:, 1][y==0], \"yo\", alpha=alpha)\n",
    "    plt.plot(X[:, 0][y==1], X[:, 1][y==1], \"bs\", alpha=alpha)\n",
    "    plt.axis(axes)\n",
    "    plt.xlabel(r\"$x_1$\", fontsize=18)\n",
    "    plt.ylabel(r\"$x_2$\", fontsize=18, rotation=0)"
   ]
  },
  {
   "cell_type": "markdown",
   "metadata": {},
   "source": [
    "## 实现AdaBoost（SVM版本）"
   ]
  },
  {
   "cell_type": "markdown",
   "metadata": {},
   "source": [
    "### Adaboost\n",
    "在前一个分类器的残差基础上进行下一次学习\n",
    "* step1:在带有权重的样本上进行学习，计算模型带权重的准确率\n",
    "* step2:根据模型的准确率确定模型的voting权重\n",
    "* step3:对模型错误分类的样本根据模型的voting权重进行样本的权重调整"
   ]
  },
  {
   "cell_type": "code",
   "execution_count": null,
   "metadata": {},
   "outputs": [],
   "source": [
    "from sklearn.model_selection import train_test_split\n",
    "from sklearn.datasets import make_moons\n",
    "\n",
    "X, y = make_moons(n_samples=500, noise=0.30, random_state=42)\n",
    "X_train, X_test, y_train, y_test = train_test_split(X, y, random_state=42)"
   ]
  },
  {
   "cell_type": "code",
   "execution_count": null,
   "metadata": {},
   "outputs": [],
   "source": [
    "m = len(X_train)\n",
    "\n",
    "fix, axes = plt.subplots(ncols=2, figsize=(10,4), sharey=True)\n",
    "for subplot, learning_rate in ((0, 1), (1, 0.5)):\n",
    "    sample_weights = np.ones(m) / m\n",
    "    plt.sca(axes[subplot])\n",
    "    for i in range(5):\n",
    "        svm_clf = SVC(kernel=\"rbf\", C=0.2, gamma=0.6, random_state=42)\n",
    "        svm_clf.fit(X_train, y_train, sample_weight=sample_weights * m)\n",
    "        y_pred = svm_clf.predict(X_train)\n",
    "\n",
    "        r = sample_weights[y_pred != y_train].sum() / sample_weights.sum() # equation 7-1 计算模型准确率\n",
    "        alpha = learning_rate * np.log((1 - r) / r) # equation 7-2 计算模型权重\n",
    "        sample_weights[y_pred != y_train] *= np.exp(alpha) # equation 7-3 更新样本权重\n",
    "        sample_weights /= sample_weights.sum() # normalization step 归一化样本\n",
    "\n",
    "        plot_decision_boundary(svm_clf, X, y, alpha=0.2)\n",
    "        plt.title(\"learning_rate = {}\".format(learning_rate), fontsize=16)\n",
    "    if subplot == 0:\n",
    "        plt.text(-0.75, -0.95, \"1\", fontsize=14)\n",
    "        plt.text(-1.05, -0.95, \"2\", fontsize=14)\n",
    "        plt.text(1.0, -0.95, \"3\", fontsize=14)\n",
    "        plt.text(-1.45, -0.5, \"4\", fontsize=14)\n",
    "        plt.text(1.36,  -0.95, \"5\", fontsize=14)\n",
    "    else:\n",
    "        plt.ylabel(\"\")\n",
    "\n",
    "save_fig(\"boosting_plot\")\n",
    "plt.show()"
   ]
  },
  {
   "cell_type": "markdown",
   "metadata": {},
   "source": [
    "# 2021.10.21\n",
    "\n",
    "* 一些notes\n"
   ]
  },
  {
   "cell_type": "code",
   "execution_count": null,
   "metadata": {},
   "outputs": [],
   "source": [
    "import numpy as np\n",
    "np.allclose(X,Y)    # 逐元素比较两个矩阵"
   ]
  },
  {
   "cell_type": "markdown",
   "metadata": {},
   "source": [
    "# 2021.10.26\n",
    "\n",
    "## 主要知识点：\n",
    "* kmeans\n",
    "* DBSCAN"
   ]
  },
  {
   "cell_type": "markdown",
   "metadata": {},
   "source": [
    "## kmeans"
   ]
  },
  {
   "cell_type": "code",
   "execution_count": null,
   "metadata": {},
   "outputs": [],
   "source": [
    "from sklearn.cluster import KMeans\n",
    "k = 5\n",
    "kmeans = KMeans(n_clusters=k,    # 集群数量 \n",
    "                random_state=42,\n",
    "                n_init = 10,     # 初始化次数，模型会从多次初始化的结果中挑选一个.inertia_最小的\n",
    "                init = 'random', # 初始化方式，默认为 k-means++\n",
    "                algorithm = 'full') #算法，full为用全样本计算，默认为elkan\n",
    "kmeans.fit(X)\n",
    "distance = kmeans.transform(x) #计算x和各个中心点的距离\n",
    "score = kmeans.inertia_ # 距离平方和\n",
    "kmean.predict(x) #将新的点分配给最近的集群"
   ]
  },
  {
   "cell_type": "code",
   "execution_count": null,
   "metadata": {},
   "outputs": [],
   "source": [
    "# 如何选择好的k\n",
    "# 轮廓系数\n",
    "# 轮廓系数 = （b-a）/max（a,b)\n",
    "# a为与同一集群中其他样本的距离，b为平均最近集群距离，即某一个样本到另外一个集群样本的平均距离的最小值\n",
    "# 轮廓系数=1代表样本离本集群很近，其他集群很远，0代表样本处于集群的轮廓上，而-1代表样本可能分配错误\n",
    "from sklearn.metrics import silhouette_score\n",
    "score = silhouette_score(X, kmeans.lables_)"
   ]
  },
  {
   "cell_type": "code",
   "execution_count": null,
   "metadata": {},
   "outputs": [],
   "source": [
    "from sklearn.metrics import silhouette_samples\n",
    "# 对于每个样本计算轮廓分数，生成一个和labels形状一样的数组，里面储存着每个样本的轮廓分数，可以用来查看不同聚类的样本轮廓分数\n",
    "score_samples = silhouette_samples(X, kmeans.labels_) "
   ]
  },
  {
   "cell_type": "markdown",
   "metadata": {},
   "source": [
    "## DBSCAN"
   ]
  },
  {
   "cell_type": "markdown",
   "metadata": {},
   "source": [
    "* 对每个实例，算法寻找其附近epsilon距离的实例数量\n",
    "* 实例数量超过min_samples的实例成为核心实例\n",
    "* 核心实例的epsilon区域内可能包含其他核心实例，核心实例连接形成集群"
   ]
  },
  {
   "cell_type": "code",
   "execution_count": null,
   "metadata": {},
   "outputs": [],
   "source": [
    "from sklearn.cluster import DBSCAN\n",
    "from sklearn.datasets import make_moons\n",
    "\n",
    "X,y = make_moons(n_samples = 1000, noise = 0.05)\n",
    "dbscan = DESCAN(eps = 0.05, min_sample = 5)\n",
    "dbscan.fit(X)"
   ]
  },
  {
   "cell_type": "code",
   "execution_count": null,
   "metadata": {},
   "outputs": [],
   "source": [
    "dbscan.lables_          # 所有实例的标签\n",
    "dbscan.components_      # 核心实例的坐标"
   ]
  },
  {
   "cell_type": "markdown",
   "metadata": {},
   "source": [
    "值得注意的是，DBSCAN有fix_predict()方法，但是没有predict方法，即其无法预测新实例属于哪个集群，所以我们需要创建一个classifier"
   ]
  },
  {
   "cell_type": "code",
   "execution_count": null,
   "metadata": {},
   "outputs": [],
   "source": [
    "from sklearn.neighbors import KNeighborsClassifier\n",
    "knn = KNeighborsClassifier(n_neighbors=50)\n",
    "knn.fit(dbscan.components_, dbscan.labels_[dbscan.core_sample_indices_])\n",
    "\n",
    "# 这里我们仅仅在核心上训练了分类器，也可以选择在全样本上训练分类器，但是这样就没有发挥出DBSCAN的作用\n",
    "\n",
    "X_new = np.array([[-0.5, 0], [0, 0.5], [1, -0.1], [2, 1]])\n",
    "knn.predict(X_new)\n",
    "knn.predict_proba(X_new)"
   ]
  },
  {
   "cell_type": "markdown",
   "metadata": {},
   "source": [
    "# 2021.10.28\n",
    "\n",
    "## 知识点\n",
    "* PCA\n",
    "* 混合高斯模型\n",
    "* Keras顺序模型\n",
    "* 函数API网络\n",
    "* 子类API构建网络\n",
    "* 保存神经网络模型\n",
    "* callback\n",
    "* 使用sklearn的网格搜索为神经网络调参"
   ]
  },
  {
   "cell_type": "code",
   "execution_count": null,
   "metadata": {},
   "outputs": [],
   "source": [
    "# 对样本分层抽样\n",
    "from sklearn.model_selection import StratifiedShuffleSplit\n",
    "strat_split = StratifiedShuffleSplit(n_splits=1, test_size=40, random_state=42) \n",
    "# n_spilt表示要获取多少组train/test数据集，这个数字决定了生成的generator的元素数量，比如这里的generator就只有一个元素\n",
    "# test_size 如果是小数则表示所占比例\n",
    "idx_generator = strat_split.split(olivetti.data, olivetti.target)\n",
    "\n",
    "for train_idx, test_idx in idx_generator:\n",
    "    pass"
   ]
  },
  {
   "cell_type": "code",
   "execution_count": null,
   "metadata": {},
   "outputs": [],
   "source": [
    "# pca 降低维度\n",
    "from sklearn.decomposition import PCA\n",
    "\n",
    "pca = PCA(0.99) # 可以直接指定PCA的解释比例，让其自动选择n\n",
    "X_train_pca = pca.fit_transform(X_train)\n",
    "X_valid_pca = pca.transform(X_valid)\n",
    "X_test_pca = pca.transform(X_test)\n",
    "\n",
    "pca.n_components_"
   ]
  },
  {
   "cell_type": "markdown",
   "metadata": {},
   "source": [
    "## 混合高斯模型"
   ]
  },
  {
   "cell_type": "code",
   "execution_count": null,
   "metadata": {},
   "outputs": [],
   "source": [
    "from sklearn.mixture import GaussianMixture\n",
    "\n",
    "gm = GaussianMixture(n_components=40, random_state=42)\n",
    "y_pred = gm.fit_predict(X_train_pca)"
   ]
  },
  {
   "cell_type": "code",
   "execution_count": null,
   "metadata": {},
   "outputs": [],
   "source": [
    "# 混合高斯模型的一些参数\n",
    "gm.weights_ #不同高斯分布的权重\n",
    "gm.means_ #高斯分布的均值矩阵\n",
    "gm.covariances_ #高斯分布协方差矩阵\n",
    "gm.n_iter_ #拟合次数"
   ]
  },
  {
   "cell_type": "code",
   "execution_count": null,
   "metadata": {},
   "outputs": [],
   "source": [
    "# 混合高斯模型的一些方法\n",
    "gm.predict(X)\n",
    "gm.predict_proba(X)\n",
    "X_new, y_new = gm.sample(6)\n",
    "pdf = gm.score_samples(X) #生成在X处的log(pdf)值，pdf的积分等于1\n",
    "# 如果这个值非常小，则可以近似的认为这个点是一个离群点，因此这个指标可以为样本进行异常检测。"
   ]
  },
  {
   "cell_type": "code",
   "execution_count": null,
   "metadata": {},
   "outputs": [],
   "source": [
    "# 混合高斯模型可以在训练数据后产生新的数据样例\n",
    "n_gen_samples = 20\n",
    "gen_reduced, y_gen = gm.sample(n_samples=n_gen_faces)\n",
    "gen_x = pca.inverse_transform(gen_reduced)      #PCA的逆向转换"
   ]
  },
  {
   "cell_type": "markdown",
   "metadata": {},
   "source": [
    "## 用kears构建神经网络"
   ]
  },
  {
   "cell_type": "code",
   "execution_count": 3,
   "metadata": {},
   "outputs": [],
   "source": [
    "import sys\n",
    "assert sys.version_info >= (3, 5)\n",
    "\n",
    "# Scikit-Learn ≥0.20 is required\n",
    "import sklearn\n",
    "assert sklearn.__version__ >= \"0.20\"\n",
    "\n",
    "# TensorFlow ≥2.0 is required\n",
    "import tensorflow as tf\n",
    "assert tf.__version__ >= \"2.0\"\n",
    "\n",
    "from tensorflow import keras        # tf.keras实现了kerasAPI以及一些额外的tf的特定功能，这里我们选择使用这个包\n",
    "\n",
    "# Common imports\n",
    "import numpy as np\n",
    "import os"
   ]
  },
  {
   "cell_type": "code",
   "execution_count": 4,
   "metadata": {},
   "outputs": [
    {
     "data": {
      "text/plain": [
       "'2.4.2'"
      ]
     },
     "execution_count": 4,
     "metadata": {},
     "output_type": "execute_result"
    }
   ],
   "source": [
    "tf.__version__"
   ]
  },
  {
   "cell_type": "code",
   "execution_count": 5,
   "metadata": {},
   "outputs": [
    {
     "data": {
      "text/plain": [
       "'2.4.0'"
      ]
     },
     "execution_count": 5,
     "metadata": {},
     "output_type": "execute_result"
    }
   ],
   "source": [
    "keras.__version__"
   ]
  },
  {
   "cell_type": "markdown",
   "metadata": {},
   "source": [
    "## 顺序模型"
   ]
  },
  {
   "cell_type": "code",
   "execution_count": 6,
   "metadata": {},
   "outputs": [],
   "source": [
    "# 建立一个简单的神经网络\n",
    "model = keras.models.Sequential([\n",
    "    keras.layers.Flatten(input_shape=[28, 28]),\n",
    "    keras.layers.Dense(300, activation=keras.activations.relu),\n",
    "    keras.layers.Dense(100, activation=keras.activations.relu),\n",
    "    keras.layers.Dense(10, activation=keras.activations.softmax)\n",
    "])"
   ]
  },
  {
   "cell_type": "code",
   "execution_count": 8,
   "metadata": {},
   "outputs": [
    {
     "name": "stdout",
     "output_type": "stream",
     "text": [
      "Model: \"sequential\"\n",
      "_________________________________________________________________\n",
      "Layer (type)                 Output Shape              Param #   \n",
      "=================================================================\n",
      "flatten (Flatten)            (None, 784)               0         \n",
      "_________________________________________________________________\n",
      "dense (Dense)                (None, 300)               235500    \n",
      "_________________________________________________________________\n",
      "dense_1 (Dense)              (None, 100)               30100     \n",
      "_________________________________________________________________\n",
      "dense_2 (Dense)              (None, 10)                1010      \n",
      "=================================================================\n",
      "Total params: 266,610\n",
      "Trainable params: 266,610\n",
      "Non-trainable params: 0\n",
      "_________________________________________________________________\n"
     ]
    }
   ],
   "source": [
    "model.summary()"
   ]
  },
  {
   "cell_type": "code",
   "execution_count": 9,
   "metadata": {},
   "outputs": [
    {
     "data": {
      "image/png": "[encoded data removed]",
      "text/plain": [
       "<IPython.core.display.Image object>"
      ]
     },
     "execution_count": 9,
     "metadata": {},
     "output_type": "execute_result"
    }
   ],
   "source": [
    "keras.utils.plot_model(model)"
   ]
  },
  {
   "cell_type": "code",
   "execution_count": 13,
   "metadata": {},
   "outputs": [],
   "source": [
    "hidden1 = model.layers[1]"
   ]
  },
  {
   "cell_type": "code",
   "execution_count": 14,
   "metadata": {},
   "outputs": [],
   "source": [
    "weights, bias = hidden1.get_weights()"
   ]
  },
  {
   "cell_type": "code",
   "execution_count": 15,
   "metadata": {},
   "outputs": [
    {
     "data": {
      "text/plain": [
       "array([[ 0.03889441,  0.06243019,  0.02490912, ..., -0.02448691,\n",
       "         0.06236339,  0.0085483 ],\n",
       "       [ 0.06718743, -0.032793  ,  0.07377245, ..., -0.06441668,\n",
       "        -0.00186466,  0.04859214],\n",
       "       [-0.01259819,  0.05956532, -0.04802169, ..., -0.0145949 ,\n",
       "         0.02444635,  0.07383755],\n",
       "       ...,\n",
       "       [-0.0533022 , -0.04698312, -0.06636278, ..., -0.05220167,\n",
       "        -0.0393664 ,  0.01340114],\n",
       "       [ 0.07011238, -0.07282688, -0.01296387, ...,  0.0263719 ,\n",
       "        -0.03069232, -0.05637704],\n",
       "       [ 0.07345013,  0.01440507,  0.01574823, ..., -0.02626022,\n",
       "        -0.06853627, -0.00786755]], dtype=float32)"
      ]
     },
     "execution_count": 15,
     "metadata": {},
     "output_type": "execute_result"
    }
   ],
   "source": [
    "weights"
   ]
  },
  {
   "cell_type": "code",
   "execution_count": 16,
   "metadata": {},
   "outputs": [
    {
     "data": {
      "text/plain": [
       "(784, 300)"
      ]
     },
     "execution_count": 16,
     "metadata": {},
     "output_type": "execute_result"
    }
   ],
   "source": [
    "weights.shape"
   ]
  },
  {
   "cell_type": "code",
   "execution_count": null,
   "metadata": {},
   "outputs": [],
   "source": [
    "# 初始化模型完成后，我们需要对于模型进行编译，指定损失函数，优化器等\n",
    "model.compile(\n",
    "    loss = keras.losses.CategoricalCrossentropy,\n",
    "    optimizer = keras.optimizers.SGD,\n",
    "    metrics = [keras.metrics.SparseCategoricalAccuracy]\n",
    ")\n",
    "\n",
    "history = model.fit(X_train, y_train, epochs=30,\n",
    "                    validation_data=(X_valid, y_valid))"
   ]
  },
  {
   "cell_type": "code",
   "execution_count": null,
   "metadata": {},
   "outputs": [],
   "source": [
    "# fit方法返回一个histroy对象，这个对象包括\n",
    "history.params #训练设置的参数\n",
    "history.history.keys() #每轮结束后测得的一些指标\n",
    "# dict_keys(['loss', 'accuracy', 'val_loss', 'val_accuracy'])\n",
    "\n",
    "# 利用这个指标可以查看训练效果\n",
    "import pandas as pd\n",
    "pd.DataFrame(history.history).plot(figsize=(8, 5))\n",
    "plt.grid(True)\n",
    "plt.gca().set_ylim(0, 1)\n",
    "save_fig(\"keras_learning_curves_plot\")\n",
    "plt.show()"
   ]
  },
  {
   "cell_type": "code",
   "execution_count": null,
   "metadata": {},
   "outputs": [],
   "source": [
    "# 调整了一系列超参数后，可以进行测试\n",
    "model.evaluate(X_test, y_test)"
   ]
  },
  {
   "cell_type": "markdown",
   "metadata": {},
   "source": [
    "## 函数API创建更为复杂的网络"
   ]
  },
  {
   "cell_type": "markdown",
   "metadata": {},
   "source": [
    "### 一个多输入的例子"
   ]
  },
  {
   "cell_type": "code",
   "execution_count": 17,
   "metadata": {},
   "outputs": [],
   "source": [
    "# 顺序模型的几何结构过于简单，可以用函数API创建结构更加复杂的网络\n",
    "input_A = keras.layers.Input(shape=[5], name=\"wide_input\")\n",
    "input_B = keras.layers.Input(shape=[6], name=\"deep_input\")\n",
    "hidden1 = keras.layers.Dense(30, activation=\"relu\")(input_B)\n",
    "hidden2 = keras.layers.Dense(30, activation=\"relu\")(hidden1)\n",
    "concat = keras.layers.concatenate([input_A, hidden2])\n",
    "output = keras.layers.Dense(1, name=\"output\")(concat)\n",
    "\n",
    "model = keras.models.Model(inputs=[input_A, input_B], outputs=[output])"
   ]
  },
  {
   "cell_type": "code",
   "execution_count": 18,
   "metadata": {},
   "outputs": [
    {
     "name": "stdout",
     "output_type": "stream",
     "text": [
      "Model: \"model\"\n",
      "__________________________________________________________________________________________________\n",
      "Layer (type)                    Output Shape         Param #     Connected to                     \n",
      "==================================================================================================\n",
      "deep_input (InputLayer)         [(None, 6)]          0                                            \n",
      "__________________________________________________________________________________________________\n",
      "dense_3 (Dense)                 (None, 30)           210         deep_input[0][0]                 \n",
      "__________________________________________________________________________________________________\n",
      "wide_input (InputLayer)         [(None, 5)]          0                                            \n",
      "__________________________________________________________________________________________________\n",
      "dense_4 (Dense)                 (None, 30)           930         dense_3[0][0]                    \n",
      "__________________________________________________________________________________________________\n",
      "concatenate (Concatenate)       (None, 35)           0           wide_input[0][0]                 \n",
      "                                                                 dense_4[0][0]                    \n",
      "__________________________________________________________________________________________________\n",
      "output (Dense)                  (None, 1)            36          concatenate[0][0]                \n",
      "==================================================================================================\n",
      "Total params: 1,176\n",
      "Trainable params: 1,176\n",
      "Non-trainable params: 0\n",
      "__________________________________________________________________________________________________\n"
     ]
    }
   ],
   "source": [
    "model.summary()"
   ]
  },
  {
   "cell_type": "code",
   "execution_count": 19,
   "metadata": {},
   "outputs": [
    {
     "data": {
      "image/png": "[encoded data removed]",
      "text/plain": [
       "<IPython.core.display.Image object>"
      ]
     },
     "execution_count": 19,
     "metadata": {},
     "output_type": "execute_result"
    }
   ],
   "source": [
    "keras.utils.plot_model(model)"
   ]
  },
  {
   "cell_type": "code",
   "execution_count": null,
   "metadata": {},
   "outputs": [],
   "source": [
    "# 这样的模型在输入数据的时候也需要将数据分开进行输入\n",
    "model.compile(loss=\"mse\", optimizer=keras.optimizers.SGD(learning_rate=1e-3))\n",
    "\n",
    "# 将输入特征分为两部分，一部分深入加工，一部分直接线性输入\n",
    "X_train_A, X_train_B = X_train[:, :5], X_train[:, 2:]\n",
    "X_valid_A, X_valid_B = X_valid[:, :5], X_valid[:, 2:]\n",
    "X_test_A, X_test_B = X_test[:, :5], X_test[:, 2:]\n",
    "X_new_A, X_new_B = X_test_A[:3], X_test_B[:3]\n",
    "\n",
    "history = model.fit((X_train_A, X_train_B), y_train, epochs=20,\n",
    "                    validation_data=((X_valid_A, X_valid_B), y_valid))\n",
    "mse_test = model.evaluate((X_test_A, X_test_B), y_test)\n",
    "y_pred = model.predict((X_new_A, X_new_B))"
   ]
  },
  {
   "cell_type": "markdown",
   "metadata": {},
   "source": [
    "### 一个多输出的例子"
   ]
  },
  {
   "cell_type": "code",
   "execution_count": null,
   "metadata": {},
   "outputs": [],
   "source": [
    "input_A = keras.layers.Input(shape=[5], name=\"wide_input\")\n",
    "input_B = keras.layers.Input(shape=[6], name=\"deep_input\")\n",
    "hidden1 = keras.layers.Dense(30, activation=\"relu\")(input_B)\n",
    "hidden2 = keras.layers.Dense(30, activation=\"relu\")(hidden1)\n",
    "concat = keras.layers.concatenate([input_A, hidden2])\n",
    "output = keras.layers.Dense(1, name=\"main_output\")(concat)\n",
    "aux_output = keras.layers.Dense(1, name=\"aux_output\")(hidden2)\n",
    "\n",
    "# 只需要在output里添加即可\n",
    "model = keras.models.Model(inputs=[input_A, input_B],\n",
    "                           outputs=[output, aux_output])\n",
    "\n",
    "model.compile(loss=[\"mse\", \"mse\"], loss_weights=[0.9, 0.1], optimizer=keras.optimizers.SGD(learning_rate=1e-3))\n",
    "history = model.fit([X_train_A, X_train_B], [y_train, y_train], epochs=20,\n",
    "                    validation_data=([X_valid_A, X_valid_B], [y_valid, y_valid]))\n",
    "\n",
    "total_loss, main_loss, aux_loss = model.evaluate(\n",
    "    [X_test_A, X_test_B], [y_test, y_test])\n",
    "y_pred_main, y_pred_aux = model.predict([X_new_A, X_new_B])"
   ]
  },
  {
   "cell_type": "markdown",
   "metadata": {},
   "source": [
    "## 使用子类API构建网络"
   ]
  },
  {
   "cell_type": "code",
   "execution_count": null,
   "metadata": {},
   "outputs": [],
   "source": [
    "# 子类无法检查类的形状，比较容易出错\n",
    "class WideAndDeepModel(keras.models.Model):\n",
    "    def __init__(self, units=30, activation=\"relu\", **kwargs):\n",
    "        super().__init__(**kwargs)\n",
    "        self.hidden1 = keras.layers.Dense(units, activation=activation)\n",
    "        self.hidden2 = keras.layers.Dense(units, activation=activation)\n",
    "        self.main_output = keras.layers.Dense(1)\n",
    "        self.aux_output = keras.layers.Dense(1)\n",
    "        \n",
    "    def call(self, inputs):\n",
    "        input_A, input_B = inputs\n",
    "        hidden1 = self.hidden1(input_B)\n",
    "        hidden2 = self.hidden2(hidden1)\n",
    "        concat = keras.layers.concatenate([input_A, hidden2])\n",
    "        main_output = self.main_output(concat)\n",
    "        aux_output = self.aux_output(hidden2)\n",
    "        return main_output, aux_output\n",
    "\n",
    "model = WideAndDeepModel(30, activation=\"relu\")"
   ]
  },
  {
   "cell_type": "markdown",
   "metadata": {},
   "source": [
    "## 保存模型"
   ]
  },
  {
   "cell_type": "code",
   "execution_count": null,
   "metadata": {},
   "outputs": [],
   "source": [
    "model.save(\"my_keras_model.h5\")\n",
    "model = keras.models.load_model(\"my_keras_model.h5\")"
   ]
  },
  {
   "cell_type": "markdown",
   "metadata": {},
   "source": [
    "## CallBack"
   ]
  },
  {
   "cell_type": "markdown",
   "metadata": {},
   "source": [
    "callback是指在神经网络某些训练节点结束后调用的实例，将他们作为callback参数传给fit，就会触发这个操作"
   ]
  },
  {
   "cell_type": "code",
   "execution_count": null,
   "metadata": {},
   "outputs": [],
   "source": [
    "# 第一个call，会在每次训练后保存模型，并且只保存在验证集上表现最好的模型\n",
    "checkpoint_cb = keras.callbacks.ModelCheckpoint(\"my_keras_model.h5\", save_best_only=True)\n",
    "# 第二个callback会执行early stop操作防止过拟合以及资源的浪费\n",
    "early_stopping_cb = keras.callbacks.EarlyStopping(patience=10,\n",
    "                                                  restore_best_weights=True)\n",
    "\n",
    "history = model.fit(X_train, y_train, epochs=100,\n",
    "                    validation_data=(X_valid, y_valid),\n",
    "                    callbacks=[checkpoint_cb, early_stopping_cb])\n",
    "\n",
    "mse_test = model.evaluate(X_test, y_test)"
   ]
  },
  {
   "cell_type": "code",
   "execution_count": null,
   "metadata": {},
   "outputs": [],
   "source": [
    "# 也可以定义自己的callback类\n",
    "class PrintValTrainRatioCallback(keras.callbacks.Callback):\n",
    "    def on_epoch_end(self, epoch, logs):\n",
    "        print(\"\\nval/train: {:.2f}\".format(logs[\"val_loss\"] / logs[\"loss\"]))\n",
    "    \n",
    "    def on_epoch_begin(self, epoch, logs):\n",
    "        pass\n",
    "    \n",
    "    def on_train_begin(self):\n",
    "        pass\n",
    "\n",
    "    def on_train_end(self):\n",
    "        pass\n",
    "\n",
    "    def on_batch_begin(self, batch, logs):\n",
    "        pass\n",
    "\n",
    "    def on_batch_end(self, batch, logs):\n",
    "        pass"
   ]
  },
  {
   "cell_type": "markdown",
   "metadata": {},
   "source": [
    "### TensorbBoard"
   ]
  },
  {
   "cell_type": "markdown",
   "metadata": {},
   "source": [
    "一种callback类，会随时记录训练数据，写入一个日志中，然后在网页端进行可视化"
   ]
  },
  {
   "cell_type": "code",
   "execution_count": null,
   "metadata": {},
   "outputs": [],
   "source": [
    "root_logdir = os.path.join(os.curdir, \"my_logs\")\n",
    "def get_run_logdir():\n",
    "    import time\n",
    "    run_id = time.strftime(\"run_%Y_%m_%d-%H_%M_%S\")\n",
    "    return os.path.join(root_logdir, run_id)\n",
    "run_logdir = get_run_logdir()"
   ]
  },
  {
   "cell_type": "code",
   "execution_count": null,
   "metadata": {},
   "outputs": [],
   "source": [
    "tensorboard_cb = keras.callbacks.TensorBoard(run_logdir)\n",
    "history = model.fit(X_train, y_train, epochs=30,\n",
    "                    validation_data=(X_valid, y_valid),\n",
    "                    callbacks=[checkpoint_cb, tensorboard_cb])"
   ]
  },
  {
   "cell_type": "markdown",
   "metadata": {},
   "source": [
    "## 神经网络调整参数"
   ]
  },
  {
   "cell_type": "markdown",
   "metadata": {},
   "source": [
    "神经网络的主要参数\n",
    "* 层数\n",
    "* 每一层神经元数量（在每一层增加神经元的效果不如加深层数）\n",
    "* lr（最优学习率取决于其他参数，特别是batch size，修改这些参数后要对lr及时修改）\n",
    "* 优化器\n",
    "* batch size\n",
    "* 激活函数"
   ]
  },
  {
   "cell_type": "markdown",
   "metadata": {},
   "source": [
    "对于神经网络也可以使用网格搜索的方式，只不过要首先将神经网络包装为类似sklearn的模型，然后调用gridCV即可"
   ]
  },
  {
   "cell_type": "code",
   "execution_count": null,
   "metadata": {},
   "outputs": [],
   "source": [
    "def build_model(n_hidden=1, n_neurons=30, learning_rate=3e-3, input_shape=[8]):\n",
    "    model = keras.models.Sequential()\n",
    "    model.add(keras.layers.InputLayer(input_shape=input_shape))\n",
    "    for layer in range(n_hidden):\n",
    "        model.add(keras.layers.Dense(n_neurons, activation=\"relu\"))\n",
    "    model.add(keras.layers.Dense(1))\n",
    "    optimizer = keras.optimizers.SGD(learning_rate=learning_rate)\n",
    "    model.compile(loss=\"mse\", optimizer=optimizer)\n",
    "    return model\n",
    "\n",
    "keras_reg = keras.wrappers.scikit_learn.KerasRegressor(build_model)  # 这里将神经网络包装为回归器，如果不传入参数的话，创建的模型会按照默认参数"
   ]
  },
  {
   "cell_type": "code",
   "execution_count": null,
   "metadata": {},
   "outputs": [],
   "source": [
    "from scipy.stats import reciprocal\n",
    "from sklearn.model_selection import RandomizedSearchCV\n",
    "\n",
    "param_distribs = {\n",
    "    \"n_hidden\": [0, 1, 2, 3],\n",
    "    \"n_neurons\": np.arange(1, 100)               .tolist(),\n",
    "    \"learning_rate\": reciprocal(3e-4, 3e-2)      .rvs(1000).tolist(),\n",
    "}\n",
    "\n",
    "rnd_search_cv = RandomizedSearchCV(keras_reg, param_distribs, n_iter=10, cv=3, verbose=2)\n",
    "rnd_search_cv.fit(X_train, y_train, epochs=100,\n",
    "                  validation_data=(X_valid, y_valid),\n",
    "                  callbacks=[keras.callbacks.EarlyStopping(patience=10)]) # fit传入的参数会不变的传入模型中。"
   ]
  },
  {
   "cell_type": "markdown",
   "metadata": {},
   "source": [
    "### 记录最佳lr，利用callback类进行记录"
   ]
  },
  {
   "cell_type": "code",
   "execution_count": null,
   "metadata": {},
   "outputs": [],
   "source": [
    "# 在每个batch后按照一个特定的增速修改lr，查看最佳的lr\n",
    "K = keras.backend\n",
    "\n",
    "class ExponentialLearningRate(keras.callbacks.Callback):\n",
    "    def __init__(self, factor):\n",
    "        self.factor = factor\n",
    "        self.rates = []\n",
    "        self.losses = []\n",
    "    def on_batch_end(self, batch, logs):\n",
    "        self.rates.append(K.get_value(self.model.optimizer.learning_rate))\n",
    "        self.losses.append(logs[\"loss\"])\n",
    "        K.set_value(self.model.optimizer.learning_rate, self.model.optimizer.learning_rate * self.factor)"
   ]
  },
  {
   "cell_type": "markdown",
   "metadata": {},
   "source": [
    "# 2021.11.15\n",
    "\n",
    "## 知识点：\n",
    "* 梯度消失和爆炸：dropout，激活函数，batchnorm\n",
    "* 重用训练层的方法\n",
    "* 各类优化器\n",
    "* learning rate schedual\n",
    "* 正则化：l1，l2，dropout"
   ]
  },
  {
   "cell_type": "markdown",
   "metadata": {},
   "source": [
    "## 梯度消失与梯度爆炸问题"
   ]
  },
  {
   "cell_type": "code",
   "execution_count": 1,
   "metadata": {},
   "outputs": [],
   "source": [
    "import sys\n",
    "assert sys.version_info >= (3, 5)\n",
    "\n",
    "# Scikit-Learn ≥0.20 is required\n",
    "import sklearn\n",
    "assert sklearn.__version__ >= \"0.20\"\n",
    "\n",
    "# TensorFlow ≥2.0 is required\n",
    "import tensorflow as tf\n",
    "assert tf.__version__ >= \"2.0\"\n",
    "\n",
    "from tensorflow import keras        # tf.keras实现了kerasAPI以及一些额外的tf的特定功能，这里我们选择使用这个包\n",
    "\n",
    "# Common imports\n",
    "import numpy as np\n",
    "import os"
   ]
  },
  {
   "cell_type": "code",
   "execution_count": 2,
   "metadata": {},
   "outputs": [
    {
     "data": {
      "text/plain": [
       "['Constant',\n",
       " 'GlorotNormal',\n",
       " 'GlorotUniform',\n",
       " 'HeNormal',\n",
       " 'HeUniform',\n",
       " 'Identity',\n",
       " 'Initializer',\n",
       " 'LecunNormal',\n",
       " 'LecunUniform',\n",
       " 'Ones',\n",
       " 'Orthogonal',\n",
       " 'RandomNormal',\n",
       " 'RandomUniform',\n",
       " 'TruncatedNormal',\n",
       " 'VarianceScaling',\n",
       " 'Zeros',\n",
       " 'constant',\n",
       " 'deserialize',\n",
       " 'get',\n",
       " 'glorot_normal',\n",
       " 'glorot_uniform',\n",
       " 'he_normal',\n",
       " 'he_uniform',\n",
       " 'identity',\n",
       " 'lecun_normal',\n",
       " 'lecun_uniform',\n",
       " 'ones',\n",
       " 'orthogonal',\n",
       " 'random_normal',\n",
       " 'random_uniform',\n",
       " 'serialize',\n",
       " 'truncated_normal',\n",
       " 'variance_scaling',\n",
       " 'zeros']"
      ]
     },
     "execution_count": 2,
     "metadata": {},
     "output_type": "execute_result"
    }
   ],
   "source": [
    "# 解决梯度爆炸的第一个方法：不同的参数初始值设置\n",
    "# 查看不同的初始化类\n",
    "[name for name in dir(keras.initializers) if not name.startswith(\"_\")]"
   ]
  },
  {
   "cell_type": "code",
   "execution_count": 3,
   "metadata": {},
   "outputs": [
    {
     "data": {
      "text/plain": [
       "<tensorflow.python.keras.layers.core.Dense at 0x7fc7ceb93d50>"
      ]
     },
     "execution_count": 3,
     "metadata": {},
     "output_type": "execute_result"
    }
   ],
   "source": [
    "keras.layers.Dense(10, activation=\"relu\", kernel_initializer=\"he_normal\")"
   ]
  },
  {
   "cell_type": "code",
   "execution_count": 4,
   "metadata": {},
   "outputs": [
    {
     "data": {
      "text/plain": [
       "['deserialize',\n",
       " 'elu',\n",
       " 'exponential',\n",
       " 'gelu',\n",
       " 'get',\n",
       " 'hard_sigmoid',\n",
       " 'linear',\n",
       " 'relu',\n",
       " 'selu',\n",
       " 'serialize',\n",
       " 'sigmoid',\n",
       " 'softmax',\n",
       " 'softplus',\n",
       " 'softsign',\n",
       " 'swish',\n",
       " 'tanh']"
      ]
     },
     "execution_count": 4,
     "metadata": {},
     "output_type": "execute_result"
    }
   ],
   "source": [
    "# 第二个方法：非饱和的激活函数（sigmoid的梯度在尾端是0）\n",
    "'''\n",
    "relu通常是一个较为常见的选择，但是relu面临一个“死亡神经元”的问题，因为在输入负数的时候，relu只会输入0，所以有很多在负数输入端改进relu的函数\n",
    "'''\n",
    "[m for m in dir(keras.activations) if not m.startswith(\"_\")]"
   ]
  },
  {
   "cell_type": "code",
   "execution_count": 5,
   "metadata": {},
   "outputs": [
    {
     "data": {
      "text/plain": [
       "['LeakyReLU', 'PReLU', 'ReLU', 'ThresholdedReLU']"
      ]
     },
     "execution_count": 5,
     "metadata": {},
     "output_type": "execute_result"
    }
   ],
   "source": [
    "[m for m in dir(keras.layers) if \"relu\" in m.lower()]"
   ]
  },
  {
   "cell_type": "code",
   "execution_count": 9,
   "metadata": {},
   "outputs": [
    {
     "data": {
      "image/png": "[encoded data removed]",
      "text/plain": [
       "<Figure size 432x288 with 1 Axes>"
      ]
     },
     "metadata": {
      "needs_background": "light"
     },
     "output_type": "display_data"
    }
   ],
   "source": [
    "import matplotlib.pyplot as plt\n",
    "def elu(z, alpha=1):\n",
    "    return np.where(z < 0, alpha * (np.exp(z) - 1), z)\n",
    "z = np.linspace(-5,5,20)\n",
    "plt.plot(z, elu(z), \"b-\", linewidth=2)\n",
    "plt.plot([-5, 5], [0, 0], 'k-')\n",
    "plt.plot([-5, 5], [-1, -1], 'k--')\n",
    "plt.plot([0, 0], [-2.2, 3.2], 'k-')\n",
    "plt.grid(True)\n",
    "plt.title(r\"ELU activation function ($\\alpha=1$)\", fontsize=14)\n",
    "plt.axis([-5, 5, -2.2, 3.2])\n",
    "plt.show()"
   ]
  },
  {
   "cell_type": "code",
   "execution_count": null,
   "metadata": {},
   "outputs": [],
   "source": [
    "# 使用不同的relu对网络进行训练\n",
    "tf.random.set_seed(42)\n",
    "np.random.seed(42)\n",
    "\n",
    "model = keras.models.Sequential([\n",
    "    keras.layers.Flatten(input_shape=[28, 28]),\n",
    "    keras.layers.Dense(300, kernel_initializer=\"he_normal\"),\n",
    "    keras.layers.LeakyReLU(),\n",
    "    keras.layers.Dense(100, kernel_initializer=\"he_normal\"),\n",
    "    keras.layers.LeakyReLU(),\n",
    "    keras.layers.Dense(10, activation=\"softmax\")\n",
    "])"
   ]
  },
  {
   "cell_type": "code",
   "execution_count": 12,
   "metadata": {},
   "outputs": [
    {
     "data": {
      "image/png": "[encoded data removed]",
      "text/plain": [
       "<IPython.core.display.Image object>"
      ]
     },
     "execution_count": 12,
     "metadata": {},
     "output_type": "execute_result"
    }
   ],
   "source": [
    "# 第三个重要的方法： batch norm\n",
    "\"\"\"\n",
    "batch norm 首先对于每个batch在经过每一层的时候进行标准意义上的标准化，但是进行标准化之后还会对于这个量进行偏移，而这个偏移的参数是通过网络进行学习的。\n",
    "\"\"\"\n",
    "model = keras.models.Sequential([\n",
    "    keras.layers.Flatten(input_shape = [28,28]),\n",
    "    keras.layers.BatchNormalization(),\n",
    "    keras.layers.Dense(300, activation='elu', kernel_initializer='he_normal'),\n",
    "    keras.layers.BatchNormalization(),\n",
    "    keras.layers.Dense(10, activation = 'softmax')\n",
    "])\n",
    "\n",
    "keras.utils.plot_model(model)"
   ]
  },
  {
   "cell_type": "code",
   "execution_count": 13,
   "metadata": {},
   "outputs": [
    {
     "data": {
      "image/png": "[encoded data removed]",
      "text/plain": [
       "<IPython.core.display.Image object>"
      ]
     },
     "execution_count": 13,
     "metadata": {},
     "output_type": "execute_result"
    }
   ],
   "source": [
    "# BN论文的作者主张在激活函数之前进行BN，所以一般将BN添加在计算层之前，就像刚才做的一样\n",
    "model = keras.models.Sequential([\n",
    "    keras.layers.Flatten(input_shape=[28, 28]),\n",
    "    keras.layers.BatchNormalization(),\n",
    "    keras.layers.Dense(300, use_bias=False) # 因为BN已经带权重，所以在Dense需要不用bias,\n",
    "    keras.layers.BatchNormalization(),\n",
    "    keras.layers.Activation(\"relu\"),\n",
    "    keras.layers.Dense(100, use_bias=False),\n",
    "    keras.layers.BatchNormalization(),\n",
    "    keras.layers.Activation(\"relu\"),\n",
    "    keras.layers.Dense(10, activation=\"softmax\")\n",
    "])\n",
    "keras.utils.plot_model(model)"
   ]
  },
  {
   "cell_type": "markdown",
   "metadata": {},
   "source": [
    "### BN的两个重要的参数：\n",
    "* omentum：更新batch平均值和标准差时候的移动平均系数 （因为最后的predict要使用这个均值和标准差）\n",
    "* axis：标准化的轴，默认是-1，即最后一个轴"
   ]
  },
  {
   "cell_type": "markdown",
   "metadata": {},
   "source": [
    "## 重用训练层"
   ]
  },
  {
   "cell_type": "markdown",
   "metadata": {},
   "source": [
    "如果能够找到一个任务相似但是已经训练好的神经网络，那么可以通过重新使用这个网络的前几层并且添加几个新的层对于新任务进行训练，这样的训练速度通常会快很多\n",
    "* 比如有一个对于100个物品图片进行分类的网络，利用这个网络的前几层添加一些新的网络层就可以对100种汽车进行分类。\n",
    "* 进行迁移学习时，可以先解冻很少的层，利用训练查看效果，然后不断解冻更早的层，查看效果是否有所提升。"
   ]
  },
  {
   "cell_type": "code",
   "execution_count": null,
   "metadata": {},
   "outputs": [],
   "source": [
    "# 一个使用keras进行迁移学习的例子\n",
    "# 复制一个网络以及它的参数，将其嫁接到一个新的网络上去\n",
    "model_A = keras.models.load_model(\"my_model_A.h5\")\n",
    "model_A_clone = keras.models.clone_model(model_A)\n",
    "model_A_clone.set_weights(model_A.get_weights())\n",
    "model_B_on_A = keras.models.Sequential(model_A_clone.layers[:-1])\n",
    "model_B_on_A.add(keras.layers.Dense(1, activation=\"sigmoid\"))"
   ]
  },
  {
   "cell_type": "code",
   "execution_count": null,
   "metadata": {},
   "outputs": [],
   "source": [
    "# 先冻结之前已经训练好的网络，对于新嫁接的网络参数进行一定的训练\n",
    "for layer in model_B_on_A.layers[:-1]:\n",
    "    layer.trainable = False\n",
    "\n",
    "model_B_on_A.compile(loss=\"binary_crossentropy\",\n",
    "                     optimizer=keras.optimizers.SGD(learning_rate=1e-3),\n",
    "                     metrics=[\"accuracy\"])\n",
    "\n",
    "history = model_B_on_A.fit(X_train_B, y_train_B, epochs=4,\n",
    "                           validation_data=(X_valid_B, y_valid_B))"
   ]
  },
  {
   "cell_type": "code",
   "execution_count": null,
   "metadata": {},
   "outputs": [],
   "source": [
    "# 对于所有层打开冻结，重新进行训练\n",
    "for layer in model_B_on_A.layers[:-1]:\n",
    "    layer.trainable = True\n",
    "\n",
    "model_B_on_A.compile(loss=\"binary_crossentropy\",\n",
    "                     optimizer=keras.optimizers.SGD(learning_rate=1e-3),\n",
    "                     metrics=[\"accuracy\"])\n",
    "history = model_B_on_A.fit(X_train_B, y_train_B, epochs=16,\n",
    "                           validation_data=(X_valid_B, y_valid_B))"
   ]
  },
  {
   "cell_type": "markdown",
   "metadata": {},
   "source": [
    "## 更快的优化器"
   ]
  },
  {
   "cell_type": "markdown",
   "metadata": {},
   "source": [
    "优化器的基本思想有三个：\n",
    "* 更新梯度的同时考虑之前的梯度（动量）\n",
    "* 在目前参数偏移向梯度方向的点求梯度（Nesterov）\n",
    "* 通过不同参数梯度的方差调整不同方向的下降速度（AdaGrad）\n",
    "* 其余的方法都是这些思想的组合"
   ]
  },
  {
   "cell_type": "markdown",
   "metadata": {},
   "source": [
    "### Momentum optimization"
   ]
  },
  {
   "cell_type": "code",
   "execution_count": null,
   "metadata": {},
   "outputs": [],
   "source": [
    "optimizer = keras.optimizers.SGD(learning_rate=0.001, momentum=0.9)"
   ]
  },
  {
   "cell_type": "markdown",
   "metadata": {},
   "source": [
    "### Nesterov Accelerated Gradient"
   ]
  },
  {
   "cell_type": "code",
   "execution_count": null,
   "metadata": {},
   "outputs": [],
   "source": [
    "optimizer = keras.optimizers.SGD(learning_rate=0.001, momentum=0.9, nesterov=True)"
   ]
  },
  {
   "cell_type": "markdown",
   "metadata": {},
   "source": [
    "### AdaGrad"
   ]
  },
  {
   "cell_type": "code",
   "execution_count": null,
   "metadata": {},
   "outputs": [],
   "source": [
    "optimizer = keras.optimizers.Adagrad(learning_rate=0.001)"
   ]
  },
  {
   "cell_type": "markdown",
   "metadata": {},
   "source": [
    "### RMSProp"
   ]
  },
  {
   "cell_type": "code",
   "execution_count": null,
   "metadata": {},
   "outputs": [],
   "source": [
    "optimizer = keras.optimizers.RMSprop(learning_rate=0.001, rho=0.9)"
   ]
  },
  {
   "cell_type": "markdown",
   "metadata": {},
   "source": [
    "### Adam"
   ]
  },
  {
   "cell_type": "code",
   "execution_count": null,
   "metadata": {},
   "outputs": [],
   "source": [
    "optimizer = keras.optimizers.Adam(learning_rate=0.001, beta_1=0.9, beta_2=0.999)"
   ]
  },
  {
   "cell_type": "markdown",
   "metadata": {},
   "source": [
    "## 学习率调度：learning rate schedual"
   ]
  },
  {
   "cell_type": "code",
   "execution_count": null,
   "metadata": {},
   "outputs": [],
   "source": [
    "# 自己制定一个LRS\n",
    "def exponential_decay(lr0, s):\n",
    "    def exponential_decay_fn(epoch):\n",
    "        return lr0 * 0.1**(epoch / s)\n",
    "    return exponential_decay_fn\n",
    "\n",
    "exponential_decay_fn = exponential_decay(lr0=0.01, s=20)"
   ]
  },
  {
   "cell_type": "code",
   "execution_count": null,
   "metadata": {},
   "outputs": [],
   "source": [
    "# 创建一个模型\n",
    "model = keras.models.Sequential([\n",
    "    keras.layers.Flatten(input_shape=[28, 28]),\n",
    "    keras.layers.Dense(300, activation=\"selu\", kernel_initializer=\"lecun_normal\"),\n",
    "    keras.layers.Dense(100, activation=\"selu\", kernel_initializer=\"lecun_normal\"),\n",
    "    keras.layers.Dense(10, activation=\"softmax\")\n",
    "])\n",
    "model.compile(loss=\"sparse_categorical_crossentropy\", optimizer=\"nadam\", metrics=[\"accuracy\"])\n",
    "n_epochs = 25"
   ]
  },
  {
   "cell_type": "code",
   "execution_count": null,
   "metadata": {},
   "outputs": [],
   "source": [
    "# 将scheduale作为一个callback方法传入网络中去\n",
    "lr_scheduler = keras.callbacks.LearningRateScheduler(exponential_decay_fn)\n",
    "\n",
    "history = model.fit(X_train_scaled, y_train, epochs=n_epochs,\n",
    "                    validation_data=(X_valid_scaled, y_valid),\n",
    "                    callbacks=[lr_scheduler])"
   ]
  },
  {
   "cell_type": "markdown",
   "metadata": {},
   "source": [
    "#### keras默认在每个epoch后更新lr，但是也可以自己写callback在每个iteration后进行更新"
   ]
  },
  {
   "cell_type": "code",
   "execution_count": null,
   "metadata": {},
   "outputs": [],
   "source": [
    "K = keras.backend\n",
    "\n",
    "class ExponentialDecay(keras.callbacks.Callback):\n",
    "    def __init__(self, s=40000):\n",
    "        super().__init__()\n",
    "        self.s = s\n",
    "\n",
    "    def on_batch_begin(self, batch, logs=None):\n",
    "        # Note: the `batch` argument is reset at each epoch\n",
    "        lr = K.get_value(self.model.optimizer.learning_rate)\n",
    "        K.set_value(self.model.optimizer.learning_rate, lr * 0.1**(1 / s))\n",
    "\n",
    "    def on_epoch_end(self, epoch, logs=None):\n",
    "        logs = logs or {}\n",
    "        logs['lr'] = K.get_value(self.model.optimizer.learning_rate)\n",
    "\n",
    "model = keras.models.Sequential([\n",
    "    keras.layers.Flatten(input_shape=[28, 28]),\n",
    "    keras.layers.Dense(300, activation=\"selu\", kernel_initializer=\"lecun_normal\"),\n",
    "    keras.layers.Dense(100, activation=\"selu\", kernel_initializer=\"lecun_normal\"),\n",
    "    keras.layers.Dense(10, activation=\"softmax\")\n",
    "])\n",
    "lr0 = 0.01\n",
    "optimizer = keras.optimizers.Nadam(learning_rate=lr0)\n",
    "model.compile(loss=\"sparse_categorical_crossentropy\", optimizer=optimizer, metrics=[\"accuracy\"])\n",
    "n_epochs = 25\n",
    "\n",
    "s = 20 * len(X_train) // 32 # number of steps in 20 epochs (batch size = 32)\n",
    "exp_decay = ExponentialDecay(s)\n",
    "history = model.fit(X_train_scaled, y_train, epochs=n_epochs,\n",
    "                    validation_data=(X_valid_scaled, y_valid),\n",
    "                    callbacks=[exp_decay])"
   ]
  },
  {
   "cell_type": "markdown",
   "metadata": {},
   "source": [
    "### pairwise 调度"
   ]
  },
  {
   "cell_type": "code",
   "execution_count": null,
   "metadata": {},
   "outputs": [],
   "source": [
    "def piecewise_constant(boundaries, values):\n",
    "    boundaries = np.array([0] + boundaries)\n",
    "    values = np.array(values)\n",
    "    def piecewise_constant_fn(epoch):\n",
    "        return values[np.argmax(boundaries > epoch) - 1]\n",
    "    return piecewise_constant_fn\n",
    "\n",
    "piecewise_constant_fn = piecewise_constant([5, 15], [0.01, 0.005, 0.001])"
   ]
  },
  {
   "cell_type": "markdown",
   "metadata": {},
   "source": [
    "### performence调度\n",
    "根据模型的表现进行学习率的调整"
   ]
  },
  {
   "cell_type": "code",
   "execution_count": null,
   "metadata": {},
   "outputs": [],
   "source": [
    "lr_scheduler = keras.callbacks.ReduceLROnPlateau(factor=0.5, patience=5)\n",
    "# 当连续5个轮次最好的验证损失没有改善的时候，lr *= 0.5"
   ]
  },
  {
   "cell_type": "markdown",
   "metadata": {},
   "source": [
    "### 对于以上的调度模型，可以通过keras内置模型进行实现"
   ]
  },
  {
   "cell_type": "code",
   "execution_count": null,
   "metadata": {},
   "outputs": [],
   "source": [
    "s = 20 * len(X_train) // 32 # number of steps in 20 epochs (batch size = 32)\n",
    "learning_rate = keras.optimizers.schedules.ExponentialDecay(0.01, s, 0.1)\n",
    "optimizer = keras.optimizers.SGD(learning_rate)\n",
    "\n",
    "learning_rate = keras.optimizers.schedules.PiecewiseConstantDecay(\n",
    "    boundaries=[5. * n_steps_per_epoch, 15. * n_steps_per_epoch],\n",
    "    values=[0.01, 0.005, 0.001])"
   ]
  },
  {
   "cell_type": "markdown",
   "metadata": {},
   "source": [
    "### 1周期调度"
   ]
  },
  {
   "cell_type": "markdown",
   "metadata": {},
   "source": [
    "一周期调度的思想：\n",
    "* 选择一个最优学习率n（可以通过在batch上记录validation loss和lr的方法）\n",
    "* 在学习开始时，将lr设定为n/10或者一个比n小的值\n",
    "* 在学习iteration的前半段，从n/10线性增大到n\n",
    "* 在学习iteration的后半段，从n线性减小到n/10\n",
    "\n",
    "主要步骤：\n",
    "* 确定最优学习率\n",
    "* 计算总iteration，通过插值的方式进行每个batch的lr\n"
   ]
  },
  {
   "cell_type": "code",
   "execution_count": null,
   "metadata": {},
   "outputs": [],
   "source": [
    "# 首先找出最佳lr作为n\n",
    "K = keras.backend   # keras的后段接口，可以进行变量的计算，复制，提取等。暂时理解为一个变量操作接口。\n",
    "# https://tensorflow.google.cn/versions/r2.1/api_docs/python/tf/keras/backend\n",
    "\n",
    "class ExponentialLearningRate(keras.callbacks.Callback):\n",
    "    def __init__(self, factor):\n",
    "        self.factor = factor\n",
    "        self.rates = []\n",
    "        self.losses = []\n",
    "    def on_batch_end(self, batch, logs):\n",
    "        self.rates.append(K.get_value(self.model.optimizer.learning_rate))\n",
    "        self.losses.append(logs[\"loss\"])\n",
    "        K.set_value(self.model.optimizer.learning_rate, self.model.optimizer.learning_rate * self.factor)\n",
    "\n",
    "# 输入模型，通过每个batch调整lr并且记录batch的loss来确定最佳lr\n",
    "def find_learning_rate(model, X, y, epochs=1, batch_size=32, min_rate=10**-5, max_rate=10):\n",
    "    init_weights = model.get_weights()\n",
    "    iterations = math.ceil(len(X) / batch_size) * epochs\n",
    "    factor = np.exp(np.log(max_rate / min_rate) / iterations)\n",
    "    init_lr = K.get_value(model.optimizer.learning_rate)\n",
    "    K.set_value(model.optimizer.learning_rate, min_rate)\n",
    "    exp_lr = ExponentialLearningRate(factor)\n",
    "    history = model.fit(X, y, epochs=epochs, batch_size=batch_size,\n",
    "                        callbacks=[exp_lr])\n",
    "    K.set_value(model.optimizer.learning_rate, init_lr)\n",
    "    model.set_weights(init_weights)\n",
    "    return exp_lr.rates, exp_lr.losses"
   ]
  },
  {
   "cell_type": "code",
   "execution_count": null,
   "metadata": {},
   "outputs": [],
   "source": [
    "tf.random.set_seed(42)\n",
    "np.random.seed(42)\n",
    "\n",
    "model = keras.models.Sequential([\n",
    "    keras.layers.Flatten(input_shape=[28, 28]),\n",
    "    keras.layers.Dense(300, activation=\"selu\", kernel_initializer=\"lecun_normal\"),\n",
    "    keras.layers.Dense(100, activation=\"selu\", kernel_initializer=\"lecun_normal\"),\n",
    "    keras.layers.Dense(10, activation=\"softmax\")\n",
    "])\n",
    "model.compile(loss=\"sparse_categorical_crossentropy\",\n",
    "              optimizer=keras.optimizers.SGD(learning_rate=1e-3),\n",
    "              metrics=[\"accuracy\"])\n",
    "\n",
    "batch_size = 128\n",
    "rates, losses = find_learning_rate(model, X_train_scaled, y_train, epochs=1, batch_size=batch_size)"
   ]
  },
  {
   "cell_type": "code",
   "execution_count": null,
   "metadata": {},
   "outputs": [],
   "source": [
    "# 定义一周期lr callback类\n",
    "class OneCycleScheduler(keras.callbacks.Callback):\n",
    "    def __init__(self, iterations, max_rate, start_rate=None,\n",
    "                 last_iterations=None, last_rate=None):\n",
    "        self.iterations = iterations\n",
    "        self.max_rate = max_rate  # 最优lr，通过刚才的程序确定\n",
    "        self.start_rate = start_rate or max_rate / 10  # 起始lr，如果没有输入则计算n/10\n",
    "        self.last_iterations = last_iterations or iterations // 10 + 1 .  #最后一个iter \n",
    "        self.half_iteration = (iterations - self.last_iterations) // 2 # 通过输入的last iter确定的中间iter位置\n",
    "        self.last_rate = last_rate or self.start_rate / 1000 # 最后几个iter要达到的lr\n",
    "        self.iteration = 0   # 初始化iter\n",
    "\n",
    "    def _interpolate(self, iter1, iter2, rate1, rate2):\n",
    "        \"\"\" 插值计算lr\n",
    "        \"\"\"\n",
    "        return ((rate2 - rate1) * (self.iteration - iter1)\n",
    "                / (iter2 - iter1) + rate1)\n",
    "    \n",
    "    def on_batch_begin(self, batch, logs):\n",
    "        # 如果在前半段\n",
    "        if self.iteration < self.half_iteration:\n",
    "            rate = self._interpolate(0, self.half_iteration, self.start_rate, self.max_rate)\n",
    "        # 如果在后半段\n",
    "        elif self.iteration < 2 * self.half_iteration:\n",
    "            rate = self._interpolate(self.half_iteration, 2 * self.half_iteration,\n",
    "                                     self.max_rate, self.start_rate)\n",
    "        # 如果已经到最后几个itr\n",
    "        else:\n",
    "            rate = self._interpolate(2 * self.half_iteration, self.iterations,\n",
    "                                     self.start_rate, self.last_rate)\n",
    "        self.iteration += 1\n",
    "        K.set_value(self.model.optimizer.learning_rate, rate)"
   ]
  },
  {
   "cell_type": "code",
   "execution_count": null,
   "metadata": {},
   "outputs": [],
   "source": [
    "n_epochs = 25\n",
    "onecycle = OneCycleScheduler(math.ceil(len(X_train) / batch_size) * n_epochs, max_rate=0.05)\n",
    "history = model.fit(X_train_scaled, y_train, epochs=n_epochs, batch_size=batch_size,\n",
    "                    validation_data=(X_valid_scaled, y_valid),\n",
    "                    callbacks=[onecycle])"
   ]
  },
  {
   "cell_type": "markdown",
   "metadata": {},
   "source": [
    "## 正则化方法"
   ]
  },
  {
   "cell_type": "markdown",
   "metadata": {},
   "source": [
    "### l1 & l2正则化"
   ]
  },
  {
   "cell_type": "code",
   "execution_count": null,
   "metadata": {},
   "outputs": [],
   "source": [
    "# 可以通过keras创建带有l1或者l2或者l1+l2正则化的层\n",
    "layer = keras.layers.Dense(100, activation=\"elu\",\n",
    "                           kernel_initializer=\"he_normal\",\n",
    "                           kernel_regularizer=keras.regularizers.l2(0.01))\n",
    "# or l1(0.1) for ℓ1 regularization with a factor of 0.1\n",
    "# or l1_l2(0.1, 0.01) for both ℓ1 and ℓ2 regularization, with factors 0.1 and 0.01 respectively"
   ]
  },
  {
   "cell_type": "markdown",
   "metadata": {},
   "source": [
    "### dropout（神经网络的集成学习）"
   ]
  },
  {
   "cell_type": "markdown",
   "metadata": {},
   "source": [
    "只需要在想要dropout的层后添加dropout层即可"
   ]
  },
  {
   "cell_type": "code",
   "execution_count": null,
   "metadata": {},
   "outputs": [],
   "source": [
    "model = keras.models.Sequential([\n",
    "    keras.layers.Flatten(input_shape=[28, 28]),\n",
    "    keras.layers.Dropout(rate=0.2),\n",
    "    keras.layers.Dense(300, activation=\"elu\", kernel_initializer=\"he_normal\"),\n",
    "    keras.layers.Dropout(rate=0.2),\n",
    "    keras.layers.Dense(100, activation=\"elu\", kernel_initializer=\"he_normal\"),\n",
    "    keras.layers.Dropout(rate=0.2),\n",
    "    keras.layers.Dense(10, activation=\"softmax\")\n",
    "])\n",
    "model.compile(loss=\"sparse_categorical_crossentropy\", optimizer=\"nadam\", metrics=[\"accuracy\"])\n",
    "n_epochs = 2\n",
    "history = model.fit(X_train_scaled, y_train, epochs=n_epochs,\n",
    "                    validation_data=(X_valid_scaled, y_valid))"
   ]
  },
  {
   "cell_type": "markdown",
   "metadata": {},
   "source": [
    "如果模型过拟合，可以考虑增大dropout rate，如果模型欠拟合，可以考虑减小dropout rate"
   ]
  },
  {
   "cell_type": "markdown",
   "metadata": {},
   "source": [
    "# 2021.11.16\n",
    "\n",
    "## 知识点：\n",
    "* TF基本操作\n",
    "* TF数据类型\n",
    "* 自定义损失函数\n",
    "* 自定义其他结结构\n",
    "* 自定义metric\n",
    "* 自定义层\n",
    "* 自定义模型\n",
    "* 自定义模型内部损失\n",
    "* 自动微分\n",
    "* 手动实现深度学习训练流程\n",
    "* 自定义optimizer\n",
    "* 练习题：尝试构建一个网络结构，上下层网络使用的优化器和学习率不同"
   ]
  },
  {
   "cell_type": "markdown",
   "metadata": {},
   "source": [
    "## 使用Tensoflow自定义模型与训练"
   ]
  },
  {
   "cell_type": "markdown",
   "metadata": {},
   "source": [
    "### Tf基本操作"
   ]
  },
  {
   "cell_type": "markdown",
   "metadata": {},
   "source": [
    "#### 和numpy类似的张量操作"
   ]
  },
  {
   "cell_type": "code",
   "execution_count": 19,
   "metadata": {},
   "outputs": [
    {
     "data": {
      "text/plain": [
       "<tf.Tensor: shape=(2, 3), dtype=float32, numpy=\n",
       "array([[1., 2., 3.],\n",
       "       [4., 5., 6.]], dtype=float32)>"
      ]
     },
     "execution_count": 19,
     "metadata": {},
     "output_type": "execute_result"
    }
   ],
   "source": [
    "t = tf.constant([[1., 2., 3.], [4., 5., 6.]]) # matrix\n",
    "t"
   ]
  },
  {
   "cell_type": "code",
   "execution_count": 18,
   "metadata": {},
   "outputs": [
    {
     "data": {
      "text/plain": [
       "tf.float32"
      ]
     },
     "execution_count": 18,
     "metadata": {},
     "output_type": "execute_result"
    }
   ],
   "source": [
    "t.dtype"
   ]
  },
  {
   "cell_type": "code",
   "execution_count": 21,
   "metadata": {},
   "outputs": [
    {
     "data": {
      "text/plain": [
       "array([[1., 2., 3.],\n",
       "       [4., 5., 6.]], dtype=float32)"
      ]
     },
     "execution_count": 21,
     "metadata": {},
     "output_type": "execute_result"
    }
   ],
   "source": [
    "t.numpy()"
   ]
  },
  {
   "cell_type": "code",
   "execution_count": 22,
   "metadata": {},
   "outputs": [
    {
     "data": {
      "text/plain": [
       "<tf.Tensor: shape=(2, 2), dtype=float32, numpy=\n",
       "array([[2., 3.],\n",
       "       [5., 6.]], dtype=float32)>"
      ]
     },
     "execution_count": 22,
     "metadata": {},
     "output_type": "execute_result"
    }
   ],
   "source": [
    "# 索引方式与numpy相同\n",
    "t[:,1:]"
   ]
  },
  {
   "cell_type": "code",
   "execution_count": 23,
   "metadata": {},
   "outputs": [
    {
     "data": {
      "text/plain": [
       "<tf.Tensor: shape=(), dtype=float32, numpy=720.0>"
      ]
     },
     "execution_count": 23,
     "metadata": {},
     "output_type": "execute_result"
    }
   ],
   "source": [
    "# 张量操作\n",
    "tf.square(t)\n",
    "t + 10\n",
    "tf.transpose(t)\n",
    "tf.exp(t)\n",
    "tf.reduce_max(t)\n",
    "tf.reduce_mean(t)\n",
    "tf.reduce_prod(t)\n",
    "# ......"
   ]
  },
  {
   "cell_type": "code",
   "execution_count": 24,
   "metadata": {},
   "outputs": [
    {
     "data": {
      "text/plain": [
       "<tf.Tensor: shape=(3, 2), dtype=float32, numpy=\n",
       "array([[11., 26.],\n",
       "       [14., 35.],\n",
       "       [19., 46.]], dtype=float32)>"
      ]
     },
     "execution_count": 24,
     "metadata": {},
     "output_type": "execute_result"
    }
   ],
   "source": [
    "# 如果想让keras模型更好的移植，建议使用keras底层API进行张量操作\n",
    "from tensorflow import keras\n",
    "K = keras.backend\n",
    "K.square(K.transpose(t)) + 10"
   ]
  },
  {
   "cell_type": "code",
   "execution_count": 26,
   "metadata": {},
   "outputs": [
    {
     "data": {
      "text/plain": [
       "<tf.Tensor: shape=(3,), dtype=float32, numpy=array([2., 4., 5.], dtype=float32)>"
      ]
     },
     "execution_count": 26,
     "metadata": {},
     "output_type": "execute_result"
    }
   ],
   "source": [
    "# tf和np的操作通常可以混合，但是注意np默认使用float64，而tf默认使用float32，所以在用np创建张量的时候需要初始化为32\n",
    "a = np.array([2., 4., 5.], dtype = np.float32)\n",
    "tf.constant(a)"
   ]
  },
  {
   "cell_type": "code",
   "execution_count": 27,
   "metadata": {},
   "outputs": [
    {
     "data": {
      "text/plain": [
       "array([1.4142135, 2.       , 2.236068 ], dtype=float32)"
      ]
     },
     "execution_count": 27,
     "metadata": {},
     "output_type": "execute_result"
    }
   ],
   "source": [
    "np.sqrt(tf.constant(a))"
   ]
  },
  {
   "cell_type": "code",
   "execution_count": 28,
   "metadata": {},
   "outputs": [
    {
     "name": "stdout",
     "output_type": "stream",
     "text": [
      "cannot compute AddV2 as input #1(zero-based) was expected to be a float tensor but is a double tensor [Op:AddV2]\n"
     ]
    }
   ],
   "source": [
    "# tf 对于type的要求较为严格，无法计算不同type的数据，甚至32和64都无法合并\n",
    "try:\n",
    "    tf.constant(2.0) + tf.constant(40., dtype=tf.float64)\n",
    "except tf.errors.InvalidArgumentError as ex:\n",
    "    print(ex)"
   ]
  },
  {
   "cell_type": "code",
   "execution_count": 29,
   "metadata": {},
   "outputs": [
    {
     "data": {
      "text/plain": [
       "<tf.Tensor: shape=(), dtype=float32, numpy=42.0>"
      ]
     },
     "execution_count": 29,
     "metadata": {},
     "output_type": "execute_result"
    }
   ],
   "source": [
    "# 可以使用tf.cast()改变张量的数据类型\n",
    "t2 = tf.constant(40., dtype=tf.float64)\n",
    "tf.constant(2.0) + tf.cast(t2, tf.float32)"
   ]
  },
  {
   "cell_type": "markdown",
   "metadata": {},
   "source": [
    "变量的操作"
   ]
  },
  {
   "cell_type": "code",
   "execution_count": 30,
   "metadata": {},
   "outputs": [
    {
     "data": {
      "text/plain": [
       "<tf.Variable 'Variable:0' shape=(2, 3) dtype=int32, numpy=\n",
       "array([[1, 2, 3],\n",
       "       [4, 5, 6]], dtype=int32)>"
      ]
     },
     "execution_count": 30,
     "metadata": {},
     "output_type": "execute_result"
    }
   ],
   "source": [
    "v = tf.Variable([[1,2,3],[4,5,6]])\n",
    "v"
   ]
  },
  {
   "cell_type": "code",
   "execution_count": 31,
   "metadata": {},
   "outputs": [
    {
     "data": {
      "text/plain": [
       "<tf.Variable 'UnreadVariable' shape=(2, 3) dtype=int32, numpy=\n",
       "array([[ 2,  4,  6],\n",
       "       [ 8, 10, 12]], dtype=int32)>"
      ]
     },
     "execution_count": 31,
     "metadata": {},
     "output_type": "execute_result"
    }
   ],
   "source": [
    "v.assign(2*v)"
   ]
  },
  {
   "cell_type": "code",
   "execution_count": 33,
   "metadata": {},
   "outputs": [
    {
     "data": {
      "text/plain": [
       "<tf.Variable 'UnreadVariable' shape=(2, 3) dtype=int32, numpy=\n",
       "array([[100,   4,   6],\n",
       "       [  8,  10,  12]], dtype=int32)>"
      ]
     },
     "execution_count": 33,
     "metadata": {},
     "output_type": "execute_result"
    }
   ],
   "source": [
    "v.scatter_nd_update(indices=[[0,0]], updates=[100])"
   ]
  },
  {
   "cell_type": "code",
   "execution_count": null,
   "metadata": {},
   "outputs": [],
   "source": [
    "v.assign_add()\n",
    "v.assign_sub()\n",
    "v.scatter_nd_add\n",
    "v.scatter_nd_max\n",
    "v.scatter_nd_min\n",
    "# ......"
   ]
  },
  {
   "cell_type": "markdown",
   "metadata": {},
   "source": [
    "### 其他数据类型"
   ]
  },
  {
   "cell_type": "markdown",
   "metadata": {},
   "source": [
    "#### 稀疏张量"
   ]
  },
  {
   "cell_type": "code",
   "execution_count": 36,
   "metadata": {},
   "outputs": [
    {
     "name": "stdout",
     "output_type": "stream",
     "text": [
      "SparseTensor(indices=tf.Tensor(\n",
      "[[0 1]\n",
      " [1 0]\n",
      " [2 3]], shape=(3, 2), dtype=int64), values=tf.Tensor([1. 2. 3.], shape=(3,), dtype=float32), dense_shape=tf.Tensor([3 4], shape=(2,), dtype=int64))\n"
     ]
    }
   ],
   "source": [
    "# 稀疏张量\n",
    "s = tf.SparseTensor(indices=[[0, 1], [1, 0], [2, 3]],\n",
    "                    values=[1., 2., 3.],\n",
    "                    dense_shape=[3, 4])\n",
    "print(s)"
   ]
  },
  {
   "cell_type": "code",
   "execution_count": 37,
   "metadata": {},
   "outputs": [
    {
     "data": {
      "text/plain": [
       "<tf.Tensor: shape=(3, 4), dtype=float32, numpy=\n",
       "array([[0., 1., 0., 0.],\n",
       "       [2., 0., 0., 0.],\n",
       "       [0., 0., 0., 3.]], dtype=float32)>"
      ]
     },
     "execution_count": 37,
     "metadata": {},
     "output_type": "execute_result"
    }
   ],
   "source": [
    "tf.sparse.to_dense(s)"
   ]
  },
  {
   "cell_type": "code",
   "execution_count": 38,
   "metadata": {},
   "outputs": [
    {
     "data": {
      "text/plain": [
       "<tf.Tensor: shape=(3, 2), dtype=float32, numpy=\n",
       "array([[ 30.,  40.],\n",
       "       [ 20.,  40.],\n",
       "       [210., 240.]], dtype=float32)>"
      ]
     },
     "execution_count": 38,
     "metadata": {},
     "output_type": "execute_result"
    }
   ],
   "source": [
    "s4 = tf.constant([[10., 20.], [30., 40.], [50., 60.], [70., 80.]])\n",
    "tf.sparse.sparse_dense_matmul(s, s4)"
   ]
  },
  {
   "cell_type": "markdown",
   "metadata": {},
   "source": [
    "#### Sets"
   ]
  },
  {
   "cell_type": "markdown",
   "metadata": {},
   "source": [
    "每个集合由张量的最后一个轴上的向量表示，例如[[1,2,3], [0,1,4]]就是[1,2,3]和[0,1,4]组成的集合"
   ]
  },
  {
   "cell_type": "markdown",
   "metadata": {},
   "source": [
    "通常用稀疏张量来表示集合间的运算结果"
   ]
  },
  {
   "cell_type": "code",
   "execution_count": 39,
   "metadata": {},
   "outputs": [
    {
     "data": {
      "text/plain": [
       "<tf.Tensor: shape=(2, 6), dtype=int32, numpy=\n",
       "array([[ 2,  3,  4,  5,  6,  7],\n",
       "       [ 0,  7,  9, 10,  0,  0]], dtype=int32)>"
      ]
     },
     "execution_count": 39,
     "metadata": {},
     "output_type": "execute_result"
    }
   ],
   "source": [
    "set1 = tf.constant([[2, 3, 5, 7], [7, 9, 0, 0]])\n",
    "set2 = tf.constant([[4, 5, 6], [9, 10, 0]])\n",
    "tf.sparse.to_dense(tf.sets.union(set1, set2))"
   ]
  },
  {
   "cell_type": "code",
   "execution_count": 46,
   "metadata": {},
   "outputs": [
    {
     "name": "stdout",
     "output_type": "stream",
     "text": [
      "SparseTensor(indices=tf.Tensor(\n",
      "[[0 0]\n",
      " [0 1]\n",
      " [0 2]\n",
      " [0 3]\n",
      " [0 4]\n",
      " [0 5]\n",
      " [1 0]\n",
      " [1 1]\n",
      " [1 2]\n",
      " [1 3]], shape=(10, 2), dtype=int64), values=tf.Tensor([ 2  3  4  5  6  7  0  7  9 10], shape=(10,), dtype=int32), dense_shape=tf.Tensor([2 6], shape=(2,), dtype=int64))\n"
     ]
    }
   ],
   "source": [
    "print(tf.sets.union(set1, set2))"
   ]
  },
  {
   "cell_type": "code",
   "execution_count": 47,
   "metadata": {},
   "outputs": [
    {
     "data": {
      "text/plain": [
       "<tf.Tensor: shape=(2, 3), dtype=int32, numpy=\n",
       "array([[2, 3, 7],\n",
       "       [7, 0, 0]], dtype=int32)>"
      ]
     },
     "execution_count": 47,
     "metadata": {},
     "output_type": "execute_result"
    }
   ],
   "source": [
    "tf.sparse.to_dense(tf.sets.difference(set1, set2))"
   ]
  },
  {
   "cell_type": "code",
   "execution_count": 41,
   "metadata": {},
   "outputs": [
    {
     "data": {
      "text/plain": [
       "<tf.Tensor: shape=(2, 2), dtype=int32, numpy=\n",
       "array([[5, 0],\n",
       "       [0, 9]], dtype=int32)>"
      ]
     },
     "execution_count": 41,
     "metadata": {},
     "output_type": "execute_result"
    }
   ],
   "source": [
    "tf.sparse.to_dense(tf.sets.intersection(set1, set2))"
   ]
  },
  {
   "cell_type": "markdown",
   "metadata": {},
   "source": [
    "#### Tensor array : 张量的列表，size一般是固定的"
   ]
  },
  {
   "cell_type": "markdown",
   "metadata": {},
   "source": [
    "一般要求所有的张量具有相同的大小和数据类型"
   ]
  },
  {
   "cell_type": "code",
   "execution_count": 42,
   "metadata": {},
   "outputs": [
    {
     "data": {
      "text/plain": [
       "<tf.Tensor: shape=(2,), dtype=float32, numpy=array([ 3., 10.], dtype=float32)>"
      ]
     },
     "execution_count": 42,
     "metadata": {},
     "output_type": "execute_result"
    }
   ],
   "source": [
    "array = tf.TensorArray(dtype=tf.float32, size=3)\n",
    "array = array.write(0, tf.constant([1., 2.]))\n",
    "array = array.write(1, tf.constant([3., 10.]))\n",
    "array = array.write(2, tf.constant([5., 7.]))\n",
    "\n",
    "array.read(1)"
   ]
  },
  {
   "cell_type": "code",
   "execution_count": 43,
   "metadata": {},
   "outputs": [
    {
     "data": {
      "text/plain": [
       "<tf.Tensor: shape=(3, 2), dtype=float32, numpy=\n",
       "array([[1., 2.],\n",
       "       [0., 0.],\n",
       "       [5., 7.]], dtype=float32)>"
      ]
     },
     "execution_count": 43,
     "metadata": {},
     "output_type": "execute_result"
    }
   ],
   "source": [
    "array.stack()"
   ]
  },
  {
   "cell_type": "code",
   "execution_count": 44,
   "metadata": {},
   "outputs": [
    {
     "data": {
      "text/plain": [
       "<tf.Tensor: shape=(2,), dtype=float32, numpy=array([2., 3.], dtype=float32)>"
      ]
     },
     "execution_count": 44,
     "metadata": {},
     "output_type": "execute_result"
    }
   ],
   "source": [
    "mean, variance = tf.nn.moments(array.stack(), axes=0)\n",
    "mean"
   ]
  },
  {
   "cell_type": "markdown",
   "metadata": {},
   "source": [
    "### 自定义损失函数"
   ]
  },
  {
   "cell_type": "code",
   "execution_count": 48,
   "metadata": {},
   "outputs": [
    {
     "data": {
      "image/png": "[encoded data removed]",
      "text/plain": [
       "<Figure size 576x252 with 1 Axes>"
      ]
     },
     "metadata": {
      "needs_background": "light"
     },
     "output_type": "display_data"
    }
   ],
   "source": [
    "# huber损失函数：针对训练集噪声过大\n",
    "def huber_fn(y_true, y_pred):\n",
    "    error = y_true - y_pred\n",
    "    is_small_error = tf.abs(error) < 1\n",
    "    squared_loss = tf.square(error) / 2\n",
    "    linear_loss  = tf.abs(error) - 0.5\n",
    "    return tf.where(is_small_error, squared_loss, linear_loss)\n",
    "\n",
    "plt.figure(figsize=(8, 3.5))\n",
    "z = np.linspace(-4, 4, 200)\n",
    "plt.plot(z, huber_fn(0, z), \"b-\", linewidth=2, label=\"huber($z$)\")\n",
    "plt.plot(z, z**2 / 2, \"b:\", linewidth=1, label=r\"$\\frac{1}{2}z^2$\")\n",
    "plt.plot([-1, -1], [0, huber_fn(0., -1.)], \"r--\")\n",
    "plt.plot([1, 1], [0, huber_fn(0., 1.)], \"r--\")\n",
    "plt.gca().axhline(y=0, color='k')\n",
    "plt.gca().axvline(x=0, color='k')\n",
    "plt.axis([-4, 4, 0, 4])\n",
    "plt.grid(True)\n",
    "plt.xlabel(\"$z$\")\n",
    "plt.legend(fontsize=14)\n",
    "plt.title(\"Huber loss\", fontsize=14)\n",
    "plt.show()"
   ]
  },
  {
   "cell_type": "markdown",
   "metadata": {},
   "source": [
    "为了在重载模型时更加方便，可以直接继承loss类进行损失函数的定义："
   ]
  },
  {
   "cell_type": "code",
   "execution_count": null,
   "metadata": {},
   "outputs": [],
   "source": [
    "class HuberLoss(keras.losses.Loss):\n",
    "    def __init__(self, threshold = 1.0, **kwargs):\n",
    "        self.threshold = threshold\n",
    "        super().__init__(**kwargs)\n",
    "    def call(self, y_true, y_pred):\n",
    "        error = y_true - y_pred\n",
    "        is_small_error = tf.abs(error) < self.threshold\n",
    "        squared_loss = tf.square(error) / 2\n",
    "        linear_loss  = tf.abs(error) - 0.5\n",
    "        return tf.where(is_small_error, squared_loss, linear_loss) \n",
    "    def get_config(self):\n",
    "        base_config = super().get_config()\n",
    "        return {**base_config, 'threshold': self.threshold}  "
   ]
  },
  {
   "cell_type": "code",
   "execution_count": null,
   "metadata": {},
   "outputs": [],
   "source": [
    "# 当保存模型时候，会调用get config将模型的参数全部保存\n",
    "model.compile(loss=HuberLoss(2.), optimizer='nadam')\n",
    "model.save('xxxx.h5')"
   ]
  },
  {
   "cell_type": "code",
   "execution_count": null,
   "metadata": {},
   "outputs": [],
   "source": [
    "# 加载模型时，它会在HuberLoss类上调用from_config方法，该方法由基类实现\n",
    "# 将**config传递给构造函数并生成实例\n",
    "model = keras.models.load_model('xxxx.h5', custom_objects={'HuberLoss':HuberLoss})\n",
    "model.loss.threshold"
   ]
  },
  {
   "cell_type": "markdown",
   "metadata": {},
   "source": [
    "### 其他自定义结构"
   ]
  },
  {
   "cell_type": "code",
   "execution_count": null,
   "metadata": {},
   "outputs": [],
   "source": [
    "keras.backend.clear_session()\n",
    "np.random.seed(42)\n",
    "tf.random.set_seed(42)"
   ]
  },
  {
   "cell_type": "code",
   "execution_count": null,
   "metadata": {},
   "outputs": [],
   "source": [
    "# 激活函数\n",
    "def my_softplus(z): # return value is just tf.nn.softplus(z)\n",
    "    return tf.math.log(tf.exp(z) + 1.0)\n",
    "\n",
    "# 初始化权重\n",
    "def my_glorot_initializer(shape, dtype=tf.float32):\n",
    "    stddev = tf.sqrt(2. / (shape[0] + shape[1]))\n",
    "    return tf.random.normal(shape, stddev=stddev, dtype=dtype)\n",
    "\n",
    "# 正则化\n",
    "def my_l1_regularizer(weights):\n",
    "    return tf.reduce_sum(tf.abs(0.01 * weights))\n",
    "\n",
    "# constrain\n",
    "def my_positive_weights(weights): # return value is just tf.nn.relu(weights)\n",
    "    return tf.where(weights < 0., tf.zeros_like(weights), weights)"
   ]
  },
  {
   "cell_type": "code",
   "execution_count": null,
   "metadata": {},
   "outputs": [],
   "source": [
    "layer = keras.layers.Dense(1, activation=my_softplus,\n",
    "                           kernel_initializer=my_glorot_initializer,\n",
    "                           kernel_regularizer=my_l1_regularizer,\n",
    "                           kernel_constraint=my_positive_weights)"
   ]
  },
  {
   "cell_type": "code",
   "execution_count": null,
   "metadata": {},
   "outputs": [],
   "source": [
    "model = keras.models.load_model(\n",
    "    \"my_model_with_many_custom_parts.h5\",\n",
    "    custom_objects={\n",
    "       \"my_l1_regularizer\": my_l1_regularizer,\n",
    "       \"my_positive_weights\": my_positive_weights,\n",
    "       \"my_glorot_initializer\": my_glorot_initializer,\n",
    "       \"my_softplus\": my_softplus,\n",
    "    })"
   ]
  },
  {
   "cell_type": "markdown",
   "metadata": {},
   "source": [
    "和loss相同，可以通过继承基类的方式来自定义组件："
   ]
  },
  {
   "cell_type": "code",
   "execution_count": null,
   "metadata": {},
   "outputs": [],
   "source": [
    "class MyL1Regularizer(keras.regularizers.Regularizer):\n",
    "    def __init__(self, factor):\n",
    "        self.factor = factor\n",
    "    def __call__(self, weights):\n",
    "        return tf.reduce_sum(tf.abs(self.factor * weights))\n",
    "    def get_config(self):\n",
    "        # 此处不需要调用父类get config方法\n",
    "        return {\"factor\": self.factor}"
   ]
  },
  {
   "cell_type": "code",
   "execution_count": null,
   "metadata": {},
   "outputs": [],
   "source": [
    "layer = keras.layers.Dense(1, activation=my_softplus,\n",
    "                       kernel_regularizer=MyL1Regularizer(0.01),\n",
    "                       kernel_constraint=my_positive_weights,\n",
    "                       kernel_initializer=my_glorot_initializer)"
   ]
  },
  {
   "cell_type": "markdown",
   "metadata": {},
   "source": [
    "### 注意：\n",
    "* 损失函数，层，激活函数，模型 的自定义需要实现call()方法\n",
    "* 正则化，初始化，约束的自定义需要实现__call__()方法\n",
    "* 对于指标，情况和以上都不同，参见下文："
   ]
  },
  {
   "cell_type": "markdown",
   "metadata": {},
   "source": [
    "### Custom Metrics"
   ]
  },
  {
   "cell_type": "markdown",
   "metadata": {},
   "source": [
    "metric和loss不同，metric是用来评价一个模型好坏的量度。不要求metric可导或连续。"
   ]
  },
  {
   "cell_type": "markdown",
   "metadata": {},
   "source": [
    "如果只用一个一般的函数作为metric，那么keras会在每个batch后计算对应bacth的metric，然后计算目前所有批次的均值。但是这样的计算很多时候是不正确的，如果metric是精准度的话，平均精准度并不是全样本的精准度。这就需要开发streaming metric，在每个batch后进行更新。"
   ]
  },
  {
   "cell_type": "code",
   "execution_count": 52,
   "metadata": {},
   "outputs": [],
   "source": [
    "def create_huber(threshold=1.0):\n",
    "    def huber_fn(y_true, y_pred):\n",
    "        error = y_true - y_pred\n",
    "        is_small_error = tf.abs(error) < threshold\n",
    "        squared_loss = tf.square(error) / 2\n",
    "        linear_loss  = threshold * tf.abs(error) - threshold**2 / 2\n",
    "        return tf.where(is_small_error, squared_loss, linear_loss)\n",
    "    return huber_fn\n",
    "\n",
    "class HuberMetric(keras.metrics.Metric):\n",
    "    def __init__(self, threshold=1.0, **kwargs):\n",
    "        super().__init__(**kwargs) # handles base args (e.g., dtype)\n",
    "        self.threshold = threshold\n",
    "        self.huber_fn = create_huber(threshold)\n",
    "        # add_weight 为类添加一个tf.variable作为属性\n",
    "        self.total = self.add_weight(\"total\", initializer=\"zeros\") # 用来记录目前的metric总和   \n",
    "        self.count = self.add_weight(\"count\", initializer=\"zeros\") # 用来记录目前的总样本数\n",
    "    def update_state(self, y_true, y_pred, sample_weight=None):\n",
    "        metric = self.huber_fn(y_true, y_pred)\n",
    "        self.total.assign_add(tf.reduce_sum(metric))  #更新metric\n",
    "        self.count.assign_add(tf.cast(tf.size(y_true), tf.float32)) #更新样本数\n",
    "    def result(self):\n",
    "        return self.total / self.count # 最终输出的是metric之和/样本数\n",
    "        # 如果想定义precision rate，那么metric就是一个dummy函数，正确为1，错误为0\n",
    "    def get_config(self):\n",
    "        base_config = super().get_config()\n",
    "        return {**base_config, \"threshold\": self.threshold}"
   ]
  },
  {
   "cell_type": "code",
   "execution_count": 53,
   "metadata": {},
   "outputs": [
    {
     "data": {
      "text/plain": [
       "<tf.Tensor: shape=(), dtype=float32, numpy=14.0>"
      ]
     },
     "execution_count": 53,
     "metadata": {},
     "output_type": "execute_result"
    }
   ],
   "source": [
    "m = HuberMetric(2.)\n",
    "\n",
    "# total = 2 * |10 - 2| - 2²/2 = 14\n",
    "# count = 1\n",
    "# result = 14 / 1 = 14\n",
    "m(tf.constant([[2.]]), tf.constant([[10.]])) "
   ]
  },
  {
   "cell_type": "code",
   "execution_count": 54,
   "metadata": {},
   "outputs": [],
   "source": [
    "model.compile(loss=keras.losses.Huber(2.0), \n",
    "              optimizer=\"nadam\", \n",
    "              weighted_metrics=[HuberMetric(2.0)])\n",
    "            "
   ]
  },
  {
   "cell_type": "code",
   "execution_count": null,
   "metadata": {},
   "outputs": [],
   "source": [
    "model = keras.models.load_model(\"my_model_with_a_custom_metric_v2.h5\",\n",
    "                                custom_objects={\"HuberMetric\": HuberMetric})"
   ]
  },
  {
   "cell_type": "markdown",
   "metadata": {},
   "source": [
    "更一般的，可以用keras.metrics.Mean类来直接实现这种平均型的metric"
   ]
  },
  {
   "cell_type": "code",
   "execution_count": 55,
   "metadata": {},
   "outputs": [],
   "source": [
    "class HuberMetric(keras.metrics.Mean):\n",
    "    def __init__(self, threshold=1.0, name='HuberMetric', dtype=None):\n",
    "        self.threshold = threshold\n",
    "        self.huber_fn = create_huber(threshold)\n",
    "        super().__init__(name=name, dtype=dtype)\n",
    "\n",
    "    def update_state(self, y_true, y_pred, sample_weight=None):\n",
    "        metric = self.huber_fn(y_true, y_pred)\n",
    "        # 通过内置的函数直接更新总数和metric，这里的权重是对每个样本加权的权重\n",
    "        super(HuberMetric, self).update_state(metric, sample_weight)\n",
    "    def get_config(self):\n",
    "        base_config = super().get_config()\n",
    "        return {**base_config, \"threshold\": self.threshold}  "
   ]
  },
  {
   "cell_type": "markdown",
   "metadata": {},
   "source": [
    "### 自定义层"
   ]
  },
  {
   "cell_type": "markdown",
   "metadata": {},
   "source": [
    "通过继承layer类可以自定义层"
   ]
  },
  {
   "cell_type": "code",
   "execution_count": null,
   "metadata": {},
   "outputs": [],
   "source": [
    "# 可以自定义一个dense层\n",
    "class MyDense(keras.layers.Layer):\n",
    "\n",
    "    def __init__(self, units, activation = None, **kwargs):\n",
    "        super().__init__(**kwargs) #调用父类\n",
    "        self.units = units # 指定输出维度\n",
    "        self.activation = keras.activations.get(activation) # 指定该层要使用的激活函数\n",
    "    \n",
    "    def build(self, batch_input_shape):\n",
    "        \"\"\"\n",
    "        build 函数在网络第一次被创建的时候调用，主要做一些权重初始化的工作\n",
    "        \"\"\"\n",
    "        # 使用add_weight为该层网络添加权重和偏置，添加的形状应该根据batch size和unit决定\n",
    "        self.kernel = self.add_weight(\n",
    "            name = 'kernel',\n",
    "            shape = [batch_input_shape[-1], self.units],\n",
    "            initializer = 'glorot_normal' \n",
    "        )\n",
    "        self.bias = self.add_weight(\n",
    "            name = 'bias',\n",
    "            shape = [self.units],\n",
    "            initializer = 'zeros'\n",
    "        )\n",
    "        # 在最后一步使用该函数，提示这一层已经被建立，之后不需要重新运行\n",
    "        super().build(batch_input_shape)\n",
    "    \n",
    "    def call(self, X):\n",
    "        \"\"\"\n",
    "        神经网络层的计算\n",
    "        \"\"\"    \n",
    "        return self.activation(X @ self.kernel + self.bias)\n",
    "    \n",
    "    def compute_output_shape(self, batch_input_shape):\n",
    "        \"\"\"\n",
    "        计算输出的形状\n",
    "        \"\"\"\n",
    "        return tf.TensorShape(batch_input_shape.as_list()[:-1] + [self.units])\n",
    "\n",
    "    def get_config(self):\n",
    "        \"\"\"\n",
    "        为自定义层创建config，方便下次重复调用\n",
    "        \"\"\"\n",
    "        base_config = super().get_config()\n",
    "        return {**base_config, \n",
    "                'units':self.units,\n",
    "                # 使用keras提供的函数将激活函数封装起来\n",
    "                'activation': keras.activations.serialize(self.activation)}\n"
   ]
  },
  {
   "cell_type": "code",
   "execution_count": null,
   "metadata": {},
   "outputs": [],
   "source": [
    "# 模型的重载\n",
    "model = keras.models.load_model(\"my_model_with_a_custom_layer.h5\",\n",
    "                                custom_objects={\"MyDense\": MyDense})"
   ]
  },
  {
   "cell_type": "code",
   "execution_count": null,
   "metadata": {},
   "outputs": [],
   "source": [
    "# 定义一个能够为数据加上高斯噪音的层\n",
    "class AddGaussionNoise(keras.layers.Layer):\n",
    "    \n",
    "    def __init__(self, stddev, **kwargs):\n",
    "        super().__init__(**kwargs)\n",
    "        self.stddev = stddev #指定高斯噪音的std\n",
    "\n",
    "    def call(self, X, training = None):\n",
    "        if traning:\n",
    "            noise = tf.random.normal(tf.shape(X), stddev = self.stddev)\n",
    "            return X + noise\n",
    "\n",
    "        else:\n",
    "            return X\n",
    "    def compute_output_shape(self, batch_input_size):\n",
    "        return batch_input_size"
   ]
  },
  {
   "cell_type": "markdown",
   "metadata": {},
   "source": [
    "### 自定义模型"
   ]
  },
  {
   "cell_type": "markdown",
   "metadata": {},
   "source": [
    "如果能将常用的层组合封装成自己的模型，就可以在未来调用时候不用反复搭建模型"
   ]
  },
  {
   "cell_type": "markdown",
   "metadata": {},
   "source": [
    "#### 这里首先实现一个层，该层将输入通过神经网络非线性结构后的结果和原始的输入结果相加"
   ]
  },
  {
   "cell_type": "code",
   "execution_count": null,
   "metadata": {},
   "outputs": [],
   "source": [
    "class ResidualBlock(keras.layers.Layer):\n",
    "    __doc__ = \"\"\"\n",
    "    该类实现将数据通过非线形运算后和原始数据线性相加\n",
    "    \"\"\"\n",
    "    def __init__(self, n_layers, n_neurons, **kwargs):\n",
    "        \"\"\"\n",
    "        n_layers: 非线性层的深度\n",
    "        n_neurons: 非线性层的ouput dim\n",
    "        \"\"\"\n",
    "        super().__init__(**kwargs)\n",
    "        self.hidden = [\n",
    "            keras.layers.Dense(n_neurons, activation='elu', kernel_initializer='he_normal')\n",
    "            for _ in range(n_layers)\n",
    "        ] #创建非线形层列表\n",
    "\n",
    "    def call(self, inputs):\n",
    "        Z = inputs\n",
    "        for layer in self.layers:\n",
    "            Z = layer(Z)\n",
    "        return input + Z\n",
    "    \n",
    "    def get_config(self):\n",
    "        base_config = super().get_config()\n",
    "        return {\n",
    "            **base_config,\n",
    "            'n_layers': self.n_layers,\n",
    "            'n_neurons': self.n_neurons\n",
    "        }"
   ]
  },
  {
   "cell_type": "markdown",
   "metadata": {},
   "source": [
    "#### 通过上面实现的层，可以自己封装一个小的模型"
   ]
  },
  {
   "cell_type": "code",
   "execution_count": null,
   "metadata": {},
   "outputs": [],
   "source": [
    "class ResidualRegressor(keras.models.Model):\n",
    "    def __init__(self, output_dim, **kwargs):\n",
    "        super().__init__(**kwargs)\n",
    "        self.output_dim = output_dim\n",
    "        self.hidden1 = keras.layers.Dense(30, activation=\"elu\",\n",
    "                                          kernel_initializer=\"he_normal\")\n",
    "        self.block1 = ResidualBlock(2, 30)\n",
    "        self.block2 = ResidualBlock(2, 30)\n",
    "        self.out = keras.layers.Dense(output_dim)\n",
    "\n",
    "    def call(self, inputs):\n",
    "        Z = self.hidden1(inputs)\n",
    "        for _ in range(1 + 3):\n",
    "            Z = self.block1(Z)\n",
    "        Z = self.block2(Z)\n",
    "        return self.out(Z)\n",
    "\n",
    "    def get_config(self):\n",
    "        base_config = super().get_config()\n",
    "        return {\n",
    "            **base_config,\n",
    "            'output_dim': self.output_dim\n",
    "        }"
   ]
  },
  {
   "cell_type": "code",
   "execution_count": null,
   "metadata": {},
   "outputs": [],
   "source": [
    "model = ResidualRegressor(1)\n",
    "model.compile(loss=\"mse\", optimizer=\"nadam\")\n",
    "history = model.fit(X_train_scaled, y_train, epochs=5)\n",
    "score = model.evaluate(X_test_scaled, y_test)\n",
    "y_pred = model.predict(X_new_scaled)"
   ]
  },
  {
   "cell_type": "markdown",
   "metadata": {},
   "source": [
    "### 自定义模型内部损失"
   ]
  },
  {
   "cell_type": "markdown",
   "metadata": {},
   "source": [
    "#### 要基于模型内部定义自定义损失，根据所需模型的任何部分进行计算，然后将结果传递给add_loss()方法"
   ]
  },
  {
   "cell_type": "markdown",
   "metadata": {},
   "source": [
    "比如这里我们想构建一个MLP模型，该模型不仅要考虑预测损失，还要考虑对于样本的重建损失（最大程度的保留样本的信息），实现方法是在最终输出的前一层增加一层辅助输出，这一层用于重建样本，这一层的均方损失称为重建损失，将这个重建损失以一定的比例加入到最终的损失中去。"
   ]
  },
  {
   "cell_type": "code",
   "execution_count": null,
   "metadata": {},
   "outputs": [],
   "source": [
    "class ReconstructingRegressor(keras.Model):\n",
    "    __doc__ = \"\"\"实现了包含重建误差的神经网络结构，能够在MSEloss意义下更大程度的保留input的所有信息\n",
    "    \"\"\"\n",
    "    def __init__(self, output_dim, **kwargs):\n",
    "        super().__init__(**kwargs)\n",
    "        # 构建一个深度为5层的神经网络，用于数据的非线性特征提取\n",
    "        self.hidden = [keras.layers.Dense(30, activation=\"selu\",\n",
    "                                          kernel_initializer=\"lecun_normal\")\n",
    "                       for _ in range(5)]\n",
    "        # 最后一层的设置\n",
    "        self.out = keras.layers.Dense(output_dim)\n",
    "        # 初始化重构metric，这里同样适用streaming metric\n",
    "        self.reconstruction_mean = keras.metrics.Mean(name=\"reconstruction_error\")\n",
    "\n",
    "    def build(self, batch_input_shape):\n",
    "        n_inputs = batch_input_shape[-1]\n",
    "        # 单独创建一层重建层，用于衡量重建误差\n",
    "        self.reconstruct = keras.layers.Dense(n_inputs)\n",
    "        super().build(batch_input_shape)\n",
    "\n",
    "    def call(self, inputs, training=None):\n",
    "        # 将input依次通过网络结构\n",
    "        Z = inputs\n",
    "        for layer in self.hidden:\n",
    "            Z = layer(Z)\n",
    "        # 在输出的前一层，将数据喂入重建层\n",
    "        reconstruction = self.reconstruct(Z)\n",
    "        # 计算重建误差，并且将该误差赋予0.05的权重加入到最终的误差中去\n",
    "        recon_loss = tf.reduce_mean(tf.square(reconstruction - inputs))\n",
    "        self.add_loss(0.05 * recon_loss)\n",
    "        # 如果在训练中，将重建metric加入到最终的metric去\n",
    "        if training:\n",
    "            result = self.reconstruction_mean(recon_loss)\n",
    "            self.add_metric(result)\n",
    "        # 将Z经过最终层的结果进行输出\n",
    "        return self.out(Z)"
   ]
  },
  {
   "cell_type": "markdown",
   "metadata": {},
   "source": [
    "### 自动微分"
   ]
  },
  {
   "cell_type": "markdown",
   "metadata": {},
   "source": [
    "可以利用tf.GradientTape()创建自动微分环境，计算自动微分"
   ]
  },
  {
   "cell_type": "code",
   "execution_count": 2,
   "metadata": {},
   "outputs": [],
   "source": [
    "def f(w1, w2):\n",
    "    return 3 * w1 ** 2 + 2 * w1 * w2"
   ]
  },
  {
   "cell_type": "code",
   "execution_count": 4,
   "metadata": {},
   "outputs": [
    {
     "data": {
      "text/plain": [
       "[<tf.Tensor: shape=(), dtype=float32, numpy=36.0>,\n",
       " <tf.Tensor: shape=(), dtype=float32, numpy=10.0>]"
      ]
     },
     "execution_count": 4,
     "metadata": {},
     "output_type": "execute_result"
    }
   ],
   "source": [
    "w1, w2 = tf.Variable(5.), tf.Variable(3.)\n",
    "with tf.GradientTape() as tape:\n",
    "    z = f(w1, w2)\n",
    "\n",
    "gradients = tape.gradient(z, [w1, w2])\n",
    "gradients"
   ]
  },
  {
   "cell_type": "markdown",
   "metadata": {},
   "source": [
    "值得注意的是，经过一次正向反向传播后，tape就会消失"
   ]
  },
  {
   "cell_type": "code",
   "execution_count": 8,
   "metadata": {},
   "outputs": [
    {
     "name": "stdout",
     "output_type": "stream",
     "text": [
      "A non-persistent GradientTape can only be used tocompute one set of gradients (or jacobians)\n"
     ]
    }
   ],
   "source": [
    "try:\n",
    "    gradients = tape.gradient(z, [w1, w2])\n",
    "    gradients\n",
    "except RuntimeError as ex:\n",
    "    print(ex)"
   ]
  },
  {
   "cell_type": "code",
   "execution_count": 9,
   "metadata": {},
   "outputs": [],
   "source": [
    "with tf.GradientTape(persistent=True) as tape:\n",
    "    z = f(w1, w2)\n",
    "\n",
    "dz_dw1 = tape.gradient(z, w1)\n",
    "dz_dw2 = tape.gradient(z, w2) # works now!\n",
    "del tape"
   ]
  },
  {
   "cell_type": "markdown",
   "metadata": {},
   "source": [
    "当有多个y对x的导数时，tape会自动对其求和"
   ]
  },
  {
   "cell_type": "code",
   "execution_count": 10,
   "metadata": {},
   "outputs": [
    {
     "data": {
      "text/plain": [
       "[<tf.Tensor: shape=(), dtype=float32, numpy=136.0>,\n",
       " <tf.Tensor: shape=(), dtype=float32, numpy=30.0>]"
      ]
     },
     "execution_count": 10,
     "metadata": {},
     "output_type": "execute_result"
    }
   ],
   "source": [
    "with tf.GradientTape() as tape:\n",
    "    z1 = f(w1, w2 + 2.)\n",
    "    z2 = f(w1, w2 + 5.)\n",
    "    z3 = f(w1, w2 + 7.)\n",
    "\n",
    "tape.gradient([z1, z2, z3], [w1, w2])"
   ]
  },
  {
   "cell_type": "markdown",
   "metadata": {},
   "source": [
    "### 手动实现深度学习训练"
   ]
  },
  {
   "cell_type": "code",
   "execution_count": 11,
   "metadata": {},
   "outputs": [],
   "source": [
    "keras.backend.clear_session()\n",
    "np.random.seed(42)\n",
    "tf.random.set_seed(42)"
   ]
  },
  {
   "cell_type": "code",
   "execution_count": null,
   "metadata": {},
   "outputs": [],
   "source": [
    "# 一些初始设置\n",
    "n_epochs = 5\n",
    "batch_size = 32\n",
    "n_steps = len(X_train) // batch_size\n",
    "optimizer = keras.optimizers.Nadam(learning_rate=0.01)\n",
    "loss_fn = keras.losses.mean_squared_error\n",
    "mean_loss = keras.metrics.Mean()\n",
    "metrics = [keras.metrics.MeanAbsoluteError()]"
   ]
  },
  {
   "cell_type": "code",
   "execution_count": null,
   "metadata": {},
   "outputs": [],
   "source": [
    "for epoch in range(1, n_epochs + 1):\n",
    "    # 第一层循环，进入某一个epoch\n",
    "    print(\"Epoch {}/{}\".format(epoch, n_epochs))\n",
    "    \n",
    "    # 第二层循环，进入某一个batch\n",
    "    for step in range(1, n_steps + 1):\n",
    "        # 随机的提取该batch的数据\n",
    "        X_batch, y_batch = random_batch(X_train_scaled, y_train)\n",
    "        # 前向传播，计算损失函数\n",
    "        with tf.GradientTape() as tape:\n",
    "            y_pred = model(X_batch)\n",
    "            # 计算这个epoch的平均loss\n",
    "            main_loss = tf.reduce_mean(loss_fn(y_batch, y_pred))\n",
    "            # 将损失函数的loss和正则化的loss相加\n",
    "            loss = tf.add_n([main_loss] + model.losses)\n",
    "        # 通过反向传播计算梯度\n",
    "        gradients = tape.gradient(loss, model.trainable_variables)\n",
    "        # 通过optimizer更新梯度\n",
    "        optimizer.apply_gradients(zip(gradients, model.trainable_variables))\n",
    "        # 加上constrain\n",
    "        for variable in model.variables:\n",
    "            if variable.constraint is not None:\n",
    "                variable.assign(variable.constraint(variable))\n",
    "        # 计算平均loss\n",
    "        mean_loss(loss)\n",
    "        # 记录metric数据\n",
    "        for metric in metrics:\n",
    "            metric(y_batch, y_pred)\n",
    "        print_status_bar(step * batch_size, len(y_train), mean_loss, metrics)\n",
    "    print_status_bar(len(y_train), len(y_train), mean_loss, metrics)\n",
    "    for metric in [mean_loss] + metrics:\n",
    "        metric.reset_states()\n",
    "          "
   ]
  },
  {
   "cell_type": "markdown",
   "metadata": {},
   "source": [
    "### 自定义Optimizer"
   ]
  },
  {
   "cell_type": "code",
   "execution_count": 13,
   "metadata": {},
   "outputs": [],
   "source": [
    "class MyMomentumOptimizer(keras.optimizers.Optimizer):\n",
    "    def __init__(self, learning_rate=0.001, momentum=0.9, name=\"MyMomentumOptimizer\", **kwargs):\n",
    "        \"\"\"Call super().__init__() and use _set_hyper() to store hyperparameters\"\"\"\n",
    "        super().__init__(name, **kwargs)\n",
    "        self._set_hyper(\"learning_rate\", kwargs.get(\"lr\", learning_rate)) # handle lr=learning_rate\n",
    "        self._set_hyper(\"decay\", self._initial_decay) # \n",
    "        self._set_hyper(\"momentum\", momentum)\n",
    "    \n",
    "    def _create_slots(self, var_list):\n",
    "        \"\"\"For each model variable, create the optimizer variable associated with it.\n",
    "        TensorFlow calls these optimizer variables \"slots\".\n",
    "        For momentum optimization, we need one momentum slot per model variable.\n",
    "        \"\"\"\n",
    "        for var in var_list:\n",
    "            self.add_slot(var, \"momentum\")\n",
    "\n",
    "    @tf.function\n",
    "    def _resource_apply_dense(self, grad, var):\n",
    "        \"\"\"Update the slots and perform one optimization step for one model variable\n",
    "        \"\"\"\n",
    "        var_dtype = var.dtype.base_dtype\n",
    "        lr_t = self._decayed_lr(var_dtype) # handle learning rate decay\n",
    "        momentum_var = self.get_slot(var, \"momentum\")\n",
    "        momentum_hyper = self._get_hyper(\"momentum\", var_dtype)\n",
    "        momentum_var.assign(momentum_var * momentum_hyper - (1. - momentum_hyper)* grad)\n",
    "        var.assign_add(momentum_var * lr_t)\n",
    "\n",
    "    def _resource_apply_sparse(self, grad, var):\n",
    "        raise NotImplementedError\n",
    "\n",
    "    def get_config(self):\n",
    "        base_config = super().get_config()\n",
    "        return {\n",
    "            **base_config,\n",
    "            \"learning_rate\": self._serialize_hyperparameter(\"learning_rate\"),\n",
    "            \"decay\": self._serialize_hyperparameter(\"decay\"),\n",
    "            \"momentum\": self._serialize_hyperparameter(\"momentum\"),\n",
    "        }"
   ]
  },
  {
   "cell_type": "markdown",
   "metadata": {},
   "source": [
    "### 练习题"
   ]
  },
  {
   "cell_type": "markdown",
   "metadata": {},
   "source": [
    "#### 1 构建一个batch norm网络层"
   ]
  },
  {
   "cell_type": "code",
   "execution_count": 16,
   "metadata": {},
   "outputs": [],
   "source": [
    "class MyBatchNormalizition(keras.layers.Layer):\n",
    "\n",
    "    def __init__(self, eps = 1e-4, **kwargs):\n",
    "        supre().__init__(**kwargs)\n",
    "        self.eps = eps # 一个很小的整数，防止处以0\n",
    "    \n",
    "    def build(self, batch_input_shape):\n",
    "        # 这一步需要创建两个变量alpha和beta，分别代表标准化后修正的乘数和偏移，维度和input的最后一个维度相同（特征数）\n",
    "        self.alpha = self.add_weight(\n",
    "            name = 'alpha',\n",
    "            shape = batch_input_shape[-1:],\n",
    "            initializer = 'ones'\n",
    "        )        \n",
    "        self.beta = self.add_weight(\n",
    "            name = 'beta',\n",
    "            shape = batch_input_size[-1:],\n",
    "            initializer = 'zeros'\n",
    "        )\n",
    "        super().build(batch_input_size)\n",
    "    \n",
    "    def call(self, X):\n",
    "        mean, varience = tf.nn.moments(X, axis = -1, keepdims=True)\n",
    "        return self.alpha * (X - mean)/(tf.sqrt(varience + self.eps)) + self.beta\n",
    "\n",
    "    def compute_output_size(self, batch_input_shape):\n",
    "        return batch_input_shape\n",
    "\n",
    "    def get_config(self):\n",
    "        base_config = super().get_config()\n",
    "        return {**base_config,\n",
    "                'eps': self.eps}"
   ]
  },
  {
   "cell_type": "markdown",
   "metadata": {},
   "source": [
    "#### 尝试构建一个网络结构，上下层网络使用的优化器和学习率不同"
   ]
  },
  {
   "cell_type": "code",
   "execution_count": null,
   "metadata": {},
   "outputs": [],
   "source": [
    "# 构建两个网络，一个上层，一个下层\n",
    "lower_layers = keras.models.Sequential([\n",
    "    keras.layers.Flatten(input_shape=[28, 28]),\n",
    "    keras.layers.Dense(100, activation=\"relu\"),\n",
    "])\n",
    "upper_layers = keras.models.Sequential([\n",
    "    keras.layers.Dense(10, activation=\"softmax\"),\n",
    "])\n",
    "model = keras.models.Sequential([\n",
    "    lower_layers, upper_layers\n",
    "])"
   ]
  },
  {
   "cell_type": "code",
   "execution_count": null,
   "metadata": {},
   "outputs": [],
   "source": [
    "lower_optimizer = keras.optimizers.SGD(learning_rate=1e-4)\n",
    "upper_optimizer = keras.optimizers.Nadam(learning_rate=1e-3)"
   ]
  },
  {
   "cell_type": "code",
   "execution_count": null,
   "metadata": {},
   "outputs": [],
   "source": [
    "n_epochs = 5\n",
    "batch_size = 32\n",
    "n_steps = len(X_train) // batch_size\n",
    "loss_fn = keras.losses.sparse_categorical_crossentropy\n",
    "mean_loss = keras.metrics.Mean()\n",
    "metrics = [keras.metrics.SparseCategoricalAccuracy()]"
   ]
  },
  {
   "cell_type": "code",
   "execution_count": null,
   "metadata": {},
   "outputs": [],
   "source": [
    "with trange(1, n_epochs + 1, desc=\"All epochs\") as epochs:\n",
    "    for epoch in epochs:\n",
    "        # 进入某个epoch\n",
    "        with trange(1, n_steps + 1, desc=\"Epoch {}/{}\".format(epoch, n_epochs)) as steps:\n",
    "            # 进入某个batch\n",
    "            for step in steps:\n",
    "                # 提取这个batch的数据\n",
    "                X_batch, y_batch = random_batch(X_train, y_train)\n",
    "                # 在tape环境下计算loss，注意这里设置了persistent = ture，之后要记得删除这个tape\n",
    "                with tf.GradientTape(persistent=True) as tape:\n",
    "                    y_pred = model(X_batch)\n",
    "                    main_loss = tf.reduce_mean(loss_fn(y_batch, y_pred))\n",
    "                    loss = tf.add_n([main_loss] + model.losses)\n",
    "                # 对于不同的模型参数，使用不同的优化器\n",
    "                for layers, optimizer in ((lower_layers, lower_optimizer),\n",
    "                                          (upper_layers, upper_optimizer)):\n",
    "                    gradients = tape.gradient(loss, layers.trainable_variables)\n",
    "                    # 将梯度和对应的参数输入对应的优化器实现优化步骤\n",
    "                    optimizer.apply_gradients(zip(gradients, layers.trainable_variables))\n",
    "                # 删除tape\n",
    "                del tape\n",
    "                # 添加constrian\n",
    "                for variable in model.variables:\n",
    "                    if variable.constraint is not None:\n",
    "                        variable.assign(variable.constraint(variable))                    \n",
    "                status = OrderedDict()\n",
    "                mean_loss(loss)\n",
    "                status[\"loss\"] = mean_loss.result().numpy()\n",
    "                for metric in metrics:\n",
    "                    metric(y_batch, y_pred)\n",
    "                    status[metric.name] = metric.result().numpy()\n",
    "                steps.set_postfix(status)\n",
    "            y_pred = model(X_valid)\n",
    "            status[\"val_loss\"] = np.mean(loss_fn(y_valid, y_pred))\n",
    "            status[\"val_accuracy\"] = np.mean(keras.metrics.sparse_categorical_accuracy(\n",
    "                tf.constant(y_valid, dtype=np.float32), y_pred))\n",
    "            steps.set_postfix(status)\n",
    "        for metric in [mean_loss] + metrics:\n",
    "            metric.reset_states()"
   ]
  },
  {
   "cell_type": "markdown",
   "metadata": {},
   "source": [
    "# 2021.11.18\n",
    "## 知识点：\n",
    "* 使用keras数据预处理层预处理：norm，embedding\n",
    "* 词袋模型"
   ]
  },
  {
   "cell_type": "markdown",
   "metadata": {},
   "source": [
    "### 使用keras预处理层对于数据进行预处理"
   ]
  },
  {
   "cell_type": "code",
   "execution_count": 17,
   "metadata": {},
   "outputs": [
    {
     "name": "stdout",
     "output_type": "stream",
     "text": [
      "● apply()              Applies a transformation function to this dataset.\n",
      "● as_numpy_iterator()  Returns an iterator which converts all elements of the dataset to numpy.\n",
      "● batch()              Combines consecutive elements of this dataset into batches.\n",
      "● cache()              Caches the elements in this dataset.\n",
      "● cardinality()        Returns the cardinality of the dataset, if known.\n",
      "● concatenate()        Creates a `Dataset` by concatenating the given dataset with this dataset.\n",
      "● element_spec()       The type specification of an element of this dataset.\n",
      "● enumerate()          Enumerates the elements of this dataset.\n",
      "● filter()             Filters this dataset according to `predicate`.\n",
      "● flat_map()           Maps `map_func` across this dataset and flattens the result.\n",
      "● from_generator()     Creates a `Dataset` whose elements are generated by `generator`. (deprecated arguments)\n",
      "● from_tensor_slices() Creates a `Dataset` whose elements are slices of the given tensors.\n",
      "● from_tensors()       Creates a `Dataset` with a single element, comprising the given tensors.\n",
      "● interleave()         Maps `map_func` across this dataset, and interleaves the results.\n",
      "● list_files()         A dataset of all files matching one or more glob patterns.\n",
      "● map()                Maps `map_func` across the elements of this dataset.\n",
      "● options()            Returns the options for this dataset and its inputs.\n",
      "● padded_batch()       Combines consecutive elements of this dataset into padded batches.\n",
      "● prefetch()           Creates a `Dataset` that prefetches elements from this dataset.\n",
      "● range()              Creates a `Dataset` of a step-separated range of values.\n",
      "● reduce()             Reduces the input dataset to a single element.\n",
      "● repeat()             Repeats this dataset so each original value is seen `count` times.\n",
      "● shard()              Creates a `Dataset` that includes only 1/`num_shards` of this dataset.\n",
      "● shuffle()            Randomly shuffles the elements of this dataset.\n",
      "● skip()               Creates a `Dataset` that skips `count` elements from this dataset.\n",
      "● take()               Creates a `Dataset` with at most `count` elements from this dataset.\n",
      "● unbatch()            Splits elements of a dataset into multiple elements.\n",
      "● window()             Combines (nests of) input elements into a dataset of (nests of) windows.\n",
      "● with_options()       Returns a new `tf.data.Dataset` with the given options set.\n",
      "● zip()                Creates a `Dataset` by zipping together the given datasets.\n"
     ]
    }
   ],
   "source": [
    "# 一个小插曲：如何获取一个类的方法以及其简介：\n",
    "# 使用dir获取其全部方法及属性\n",
    "# 挑选出所有方法后，查看方法是否有__doc__，如果存在，就打印\n",
    "for m in dir(tf.data.Dataset):\n",
    "    if not (m.startswith(\"_\") or m.endswith(\"_\")):\n",
    "        func = getattr(tf.data.Dataset, m)\n",
    "        if hasattr(func, \"__doc__\"):\n",
    "            print(\"● {:21s}{}\".format(m + \"()\", func.__doc__.split(\"\\n\")[0]))"
   ]
  },
  {
   "cell_type": "markdown",
   "metadata": {},
   "source": [
    "### 标准化层"
   ]
  },
  {
   "cell_type": "code",
   "execution_count": 18,
   "metadata": {},
   "outputs": [],
   "source": [
    "class Standardization(keras.layers.Layer):\n",
    "    def adapt(self, data_sample):\n",
    "        self.means_ = np.mean(data_sample, axis = 0, keepdims=True)\n",
    "        self.stds_ = np.std(data_sample, axis = 0, keepdims=True)\n",
    "    def call(self, inputs):\n",
    "        return (inputs - self.means_) / (self.stds_ + keras.backend.epsilon()) "
   ]
  },
  {
   "cell_type": "code",
   "execution_count": null,
   "metadata": {},
   "outputs": [],
   "source": [
    "std_layer = Standardization()\n",
    "std_layer.adapt(data_sample)\n",
    "\n",
    "model = keras.Sequential()\n",
    "model.add(std_layer)\n",
    "model.compile()#....."
   ]
  },
  {
   "cell_type": "markdown",
   "metadata": {},
   "source": [
    "#### 这一层的功能在keras.layers.Normal中已经被标准化\n",
    "他的工作方式需要：\n",
    "* 创建该层\n",
    "* 传入adapt数据样本进行计算\n",
    "* 正常使用这一层"
   ]
  },
  {
   "cell_type": "markdown",
   "metadata": {},
   "source": [
    "### 编码分类特征"
   ]
  },
  {
   "cell_type": "code",
   "execution_count": 19,
   "metadata": {},
   "outputs": [],
   "source": [
    "# 一般的实现：\n",
    "\n",
    "# 初始化类别变量\n",
    "vocab = ['a', 'b', 'c', 'd']\n",
    "indices = tf.range(len(vocab), dtype = tf.int64)\n",
    "# 初始化类别查询表\n",
    "table_init = tf.lookup.KeyValueTensorInitializer(vocab, indices)\n",
    "num_oov_buckets = 2 #空类别数量（如果遇到不在类别中的样本，会将这个样本的编号分给这些类别之一）\n",
    "table = tf.lookup.StaticVocabularyTable(table_init, num_oov_buckets) # 产生一个类别查询表"
   ]
  },
  {
   "cell_type": "code",
   "execution_count": 47,
   "metadata": {},
   "outputs": [
    {
     "data": {
      "text/plain": [
       "tf.string"
      ]
     },
     "execution_count": 47,
     "metadata": {},
     "output_type": "execute_result"
    }
   ],
   "source": [
    "table.key_dtype"
   ]
  },
  {
   "cell_type": "code",
   "execution_count": 21,
   "metadata": {},
   "outputs": [
    {
     "data": {
      "text/plain": [
       "<tf.Tensor: shape=(6,), dtype=int64, numpy=array([0, 1, 2, 3, 5, 4])>"
      ]
     },
     "execution_count": 21,
     "metadata": {},
     "output_type": "execute_result"
    }
   ],
   "source": [
    "cats =tf.constant(['a', 'b', 'c', 'd', 'e', 'f'])\n",
    "cats_indices = table.lookup(cats)\n",
    "cats_indices"
   ]
  },
  {
   "cell_type": "code",
   "execution_count": 22,
   "metadata": {},
   "outputs": [
    {
     "data": {
      "text/plain": [
       "<tf.Tensor: shape=(6, 6), dtype=float32, numpy=\n",
       "array([[1., 0., 0., 0., 0., 0.],\n",
       "       [0., 1., 0., 0., 0., 0.],\n",
       "       [0., 0., 1., 0., 0., 0.],\n",
       "       [0., 0., 0., 1., 0., 0.],\n",
       "       [0., 0., 0., 0., 0., 1.],\n",
       "       [0., 0., 0., 0., 1., 0.]], dtype=float32)>"
      ]
     },
     "execution_count": 22,
     "metadata": {},
     "output_type": "execute_result"
    }
   ],
   "source": [
    "cat_one_hot = tf.one_hot(cats_indices, depth=len(vocab) + num_oov_buckets)\n",
    "cat_one_hot"
   ]
  },
  {
   "cell_type": "markdown",
   "metadata": {},
   "source": [
    "实际上，将这些逻辑捆绑到一个层中并不是很困难，它的adapt方法会将样本中的类别全部提取，并且创建一个表查询该类进行编码。"
   ]
  },
  {
   "cell_type": "markdown",
   "metadata": {},
   "source": [
    "更方便的是，keras.layers.Textvectorization层提供了以上的功能，调用其adapt层后就可以通过call将数据转换为one hot vector"
   ]
  },
  {
   "cell_type": "markdown",
   "metadata": {},
   "source": [
    " ### Embedding层"
   ]
  },
  {
   "cell_type": "code",
   "execution_count": 38,
   "metadata": {},
   "outputs": [
    {
     "data": {
      "text/plain": [
       "<tf.Tensor: shape=(6, 5), dtype=float32, numpy=\n",
       "array([[ 0.01645621, -0.00589932, -0.01471175, -0.00355174, -0.04663396],\n",
       "       [ 0.01846724,  0.02401174,  0.03724445, -0.02736737, -0.02768031],\n",
       "       [-0.01896119,  0.02223358, -0.03668128,  0.00480639,  0.00746088],\n",
       "       [ 0.03996835, -0.04905364,  0.00212307,  0.01345445, -0.03006717],\n",
       "       [-0.01630496,  0.01014177, -0.02893742,  0.03527372, -0.00593783],\n",
       "       [ 0.02294225,  0.00458346, -0.03924345,  0.01767061,  0.01602763]],\n",
       "      dtype=float32)>"
      ]
     },
     "execution_count": 38,
     "metadata": {},
     "output_type": "execute_result"
    }
   ],
   "source": [
    "embedding_dim = 5\n",
    "embedding = keras.layers.Embedding(\n",
    "    input_dim = len(vocab) + num_oov_buckets,\n",
    "    output_dim = embedding_dim\n",
    ")\n",
    "embedding(cats_indices)"
   ]
  },
  {
   "cell_type": "markdown",
   "metadata": {},
   "source": [
    "利用这个embedding层可以对于数据进行加工"
   ]
  },
  {
   "cell_type": "code",
   "execution_count": 45,
   "metadata": {},
   "outputs": [],
   "source": [
    "regular_input = keras.layers.Input(shape = [8])\n",
    "cats = keras.layers.Input(shape = [], dtype = tf.string)  #注意这里的type一定要喝table的一样 (table.key_dtype)\n",
    "cats_indices = keras.layers.Lambda(lambda cats: table.lookup(cats))(cats)\n",
    "cat_embed = keras.layers.Embedding(input_dim = 8, output_dim = 2)(cats)\n",
    "encoded_inputs = keras.layers.concatenate([regular_input, cat_embed])\n",
    "output = keras.layers.Dense(1)(encoded_inputs)\n",
    "model = keras.models.Model(inputs = [regular_input, cats], outputs = [output])"
   ]
  },
  {
   "cell_type": "markdown",
   "metadata": {},
   "source": [
    "### Discretization层"
   ]
  },
  {
   "cell_type": "markdown",
   "metadata": {},
   "source": [
    "该层将连续的数据切成不同的离散块，并且将每一个编码为一个独热向量"
   ]
  },
  {
   "cell_type": "code",
   "execution_count": 49,
   "metadata": {},
   "outputs": [
    {
     "ename": "AttributeError",
     "evalue": "module 'tensorflow.keras.layers' has no attribute 'Discretization'",
     "output_type": "error",
     "traceback": [
      "\u001b[0;31m---------------------------------------------------------------------------\u001b[0m",
      "\u001b[0;31mAttributeError\u001b[0m                            Traceback (most recent call last)",
      "\u001b[0;32m<ipython-input-49-378c7fe4d153>\u001b[0m in \u001b[0;36m<module>\u001b[0;34m\u001b[0m\n\u001b[0;32m----> 1\u001b[0;31m \u001b[0mdiscretization\u001b[0m \u001b[0;34m=\u001b[0m \u001b[0mtf\u001b[0m\u001b[0;34m.\u001b[0m\u001b[0mkeras\u001b[0m\u001b[0;34m.\u001b[0m\u001b[0mlayers\u001b[0m\u001b[0;34m.\u001b[0m\u001b[0mDiscretization\u001b[0m\u001b[0;34m(\u001b[0m\u001b[0;34m)\u001b[0m\u001b[0;34m\u001b[0m\u001b[0;34m\u001b[0m\u001b[0m\n\u001b[0m",
      "\u001b[0;31mAttributeError\u001b[0m: module 'tensorflow.keras.layers' has no attribute 'Discretization'"
     ]
    }
   ],
   "source": [
    "discretization = tf.keras.layers.Discretization() # 该功能只有在tf2.7中才有"
   ]
  },
  {
   "cell_type": "markdown",
   "metadata": {},
   "source": [
    "### 流水线加工数据"
   ]
  },
  {
   "cell_type": "code",
   "execution_count": 53,
   "metadata": {},
   "outputs": [
    {
     "ename": "AttributeError",
     "evalue": "module 'tensorflow.keras.layers' has no attribute 'preprocessing'",
     "output_type": "error",
     "traceback": [
      "\u001b[0;31m---------------------------------------------------------------------------\u001b[0m",
      "\u001b[0;31mAttributeError\u001b[0m                            Traceback (most recent call last)",
      "\u001b[0;32m<ipython-input-53-a9f2eee00d88>\u001b[0m in \u001b[0;36m<module>\u001b[0;34m\u001b[0m\n\u001b[1;32m      1\u001b[0m \u001b[0;31m#normalization = keras.layers.Normalization()\u001b[0m\u001b[0;34m\u001b[0m\u001b[0;34m\u001b[0m\u001b[0;34m\u001b[0m\u001b[0m\n\u001b[0;32m----> 2\u001b[0;31m \u001b[0mpipline\u001b[0m \u001b[0;34m=\u001b[0m \u001b[0mkeras\u001b[0m\u001b[0;34m.\u001b[0m\u001b[0mlayers\u001b[0m\u001b[0;34m.\u001b[0m\u001b[0mpreprocessing\u001b[0m\u001b[0;34m(\u001b[0m\u001b[0;34m)\u001b[0m\u001b[0;34m\u001b[0m\u001b[0;34m\u001b[0m\u001b[0m\n\u001b[0m",
      "\u001b[0;31mAttributeError\u001b[0m: module 'tensorflow.keras.layers' has no attribute 'preprocessing'"
     ]
    }
   ],
   "source": [
    "#normalization = keras.layers.Normalization()\n",
    "pipline = keras.layers.PreprogressingStage([normalization,])\n",
    "# 同样只有2.7才有"
   ]
  },
  {
   "cell_type": "markdown",
   "metadata": {},
   "source": [
    "### 练习"
   ]
  },
  {
   "cell_type": "markdown",
   "metadata": {},
   "source": [
    "#### 数据下载与查看"
   ]
  },
  {
   "cell_type": "code",
   "execution_count": 3,
   "metadata": {},
   "outputs": [
    {
     "name": "stdout",
     "output_type": "stream",
     "text": [
      "Downloading data from http://ai.stanford.edu/~amaas/data/sentiment/aclImdb_v1.tar.gz\n",
      "84131840/84125825 [==============================] - 28s 0us/step\n"
     ]
    },
    {
     "data": {
      "text/plain": [
       "PosixPath('/Users/l-zy16/.keras/datasets/aclImdb')"
      ]
     },
     "execution_count": 3,
     "metadata": {},
     "output_type": "execute_result"
    }
   ],
   "source": [
    "from pathlib import Path\n",
    "\n",
    "DOWNLOAD_ROOT = \"http://ai.stanford.edu/~amaas/data/sentiment/\"\n",
    "FILENAME = \"aclImdb_v1.tar.gz\"\n",
    "filepath = keras.utils.get_file(FILENAME, DOWNLOAD_ROOT + FILENAME, extract=True)\n",
    "path = Path(filepath).parent / \"aclImdb\"\n",
    "path"
   ]
  },
  {
   "cell_type": "code",
   "execution_count": 7,
   "metadata": {},
   "outputs": [
    {
     "data": {
      "text/plain": [
       "PosixPath('/Users/l-zy16/.keras/datasets/aclImdb')"
      ]
     },
     "execution_count": 7,
     "metadata": {},
     "output_type": "execute_result"
    }
   ],
   "source": [
    "path # 一个特殊的path格式"
   ]
  },
  {
   "cell_type": "code",
   "execution_count": 20,
   "metadata": {},
   "outputs": [
    {
     "data": {
      "text/plain": [
       "('/Users/l-zy16/.keras/datasets/aclImdb',\n",
       " ['test', 'train'],\n",
       " ['imdbEr.txt', 'imdb.vocab', 'README'])"
      ]
     },
     "execution_count": 20,
     "metadata": {},
     "output_type": "execute_result"
    }
   ],
   "source": [
    "paths = list(os.walk(path)) \n",
    "# os.walk 将对于path内的文件夹，文件进行依次遍历，逐个对于其进行访问\n",
    "paths[0]"
   ]
  },
  {
   "cell_type": "code",
   "execution_count": 22,
   "metadata": {},
   "outputs": [
    {
     "name": "stdout",
     "output_type": "stream",
     "text": [
      "aclImdb/\n",
      "     README\n",
      "     imdb.vocab\n",
      "     imdbEr.txt\n",
      "     test/\n",
      "          labeledBow.feat\n",
      "          urls_neg.txt\n",
      "          urls_pos.txt\n",
      "          neg/\n",
      "               0_2.txt\n",
      "               10000_4.txt\n",
      "               10001_1.txt\n",
      "               ...\n",
      "          pos/\n",
      "               0_10.txt\n",
      "               10000_7.txt\n",
      "               10001_9.txt\n",
      "               ...\n",
      "     train/\n",
      "          labeledBow.feat\n",
      "          unsupBow.feat\n",
      "          urls_neg.txt\n",
      "          ...\n",
      "          neg/\n",
      "               0_3.txt\n",
      "               10000_4.txt\n",
      "               10001_4.txt\n",
      "               ...\n",
      "          unsup/\n",
      "               0_0.txt\n",
      "               10000_0.txt\n",
      "               10001_0.txt\n",
      "               ...\n",
      "          pos/\n",
      "               0_9.txt\n",
      "               10000_8.txt\n",
      "               10001_10.txt\n",
      "               ...\n"
     ]
    }
   ],
   "source": [
    "for name, subdirs, files in os.walk(path):\n",
    "    indent = len(Path(name).parts) - len(path.parts) # 查看当前访问路径相比path相差了几个层，用空格数量表示\n",
    "    print(\"     \" * indent + Path(name).parts[-1] + os.sep) # 按照层级打印当前文件夹名称\n",
    "    for index, file_name in enumerate(sorted(files)):  # 由于os.walk中会包含当前文件夹中的子文件夹，所以这里只打印文件名称，而不打印文件夹\n",
    "        # 仅仅打印三个文件，多余的用.....代替\n",
    "        if index == 3:\n",
    "            print(\"     \" * (indent + 1) + \"...\")\n",
    "            break\n",
    "        # 打印文件名\n",
    "        print(\"     \" * (indent + 1) + file_name)"
   ]
  },
  {
   "cell_type": "code",
   "execution_count": 26,
   "metadata": {},
   "outputs": [
    {
     "data": {
      "text/plain": [
       "[PosixPath('/Users/l-zy16/.keras/datasets/aclImdb/train/pos/4715_9.txt'),\n",
       " PosixPath('/Users/l-zy16/.keras/datasets/aclImdb/train/pos/12390_8.txt'),\n",
       " PosixPath('/Users/l-zy16/.keras/datasets/aclImdb/train/pos/8329_7.txt'),\n",
       " PosixPath('/Users/l-zy16/.keras/datasets/aclImdb/train/pos/9063_8.txt'),\n",
       " PosixPath('/Users/l-zy16/.keras/datasets/aclImdb/train/pos/3092_10.txt'),\n",
       " PosixPath('/Users/l-zy16/.keras/datasets/aclImdb/train/pos/9865_8.txt'),\n",
       " PosixPath('/Users/l-zy16/.keras/datasets/aclImdb/train/pos/6639_10.txt'),\n",
       " PosixPath('/Users/l-zy16/.keras/datasets/aclImdb/train/pos/10460_10.txt'),\n",
       " PosixPath('/Users/l-zy16/.keras/datasets/aclImdb/train/pos/10331_10.txt'),\n",
       " PosixPath('/Users/l-zy16/.keras/datasets/aclImdb/train/pos/11606_10.txt'),\n",
       " PosixPath('/Users/l-zy16/.keras/datasets/aclImdb/train/pos/6168_10.txt'),\n",
       " PosixPath('/Users/l-zy16/.keras/datasets/aclImdb/train/pos/2712_10.txt'),\n",
       " PosixPath('/Users/l-zy16/.keras/datasets/aclImdb/train/pos/3225_10.txt'),\n",
       " PosixPath('/Users/l-zy16/.keras/datasets/aclImdb/train/pos/3574_10.txt'),\n",
       " PosixPath('/Users/l-zy16/.keras/datasets/aclImdb/train/pos/3192_10.txt'),\n",
       " PosixPath('/Users/l-zy16/.keras/datasets/aclImdb/train/pos/716_10.txt'),\n",
       " PosixPath('/Users/l-zy16/.keras/datasets/aclImdb/train/pos/2612_10.txt'),\n",
       " PosixPath('/Users/l-zy16/.keras/datasets/aclImdb/train/pos/5568_8.txt'),\n",
       " PosixPath('/Users/l-zy16/.keras/datasets/aclImdb/train/pos/6554_7.txt'),\n",
       " PosixPath('/Users/l-zy16/.keras/datasets/aclImdb/train/pos/1807_7.txt'),\n",
       " PosixPath('/Users/l-zy16/.keras/datasets/aclImdb/train/pos/3474_10.txt'),\n",
       " PosixPath('/Users/l-zy16/.keras/datasets/aclImdb/train/pos/11057_10.txt'),\n",
       " PosixPath('/Users/l-zy16/.keras/datasets/aclImdb/train/pos/10231_10.txt'),\n",
       " PosixPath('/Users/l-zy16/.keras/datasets/aclImdb/train/pos/11706_10.txt'),\n",
       " PosixPath('/Users/l-zy16/.keras/datasets/aclImdb/train/pos/11167_9.txt'),\n",
       " PosixPath('/Users/l-zy16/.keras/datasets/aclImdb/train/pos/803_10.txt'),\n",
       " PosixPath('/Users/l-zy16/.keras/datasets/aclImdb/train/pos/5245_8.txt'),\n",
       " PosixPath('/Users/l-zy16/.keras/datasets/aclImdb/train/pos/7935_8.txt'),\n",
       " PosixPath('/Users/l-zy16/.keras/datasets/aclImdb/train/pos/835_8.txt'),\n",
       " PosixPath('/Users/l-zy16/.keras/datasets/aclImdb/train/pos/6970_8.txt'),\n",
       " PosixPath('/Users/l-zy16/.keras/datasets/aclImdb/train/pos/9533_9.txt'),\n",
       " PosixPath('/Users/l-zy16/.keras/datasets/aclImdb/train/pos/5393_10.txt'),\n",
       " PosixPath('/Users/l-zy16/.keras/datasets/aclImdb/train/pos/3384_8.txt'),\n",
       " PosixPath('/Users/l-zy16/.keras/datasets/aclImdb/train/pos/6935_8.txt'),\n",
       " PosixPath('/Users/l-zy16/.keras/datasets/aclImdb/train/pos/4342_10.txt'),\n",
       " PosixPath('/Users/l-zy16/.keras/datasets/aclImdb/train/pos/9576_9.txt'),\n",
       " PosixPath('/Users/l-zy16/.keras/datasets/aclImdb/train/pos/11913_10.txt'),\n",
       " PosixPath('/Users/l-zy16/.keras/datasets/aclImdb/train/pos/5124_10.txt'),\n",
       " PosixPath('/Users/l-zy16/.keras/datasets/aclImdb/train/pos/10961_9.txt'),\n",
       " PosixPath('/Users/l-zy16/.keras/datasets/aclImdb/train/pos/2835_7.txt'),\n",
       " PosixPath('/Users/l-zy16/.keras/datasets/aclImdb/train/pos/9919_9.txt'),\n",
       " PosixPath('/Users/l-zy16/.keras/datasets/aclImdb/train/pos/9177_10.txt'),\n",
       " PosixPath('/Users/l-zy16/.keras/datasets/aclImdb/train/pos/6762_9.txt'),\n",
       " PosixPath('/Users/l-zy16/.keras/datasets/aclImdb/train/pos/12091_8.txt'),\n",
       " PosixPath('/Users/l-zy16/.keras/datasets/aclImdb/train/pos/4414_9.txt'),\n",
       " PosixPath('/Users/l-zy16/.keras/datasets/aclImdb/train/pos/9491_10.txt'),\n",
       " PosixPath('/Users/l-zy16/.keras/datasets/aclImdb/train/pos/6115_10.txt'),\n",
       " PosixPath('/Users/l-zy16/.keras/datasets/aclImdb/train/pos/7422_10.txt'),\n",
       " PosixPath('/Users/l-zy16/.keras/datasets/aclImdb/train/pos/3258_10.txt'),\n",
       " PosixPath('/Users/l-zy16/.keras/datasets/aclImdb/train/pos/6727_9.txt'),\n",
       " PosixPath('/Users/l-zy16/.keras/datasets/aclImdb/train/pos/9327_8.txt'),\n",
       " PosixPath('/Users/l-zy16/.keras/datasets/aclImdb/train/pos/4451_9.txt'),\n",
       " PosixPath('/Users/l-zy16/.keras/datasets/aclImdb/train/pos/3509_10.txt'),\n",
       " PosixPath('/Users/l-zy16/.keras/datasets/aclImdb/train/pos/2389_10.txt'),\n",
       " PosixPath('/Users/l-zy16/.keras/datasets/aclImdb/train/pos/1936_10.txt'),\n",
       " PosixPath('/Users/l-zy16/.keras/datasets/aclImdb/train/pos/6284_7.txt'),\n",
       " PosixPath('/Users/l-zy16/.keras/datasets/aclImdb/train/pos/7727_9.txt'),\n",
       " PosixPath('/Users/l-zy16/.keras/datasets/aclImdb/train/pos/1794_7.txt'),\n",
       " PosixPath('/Users/l-zy16/.keras/datasets/aclImdb/train/pos/2902_9.txt'),\n",
       " PosixPath('/Users/l-zy16/.keras/datasets/aclImdb/train/pos/3409_10.txt'),\n",
       " PosixPath('/Users/l-zy16/.keras/datasets/aclImdb/train/pos/9591_10.txt'),\n",
       " PosixPath('/Users/l-zy16/.keras/datasets/aclImdb/train/pos/2379_8.txt'),\n",
       " PosixPath('/Users/l-zy16/.keras/datasets/aclImdb/train/pos/6655_7.txt'),\n",
       " PosixPath('/Users/l-zy16/.keras/datasets/aclImdb/train/pos/58_9.txt'),\n",
       " PosixPath('/Users/l-zy16/.keras/datasets/aclImdb/train/pos/11773_8.txt'),\n",
       " PosixPath('/Users/l-zy16/.keras/datasets/aclImdb/train/pos/7232_8.txt'),\n",
       " PosixPath('/Users/l-zy16/.keras/datasets/aclImdb/train/pos/8632_9.txt'),\n",
       " PosixPath('/Users/l-zy16/.keras/datasets/aclImdb/train/pos/8898_8.txt'),\n",
       " PosixPath('/Users/l-zy16/.keras/datasets/aclImdb/train/pos/6178_7.txt'),\n",
       " PosixPath('/Users/l-zy16/.keras/datasets/aclImdb/train/pos/9740_7.txt'),\n",
       " PosixPath('/Users/l-zy16/.keras/datasets/aclImdb/train/pos/7849_9.txt'),\n",
       " PosixPath('/Users/l-zy16/.keras/datasets/aclImdb/train/pos/1623_10.txt'),\n",
       " PosixPath('/Users/l-zy16/.keras/datasets/aclImdb/train/pos/8677_9.txt'),\n",
       " PosixPath('/Users/l-zy16/.keras/datasets/aclImdb/train/pos/5708_10.txt'),\n",
       " PosixPath('/Users/l-zy16/.keras/datasets/aclImdb/train/pos/2629_9.txt'),\n",
       " PosixPath('/Users/l-zy16/.keras/datasets/aclImdb/train/pos/11223_9.txt'),\n",
       " PosixPath('/Users/l-zy16/.keras/datasets/aclImdb/train/pos/7980_10.txt'),\n",
       " PosixPath('/Users/l-zy16/.keras/datasets/aclImdb/train/pos/12480_10.txt'),\n",
       " PosixPath('/Users/l-zy16/.keras/datasets/aclImdb/train/pos/10266_9.txt'),\n",
       " PosixPath('/Users/l-zy16/.keras/datasets/aclImdb/train/pos/3454_8.txt'),\n",
       " PosixPath('/Users/l-zy16/.keras/datasets/aclImdb/train/pos/4907_8.txt'),\n",
       " PosixPath('/Users/l-zy16/.keras/datasets/aclImdb/train/pos/1988_9.txt'),\n",
       " PosixPath('/Users/l-zy16/.keras/datasets/aclImdb/train/pos/6951_10.txt'),\n",
       " PosixPath('/Users/l-zy16/.keras/datasets/aclImdb/train/pos/12166_10.txt'),\n",
       " PosixPath('/Users/l-zy16/.keras/datasets/aclImdb/train/pos/5159_10.txt'),\n",
       " PosixPath('/Users/l-zy16/.keras/datasets/aclImdb/train/pos/10858_8.txt'),\n",
       " PosixPath('/Users/l-zy16/.keras/datasets/aclImdb/train/pos/9677_9.txt'),\n",
       " PosixPath('/Users/l-zy16/.keras/datasets/aclImdb/train/pos/1767_8.txt'),\n",
       " PosixPath('/Users/l-zy16/.keras/datasets/aclImdb/train/pos/4101_8.txt'),\n",
       " PosixPath('/Users/l-zy16/.keras/datasets/aclImdb/train/pos/1072_10.txt'),\n",
       " PosixPath('/Users/l-zy16/.keras/datasets/aclImdb/train/pos/2221_8.txt'),\n",
       " PosixPath('/Users/l-zy16/.keras/datasets/aclImdb/train/pos/7447_8.txt'),\n",
       " PosixPath('/Users/l-zy16/.keras/datasets/aclImdb/train/pos/8047_9.txt'),\n",
       " PosixPath('/Users/l-zy16/.keras/datasets/aclImdb/train/pos/3928_7.txt'),\n",
       " PosixPath('/Users/l-zy16/.keras/datasets/aclImdb/train/pos/1640_10.txt'),\n",
       " PosixPath('/Users/l-zy16/.keras/datasets/aclImdb/train/pos/2919_10.txt'),\n",
       " PosixPath('/Users/l-zy16/.keras/datasets/aclImdb/train/pos/1111_10.txt'),\n",
       " PosixPath('/Users/l-zy16/.keras/datasets/aclImdb/train/pos/11881_9.txt'),\n",
       " PosixPath('/Users/l-zy16/.keras/datasets/aclImdb/train/pos/12005_10.txt'),\n",
       " PosixPath('/Users/l-zy16/.keras/datasets/aclImdb/train/pos/6832_10.txt'),\n",
       " PosixPath('/Users/l-zy16/.keras/datasets/aclImdb/train/pos/9976_7.txt'),\n",
       " PosixPath('/Users/l-zy16/.keras/datasets/aclImdb/train/pos/7402_8.txt'),\n",
       " PosixPath('/Users/l-zy16/.keras/datasets/aclImdb/train/pos/5774_8.txt'),\n",
       " PosixPath('/Users/l-zy16/.keras/datasets/aclImdb/train/pos/6399_7.txt'),\n",
       " PosixPath('/Users/l-zy16/.keras/datasets/aclImdb/train/pos/72_7.txt'),\n",
       " PosixPath('/Users/l-zy16/.keras/datasets/aclImdb/train/pos/8976_7.txt'),\n",
       " PosixPath('/Users/l-zy16/.keras/datasets/aclImdb/train/pos/12105_10.txt'),\n",
       " PosixPath('/Users/l-zy16/.keras/datasets/aclImdb/train/pos/6447_8.txt'),\n",
       " PosixPath('/Users/l-zy16/.keras/datasets/aclImdb/train/pos/2819_10.txt'),\n",
       " PosixPath('/Users/l-zy16/.keras/datasets/aclImdb/train/pos/1011_10.txt'),\n",
       " PosixPath('/Users/l-zy16/.keras/datasets/aclImdb/train/pos/4731_8.txt'),\n",
       " PosixPath('/Users/l-zy16/.keras/datasets/aclImdb/train/pos/6890_8.txt'),\n",
       " PosixPath('/Users/l-zy16/.keras/datasets/aclImdb/train/pos/8933_7.txt'),\n",
       " PosixPath('/Users/l-zy16/.keras/datasets/aclImdb/train/pos/8170_7.txt'),\n",
       " PosixPath('/Users/l-zy16/.keras/datasets/aclImdb/train/pos/648_7.txt'),\n",
       " PosixPath('/Users/l-zy16/.keras/datasets/aclImdb/train/pos/3264_8.txt'),\n",
       " PosixPath('/Users/l-zy16/.keras/datasets/aclImdb/train/pos/6402_8.txt'),\n",
       " PosixPath('/Users/l-zy16/.keras/datasets/aclImdb/train/pos/9002_9.txt'),\n",
       " PosixPath('/Users/l-zy16/.keras/datasets/aclImdb/train/pos/11524_7.txt'),\n",
       " PosixPath('/Users/l-zy16/.keras/datasets/aclImdb/train/pos/1112_8.txt'),\n",
       " PosixPath('/Users/l-zy16/.keras/datasets/aclImdb/train/pos/10900_8.txt'),\n",
       " PosixPath('/Users/l-zy16/.keras/datasets/aclImdb/train/pos/3549_8.txt'),\n",
       " PosixPath('/Users/l-zy16/.keras/datasets/aclImdb/train/pos/11149_10.txt'),\n",
       " PosixPath('/Users/l-zy16/.keras/datasets/aclImdb/train/pos/5313_7.txt'),\n",
       " PosixPath('/Users/l-zy16/.keras/datasets/aclImdb/train/pos/165_7.txt'),\n",
       " PosixPath('/Users/l-zy16/.keras/datasets/aclImdb/train/pos/926_7.txt'),\n",
       " PosixPath('/Users/l-zy16/.keras/datasets/aclImdb/train/pos/8694_10.txt'),\n",
       " PosixPath('/Users/l-zy16/.keras/datasets/aclImdb/train/pos/10143_8.txt'),\n",
       " PosixPath('/Users/l-zy16/.keras/datasets/aclImdb/train/pos/4059_8.txt'),\n",
       " PosixPath('/Users/l-zy16/.keras/datasets/aclImdb/train/pos/7065_7.txt'),\n",
       " PosixPath('/Users/l-zy16/.keras/datasets/aclImdb/train/pos/10592_8.txt'),\n",
       " PosixPath('/Users/l-zy16/.keras/datasets/aclImdb/train/pos/4261_9.txt'),\n",
       " PosixPath('/Users/l-zy16/.keras/datasets/aclImdb/train/pos/8372_10.txt'),\n",
       " PosixPath('/Users/l-zy16/.keras/datasets/aclImdb/train/pos/6490_10.txt'),\n",
       " PosixPath('/Users/l-zy16/.keras/datasets/aclImdb/train/pos/10106_8.txt'),\n",
       " PosixPath('/Users/l-zy16/.keras/datasets/aclImdb/train/pos/9114_10.txt'),\n",
       " PosixPath('/Users/l-zy16/.keras/datasets/aclImdb/train/pos/3734_9.txt'),\n",
       " PosixPath('/Users/l-zy16/.keras/datasets/aclImdb/train/pos/9552_8.txt'),\n",
       " PosixPath('/Users/l-zy16/.keras/datasets/aclImdb/train/pos/2297_7.txt'),\n",
       " PosixPath('/Users/l-zy16/.keras/datasets/aclImdb/train/pos/159_10.txt'),\n",
       " PosixPath('/Users/l-zy16/.keras/datasets/aclImdb/train/pos/8517_8.txt'),\n",
       " PosixPath('/Users/l-zy16/.keras/datasets/aclImdb/train/pos/854_9.txt'),\n",
       " PosixPath('/Users/l-zy16/.keras/datasets/aclImdb/train/pos/2198_8.txt'),\n",
       " PosixPath('/Users/l-zy16/.keras/datasets/aclImdb/train/pos/2549_8.txt'),\n",
       " PosixPath('/Users/l-zy16/.keras/datasets/aclImdb/train/pos/11900_8.txt'),\n",
       " PosixPath('/Users/l-zy16/.keras/datasets/aclImdb/train/pos/10209_7.txt'),\n",
       " PosixPath('/Users/l-zy16/.keras/datasets/aclImdb/train/pos/11718_10.txt'),\n",
       " PosixPath('/Users/l-zy16/.keras/datasets/aclImdb/train/pos/7541_10.txt'),\n",
       " PosixPath('/Users/l-zy16/.keras/datasets/aclImdb/train/pos/3603_7.txt'),\n",
       " PosixPath('/Users/l-zy16/.keras/datasets/aclImdb/train/pos/7152_9.txt'),\n",
       " PosixPath('/Users/l-zy16/.keras/datasets/aclImdb/train/pos/2734_9.txt'),\n",
       " PosixPath('/Users/l-zy16/.keras/datasets/aclImdb/train/pos/6863_7.txt'),\n",
       " PosixPath('/Users/l-zy16/.keras/datasets/aclImdb/train/pos/9014_10.txt'),\n",
       " PosixPath('/Users/l-zy16/.keras/datasets/aclImdb/train/pos/10098_10.txt'),\n",
       " PosixPath('/Users/l-zy16/.keras/datasets/aclImdb/train/pos/6020_7.txt'),\n",
       " PosixPath('/Users/l-zy16/.keras/datasets/aclImdb/train/pos/5608_9.txt'),\n",
       " PosixPath('/Users/l-zy16/.keras/datasets/aclImdb/train/pos/7397_8.txt'),\n",
       " PosixPath('/Users/l-zy16/.keras/datasets/aclImdb/train/pos/2963_8.txt'),\n",
       " PosixPath('/Users/l-zy16/.keras/datasets/aclImdb/train/pos/4570_10.txt'),\n",
       " PosixPath('/Users/l-zy16/.keras/datasets/aclImdb/train/pos/11870_10.txt'),\n",
       " PosixPath('/Users/l-zy16/.keras/datasets/aclImdb/train/pos/2120_8.txt'),\n",
       " PosixPath('/Users/l-zy16/.keras/datasets/aclImdb/train/pos/8346_9.txt'),\n",
       " PosixPath('/Users/l-zy16/.keras/datasets/aclImdb/train/pos/11757_9.txt'),\n",
       " PosixPath('/Users/l-zy16/.keras/datasets/aclImdb/train/pos/4096_10.txt'),\n",
       " PosixPath('/Users/l-zy16/.keras/datasets/aclImdb/train/pos/2926_8.txt'),\n",
       " PosixPath('/Users/l-zy16/.keras/datasets/aclImdb/train/pos/5475_8.txt'),\n",
       " PosixPath('/Users/l-zy16/.keras/datasets/aclImdb/train/pos/10625_7.txt'),\n",
       " PosixPath('/Users/l-zy16/.keras/datasets/aclImdb/train/pos/7703_8.txt'),\n",
       " PosixPath('/Users/l-zy16/.keras/datasets/aclImdb/train/pos/1256_8.txt'),\n",
       " PosixPath('/Users/l-zy16/.keras/datasets/aclImdb/train/pos/4430_8.txt'),\n",
       " PosixPath('/Users/l-zy16/.keras/datasets/aclImdb/train/pos/11660_7.txt'),\n",
       " PosixPath('/Users/l-zy16/.keras/datasets/aclImdb/train/pos/11970_10.txt'),\n",
       " PosixPath('/Users/l-zy16/.keras/datasets/aclImdb/train/pos/6746_8.txt'),\n",
       " PosixPath('/Users/l-zy16/.keras/datasets/aclImdb/train/pos/3120_8.txt'),\n",
       " PosixPath('/Users/l-zy16/.keras/datasets/aclImdb/train/pos/8234_7.txt'),\n",
       " PosixPath('/Users/l-zy16/.keras/datasets/aclImdb/train/pos/6397_8.txt'),\n",
       " PosixPath('/Users/l-zy16/.keras/datasets/aclImdb/train/pos/4608_9.txt'),\n",
       " PosixPath('/Users/l-zy16/.keras/datasets/aclImdb/train/pos/3318_9.txt'),\n",
       " PosixPath('/Users/l-zy16/.keras/datasets/aclImdb/train/pos/4475_8.txt'),\n",
       " PosixPath('/Users/l-zy16/.keras/datasets/aclImdb/train/pos/11625_7.txt'),\n",
       " PosixPath('/Users/l-zy16/.keras/datasets/aclImdb/train/pos/6703_8.txt'),\n",
       " PosixPath('/Users/l-zy16/.keras/datasets/aclImdb/train/pos/9978_8.txt'),\n",
       " PosixPath('/Users/l-zy16/.keras/datasets/aclImdb/train/pos/1706_9.txt'),\n",
       " PosixPath('/Users/l-zy16/.keras/datasets/aclImdb/train/pos/4160_9.txt'),\n",
       " PosixPath('/Users/l-zy16/.keras/datasets/aclImdb/train/pos/10352_10.txt'),\n",
       " PosixPath('/Users/l-zy16/.keras/datasets/aclImdb/train/pos/9616_8.txt'),\n",
       " PosixPath('/Users/l-zy16/.keras/datasets/aclImdb/train/pos/10693_8.txt'),\n",
       " PosixPath('/Users/l-zy16/.keras/datasets/aclImdb/train/pos/7364_7.txt'),\n",
       " PosixPath('/Users/l-zy16/.keras/datasets/aclImdb/train/pos/10242_8.txt'),\n",
       " PosixPath('/Users/l-zy16/.keras/datasets/aclImdb/train/pos/264_7.txt'),\n",
       " PosixPath('/Users/l-zy16/.keras/datasets/aclImdb/train/pos/3648_8.txt'),\n",
       " PosixPath('/Users/l-zy16/.keras/datasets/aclImdb/train/pos/12134_8.txt'),\n",
       " PosixPath('/Users/l-zy16/.keras/datasets/aclImdb/train/pos/1743_9.txt'),\n",
       " PosixPath('/Users/l-zy16/.keras/datasets/aclImdb/train/pos/9282_8.txt'),\n",
       " PosixPath('/Users/l-zy16/.keras/datasets/aclImdb/train/pos/124_10.txt'),\n",
       " PosixPath('/Users/l-zy16/.keras/datasets/aclImdb/train/pos/4851_7.txt'),\n",
       " PosixPath('/Users/l-zy16/.keras/datasets/aclImdb/train/pos/1928_10.txt'),\n",
       " PosixPath('/Users/l-zy16/.keras/datasets/aclImdb/train/pos/3417_10.txt'),\n",
       " PosixPath('/Users/l-zy16/.keras/datasets/aclImdb/train/pos/2648_8.txt'),\n",
       " PosixPath('/Users/l-zy16/.keras/datasets/aclImdb/train/pos/10503_10.txt'),\n",
       " PosixPath('/Users/l-zy16/.keras/datasets/aclImdb/train/pos/5803_10.txt'),\n",
       " PosixPath('/Users/l-zy16/.keras/datasets/aclImdb/train/pos/11839_9.txt'),\n",
       " PosixPath('/Users/l-zy16/.keras/datasets/aclImdb/train/pos/8616_8.txt'),\n",
       " PosixPath('/Users/l-zy16/.keras/datasets/aclImdb/train/pos/6321_7.txt'),\n",
       " PosixPath('/Users/l-zy16/.keras/datasets/aclImdb/train/pos/65_10.txt'),\n",
       " PosixPath('/Users/l-zy16/.keras/datasets/aclImdb/train/pos/782_9.txt'),\n",
       " PosixPath('/Users/l-zy16/.keras/datasets/aclImdb/train/pos/4057_7.txt'),\n",
       " PosixPath('/Users/l-zy16/.keras/datasets/aclImdb/train/pos/353_9.txt'),\n",
       " PosixPath('/Users/l-zy16/.keras/datasets/aclImdb/train/pos/4486_7.txt'),\n",
       " PosixPath('/Users/l-zy16/.keras/datasets/aclImdb/train/pos/7994_9.txt'),\n",
       " PosixPath('/Users/l-zy16/.keras/datasets/aclImdb/train/pos/2151_10.txt'),\n",
       " PosixPath('/Users/l-zy16/.keras/datasets/aclImdb/train/pos/894_9.txt'),\n",
       " PosixPath('/Users/l-zy16/.keras/datasets/aclImdb/train/pos/2600_10.txt'),\n",
       " PosixPath('/Users/l-zy16/.keras/datasets/aclImdb/train/pos/3212_7.txt'),\n",
       " PosixPath('/Users/l-zy16/.keras/datasets/aclImdb/train/pos/10223_10.txt'),\n",
       " PosixPath('/Users/l-zy16/.keras/datasets/aclImdb/train/pos/11714_10.txt'),\n",
       " PosixPath('/Users/l-zy16/.keras/datasets/aclImdb/train/pos/1121_7.txt'),\n",
       " PosixPath('/Users/l-zy16/.keras/datasets/aclImdb/train/pos/704_10.txt'),\n",
       " PosixPath('/Users/l-zy16/.keras/datasets/aclImdb/train/pos/14_10.txt'),\n",
       " PosixPath('/Users/l-zy16/.keras/datasets/aclImdb/train/pos/9209_7.txt'),\n",
       " PosixPath('/Users/l-zy16/.keras/datasets/aclImdb/train/pos/1855_9.txt'),\n",
       " PosixPath('/Users/l-zy16/.keras/datasets/aclImdb/train/pos/4099_8.txt'),\n",
       " PosixPath('/Users/l-zy16/.keras/datasets/aclImdb/train/pos/10323_10.txt'),\n",
       " PosixPath('/Users/l-zy16/.keras/datasets/aclImdb/train/pos/8698_10.txt'),\n",
       " PosixPath('/Users/l-zy16/.keras/datasets/aclImdb/train/pos/4670_9.txt'),\n",
       " PosixPath('/Users/l-zy16/.keras/datasets/aclImdb/train/pos/3589_8.txt'),\n",
       " PosixPath('/Users/l-zy16/.keras/datasets/aclImdb/train/pos/9945_8.txt'),\n",
       " PosixPath('/Users/l-zy16/.keras/datasets/aclImdb/train/pos/574_7.txt'),\n",
       " PosixPath('/Users/l-zy16/.keras/datasets/aclImdb/train/pos/3158_8.txt'),\n",
       " PosixPath('/Users/l-zy16/.keras/datasets/aclImdb/train/pos/2700_10.txt'),\n",
       " PosixPath('/Users/l-zy16/.keras/datasets/aclImdb/train/pos/9118_10.txt'),\n",
       " PosixPath('/Users/l-zy16/.keras/datasets/aclImdb/train/pos/6543_9.txt'),\n",
       " PosixPath('/Users/l-zy16/.keras/datasets/aclImdb/train/pos/10194_10.txt'),\n",
       " PosixPath('/Users/l-zy16/.keras/datasets/aclImdb/train/pos/3080_10.txt'),\n",
       " PosixPath('/Users/l-zy16/.keras/datasets/aclImdb/train/pos/155_10.txt'),\n",
       " PosixPath('/Users/l-zy16/.keras/datasets/aclImdb/train/pos/12088_9.txt'),\n",
       " PosixPath('/Users/l-zy16/.keras/datasets/aclImdb/train/pos/6192_9.txt'),\n",
       " PosixPath('/Users/l-zy16/.keras/datasets/aclImdb/train/pos/9592_8.txt'),\n",
       " PosixPath('/Users/l-zy16/.keras/datasets/aclImdb/train/pos/10517_8.txt'),\n",
       " PosixPath('/Users/l-zy16/.keras/datasets/aclImdb/train/pos/2257_7.txt'),\n",
       " PosixPath('/Users/l-zy16/.keras/datasets/aclImdb/train/pos/5136_10.txt'),\n",
       " PosixPath('/Users/l-zy16/.keras/datasets/aclImdb/train/pos/4320_8.txt'),\n",
       " PosixPath('/Users/l-zy16/.keras/datasets/aclImdb/train/pos/1546_8.txt'),\n",
       " PosixPath('/Users/l-zy16/.keras/datasets/aclImdb/train/pos/6815_8.txt'),\n",
       " PosixPath('/Users/l-zy16/.keras/datasets/aclImdb/train/pos/4350_10.txt'),\n",
       " PosixPath('/Users/l-zy16/.keras/datasets/aclImdb/train/pos/5667_10.txt'),\n",
       " PosixPath('/Users/l-zy16/.keras/datasets/aclImdb/train/pos/12109_10.txt'),\n",
       " PosixPath('/Users/l-zy16/.keras/datasets/aclImdb/train/pos/2815_10.txt'),\n",
       " PosixPath('/Users/l-zy16/.keras/datasets/aclImdb/train/pos/9413_9.txt'),\n",
       " PosixPath('/Users/l-zy16/.keras/datasets/aclImdb/train/pos/911_10.txt'),\n",
       " PosixPath('/Users/l-zy16/.keras/datasets/aclImdb/train/pos/11841_9.txt'),\n",
       " PosixPath('/Users/l-zy16/.keras/datasets/aclImdb/train/pos/7487_8.txt'),\n",
       " PosixPath('/Users/l-zy16/.keras/datasets/aclImdb/train/pos/2630_8.txt'),\n",
       " PosixPath('/Users/l-zy16/.keras/datasets/aclImdb/train/pos/156_8.txt'),\n",
       " PosixPath('/Users/l-zy16/.keras/datasets/aclImdb/train/pos/7815_8.txt'),\n",
       " PosixPath('/Users/l-zy16/.keras/datasets/aclImdb/train/pos/12009_10.txt'),\n",
       " PosixPath('/Users/l-zy16/.keras/datasets/aclImdb/train/pos/811_10.txt'),\n",
       " PosixPath('/Users/l-zy16/.keras/datasets/aclImdb/train/pos/11047_9.txt'),\n",
       " PosixPath('/Users/l-zy16/.keras/datasets/aclImdb/train/pos/1298_7.txt'),\n",
       " PosixPath('/Users/l-zy16/.keras/datasets/aclImdb/train/pos/5281_10.txt'),\n",
       " PosixPath('/Users/l-zy16/.keras/datasets/aclImdb/train/pos/10135_7.txt'),\n",
       " PosixPath('/Users/l-zy16/.keras/datasets/aclImdb/train/pos/7850_8.txt'),\n",
       " PosixPath('/Users/l-zy16/.keras/datasets/aclImdb/train/pos/2688_8.txt'),\n",
       " PosixPath('/Users/l-zy16/.keras/datasets/aclImdb/train/pos/1924_10.txt'),\n",
       " PosixPath('/Users/l-zy16/.keras/datasets/aclImdb/train/pos/5398_8.txt'),\n",
       " PosixPath('/Users/l-zy16/.keras/datasets/aclImdb/train/pos/2061_9.txt'),\n",
       " PosixPath('/Users/l-zy16/.keras/datasets/aclImdb/train/pos/3950_7.txt'),\n",
       " PosixPath('/Users/l-zy16/.keras/datasets/aclImdb/train/pos/11038_10.txt'),\n",
       " PosixPath('/Users/l-zy16/.keras/datasets/aclImdb/train/pos/6756_10.txt'),\n",
       " PosixPath('/Users/l-zy16/.keras/datasets/aclImdb/train/pos/779_10.txt'),\n",
       " PosixPath('/Users/l-zy16/.keras/datasets/aclImdb/train/pos/742_9.txt'),\n",
       " PosixPath('/Users/l-zy16/.keras/datasets/aclImdb/train/pos/69_10.txt'),\n",
       " PosixPath('/Users/l-zy16/.keras/datasets/aclImdb/train/pos/2024_9.txt'),\n",
       " PosixPath('/Users/l-zy16/.keras/datasets/aclImdb/train/pos/7642_9.txt'),\n",
       " PosixPath('/Users/l-zy16/.keras/datasets/aclImdb/train/pos/8242_8.txt'),\n",
       " PosixPath('/Users/l-zy16/.keras/datasets/aclImdb/train/pos/9065_10.txt'),\n",
       " PosixPath('/Users/l-zy16/.keras/datasets/aclImdb/train/pos/7787_10.txt'),\n",
       " PosixPath('/Users/l-zy16/.keras/datasets/aclImdb/train/pos/11616_8.txt'),\n",
       " PosixPath('/Users/l-zy16/.keras/datasets/aclImdb/train/pos/7430_10.txt'),\n",
       " PosixPath('/Users/l-zy16/.keras/datasets/aclImdb/train/pos/4749_8.txt'),\n",
       " PosixPath('/Users/l-zy16/.keras/datasets/aclImdb/train/pos/7361_10.txt'),\n",
       " PosixPath('/Users/l-zy16/.keras/datasets/aclImdb/train/pos/6656_10.txt'),\n",
       " PosixPath('/Users/l-zy16/.keras/datasets/aclImdb/train/pos/11138_10.txt'),\n",
       " PosixPath('/Users/l-zy16/.keras/datasets/aclImdb/train/pos/9483_10.txt'),\n",
       " PosixPath('/Users/l-zy16/.keras/datasets/aclImdb/train/pos/3688_8.txt'),\n",
       " PosixPath('/Users/l-zy16/.keras/datasets/aclImdb/train/pos/4571_9.txt'),\n",
       " PosixPath('/Users/l-zy16/.keras/datasets/aclImdb/train/pos/6607_9.txt'),\n",
       " PosixPath('/Users/l-zy16/.keras/datasets/aclImdb/train/pos/10282_8.txt'),\n",
       " PosixPath('/Users/l-zy16/.keras/datasets/aclImdb/train/pos/7730_7.txt'),\n",
       " PosixPath('/Users/l-zy16/.keras/datasets/aclImdb/train/pos/9693_8.txt'),\n",
       " PosixPath('/Users/l-zy16/.keras/datasets/aclImdb/train/pos/9165_10.txt'),\n",
       " PosixPath('/Users/l-zy16/.keras/datasets/aclImdb/train/pos/8303_10.txt'),\n",
       " PosixPath('/Users/l-zy16/.keras/datasets/aclImdb/train/pos/2915_7.txt'),\n",
       " PosixPath('/Users/l-zy16/.keras/datasets/aclImdb/train/pos/4534_9.txt'),\n",
       " PosixPath('/Users/l-zy16/.keras/datasets/aclImdb/train/pos/679_10.txt'),\n",
       " PosixPath('/Users/l-zy16/.keras/datasets/aclImdb/train/pos/3024_9.txt'),\n",
       " PosixPath('/Users/l-zy16/.keras/datasets/aclImdb/train/pos/8625_7.txt'),\n",
       " PosixPath('/Users/l-zy16/.keras/datasets/aclImdb/train/pos/1060_10.txt'),\n",
       " PosixPath('/Users/l-zy16/.keras/datasets/aclImdb/train/pos/1731_10.txt'),\n",
       " PosixPath('/Users/l-zy16/.keras/datasets/aclImdb/train/pos/11271_7.txt'),\n",
       " PosixPath('/Users/l-zy16/.keras/datasets/aclImdb/train/pos/8660_7.txt'),\n",
       " PosixPath('/Users/l-zy16/.keras/datasets/aclImdb/train/pos/10346_9.txt'),\n",
       " PosixPath('/Users/l-zy16/.keras/datasets/aclImdb/train/pos/7489_7.txt'),\n",
       " PosixPath('/Users/l-zy16/.keras/datasets/aclImdb/train/pos/12030_9.txt'),\n",
       " PosixPath('/Users/l-zy16/.keras/datasets/aclImdb/train/pos/12208_8.txt'),\n",
       " PosixPath('/Users/l-zy16/.keras/datasets/aclImdb/train/pos/1160_10.txt'),\n",
       " PosixPath('/Users/l-zy16/.keras/datasets/aclImdb/train/pos/2968_10.txt'),\n",
       " PosixPath('/Users/l-zy16/.keras/datasets/aclImdb/train/pos/5862_8.txt'),\n",
       " PosixPath('/Users/l-zy16/.keras/datasets/aclImdb/train/pos/11303_9.txt'),\n",
       " PosixPath('/Users/l-zy16/.keras/datasets/aclImdb/train/pos/7786_8.txt'),\n",
       " PosixPath('/Users/l-zy16/.keras/datasets/aclImdb/train/pos/8386_9.txt'),\n",
       " PosixPath('/Users/l-zy16/.keras/datasets/aclImdb/train/pos/12074_10.txt'),\n",
       " PosixPath('/Users/l-zy16/.keras/datasets/aclImdb/train/pos/5064_8.txt'),\n",
       " PosixPath('/Users/l-zy16/.keras/datasets/aclImdb/train/pos/9961_9.txt'),\n",
       " PosixPath('/Users/l-zy16/.keras/datasets/aclImdb/train/pos/12438_8.txt'),\n",
       " PosixPath('/Users/l-zy16/.keras/datasets/aclImdb/train/pos/5679_10.txt'),\n",
       " PosixPath('/Users/l-zy16/.keras/datasets/aclImdb/train/pos/1003_10.txt'),\n",
       " PosixPath('/Users/l-zy16/.keras/datasets/aclImdb/train/pos/9924_9.txt'),\n",
       " PosixPath('/Users/l-zy16/.keras/datasets/aclImdb/train/pos/1077_8.txt'),\n",
       " PosixPath('/Users/l-zy16/.keras/datasets/aclImdb/train/pos/1834_8.txt'),\n",
       " PosixPath('/Users/l-zy16/.keras/datasets/aclImdb/train/pos/8961_9.txt'),\n",
       " PosixPath('/Users/l-zy16/.keras/datasets/aclImdb/train/pos/5654_8.txt'),\n",
       " PosixPath('/Users/l-zy16/.keras/datasets/aclImdb/train/pos/7522_8.txt'),\n",
       " PosixPath('/Users/l-zy16/.keras/datasets/aclImdb/train/pos/1103_10.txt'),\n",
       " PosixPath('/Users/l-zy16/.keras/datasets/aclImdb/train/pos/20_9.txt'),\n",
       " PosixPath('/Users/l-zy16/.keras/datasets/aclImdb/train/pos/1652_10.txt'),\n",
       " PosixPath('/Users/l-zy16/.keras/datasets/aclImdb/train/pos/5028_10.txt'),\n",
       " PosixPath('/Users/l-zy16/.keras/datasets/aclImdb/train/pos/2139_9.txt'),\n",
       " PosixPath('/Users/l-zy16/.keras/datasets/aclImdb/train/pos/5779_10.txt'),\n",
       " PosixPath('/Users/l-zy16/.keras/datasets/aclImdb/train/pos/2614_9.txt'),\n",
       " PosixPath('/Users/l-zy16/.keras/datasets/aclImdb/train/pos/7072_9.txt'),\n",
       " PosixPath('/Users/l-zy16/.keras/datasets/aclImdb/train/pos/7553_10.txt'),\n",
       " PosixPath('/Users/l-zy16/.keras/datasets/aclImdb/train/pos/11820_8.txt'),\n",
       " PosixPath('/Users/l-zy16/.keras/datasets/aclImdb/train/pos/4233_7.txt'),\n",
       " PosixPath('/Users/l-zy16/.keras/datasets/aclImdb/train/pos/1455_7.txt'),\n",
       " PosixPath('/Users/l-zy16/.keras/datasets/aclImdb/train/pos/9657_10.txt'),\n",
       " PosixPath('/Users/l-zy16/.keras/datasets/aclImdb/train/pos/6482_10.txt'),\n",
       " PosixPath('/Users/l-zy16/.keras/datasets/aclImdb/train/pos/4304_9.txt'),\n",
       " PosixPath('/Users/l-zy16/.keras/datasets/aclImdb/train/pos/6831_9.txt'),\n",
       " PosixPath('/Users/l-zy16/.keras/datasets/aclImdb/train/pos/9472_8.txt'),\n",
       " PosixPath('/Users/l-zy16/.keras/datasets/aclImdb/train/pos/7453_10.txt'),\n",
       " PosixPath('/Users/l-zy16/.keras/datasets/aclImdb/train/pos/2723_7.txt'),\n",
       " PosixPath('/Users/l-zy16/.keras/datasets/aclImdb/train/pos/6635_10.txt'),\n",
       " PosixPath('/Users/l-zy16/.keras/datasets/aclImdb/train/pos/7302_10.txt'),\n",
       " PosixPath('/Users/l-zy16/.keras/datasets/aclImdb/train/pos/7906_7.txt'),\n",
       " PosixPath('/Users/l-zy16/.keras/datasets/aclImdb/train/pos/1847_10.txt'),\n",
       " PosixPath('/Users/l-zy16/.keras/datasets/aclImdb/train/pos/11705_7.txt'),\n",
       " PosixPath('/Users/l-zy16/.keras/datasets/aclImdb/train/pos/9223_9.txt'),\n",
       " PosixPath('/Users/l-zy16/.keras/datasets/aclImdb/train/pos/469_7.txt'),\n",
       " PosixPath('/Users/l-zy16/.keras/datasets/aclImdb/train/pos/3806_8.txt'),\n",
       " PosixPath('/Users/l-zy16/.keras/datasets/aclImdb/train/pos/4184_8.txt'),\n",
       " PosixPath('/Users/l-zy16/.keras/datasets/aclImdb/train/pos/3000_8.txt'),\n",
       " PosixPath('/Users/l-zy16/.keras/datasets/aclImdb/train/pos/9266_9.txt'),\n",
       " PosixPath('/Users/l-zy16/.keras/datasets/aclImdb/train/pos/4333_10.txt'),\n",
       " PosixPath('/Users/l-zy16/.keras/datasets/aclImdb/train/pos/3238_9.txt'),\n",
       " PosixPath('/Users/l-zy16/.keras/datasets/aclImdb/train/pos/2876_10.txt'),\n",
       " PosixPath('/Users/l-zy16/.keras/datasets/aclImdb/train/pos/10705_7.txt'),\n",
       " PosixPath('/Users/l-zy16/.keras/datasets/aclImdb/train/pos/1079_7.txt'),\n",
       " PosixPath('/Users/l-zy16/.keras/datasets/aclImdb/train/pos/8223_9.txt'),\n",
       " PosixPath('/Users/l-zy16/.keras/datasets/aclImdb/train/pos/6569_7.txt'),\n",
       " PosixPath('/Users/l-zy16/.keras/datasets/aclImdb/train/pos/723_8.txt'),\n",
       " PosixPath('/Users/l-zy16/.keras/datasets/aclImdb/train/pos/989_9.txt'),\n",
       " PosixPath('/Users/l-zy16/.keras/datasets/aclImdb/train/pos/2238_9.txt'),\n",
       " PosixPath('/Users/l-zy16/.keras/datasets/aclImdb/train/pos/11898_8.txt'),\n",
       " PosixPath('/Users/l-zy16/.keras/datasets/aclImdb/train/pos/2976_10.txt'),\n",
       " PosixPath('/Users/l-zy16/.keras/datasets/aclImdb/train/pos/11862_10.txt'),\n",
       " PosixPath('/Users/l-zy16/.keras/datasets/aclImdb/train/pos/12436_7.txt'),\n",
       " PosixPath('/Users/l-zy16/.keras/datasets/aclImdb/train/pos/3467_7.txt'),\n",
       " PosixPath('/Users/l-zy16/.keras/datasets/aclImdb/train/pos/8773_8.txt'),\n",
       " PosixPath('/Users/l-zy16/.keras/datasets/aclImdb/train/pos/273_9.txt'),\n",
       " PosixPath('/Users/l-zy16/.keras/datasets/aclImdb/train/pos/11291_10.txt'),\n",
       " PosixPath('/Users/l-zy16/.keras/datasets/aclImdb/train/pos/4132_7.txt'),\n",
       " PosixPath('/Users/l-zy16/.keras/datasets/aclImdb/train/pos/2768_8.txt'),\n",
       " PosixPath('/Users/l-zy16/.keras/datasets/aclImdb/train/pos/4971_7.txt'),\n",
       " PosixPath('/Users/l-zy16/.keras/datasets/aclImdb/train/pos/281_10.txt'),\n",
       " PosixPath('/Users/l-zy16/.keras/datasets/aclImdb/train/pos/3354_10.txt'),\n",
       " PosixPath('/Users/l-zy16/.keras/datasets/aclImdb/train/pos/2663_10.txt'),\n",
       " PosixPath('/Users/l-zy16/.keras/datasets/aclImdb/train/pos/2550_9.txt'),\n",
       " PosixPath('/Users/l-zy16/.keras/datasets/aclImdb/train/pos/5040_9.txt'),\n",
       " PosixPath('/Users/l-zy16/.keras/datasets/aclImdb/train/pos/236_9.txt'),\n",
       " PosixPath('/Users/l-zy16/.keras/datasets/aclImdb/train/pos/7699_10.txt'),\n",
       " PosixPath('/Users/l-zy16/.keras/datasets/aclImdb/train/pos/1663_9.txt'),\n",
       " PosixPath('/Users/l-zy16/.keras/datasets/aclImdb/train/pos/2285_10.txt'),\n",
       " PosixPath('/Users/l-zy16/.keras/datasets/aclImdb/train/pos/136_10.txt'),\n",
       " PosixPath('/Users/l-zy16/.keras/datasets/aclImdb/train/pos/9736_8.txt'),\n",
       " PosixPath('/Users/l-zy16/.keras/datasets/aclImdb/train/pos/11126_10.txt'),\n",
       " PosixPath('/Users/l-zy16/.keras/datasets/aclImdb/train/pos/2032_10.txt'),\n",
       " PosixPath('/Users/l-zy16/.keras/datasets/aclImdb/train/pos/5971_7.txt'),\n",
       " PosixPath('/Users/l-zy16/.keras/datasets/aclImdb/train/pos/10362_8.txt'),\n",
       " PosixPath('/Users/l-zy16/.keras/datasets/aclImdb/train/pos/381_10.txt'),\n",
       " PosixPath('/Users/l-zy16/.keras/datasets/aclImdb/train/pos/927_10.txt'),\n",
       " PosixPath('/Users/l-zy16/.keras/datasets/aclImdb/train/pos/7039_7.txt'),\n",
       " PosixPath('/Users/l-zy16/.keras/datasets/aclImdb/train/pos/4680_10.txt'),\n",
       " PosixPath('/Users/l-zy16/.keras/datasets/aclImdb/train/pos/12269_8.txt'),\n",
       " PosixPath('/Users/l-zy16/.keras/datasets/aclImdb/train/pos/8644_7.txt'),\n",
       " PosixPath('/Users/l-zy16/.keras/datasets/aclImdb/train/pos/5651_10.txt'),\n",
       " PosixPath('/Users/l-zy16/.keras/datasets/aclImdb/train/pos/4040_8.txt'),\n",
       " PosixPath('/Users/l-zy16/.keras/datasets/aclImdb/train/pos/11210_7.txt'),\n",
       " PosixPath('/Users/l-zy16/.keras/datasets/aclImdb/train/pos/5100_10.txt'),\n",
       " PosixPath('/Users/l-zy16/.keras/datasets/aclImdb/train/pos/8295_7.txt'),\n",
       " PosixPath('/Users/l-zy16/.keras/datasets/aclImdb/train/pos/4803_8.txt'),\n",
       " PosixPath('/Users/l-zy16/.keras/datasets/aclImdb/train/pos/5005_8.txt'),\n",
       " PosixPath('/Users/l-zy16/.keras/datasets/aclImdb/train/pos/7373_8.txt'),\n",
       " PosixPath('/Users/l-zy16/.keras/datasets/aclImdb/train/pos/7908_9.txt'),\n",
       " PosixPath('/Users/l-zy16/.keras/datasets/aclImdb/train/pos/808_9.txt'),\n",
       " PosixPath('/Users/l-zy16/.keras/datasets/aclImdb/train/pos/5751_10.txt'),\n",
       " PosixPath('/Users/l-zy16/.keras/datasets/aclImdb/train/pos/10210_7.txt'),\n",
       " PosixPath('/Users/l-zy16/.keras/datasets/aclImdb/train/pos/5000_10.txt'),\n",
       " PosixPath('/Users/l-zy16/.keras/datasets/aclImdb/train/pos/2923_10.txt'),\n",
       " PosixPath('/Users/l-zy16/.keras/datasets/aclImdb/train/pos/11362_9.txt'),\n",
       " PosixPath('/Users/l-zy16/.keras/datasets/aclImdb/train/pos/11595_10.txt'),\n",
       " PosixPath('/Users/l-zy16/.keras/datasets/aclImdb/train/pos/4895_10.txt'),\n",
       " PosixPath('/Users/l-zy16/.keras/datasets/aclImdb/train/pos/7623_9.txt'),\n",
       " PosixPath('/Users/l-zy16/.keras/datasets/aclImdb/train/pos/2045_9.txt'),\n",
       " PosixPath('/Users/l-zy16/.keras/datasets/aclImdb/train/pos/8519_10.txt'),\n",
       " PosixPath('/Users/l-zy16/.keras/datasets/aclImdb/train/pos/11677_8.txt'),\n",
       " PosixPath('/Users/l-zy16/.keras/datasets/aclImdb/train/pos/1241_7.txt'),\n",
       " PosixPath('/Users/l-zy16/.keras/datasets/aclImdb/train/pos/5184_9.txt'),\n",
       " PosixPath('/Users/l-zy16/.keras/datasets/aclImdb/train/pos/10215_10.txt'),\n",
       " PosixPath('/Users/l-zy16/.keras/datasets/aclImdb/train/pos/3301_10.txt'),\n",
       " PosixPath('/Users/l-zy16/.keras/datasets/aclImdb/train/pos/5982_9.txt'),\n",
       " PosixPath('/Users/l-zy16/.keras/datasets/aclImdb/train/pos/3931_7.txt'),\n",
       " PosixPath('/Users/l-zy16/.keras/datasets/aclImdb/train/pos/10578_7.txt'),\n",
       " PosixPath('/Users/l-zy16/.keras/datasets/aclImdb/train/pos/585_10.txt'),\n",
       " PosixPath('/Users/l-zy16/.keras/datasets/aclImdb/train/pos/2167_10.txt'),\n",
       " PosixPath('/Users/l-zy16/.keras/datasets/aclImdb/train/pos/163_10.txt'),\n",
       " PosixPath('/Users/l-zy16/.keras/datasets/aclImdb/train/pos/7751_7.txt'),\n",
       " PosixPath('/Users/l-zy16/.keras/datasets/aclImdb/train/pos/10677_8.txt'),\n",
       " PosixPath('/Users/l-zy16/.keras/datasets/aclImdb/train/pos/3494_9.txt'),\n",
       " PosixPath('/Users/l-zy16/.keras/datasets/aclImdb/train/pos/632_10.txt'),\n",
       " PosixPath('/Users/l-zy16/.keras/datasets/aclImdb/train/pos/4555_9.txt'),\n",
       " PosixPath('/Users/l-zy16/.keras/datasets/aclImdb/train/pos/8348_10.txt'),\n",
       " PosixPath('/Users/l-zy16/.keras/datasets/aclImdb/train/pos/11495_10.txt'),\n",
       " PosixPath('/Users/l-zy16/.keras/datasets/aclImdb/train/pos/3201_10.txt'),\n",
       " PosixPath('/Users/l-zy16/.keras/datasets/aclImdb/train/pos/2172_7.txt'),\n",
       " PosixPath('/Users/l-zy16/.keras/datasets/aclImdb/train/pos/4728_8.txt'),\n",
       " PosixPath('/Users/l-zy16/.keras/datasets/aclImdb/train/pos/3550_10.txt'),\n",
       " PosixPath('/Users/l-zy16/.keras/datasets/aclImdb/train/pos/12195_8.txt'),\n",
       " PosixPath('/Users/l-zy16/.keras/datasets/aclImdb/train/pos/11622_10.txt'),\n",
       " PosixPath('/Users/l-zy16/.keras/datasets/aclImdb/train/pos/7338_7.txt'),\n",
       " PosixPath('/Users/l-zy16/.keras/datasets/aclImdb/train/pos/12350_9.txt'),\n",
       " PosixPath('/Users/l-zy16/.keras/datasets/aclImdb/train/pos/9917_10.txt'),\n",
       " PosixPath('/Users/l-zy16/.keras/datasets/aclImdb/train/pos/8500_7.txt'),\n",
       " PosixPath('/Users/l-zy16/.keras/datasets/aclImdb/train/pos/1707_10.txt'),\n",
       " PosixPath('/Users/l-zy16/.keras/datasets/aclImdb/train/pos/9437_9.txt'),\n",
       " PosixPath('/Users/l-zy16/.keras/datasets/aclImdb/train/pos/4341_8.txt'),\n",
       " PosixPath('/Users/l-zy16/.keras/datasets/aclImdb/train/pos/6874_8.txt'),\n",
       " PosixPath('/Users/l-zy16/.keras/datasets/aclImdb/train/pos/5848_7.txt'),\n",
       " PosixPath('/Users/l-zy16/.keras/datasets/aclImdb/train/pos/1056_10.txt'),\n",
       " PosixPath('/Users/l-zy16/.keras/datasets/aclImdb/train/pos/12315_9.txt'),\n",
       " PosixPath('/Users/l-zy16/.keras/datasets/aclImdb/train/pos/10063_9.txt'),\n",
       " PosixPath('/Users/l-zy16/.keras/datasets/aclImdb/train/pos/9500_7.txt'),\n",
       " PosixPath('/Users/l-zy16/.keras/datasets/aclImdb/train/pos/7831_8.txt'),\n",
       " PosixPath('/Users/l-zy16/.keras/datasets/aclImdb/train/pos/12042_10.txt'),\n",
       " PosixPath('/Users/l-zy16/.keras/datasets/aclImdb/train/pos/6875_10.txt'),\n",
       " PosixPath('/Users/l-zy16/.keras/datasets/aclImdb/train/pos/9545_7.txt'),\n",
       " PosixPath('/Users/l-zy16/.keras/datasets/aclImdb/train/pos/10111_7.txt'),\n",
       " PosixPath('/Users/l-zy16/.keras/datasets/aclImdb/train/pos/7874_8.txt'),\n",
       " PosixPath('/Users/l-zy16/.keras/datasets/aclImdb/train/pos/4848_7.txt'),\n",
       " PosixPath('/Users/l-zy16/.keras/datasets/aclImdb/train/pos/4726_7.txt'),\n",
       " PosixPath('/Users/l-zy16/.keras/datasets/aclImdb/train/pos/9702_10.txt'),\n",
       " PosixPath('/Users/l-zy16/.keras/datasets/aclImdb/train/pos/9053_10.txt'),\n",
       " PosixPath('/Users/l-zy16/.keras/datasets/aclImdb/train/pos/3236_7.txt'),\n",
       " PosixPath('/Users/l-zy16/.keras/datasets/aclImdb/train/pos/2344_9.txt'),\n",
       " PosixPath('/Users/l-zy16/.keras/datasets/aclImdb/train/pos/7257_10.txt'),\n",
       " PosixPath('/Users/l-zy16/.keras/datasets/aclImdb/train/pos/10539_10.txt'),\n",
       " PosixPath('/Users/l-zy16/.keras/datasets/aclImdb/train/pos/11533_8.txt'),\n",
       " PosixPath('/Users/l-zy16/.keras/datasets/aclImdb/train/pos/3344_9.txt'),\n",
       " PosixPath('/Users/l-zy16/.keras/datasets/aclImdb/train/pos/8268_7.txt'),\n",
       " PosixPath('/Users/l-zy16/.keras/datasets/aclImdb/train/pos/9602_10.txt'),\n",
       " PosixPath('/Users/l-zy16/.keras/datasets/aclImdb/train/pos/5726_7.txt'),\n",
       " PosixPath('/Users/l-zy16/.keras/datasets/aclImdb/train/pos/3795_9.txt'),\n",
       " PosixPath('/Users/l-zy16/.keras/datasets/aclImdb/train/pos/6386_10.txt'),\n",
       " PosixPath('/Users/l-zy16/.keras/datasets/aclImdb/train/pos/8464_10.txt'),\n",
       " PosixPath('/Users/l-zy16/.keras/datasets/aclImdb/train/pos/1812_10.txt'),\n",
       " PosixPath('/Users/l-zy16/.keras/datasets/aclImdb/train/pos/12294_8.txt'),\n",
       " PosixPath('/Users/l-zy16/.keras/datasets/aclImdb/train/pos/7887_7.txt'),\n",
       " PosixPath('/Users/l-zy16/.keras/datasets/aclImdb/train/pos/11679_7.txt'),\n",
       " PosixPath('/Users/l-zy16/.keras/datasets/aclImdb/train/pos/7357_10.txt'),\n",
       " PosixPath('/Users/l-zy16/.keras/datasets/aclImdb/train/pos/6131_10.txt'),\n",
       " PosixPath('/Users/l-zy16/.keras/datasets/aclImdb/train/pos/686_9.txt'),\n",
       " PosixPath('/Users/l-zy16/.keras/datasets/aclImdb/train/pos/2709_8.txt'),\n",
       " PosixPath('/Users/l-zy16/.keras/datasets/aclImdb/train/pos/7565_10.txt'),\n",
       " PosixPath('/Users/l-zy16/.keras/datasets/aclImdb/train/pos/8757_8.txt'),\n",
       " PosixPath('/Users/l-zy16/.keras/datasets/aclImdb/train/pos/2628_10.txt'),\n",
       " PosixPath('/Users/l-zy16/.keras/datasets/aclImdb/train/pos/4582_7.txt'),\n",
       " PosixPath('/Users/l-zy16/.keras/datasets/aclImdb/train/pos/7083_10.txt'),\n",
       " PosixPath('/Users/l-zy16/.keras/datasets/aclImdb/train/pos/9761_10.txt'),\n",
       " PosixPath('/Users/l-zy16/.keras/datasets/aclImdb/train/pos/8507_10.txt'),\n",
       " PosixPath('/Users/l-zy16/.keras/datasets/aclImdb/train/pos/9030_10.txt'),\n",
       " PosixPath('/Users/l-zy16/.keras/datasets/aclImdb/train/pos/11797_8.txt'),\n",
       " PosixPath('/Users/l-zy16/.keras/datasets/aclImdb/train/pos/8712_8.txt'),\n",
       " PosixPath('/Users/l-zy16/.keras/datasets/aclImdb/train/pos/212_9.txt'),\n",
       " PosixPath('/Users/l-zy16/.keras/datasets/aclImdb/train/pos/6357_9.txt'),\n",
       " PosixPath('/Users/l-zy16/.keras/datasets/aclImdb/train/pos/9757_8.txt'),\n",
       " PosixPath('/Users/l-zy16/.keras/datasets/aclImdb/train/pos/2728_10.txt'),\n",
       " PosixPath('/Users/l-zy16/.keras/datasets/aclImdb/train/pos/1871_10.txt'),\n",
       " PosixPath('/Users/l-zy16/.keras/datasets/aclImdb/train/pos/2079_10.txt'),\n",
       " PosixPath('/Users/l-zy16/.keras/datasets/aclImdb/train/pos/11498_7.txt'),\n",
       " PosixPath('/Users/l-zy16/.keras/datasets/aclImdb/train/pos/6152_10.txt'),\n",
       " PosixPath('/Users/l-zy16/.keras/datasets/aclImdb/train/pos/7465_10.txt'),\n",
       " PosixPath('/Users/l-zy16/.keras/datasets/aclImdb/train/pos/9386_8.txt'),\n",
       " PosixPath('/Users/l-zy16/.keras/datasets/aclImdb/train/pos/10797_8.txt'),\n",
       " PosixPath('/Users/l-zy16/.keras/datasets/aclImdb/train/pos/4827_9.txt'),\n",
       " PosixPath('/Users/l-zy16/.keras/datasets/aclImdb/train/pos/1602_9.txt'),\n",
       " PosixPath('/Users/l-zy16/.keras/datasets/aclImdb/train/pos/8356_10.txt'),\n",
       " PosixPath('/Users/l-zy16/.keras/datasets/aclImdb/train/pos/11721_7.txt'),\n",
       " PosixPath('/Users/l-zy16/.keras/datasets/aclImdb/train/pos/4398_9.txt'),\n",
       " PosixPath('/Users/l-zy16/.keras/datasets/aclImdb/train/pos/1764_10.txt'),\n",
       " PosixPath('/Users/l-zy16/.keras/datasets/aclImdb/train/pos/1317_8.txt'),\n",
       " PosixPath('/Users/l-zy16/.keras/datasets/aclImdb/train/pos/939_10.txt'),\n",
       " PosixPath('/Users/l-zy16/.keras/datasets/aclImdb/train/pos/7508_7.txt'),\n",
       " PosixPath('/Users/l-zy16/.keras/datasets/aclImdb/train/pos/1783_8.txt'),\n",
       " PosixPath('/Users/l-zy16/.keras/datasets/aclImdb/train/pos/8330_7.txt'),\n",
       " PosixPath('/Users/l-zy16/.keras/datasets/aclImdb/train/pos/4278_10.txt'),\n",
       " PosixPath('/Users/l-zy16/.keras/datasets/aclImdb/train/pos/2259_9.txt'),\n",
       " PosixPath('/Users/l-zy16/.keras/datasets/aclImdb/train/pos/11829_10.txt'),\n",
       " PosixPath('/Users/l-zy16/.keras/datasets/aclImdb/train/pos/7607_8.txt'),\n",
       " PosixPath('/Users/l-zy16/.keras/datasets/aclImdb/train/pos/1664_10.txt'),\n",
       " PosixPath('/Users/l-zy16/.keras/datasets/aclImdb/train/pos/707_8.txt'),\n",
       " PosixPath('/Users/l-zy16/.keras/datasets/aclImdb/train/pos/393_8.txt'),\n",
       " PosixPath('/Users/l-zy16/.keras/datasets/aclImdb/train/pos/8839_8.txt'),\n",
       " PosixPath('/Users/l-zy16/.keras/datasets/aclImdb/train/pos/6508_7.txt'),\n",
       " PosixPath('/Users/l-zy16/.keras/datasets/aclImdb/train/pos/11010_10.txt'),\n",
       " PosixPath('/Users/l-zy16/.keras/datasets/aclImdb/train/pos/5827_10.txt'),\n",
       " PosixPath('/Users/l-zy16/.keras/datasets/aclImdb/train/pos/10527_10.txt'),\n",
       " PosixPath('/Users/l-zy16/.keras/datasets/aclImdb/train/pos/10799_7.txt'),\n",
       " PosixPath('/Users/l-zy16/.keras/datasets/aclImdb/train/pos/4683_7.txt'),\n",
       " PosixPath('/Users/l-zy16/.keras/datasets/aclImdb/train/pos/10276_10.txt'),\n",
       " PosixPath('/Users/l-zy16/.keras/datasets/aclImdb/train/pos/11741_10.txt'),\n",
       " PosixPath('/Users/l-zy16/.keras/datasets/aclImdb/train/pos/11002_8.txt'),\n",
       " PosixPath('/Users/l-zy16/.keras/datasets/aclImdb/train/pos/8087_8.txt'),\n",
       " PosixPath('/Users/l-zy16/.keras/datasets/aclImdb/train/pos/6124_7.txt'),\n",
       " PosixPath('/Users/l-zy16/.keras/datasets/aclImdb/train/pos/2655_10.txt'),\n",
       " PosixPath('/Users/l-zy16/.keras/datasets/aclImdb/train/pos/2408_8.txt'),\n",
       " PosixPath('/Users/l-zy16/.keras/datasets/aclImdb/train/pos/6967_7.txt'),\n",
       " PosixPath('/Users/l-zy16/.keras/datasets/aclImdb/train/pos/7013_9.txt'),\n",
       " PosixPath('/Users/l-zy16/.keras/datasets/aclImdb/train/pos/8413_8.txt'),\n",
       " PosixPath('/Users/l-zy16/.keras/datasets/aclImdb/train/pos/2675_9.txt'),\n",
       " PosixPath('/Users/l-zy16/.keras/datasets/aclImdb/train/pos/950_9.txt'),\n",
       " PosixPath('/Users/l-zy16/.keras/datasets/aclImdb/train/pos/3707_7.txt'),\n",
       " PosixPath('/Users/l-zy16/.keras/datasets/aclImdb/train/pos/8881_8.txt'),\n",
       " PosixPath('/Users/l-zy16/.keras/datasets/aclImdb/train/pos/2755_10.txt'),\n",
       " PosixPath('/Users/l-zy16/.keras/datasets/aclImdb/train/pos/3533_10.txt'),\n",
       " PosixPath('/Users/l-zy16/.keras/datasets/aclImdb/train/pos/2004_10.txt'),\n",
       " PosixPath('/Users/l-zy16/.keras/datasets/aclImdb/train/pos/6056_9.txt'),\n",
       " PosixPath('/Users/l-zy16/.keras/datasets/aclImdb/train/pos/9456_8.txt'),\n",
       " PosixPath('/Users/l-zy16/.keras/datasets/aclImdb/train/pos/651_10.txt'),\n",
       " PosixPath('/Users/l-zy16/.keras/datasets/aclImdb/train/pos/12331_8.txt'),\n",
       " PosixPath('/Users/l-zy16/.keras/datasets/aclImdb/train/pos/9881_8.txt'),\n",
       " PosixPath('/Users/l-zy16/.keras/datasets/aclImdb/train/pos/8388_7.txt'),\n",
       " PosixPath('/Users/l-zy16/.keras/datasets/aclImdb/train/pos/7922_7.txt'),\n",
       " PosixPath('/Users/l-zy16/.keras/datasets/aclImdb/train/pos/4365_9.txt'),\n",
       " PosixPath('/Users/l-zy16/.keras/datasets/aclImdb/train/pos/1503_9.txt'),\n",
       " PosixPath('/Users/l-zy16/.keras/datasets/aclImdb/train/pos/10690_10.txt'),\n",
       " PosixPath('/Users/l-zy16/.keras/datasets/aclImdb/train/pos/3675_9.txt'),\n",
       " PosixPath('/Users/l-zy16/.keras/datasets/aclImdb/train/pos/10552_9.txt'),\n",
       " PosixPath('/Users/l-zy16/.keras/datasets/aclImdb/train/pos/6994_8.txt'),\n",
       " PosixPath('/Users/l-zy16/.keras/datasets/aclImdb/train/pos/1016_8.txt'),\n",
       " PosixPath('/Users/l-zy16/.keras/datasets/aclImdb/train/pos/4305_10.txt'),\n",
       " PosixPath('/Users/l-zy16/.keras/datasets/aclImdb/train/pos/9106_9.txt'),\n",
       " PosixPath('/Users/l-zy16/.keras/datasets/aclImdb/train/pos/3891_10.txt'),\n",
       " PosixPath('/Users/l-zy16/.keras/datasets/aclImdb/train/pos/944_10.txt'),\n",
       " PosixPath('/Users/l-zy16/.keras/datasets/aclImdb/train/pos/1053_8.txt'),\n",
       " PosixPath('/Users/l-zy16/.keras/datasets/aclImdb/train/pos/10985_9.txt'),\n",
       " PosixPath('/Users/l-zy16/.keras/datasets/aclImdb/train/pos/5485_10.txt'),\n",
       " PosixPath('/Users/l-zy16/.keras/datasets/aclImdb/train/pos/11465_7.txt'),\n",
       " PosixPath('/Users/l-zy16/.keras/datasets/aclImdb/train/pos/406_8.txt'),\n",
       " PosixPath('/Users/l-zy16/.keras/datasets/aclImdb/train/pos/5670_8.txt'),\n",
       " PosixPath('/Users/l-zy16/.keras/datasets/aclImdb/train/pos/41_9.txt'),\n",
       " PosixPath('/Users/l-zy16/.keras/datasets/aclImdb/train/pos/11552_9.txt'),\n",
       " PosixPath('/Users/l-zy16/.keras/datasets/aclImdb/train/pos/2940_10.txt'),\n",
       " PosixPath('/Users/l-zy16/.keras/datasets/aclImdb/train/pos/1619_10.txt'),\n",
       " PosixPath('/Users/l-zy16/.keras/datasets/aclImdb/train/pos/9837_7.txt'),\n",
       " PosixPath('/Users/l-zy16/.keras/datasets/aclImdb/train/pos/7543_8.txt'),\n",
       " PosixPath('/Users/l-zy16/.keras/datasets/aclImdb/train/pos/2325_8.txt'),\n",
       " PosixPath('/Users/l-zy16/.keras/datasets/aclImdb/train/pos/7192_8.txt'),\n",
       " PosixPath('/Users/l-zy16/.keras/datasets/aclImdb/train/pos/11517_9.txt'),\n",
       " PosixPath('/Users/l-zy16/.keras/datasets/aclImdb/train/pos/5012_10.txt'),\n",
       " PosixPath('/Users/l-zy16/.keras/datasets/aclImdb/train/pos/5789_9.txt'),\n",
       " PosixPath('/Users/l-zy16/.keras/datasets/aclImdb/train/pos/5743_10.txt'),\n",
       " PosixPath('/Users/l-zy16/.keras/datasets/aclImdb/train/pos/4274_10.txt'),\n",
       " PosixPath('/Users/l-zy16/.keras/datasets/aclImdb/train/pos/5160_8.txt'),\n",
       " PosixPath('/Users/l-zy16/.keras/datasets/aclImdb/train/pos/2931_10.txt'),\n",
       " PosixPath('/Users/l-zy16/.keras/datasets/aclImdb/train/pos/11242_9.txt'),\n",
       " PosixPath('/Users/l-zy16/.keras/datasets/aclImdb/train/pos/4792_10.txt'),\n",
       " PosixPath('/Users/l-zy16/.keras/datasets/aclImdb/train/pos/2435_8.txt'),\n",
       " PosixPath('/Users/l-zy16/.keras/datasets/aclImdb/train/pos/9721_7.txt'),\n",
       " PosixPath('/Users/l-zy16/.keras/datasets/aclImdb/train/pos/7682_8.txt'),\n",
       " PosixPath('/Users/l-zy16/.keras/datasets/aclImdb/train/pos/3470_8.txt'),\n",
       " PosixPath('/Users/l-zy16/.keras/datasets/aclImdb/train/pos/4374_10.txt'),\n",
       " PosixPath('/Users/l-zy16/.keras/datasets/aclImdb/train/pos/4692_10.txt'),\n",
       " PosixPath('/Users/l-zy16/.keras/datasets/aclImdb/train/pos/6253_8.txt'),\n",
       " PosixPath('/Users/l-zy16/.keras/datasets/aclImdb/train/pos/9653_9.txt'),\n",
       " PosixPath('/Users/l-zy16/.keras/datasets/aclImdb/train/pos/4125_8.txt'),\n",
       " PosixPath('/Users/l-zy16/.keras/datasets/aclImdb/train/pos/11458_7.txt'),\n",
       " PosixPath('/Users/l-zy16/.keras/datasets/aclImdb/train/pos/497_10.txt'),\n",
       " PosixPath('/Users/l-zy16/.keras/datasets/aclImdb/train/pos/3213_10.txt'),\n",
       " PosixPath('/Users/l-zy16/.keras/datasets/aclImdb/train/pos/7634_7.txt'),\n",
       " PosixPath('/Users/l-zy16/.keras/datasets/aclImdb/train/pos/10712_8.txt'),\n",
       " PosixPath('/Users/l-zy16/.keras/datasets/aclImdb/train/pos/2483_7.txt'),\n",
       " PosixPath('/Users/l-zy16/.keras/datasets/aclImdb/train/pos/7469_10.txt'),\n",
       " PosixPath('/Users/l-zy16/.keras/datasets/aclImdb/train/pos/10456_10.txt'),\n",
       " PosixPath('/Users/l-zy16/.keras/datasets/aclImdb/train/pos/5507_7.txt'),\n",
       " PosixPath('/Users/l-zy16/.keras/datasets/aclImdb/train/pos/620_10.txt'),\n",
       " PosixPath('/Users/l-zy16/.keras/datasets/aclImdb/train/pos/771_7.txt'),\n",
       " PosixPath('/Users/l-zy16/.keras/datasets/aclImdb/train/pos/2593_10.txt'),\n",
       " PosixPath('/Users/l-zy16/.keras/datasets/aclImdb/train/pos/11487_10.txt'),\n",
       " PosixPath('/Users/l-zy16/.keras/datasets/aclImdb/train/pos/4987_10.txt'),\n",
       " PosixPath('/Users/l-zy16/.keras/datasets/aclImdb/train/pos/9303_8.txt'),\n",
       " PosixPath('/Users/l-zy16/.keras/datasets/aclImdb/train/pos/10386_8.txt'),\n",
       " PosixPath('/Users/l-zy16/.keras/datasets/aclImdb/train/pos/8049_7.txt'),\n",
       " PosixPath('/Users/l-zy16/.keras/datasets/aclImdb/train/pos/11730_10.txt'),\n",
       " PosixPath('/Users/l-zy16/.keras/datasets/aclImdb/train/pos/10207_10.txt'),\n",
       " PosixPath('/Users/l-zy16/.keras/datasets/aclImdb/train/pos/7569_10.txt'),\n",
       " PosixPath('/Users/l-zy16/.keras/datasets/aclImdb/train/pos/10089_7.txt'),\n",
       " PosixPath('/Users/l-zy16/.keras/datasets/aclImdb/train/pos/10556_10.txt'),\n",
       " PosixPath('/Users/l-zy16/.keras/datasets/aclImdb/train/pos/646_9.txt'),\n",
       " PosixPath('/Users/l-zy16/.keras/datasets/aclImdb/train/pos/1324_7.txt'),\n",
       " PosixPath('/Users/l-zy16/.keras/datasets/aclImdb/train/pos/3442_10.txt'),\n",
       " PosixPath('/Users/l-zy16/.keras/datasets/aclImdb/train/pos/3313_10.txt'),\n",
       " PosixPath('/Users/l-zy16/.keras/datasets/aclImdb/train/pos/39_9.txt'),\n",
       " PosixPath('/Users/l-zy16/.keras/datasets/aclImdb/train/pos/8797_8.txt'),\n",
       " PosixPath('/Users/l-zy16/.keras/datasets/aclImdb/train/pos/11587_10.txt'),\n",
       " PosixPath('/Users/l-zy16/.keras/datasets/aclImdb/train/pos/4887_10.txt'),\n",
       " PosixPath('/Users/l-zy16/.keras/datasets/aclImdb/train/pos/11386_8.txt'),\n",
       " PosixPath('/Users/l-zy16/.keras/datasets/aclImdb/train/pos/4507_7.txt'),\n",
       " PosixPath('/Users/l-zy16/.keras/datasets/aclImdb/train/pos/2493_10.txt'),\n",
       " PosixPath('/Users/l-zy16/.keras/datasets/aclImdb/train/pos/3017_7.txt'),\n",
       " PosixPath('/Users/l-zy16/.keras/datasets/aclImdb/train/pos/9465_7.txt'),\n",
       " PosixPath('/Users/l-zy16/.keras/datasets/aclImdb/train/pos/8985_9.txt'),\n",
       " PosixPath('/Users/l-zy16/.keras/datasets/aclImdb/train/pos/12050_10.txt'),\n",
       " PosixPath('/Users/l-zy16/.keras/datasets/aclImdb/train/pos/10872_7.txt'),\n",
       " PosixPath('/Users/l-zy16/.keras/datasets/aclImdb/train/pos/9805_10.txt'),\n",
       " PosixPath('/Users/l-zy16/.keras/datasets/aclImdb/train/pos/483_8.txt'),\n",
       " PosixPath('/Users/l-zy16/.keras/datasets/aclImdb/train/pos/11945_9.txt'),\n",
       " PosixPath('/Users/l-zy16/.keras/datasets/aclImdb/train/pos/10889_10.txt'),\n",
       " PosixPath('/Users/l-zy16/.keras/datasets/aclImdb/train/pos/12302_7.txt'),\n",
       " PosixPath('/Users/l-zy16/.keras/datasets/aclImdb/train/pos/6218_7.txt'),\n",
       " PosixPath('/Users/l-zy16/.keras/datasets/aclImdb/train/pos/8552_9.txt'),\n",
       " PosixPath('/Users/l-zy16/.keras/datasets/aclImdb/train/pos/6954_8.txt'),\n",
       " PosixPath('/Users/l-zy16/.keras/datasets/aclImdb/train/pos/9985_9.txt'),\n",
       " PosixPath('/Users/l-zy16/.keras/datasets/aclImdb/train/pos/11837_7.txt'),\n",
       " PosixPath('/Users/l-zy16/.keras/datasets/aclImdb/train/pos/948_10.txt'),\n",
       " PosixPath('/Users/l-zy16/.keras/datasets/aclImdb/train/pos/11074_7.txt'),\n",
       " PosixPath('/Users/l-zy16/.keras/datasets/aclImdb/train/pos/1093_8.txt'),\n",
       " PosixPath('/Users/l-zy16/.keras/datasets/aclImdb/train/pos/10945_9.txt'),\n",
       " PosixPath('/Users/l-zy16/.keras/datasets/aclImdb/train/pos/5489_10.txt'),\n",
       " PosixPath('/Users/l-zy16/.keras/datasets/aclImdb/train/pos/9905_10.txt'),\n",
       " PosixPath('/Users/l-zy16/.keras/datasets/aclImdb/train/pos/5292_7.txt'),\n",
       " PosixPath('/Users/l-zy16/.keras/datasets/aclImdb/train/pos/2759_10.txt'),\n",
       " PosixPath('/Users/l-zy16/.keras/datasets/aclImdb/train/pos/3019_8.txt'),\n",
       " PosixPath('/Users/l-zy16/.keras/datasets/aclImdb/train/pos/6672_10.txt'),\n",
       " PosixPath('/Users/l-zy16/.keras/datasets/aclImdb/train/pos/5643_7.txt'),\n",
       " PosixPath('/Users/l-zy16/.keras/datasets/aclImdb/train/pos/8190_10.txt'),\n",
       " PosixPath('/Users/l-zy16/.keras/datasets/aclImdb/train/pos/3788_10.txt'),\n",
       " PosixPath('/Users/l-zy16/.keras/datasets/aclImdb/train/pos/1951_9.txt'),\n",
       " PosixPath('/Users/l-zy16/.keras/datasets/aclImdb/train/pos/6394_10.txt'),\n",
       " PosixPath('/Users/l-zy16/.keras/datasets/aclImdb/train/pos/8476_10.txt'),\n",
       " PosixPath('/Users/l-zy16/.keras/datasets/aclImdb/train/pos/9610_10.txt'),\n",
       " PosixPath('/Users/l-zy16/.keras/datasets/aclImdb/train/pos/196_9.txt'),\n",
       " PosixPath('/Users/l-zy16/.keras/datasets/aclImdb/train/pos/6772_10.txt'),\n",
       " PosixPath('/Users/l-zy16/.keras/datasets/aclImdb/train/pos/7245_10.txt'),\n",
       " PosixPath('/Users/l-zy16/.keras/datasets/aclImdb/train/pos/10388_7.txt'),\n",
       " PosixPath('/Users/l-zy16/.keras/datasets/aclImdb/train/pos/4292_7.txt'),\n",
       " PosixPath('/Users/l-zy16/.keras/datasets/aclImdb/train/pos/2108_10.txt'),\n",
       " PosixPath('/Users/l-zy16/.keras/datasets/aclImdb/train/pos/990_9.txt'),\n",
       " PosixPath('/Users/l-zy16/.keras/datasets/aclImdb/train/pos/1823_7.txt'),\n",
       " PosixPath('/Users/l-zy16/.keras/datasets/aclImdb/train/pos/6294_10.txt'),\n",
       " PosixPath('/Users/l-zy16/.keras/datasets/aclImdb/train/pos/4606_7.txt'),\n",
       " PosixPath('/Users/l-zy16/.keras/datasets/aclImdb/train/pos/9799_7.txt'),\n",
       " PosixPath('/Users/l-zy16/.keras/datasets/aclImdb/train/pos/9710_10.txt'),\n",
       " PosixPath('/Users/l-zy16/.keras/datasets/aclImdb/train/pos/8841_8.txt'),\n",
       " PosixPath('/Users/l-zy16/.keras/datasets/aclImdb/train/pos/9348_7.txt'),\n",
       " PosixPath('/Users/l-zy16/.keras/datasets/aclImdb/train/pos/2264_9.txt'),\n",
       " PosixPath('/Users/l-zy16/.keras/datasets/aclImdb/train/pos/11087_8.txt'),\n",
       " PosixPath('/Users/l-zy16/.keras/datasets/aclImdb/train/pos/9632_8.txt'),\n",
       " PosixPath('/Users/l-zy16/.keras/datasets/aclImdb/train/pos/11499_10.txt'),\n",
       " PosixPath('/Users/l-zy16/.keras/datasets/aclImdb/train/pos/8344_10.txt'),\n",
       " PosixPath('/Users/l-zy16/.keras/datasets/aclImdb/train/pos/12110_8.txt'),\n",
       " PosixPath('/Users/l-zy16/.keras/datasets/aclImdb/train/pos/3411_9.txt'),\n",
       " PosixPath('/Users/l-zy16/.keras/datasets/aclImdb/train/pos/1863_10.txt'),\n",
       " PosixPath('/Users/l-zy16/.keras/datasets/aclImdb/train/pos/7326_10.txt'),\n",
       " PosixPath('/Users/l-zy16/.keras/datasets/aclImdb/train/pos/11169_7.txt'),\n",
       " PosixPath('/Users/l-zy16/.keras/datasets/aclImdb/train/pos/5073_7.txt'),\n",
       " PosixPath('/Users/l-zy16/.keras/datasets/aclImdb/train/pos/10448_10.txt'),\n",
       " PosixPath('/Users/l-zy16/.keras/datasets/aclImdb/train/pos/3629_8.txt'),\n",
       " PosixPath('/Users/l-zy16/.keras/datasets/aclImdb/train/pos/9022_10.txt'),\n",
       " PosixPath('/Users/l-zy16/.keras/datasets/aclImdb/train/pos/4875_7.txt'),\n",
       " PosixPath('/Users/l-zy16/.keras/datasets/aclImdb/train/pos/4899_10.txt'),\n",
       " PosixPath('/Users/l-zy16/.keras/datasets/aclImdb/train/pos/4036_7.txt'),\n",
       " PosixPath('/Users/l-zy16/.keras/datasets/aclImdb/train/pos/949_8.txt'),\n",
       " PosixPath('/Users/l-zy16/.keras/datasets/aclImdb/train/pos/6040_10.txt'),\n",
       " PosixPath('/Users/l-zy16/.keras/datasets/aclImdb/train/pos/10219_10.txt'),\n",
       " PosixPath('/Users/l-zy16/.keras/datasets/aclImdb/train/pos/5339_8.txt'),\n",
       " PosixPath('/Users/l-zy16/.keras/datasets/aclImdb/train/pos/9295_10.txt'),\n",
       " PosixPath('/Users/l-zy16/.keras/datasets/aclImdb/train/pos/10169_7.txt'),\n",
       " PosixPath('/Users/l-zy16/.keras/datasets/aclImdb/train/pos/6711_10.txt'),\n",
       " PosixPath('/Users/l-zy16/.keras/datasets/aclImdb/train/pos/2883_9.txt'),\n",
       " PosixPath('/Users/l-zy16/.keras/datasets/aclImdb/train/pos/589_10.txt'),\n",
       " PosixPath('/Users/l-zy16/.keras/datasets/aclImdb/train/pos/11858_9.txt'),\n",
       " PosixPath('/Users/l-zy16/.keras/datasets/aclImdb/train/pos/2411_9.txt'),\n",
       " PosixPath('/Users/l-zy16/.keras/datasets/aclImdb/train/pos/10295_7.txt'),\n",
       " PosixPath('/Users/l-zy16/.keras/datasets/aclImdb/train/pos/11736_9.txt'),\n",
       " PosixPath('/Users/l-zy16/.keras/datasets/aclImdb/train/pos/662_8.txt'),\n",
       " PosixPath('/Users/l-zy16/.keras/datasets/aclImdb/train/pos/7762_8.txt'),\n",
       " PosixPath('/Users/l-zy16/.keras/datasets/aclImdb/train/pos/1127_10.txt'),\n",
       " PosixPath('/Users/l-zy16/.keras/datasets/aclImdb/train/pos/5451_8.txt'),\n",
       " PosixPath('/Users/l-zy16/.keras/datasets/aclImdb/train/pos/627_8.txt'),\n",
       " PosixPath('/Users/l-zy16/.keras/datasets/aclImdb/train/pos/8327_9.txt'),\n",
       " PosixPath('/Users/l-zy16/.keras/datasets/aclImdb/train/pos/8210_7.txt'),\n",
       " PosixPath('/Users/l-zy16/.keras/datasets/aclImdb/train/pos/4886_8.txt'),\n",
       " PosixPath('/Users/l-zy16/.keras/datasets/aclImdb/train/pos/9966_10.txt'),\n",
       " PosixPath('/Users/l-zy16/.keras/datasets/aclImdb/train/pos/1237_8.txt'),\n",
       " PosixPath('/Users/l-zy16/.keras/datasets/aclImdb/train/pos/1776_10.txt'),\n",
       " PosixPath('/Users/l-zy16/.keras/datasets/aclImdb/train/pos/3590_8.txt'),\n",
       " PosixPath('/Users/l-zy16/.keras/datasets/aclImdb/train/pos/10773_9.txt'),\n",
       " PosixPath('/Users/l-zy16/.keras/datasets/aclImdb/train/pos/643_10.txt'),\n",
       " PosixPath('/Users/l-zy16/.keras/datasets/aclImdb/train/pos/7041_7.txt'),\n",
       " PosixPath('/Users/l-zy16/.keras/datasets/aclImdb/train/pos/112_10.txt'),\n",
       " PosixPath('/Users/l-zy16/.keras/datasets/aclImdb/train/pos/10682_10.txt'),\n",
       " PosixPath('/Users/l-zy16/.keras/datasets/aclImdb/train/pos/8339_10.txt'),\n",
       " PosixPath('/Users/l-zy16/.keras/datasets/aclImdb/train/pos/5372_7.txt'),\n",
       " PosixPath('/Users/l-zy16/.keras/datasets/aclImdb/train/pos/3710_9.txt'),\n",
       " PosixPath('/Users/l-zy16/.keras/datasets/aclImdb/train/pos/6176_9.txt'),\n",
       " PosixPath('/Users/l-zy16/.keras/datasets/aclImdb/train/pos/10364_10.txt'),\n",
       " PosixPath('/Users/l-zy16/.keras/datasets/aclImdb/train/pos/11653_10.txt'),\n",
       " PosixPath('/Users/l-zy16/.keras/datasets/aclImdb/train/pos/4200_9.txt'),\n",
       " PosixPath('/Users/l-zy16/.keras/datasets/aclImdb/train/pos/11102_10.txt'),\n",
       " PosixPath('/Users/l-zy16/.keras/datasets/aclImdb/train/pos/8533_8.txt'),\n",
       " PosixPath('/Users/l-zy16/.keras/datasets/aclImdb/train/pos/8239_10.txt'),\n",
       " PosixPath('/Users/l-zy16/.keras/datasets/aclImdb/train/pos/5694_9.txt'),\n",
       " PosixPath('/Users/l-zy16/.keras/datasets/aclImdb/train/pos/4337_7.txt'),\n",
       " PosixPath('/Users/l-zy16/.keras/datasets/aclImdb/train/pos/53_10.txt'),\n",
       " PosixPath('/Users/l-zy16/.keras/datasets/aclImdb/train/pos/8576_8.txt'),\n",
       " PosixPath('/Users/l-zy16/.keras/datasets/aclImdb/train/pos/10264_10.txt'),\n",
       " PosixPath('/Users/l-zy16/.keras/datasets/aclImdb/train/pos/11753_10.txt'),\n",
       " PosixPath('/Users/l-zy16/.keras/datasets/aclImdb/train/pos/5835_10.txt'),\n",
       " PosixPath('/Users/l-zy16/.keras/datasets/aclImdb/train/pos/3421_10.txt'),\n",
       " PosixPath('/Users/l-zy16/.keras/datasets/aclImdb/train/pos/2116_10.txt'),\n",
       " PosixPath('/Users/l-zy16/.keras/datasets/aclImdb/train/pos/11961_8.txt'),\n",
       " PosixPath('/Users/l-zy16/.keras/datasets/aclImdb/train/pos/1514_7.txt'),\n",
       " PosixPath('/Users/l-zy16/.keras/datasets/aclImdb/train/pos/2647_10.txt'),\n",
       " PosixPath('/Users/l-zy16/.keras/datasets/aclImdb/train/pos/2205_8.txt'),\n",
       " PosixPath('/Users/l-zy16/.keras/datasets/aclImdb/train/pos/10545_7.txt'),\n",
       " PosixPath('/Users/l-zy16/.keras/datasets/aclImdb/train/pos/5597_10.txt'),\n",
       " PosixPath('/Users/l-zy16/.keras/datasets/aclImdb/train/pos/3983_10.txt'),\n",
       " PosixPath('/Users/l-zy16/.keras/datasets/aclImdb/train/pos/11437_9.txt'),\n",
       " PosixPath('/Users/l-zy16/.keras/datasets/aclImdb/train/pos/8026_9.txt'),\n",
       " PosixPath('/Users/l-zy16/.keras/datasets/aclImdb/train/pos/11846_10.txt'),\n",
       " PosixPath('/Users/l-zy16/.keras/datasets/aclImdb/train/pos/5071_10.txt'),\n",
       " PosixPath('/Users/l-zy16/.keras/datasets/aclImdb/train/pos/4546_10.txt'),\n",
       " PosixPath('/Users/l-zy16/.keras/datasets/aclImdb/train/pos/5750_8.txt'),\n",
       " PosixPath('/Users/l-zy16/.keras/datasets/aclImdb/train/pos/6879_10.txt'),\n",
       " PosixPath('/Users/l-zy16/.keras/datasets/aclImdb/train/pos/5720_10.txt'),\n",
       " PosixPath('/Users/l-zy16/.keras/datasets/aclImdb/train/pos/2078_9.txt'),\n",
       " PosixPath('/Users/l-zy16/.keras/datasets/aclImdb/train/pos/2691_8.txt'),\n",
       " PosixPath('/Users/l-zy16/.keras/datasets/aclImdb/train/pos/9154_7.txt'),\n",
       " PosixPath('/Users/l-zy16/.keras/datasets/aclImdb/train/pos/3883_10.txt'),\n",
       " PosixPath('/Users/l-zy16/.keras/datasets/aclImdb/train/pos/8952_7.txt'),\n",
       " PosixPath('/Users/l-zy16/.keras/datasets/aclImdb/train/pos/6463_8.txt'),\n",
       " PosixPath('/Users/l-zy16/.keras/datasets/aclImdb/train/pos/3205_8.txt'),\n",
       " PosixPath('/Users/l-zy16/.keras/datasets/aclImdb/train/pos/1173_8.txt'),\n",
       " PosixPath('/Users/l-zy16/.keras/datasets/aclImdb/train/pos/10997_10.txt'),\n",
       " PosixPath('/Users/l-zy16/.keras/datasets/aclImdb/train/pos/7729_7.txt'),\n",
       " PosixPath('/Users/l-zy16/.keras/datasets/aclImdb/train/pos/8917_7.txt'),\n",
       " PosixPath('/Users/l-zy16/.keras/datasets/aclImdb/train/pos/13_7.txt'),\n",
       " PosixPath('/Users/l-zy16/.keras/datasets/aclImdb/train/pos/3691_8.txt'),\n",
       " PosixPath('/Users/l-zy16/.keras/datasets/aclImdb/train/pos/6426_8.txt'),\n",
       " PosixPath('/Users/l-zy16/.keras/datasets/aclImdb/train/pos/9026_9.txt'),\n",
       " PosixPath('/Users/l-zy16/.keras/datasets/aclImdb/train/pos/5171_10.txt'),\n",
       " PosixPath('/Users/l-zy16/.keras/datasets/aclImdb/train/pos/4446_10.txt'),\n",
       " PosixPath('/Users/l-zy16/.keras/datasets/aclImdb/train/pos/1136_8.txt'),\n",
       " PosixPath('/Users/l-zy16/.keras/datasets/aclImdb/train/pos/4317_10.txt'),\n",
       " PosixPath('/Users/l-zy16/.keras/datasets/aclImdb/train/pos/5620_10.txt'),\n",
       " PosixPath('/Users/l-zy16/.keras/datasets/aclImdb/train/pos/6979_10.txt'),\n",
       " PosixPath('/Users/l-zy16/.keras/datasets/aclImdb/train/pos/9806_8.txt'),\n",
       " PosixPath('/Users/l-zy16/.keras/datasets/aclImdb/train/pos/4733_9.txt'),\n",
       " PosixPath('/Users/l-zy16/.keras/datasets/aclImdb/train/pos/8159_10.txt'),\n",
       " PosixPath('/Users/l-zy16/.keras/datasets/aclImdb/train/pos/423_10.txt'),\n",
       " PosixPath('/Users/l-zy16/.keras/datasets/aclImdb/train/pos/1584_9.txt'),\n",
       " PosixPath('/Users/l-zy16/.keras/datasets/aclImdb/train/pos/5641_7.txt'),\n",
       " PosixPath('/Users/l-zy16/.keras/datasets/aclImdb/train/pos/372_10.txt'),\n",
       " PosixPath('/Users/l-zy16/.keras/datasets/aclImdb/train/pos/2790_10.txt'),\n",
       " PosixPath('/Users/l-zy16/.keras/datasets/aclImdb/train/pos/9188_10.txt'),\n",
       " PosixPath('/Users/l-zy16/.keras/datasets/aclImdb/train/pos/1110_9.txt'),\n",
       " PosixPath('/Users/l-zy16/.keras/datasets/aclImdb/train/pos/10104_10.txt'),\n",
       " PosixPath('/Users/l-zy16/.keras/datasets/aclImdb/train/pos/6400_9.txt'),\n",
       " PosixPath('/Users/l-zy16/.keras/datasets/aclImdb/train/pos/2314_7.txt'),\n",
       " PosixPath('/Users/l-zy16/.keras/datasets/aclImdb/train/pos/523_10.txt'),\n",
       " PosixPath('/Users/l-zy16/.keras/datasets/aclImdb/train/pos/11411_8.txt'),\n",
       " PosixPath('/Users/l-zy16/.keras/datasets/aclImdb/train/pos/8494_8.txt'),\n",
       " PosixPath('/Users/l-zy16/.keras/datasets/aclImdb/train/pos/6537_7.txt'),\n",
       " PosixPath('/Users/l-zy16/.keras/datasets/aclImdb/train/pos/272_10.txt'),\n",
       " PosixPath('/Users/l-zy16/.keras/datasets/aclImdb/train/pos/11883_8.txt'),\n",
       " PosixPath('/Users/l-zy16/.keras/datasets/aclImdb/train/pos/11784_10.txt'),\n",
       " PosixPath('/Users/l-zy16/.keras/datasets/aclImdb/train/pos/8045_8.txt'),\n",
       " PosixPath('/Users/l-zy16/.keras/datasets/aclImdb/train/pos/8059_10.txt'),\n",
       " PosixPath('/Users/l-zy16/.keras/datasets/aclImdb/train/pos/738_8.txt'),\n",
       " PosixPath('/Users/l-zy16/.keras/datasets/aclImdb/train/pos/12468_7.txt'),\n",
       " PosixPath('/Users/l-zy16/.keras/datasets/aclImdb/train/pos/2427_10.txt'),\n",
       " PosixPath('/Users/l-zy16/.keras/datasets/aclImdb/train/pos/84_10.txt'),\n",
       " PosixPath('/Users/l-zy16/.keras/datasets/aclImdb/train/pos/4833_10.txt'),\n",
       " PosixPath('/Users/l-zy16/.keras/datasets/aclImdb/train/pos/500_9.txt'),\n",
       " PosixPath('/Users/l-zy16/.keras/datasets/aclImdb/train/pos/7400_9.txt'),\n",
       " PosixPath('/Users/l-zy16/.keras/datasets/aclImdb/train/pos/10755_10.txt'),\n",
       " PosixPath('/Users/l-zy16/.keras/datasets/aclImdb/train/pos/11902_9.txt'),\n",
       " PosixPath('/Users/l-zy16/.keras/datasets/aclImdb/train/pos/8987_9.txt'),\n",
       " PosixPath('/Users/l-zy16/.keras/datasets/aclImdb/train/pos/5263_8.txt'),\n",
       " PosixPath('/Users/l-zy16/.keras/datasets/aclImdb/train/pos/7581_8.txt'),\n",
       " PosixPath('/Users/l-zy16/.keras/datasets/aclImdb/train/pos/8768_8.txt'),\n",
       " PosixPath('/Users/l-zy16/.keras/datasets/aclImdb/train/pos/11947_9.txt'),\n",
       " PosixPath('/Users/l-zy16/.keras/datasets/aclImdb/train/pos/4077_10.txt'),\n",
       " PosixPath('/Users/l-zy16/.keras/datasets/aclImdb/train/pos/5540_10.txt'),\n",
       " PosixPath('/Users/l-zy16/.keras/datasets/aclImdb/train/pos/6956_8.txt'),\n",
       " PosixPath('/Users/l-zy16/.keras/datasets/aclImdb/train/pos/4263_8.txt'),\n",
       " PosixPath('/Users/l-zy16/.keras/datasets/aclImdb/train/pos/11991_10.txt'),\n",
       " PosixPath('/Users/l-zy16/.keras/datasets/aclImdb/train/pos/4491_10.txt'),\n",
       " PosixPath('/Users/l-zy16/.keras/datasets/aclImdb/train/pos/10141_9.txt'),\n",
       " PosixPath('/Users/l-zy16/.keras/datasets/aclImdb/train/pos/8467_7.txt'),\n",
       " PosixPath('/Users/l-zy16/.keras/datasets/aclImdb/train/pos/9987_9.txt'),\n",
       " PosixPath('/Users/l-zy16/.keras/datasets/aclImdb/train/pos/4818_9.txt'),\n",
       " PosixPath('/Users/l-zy16/.keras/datasets/aclImdb/train/pos/3736_8.txt'),\n",
       " PosixPath('/Users/l-zy16/.keras/datasets/aclImdb/train/pos/10940_10.txt'),\n",
       " PosixPath('/Users/l-zy16/.keras/datasets/aclImdb/train/pos/5440_10.txt'),\n",
       " PosixPath('/Users/l-zy16/.keras/datasets/aclImdb/train/pos/3854_10.txt'),\n",
       " PosixPath('/Users/l-zy16/.keras/datasets/aclImdb/train/pos/1678_9.txt'),\n",
       " PosixPath('/Users/l-zy16/.keras/datasets/aclImdb/train/pos/6197_10.txt'),\n",
       " PosixPath('/Users/l-zy16/.keras/datasets/aclImdb/train/pos/2050_7.txt'),\n",
       " PosixPath('/Users/l-zy16/.keras/datasets/aclImdb/train/pos/6395_9.txt'),\n",
       " PosixPath('/Users/l-zy16/.keras/datasets/aclImdb/train/pos/9344_8.txt'),\n",
       " PosixPath('/Users/l-zy16/.keras/datasets/aclImdb/train/pos/6320_10.txt'),\n",
       " PosixPath('/Users/l-zy16/.keras/datasets/aclImdb/train/pos/773_7.txt'),\n",
       " PosixPath('/Users/l-zy16/.keras/datasets/aclImdb/train/pos/7673_7.txt'),\n",
       " PosixPath('/Users/l-zy16/.keras/datasets/aclImdb/train/pos/7146_10.txt'),\n",
       " PosixPath('/Users/l-zy16/.keras/datasets/aclImdb/train/pos/6471_10.txt'),\n",
       " PosixPath('/Users/l-zy16/.keras/datasets/aclImdb/train/pos/6701_9.txt'),\n",
       " PosixPath('/Users/l-zy16/.keras/datasets/aclImdb/train/pos/644_9.txt'),\n",
       " PosixPath('/Users/l-zy16/.keras/datasets/aclImdb/train/pos/4540_7.txt'),\n",
       " PosixPath('/Users/l-zy16/.keras/datasets/aclImdb/train/pos/6097_10.txt'),\n",
       " PosixPath('/Users/l-zy16/.keras/datasets/aclImdb/train/pos/3813_7.txt'),\n",
       " PosixPath('/Users/l-zy16/.keras/datasets/aclImdb/train/pos/9242_10.txt'),\n",
       " PosixPath('/Users/l-zy16/.keras/datasets/aclImdb/train/pos/9513_10.txt'),\n",
       " PosixPath('/Users/l-zy16/.keras/datasets/aclImdb/train/pos/8024_10.txt'),\n",
       " PosixPath('/Users/l-zy16/.keras/datasets/aclImdb/train/pos/7717_10.txt'),\n",
       " PosixPath('/Users/l-zy16/.keras/datasets/aclImdb/train/pos/6673_7.txt'),\n",
       " PosixPath('/Users/l-zy16/.keras/datasets/aclImdb/train/pos/6571_10.txt'),\n",
       " PosixPath('/Users/l-zy16/.keras/datasets/aclImdb/train/pos/10728_10.txt'),\n",
       " PosixPath('/Users/l-zy16/.keras/datasets/aclImdb/train/pos/8614_9.txt'),\n",
       " PosixPath('/Users/l-zy16/.keras/datasets/aclImdb/train/pos/12044_7.txt'),\n",
       " PosixPath('/Users/l-zy16/.keras/datasets/aclImdb/train/pos/12495_7.txt'),\n",
       " PosixPath('/Users/l-zy16/.keras/datasets/aclImdb/train/pos/1347_10.txt'),\n",
       " PosixPath('/Users/l-zy16/.keras/datasets/aclImdb/train/pos/6958_7.txt'),\n",
       " PosixPath('/Users/l-zy16/.keras/datasets/aclImdb/train/pos/5964_8.txt'),\n",
       " PosixPath('/Users/l-zy16/.keras/datasets/aclImdb/train/pos/8651_9.txt'),\n",
       " PosixPath('/Users/l-zy16/.keras/datasets/aclImdb/train/pos/1416_10.txt'),\n",
       " PosixPath('/Users/l-zy16/.keras/datasets/aclImdb/train/pos/7802_10.txt'),\n",
       " PosixPath('/Users/l-zy16/.keras/datasets/aclImdb/train/pos/1899_7.txt'),\n",
       " PosixPath('/Users/l-zy16/.keras/datasets/aclImdb/train/pos/7680_8.txt'),\n",
       " PosixPath('/Users/l-zy16/.keras/datasets/aclImdb/train/pos/12136_9.txt'),\n",
       " PosixPath('/Users/l-zy16/.keras/datasets/aclImdb/train/pos/8960_10.txt'),\n",
       " PosixPath('/Users/l-zy16/.keras/datasets/aclImdb/train/pos/4921_8.txt'),\n",
       " PosixPath('/Users/l-zy16/.keras/datasets/aclImdb/train/pos/1704_8.txt'),\n",
       " PosixPath('/Users/l-zy16/.keras/datasets/aclImdb/train/pos/10078_8.txt'),\n",
       " PosixPath('/Users/l-zy16/.keras/datasets/aclImdb/train/pos/7902_10.txt'),\n",
       " PosixPath('/Users/l-zy16/.keras/datasets/aclImdb/train/pos/9280_9.txt'),\n",
       " PosixPath('/Users/l-zy16/.keras/datasets/aclImdb/train/pos/3829_10.txt'),\n",
       " PosixPath('/Users/l-zy16/.keras/datasets/aclImdb/train/pos/3437_8.txt'),\n",
       " PosixPath('/Users/l-zy16/.keras/datasets/aclImdb/train/pos/9651_9.txt'),\n",
       " PosixPath('/Users/l-zy16/.keras/datasets/aclImdb/train/pos/4127_8.txt'),\n",
       " PosixPath('/Users/l-zy16/.keras/datasets/aclImdb/train/pos/8688_8.txt'),\n",
       " PosixPath('/Users/l-zy16/.keras/datasets/aclImdb/train/pos/7861_10.txt'),\n",
       " PosixPath('/Users/l-zy16/.keras/datasets/aclImdb/train/pos/4069_10.txt'),\n",
       " PosixPath('/Users/l-zy16/.keras/datasets/aclImdb/train/pos/5752_8.txt'),\n",
       " PosixPath('/Users/l-zy16/.keras/datasets/aclImdb/train/pos/8803_10.txt'),\n",
       " PosixPath('/Users/l-zy16/.keras/datasets/aclImdb/train/pos/11299_8.txt'),\n",
       " PosixPath('/Users/l-zy16/.keras/datasets/aclImdb/train/pos/10990_7.txt'),\n",
       " PosixPath('/Users/l-zy16/.keras/datasets/aclImdb/train/pos/12087_10.txt'),\n",
       " PosixPath('/Users/l-zy16/.keras/datasets/aclImdb/train/pos/7961_10.txt'),\n",
       " PosixPath('/Users/l-zy16/.keras/datasets/aclImdb/train/pos/8950_7.txt'),\n",
       " PosixPath('/Users/l-zy16/.keras/datasets/aclImdb/train/pos/4638_10.txt'),\n",
       " PosixPath('/Users/l-zy16/.keras/datasets/aclImdb/train/pos/11196_7.txt'),\n",
       " PosixPath('/Users/l-zy16/.keras/datasets/aclImdb/train/pos/1798_9.txt'),\n",
       " PosixPath('/Users/l-zy16/.keras/datasets/aclImdb/train/pos/12392_9.txt'),\n",
       " PosixPath('/Users/l-zy16/.keras/datasets/aclImdb/train/pos/4717_8.txt'),\n",
       " PosixPath('/Users/l-zy16/.keras/datasets/aclImdb/train/pos/10470_9.txt'),\n",
       " PosixPath('/Users/l-zy16/.keras/datasets/aclImdb/train/pos/3693_8.txt'),\n",
       " PosixPath('/Users/l-zy16/.keras/datasets/aclImdb/train/pos/3242_8.txt'),\n",
       " PosixPath('/Users/l-zy16/.keras/datasets/aclImdb/train/pos/8587_7.txt'),\n",
       " PosixPath('/Users/l-zy16/.keras/datasets/aclImdb/train/pos/10648_8.txt'),\n",
       " PosixPath('/Users/l-zy16/.keras/datasets/aclImdb/train/pos/6309_8.txt'),\n",
       " PosixPath('/Users/l-zy16/.keras/datasets/aclImdb/train/pos/7674_10.txt'),\n",
       " PosixPath('/Users/l-zy16/.keras/datasets/aclImdb/train/pos/6343_10.txt'),\n",
       " PosixPath('/Users/l-zy16/.keras/datasets/aclImdb/train/pos/143_7.txt'),\n",
       " PosixPath('/Users/l-zy16/.keras/datasets/aclImdb/train/pos/9196_10.txt'),\n",
       " PosixPath('/Users/l-zy16/.keras/datasets/aclImdb/train/pos/3386_9.txt'),\n",
       " PosixPath('/Users/l-zy16/.keras/datasets/aclImdb/train/pos/7043_7.txt'),\n",
       " PosixPath('/Users/l-zy16/.keras/datasets/aclImdb/train/pos/7125_10.txt'),\n",
       " PosixPath('/Users/l-zy16/.keras/datasets/aclImdb/train/pos/7492_7.txt'),\n",
       " PosixPath('/Users/l-zy16/.keras/datasets/aclImdb/train/pos/2268_10.txt'),\n",
       " PosixPath('/Users/l-zy16/.keras/datasets/aclImdb/train/pos/2539_10.txt'),\n",
       " PosixPath('/Users/l-zy16/.keras/datasets/aclImdb/train/pos/6972_9.txt'),\n",
       " PosixPath('/Users/l-zy16/.keras/datasets/aclImdb/train/pos/1421_9.txt'),\n",
       " PosixPath('/Users/l-zy16/.keras/datasets/aclImdb/train/pos/5370_7.txt'),\n",
       " PosixPath('/Users/l-zy16/.keras/datasets/aclImdb/train/pos/8147_10.txt'),\n",
       " PosixPath('/Users/l-zy16/.keras/datasets/aclImdb/train/pos/7131_9.txt'),\n",
       " PosixPath('/Users/l-zy16/.keras/datasets/aclImdb/train/pos/872_9.txt'),\n",
       " PosixPath('/Users/l-zy16/.keras/datasets/aclImdb/train/pos/9096_10.txt'),\n",
       " PosixPath('/Users/l-zy16/.keras/datasets/aclImdb/train/pos/11165_8.txt'),\n",
       " PosixPath('/Users/l-zy16/.keras/datasets/aclImdb/train/pos/12159_7.txt'),\n",
       " PosixPath('/Users/l-zy16/.keras/datasets/aclImdb/train/pos/209_8.txt'),\n",
       " PosixPath('/Users/l-zy16/.keras/datasets/aclImdb/train/pos/7174_9.txt'),\n",
       " PosixPath('/Users/l-zy16/.keras/datasets/aclImdb/train/pos/11318_9.txt'),\n",
       " PosixPath('/Users/l-zy16/.keras/datasets/aclImdb/train/pos/1516_7.txt'),\n",
       " PosixPath('/Users/l-zy16/.keras/datasets/aclImdb/train/pos/8716_10.txt'),\n",
       " PosixPath('/Users/l-zy16/.keras/datasets/aclImdb/train/pos/7292_10.txt'),\n",
       " PosixPath('/Users/l-zy16/.keras/datasets/aclImdb/train/pos/4014_10.txt'),\n",
       " PosixPath('/Users/l-zy16/.keras/datasets/aclImdb/train/pos/8360_9.txt'),\n",
       " PosixPath('/Users/l-zy16/.keras/datasets/aclImdb/train/pos/9257_7.txt'),\n",
       " PosixPath('/Users/l-zy16/.keras/datasets/aclImdb/train/pos/11198_8.txt'),\n",
       " PosixPath('/Users/l-zy16/.keras/datasets/aclImdb/train/pos/5453_8.txt'),\n",
       " PosixPath('/Users/l-zy16/.keras/datasets/aclImdb/train/pos/5794_10.txt'),\n",
       " PosixPath('/Users/l-zy16/.keras/datasets/aclImdb/train/pos/9686_7.txt'),\n",
       " PosixPath('/Users/l-zy16/.keras/datasets/aclImdb/train/pos/8325_9.txt'),\n",
       " PosixPath('/Users/l-zy16/.keras/datasets/aclImdb/train/pos/3106_8.txt'),\n",
       " PosixPath('/Users/l-zy16/.keras/datasets/aclImdb/train/pos/8212_7.txt'),\n",
       " PosixPath('/Users/l-zy16/.keras/datasets/aclImdb/train/pos/11297_7.txt'),\n",
       " PosixPath('/Users/l-zy16/.keras/datasets/aclImdb/train/pos/10198_8.txt'),\n",
       " PosixPath('/Users/l-zy16/.keras/datasets/aclImdb/train/pos/11450_10.txt'),\n",
       " PosixPath('/Users/l-zy16/.keras/datasets/aclImdb/train/pos/7609_10.txt'),\n",
       " PosixPath('/Users/l-zy16/.keras/datasets/aclImdb/train/pos/3456_9.txt'),\n",
       " PosixPath('/Users/l-zy16/.keras/datasets/aclImdb/train/pos/7342_7.txt'),\n",
       " PosixPath('/Users/l-zy16/.keras/datasets/aclImdb/train/pos/1518_8.txt'),\n",
       " PosixPath('/Users/l-zy16/.keras/datasets/aclImdb/train/pos/3722_10.txt'),\n",
       " PosixPath('/Users/l-zy16/.keras/datasets/aclImdb/train/pos/5034_7.txt'),\n",
       " PosixPath('/Users/l-zy16/.keras/datasets/aclImdb/train/pos/6189_10.txt'),\n",
       " PosixPath('/Users/l-zy16/.keras/datasets/aclImdb/train/pos/9675_8.txt'),\n",
       " PosixPath('/Users/l-zy16/.keras/datasets/aclImdb/train/pos/2561_7.txt'),\n",
       " PosixPath('/Users/l-zy16/.keras/datasets/aclImdb/train/pos/10221_8.txt'),\n",
       " PosixPath('/Users/l-zy16/.keras/datasets/aclImdb/train/pos/3595_10.txt'),\n",
       " PosixPath('/Users/l-zy16/.keras/datasets/aclImdb/train/pos/440_10.txt'),\n",
       " PosixPath('/Users/l-zy16/.keras/datasets/aclImdb/train/pos/3881_9.txt'),\n",
       " PosixPath('/Users/l-zy16/.keras/datasets/aclImdb/train/pos/2315_10.txt'),\n",
       " PosixPath('/Users/l-zy16/.keras/datasets/aclImdb/train/pos/7008_8.txt'),\n",
       " PosixPath('/Users/l-zy16/.keras/datasets/aclImdb/train/pos/4850_10.txt'),\n",
       " PosixPath('/Users/l-zy16/.keras/datasets/aclImdb/train/pos/5146_9.txt'),\n",
       " PosixPath('/Users/l-zy16/.keras/datasets/aclImdb/train/pos/10736_10.txt'),\n",
       " PosixPath('/Users/l-zy16/.keras/datasets/aclImdb/train/pos/5905_9.txt'),\n",
       " PosixPath('/Users/l-zy16/.keras/datasets/aclImdb/train/pos/10928_7.txt'),\n",
       " PosixPath('/Users/l-zy16/.keras/datasets/aclImdb/train/pos/375_9.txt'),\n",
       " PosixPath('/Users/l-zy16/.keras/datasets/aclImdb/train/pos/6089_10.txt'),\n",
       " PosixPath('/Users/l-zy16/.keras/datasets/aclImdb/train/pos/10581_10.txt'),\n",
       " PosixPath('/Users/l-zy16/.keras/datasets/aclImdb/train/pos/8675_8.txt'),\n",
       " PosixPath('/Users/l-zy16/.keras/datasets/aclImdb/train/pos/4724_7.txt'),\n",
       " PosixPath('/Users/l-zy16/.keras/datasets/aclImdb/train/pos/96_10.txt'),\n",
       " PosixPath('/Users/l-zy16/.keras/datasets/aclImdb/train/pos/3653_10.txt'),\n",
       " PosixPath('/Users/l-zy16/.keras/datasets/aclImdb/train/pos/2364_10.txt'),\n",
       " PosixPath('/Users/l-zy16/.keras/datasets/aclImdb/train/pos/1901_7.txt'),\n",
       " PosixPath('/Users/l-zy16/.keras/datasets/aclImdb/train/pos/2346_9.txt'),\n",
       " PosixPath('/Users/l-zy16/.keras/datasets/aclImdb/train/pos/11270_10.txt'),\n",
       " PosixPath('/Users/l-zy16/.keras/datasets/aclImdb/train/pos/10747_10.txt'),\n",
       " PosixPath('/Users/l-zy16/.keras/datasets/aclImdb/train/pos/8963_8.txt'),\n",
       " PosixPath('/Users/l-zy16/.keras/datasets/aclImdb/train/pos/4821_10.txt'),\n",
       " PosixPath('/Users/l-zy16/.keras/datasets/aclImdb/train/pos/11521_10.txt'),\n",
       " PosixPath('/Users/l-zy16/.keras/datasets/aclImdb/train/pos/7778_10.txt'),\n",
       " PosixPath('/Users/l-zy16/.keras/datasets/aclImdb/train/pos/531_10.txt'),\n",
       " PosixPath('/Users/l-zy16/.keras/datasets/aclImdb/train/pos/6417_7.txt'),\n",
       " PosixPath('/Users/l-zy16/.keras/datasets/aclImdb/train/pos/8165_8.txt'),\n",
       " PosixPath('/Users/l-zy16/.keras/datasets/aclImdb/train/pos/22_8.txt'),\n",
       " PosixPath('/Users/l-zy16/.keras/datasets/aclImdb/train/pos/5613_9.txt'),\n",
       " PosixPath('/Users/l-zy16/.keras/datasets/aclImdb/train/pos/7129_10.txt'),\n",
       " PosixPath('/Users/l-zy16/.keras/datasets/aclImdb/train/pos/7678_10.txt'),\n",
       " PosixPath('/Users/l-zy16/.keras/datasets/aclImdb/train/pos/10116_10.txt'),\n",
       " PosixPath('/Users/l-zy16/.keras/datasets/aclImdb/train/pos/11421_10.txt'),\n",
       " PosixPath('/Users/l-zy16/.keras/datasets/aclImdb/train/pos/9318_9.txt'),\n",
       " PosixPath('/Users/l-zy16/.keras/datasets/aclImdb/train/pos/3797_9.txt'),\n",
       " PosixPath('/Users/l-zy16/.keras/datasets/aclImdb/train/pos/985_7.txt'),\n",
       " PosixPath('/Users/l-zy16/.keras/datasets/aclImdb/train/pos/12296_8.txt'),\n",
       " PosixPath('/Users/l-zy16/.keras/datasets/aclImdb/train/pos/2782_10.txt'),\n",
       " PosixPath('/Users/l-zy16/.keras/datasets/aclImdb/train/pos/360_10.txt'),\n",
       " PosixPath('/Users/l-zy16/.keras/datasets/aclImdb/train/pos/6070_8.txt'),\n",
       " PosixPath('/Users/l-zy16/.keras/datasets/aclImdb/train/pos/10952_10.txt'),\n",
       " PosixPath('/Users/l-zy16/.keras/datasets/aclImdb/train/pos/9299_8.txt'),\n",
       " PosixPath('/Users/l-zy16/.keras/datasets/aclImdb/train/pos/5303_10.txt'),\n",
       " PosixPath('/Users/l-zy16/.keras/datasets/aclImdb/train/pos/4634_10.txt'),\n",
       " PosixPath('/Users/l-zy16/.keras/datasets/aclImdb/train/pos/9648_8.txt'),\n",
       " PosixPath('/Users/l-zy16/.keras/datasets/aclImdb/train/pos/1579_10.txt'),\n",
       " PosixPath('/Users/l-zy16/.keras/datasets/aclImdb/train/pos/3846_10.txt'),\n",
       " PosixPath('/Users/l-zy16/.keras/datasets/aclImdb/train/pos/10024_9.txt'),\n",
       " PosixPath('/Users/l-zy16/.keras/datasets/aclImdb/train/pos/10259_8.txt'),\n",
       " PosixPath('/Users/l-zy16/.keras/datasets/aclImdb/train/pos/6876_8.txt'),\n",
       " PosixPath('/Users/l-zy16/.keras/datasets/aclImdb/train/pos/11983_10.txt'),\n",
       " PosixPath('/Users/l-zy16/.keras/datasets/aclImdb/train/pos/2897_10.txt'),\n",
       " PosixPath('/Users/l-zy16/.keras/datasets/aclImdb/train/pos/3282_8.txt'),\n",
       " PosixPath('/Users/l-zy16/.keras/datasets/aclImdb/train/pos/7248_9.txt'),\n",
       " PosixPath('/Users/l-zy16/.keras/datasets/aclImdb/train/pos/1328_10.txt'),\n",
       " PosixPath('/Users/l-zy16/.keras/datasets/aclImdb/train/pos/11024_9.txt'),\n",
       " PosixPath('/Users/l-zy16/.keras/datasets/aclImdb/train/pos/4065_10.txt'),\n",
       " PosixPath('/Users/l-zy16/.keras/datasets/aclImdb/train/pos/10852_10.txt'),\n",
       " PosixPath('/Users/l-zy16/.keras/datasets/aclImdb/train/pos/7833_8.txt'),\n",
       " ...]"
      ]
     },
     "execution_count": 26,
     "metadata": {},
     "output_type": "execute_result"
    }
   ],
   "source": [
    "# Path.glob可以递归的便利文件\n",
    "list((path / \"train\" / \"pos\").glob('*.txt'))"
   ]
  },
  {
   "cell_type": "code",
   "execution_count": 27,
   "metadata": {},
   "outputs": [
    {
     "data": {
      "text/plain": [
       "(12500, 12500, 12500, 12500)"
      ]
     },
     "execution_count": 27,
     "metadata": {},
     "output_type": "execute_result"
    }
   ],
   "source": [
    "# 查看一下每个文件夹中有多少的文件\n",
    "def review_paths(dirpath):\n",
    "    return [str(path) for path in dirpath.glob(\"*.txt\")] # 读取path中以txt结尾的\n",
    "\n",
    "train_pos = review_paths(path / \"train\" / \"pos\")\n",
    "train_neg = review_paths(path / \"train\" / \"neg\")\n",
    "test_valid_pos = review_paths(path / \"test\" / \"pos\")\n",
    "test_valid_neg = review_paths(path / \"test\" / \"neg\")\n",
    "\n",
    "len(train_pos), len(train_neg), len(test_valid_pos), len(test_valid_neg)"
   ]
  },
  {
   "cell_type": "code",
   "execution_count": 28,
   "metadata": {},
   "outputs": [],
   "source": [
    "# 将验证集变为10000个test和15000个validation\n",
    "np.random.shuffle(test_valid_pos)\n",
    "np.random.shuffle(test_valid_neg)\n",
    "\n",
    "test_pos = test_valid_pos[:5000]\n",
    "test_neg = test_valid_neg[:5000]\n",
    "\n",
    "valid_pos = test_valid_pos[5000:]\n",
    "valid_neg = test_valid_neg[5000:]"
   ]
  },
  {
   "cell_type": "markdown",
   "metadata": {},
   "source": [
    "#### 建立tf数据集"
   ]
  },
  {
   "cell_type": "code",
   "execution_count": 29,
   "metadata": {},
   "outputs": [],
   "source": [
    "def imdb_dataset(filepaths_positive, filepaths_negative):\n",
    "    # 输入存储有正面评价和反面评价的路径，自动生成评价str和label对应的list\n",
    "    reviews = []  # 储存平均\n",
    "    labels = []   # 储存label\n",
    "    for filepaths, label in ((filepaths_negative, 0), (filepaths_positive, 1)):\n",
    "        # 逐个读取文段，和标签一起append\n",
    "        for filepath in filepaths:\n",
    "            with open(filepath) as review_file:\n",
    "                reviews.append(review_file.read())\n",
    "            labels.append(label)\n",
    "    # 通过from tensor slices将数据存入data set\n",
    "    return tf.data.Dataset.from_tensor_slices(\n",
    "        (tf.constant(reviews), tf.constant(labels)))"
   ]
  },
  {
   "cell_type": "code",
   "execution_count": 30,
   "metadata": {},
   "outputs": [
    {
     "name": "stdout",
     "output_type": "stream",
     "text": [
      "tf.Tensor(b\"Working with one of the best Shakespeare sources, this film manages to be creditable to it's source, whilst still appealing to a wider audience.<br /><br />Branagh steals the film from under Fishburne's nose, and there's a talented cast on good form.\", shape=(), dtype=string)\n",
      "tf.Tensor(0, shape=(), dtype=int32)\n",
      "\n"
     ]
    }
   ],
   "source": [
    "for X, y in imdb_dataset(train_pos, train_neg).take(1):\n",
    "    print(X)\n",
    "    print(y)\n",
    "    print()"
   ]
  },
  {
   "cell_type": "code",
   "execution_count": 31,
   "metadata": {},
   "outputs": [],
   "source": [
    "# 提前准备batch数据\n",
    "batch_size = 32\n",
    "\n",
    "train_set = imdb_dataset(train_pos, train_neg).shuffle(25000).batch(batch_size).prefetch(1)\n",
    "valid_set = imdb_dataset(valid_pos, valid_neg).batch(batch_size).prefetch(1)\n",
    "test_set = imdb_dataset(test_pos, test_neg).batch(batch_size).prefetch(1)"
   ]
  },
  {
   "cell_type": "markdown",
   "metadata": {},
   "source": [
    "#### 通过词袋模型建立数据集"
   ]
  },
  {
   "cell_type": "code",
   "execution_count": 32,
   "metadata": {},
   "outputs": [
    {
     "data": {
      "text/plain": [
       "<tf.Tensor: shape=(2, 50), dtype=string, numpy=\n",
       "array([[b'it', b's', b'a', b'great', b'great', b'movie', b'i', b'loved',\n",
       "        b'it', b'<pad>', b'<pad>', b'<pad>', b'<pad>', b'<pad>',\n",
       "        b'<pad>', b'<pad>', b'<pad>', b'<pad>', b'<pad>', b'<pad>',\n",
       "        b'<pad>', b'<pad>', b'<pad>', b'<pad>', b'<pad>', b'<pad>',\n",
       "        b'<pad>', b'<pad>', b'<pad>', b'<pad>', b'<pad>', b'<pad>',\n",
       "        b'<pad>', b'<pad>', b'<pad>', b'<pad>', b'<pad>', b'<pad>',\n",
       "        b'<pad>', b'<pad>', b'<pad>', b'<pad>', b'<pad>', b'<pad>',\n",
       "        b'<pad>', b'<pad>', b'<pad>', b'<pad>', b'<pad>', b'<pad>'],\n",
       "       [b'it', b'was', b'terrible', b'run', b'away', b'<pad>', b'<pad>',\n",
       "        b'<pad>', b'<pad>', b'<pad>', b'<pad>', b'<pad>', b'<pad>',\n",
       "        b'<pad>', b'<pad>', b'<pad>', b'<pad>', b'<pad>', b'<pad>',\n",
       "        b'<pad>', b'<pad>', b'<pad>', b'<pad>', b'<pad>', b'<pad>',\n",
       "        b'<pad>', b'<pad>', b'<pad>', b'<pad>', b'<pad>', b'<pad>',\n",
       "        b'<pad>', b'<pad>', b'<pad>', b'<pad>', b'<pad>', b'<pad>',\n",
       "        b'<pad>', b'<pad>', b'<pad>', b'<pad>', b'<pad>', b'<pad>',\n",
       "        b'<pad>', b'<pad>', b'<pad>', b'<pad>', b'<pad>', b'<pad>',\n",
       "        b'<pad>']], dtype=object)>"
      ]
     },
     "execution_count": 32,
     "metadata": {},
     "output_type": "execute_result"
    }
   ],
   "source": [
    "def preprocess(X_batch, n_words=50):\n",
    "    # 确定最终的输出：第一个维度和输入的语句数量相同，第二个维度和输出的词向量长度限制相同，这里是50\n",
    "    shape = tf.shape(X_batch) * tf.constant([1, 0]) + tf.constant([0, n_words])\n",
    "    # substr返回字符串中的一段，比如这里返回字符中的0-300个字符\n",
    "    Z = tf.strings.substr(X_batch, 0, 300)\n",
    "    # 全部变为小写 \n",
    "    Z = tf.strings.lower(Z)\n",
    "    # 利用re筛选字符串中对应的字段，变为空格 \n",
    "    Z = tf.strings.regex_replace(Z, b\"<br\\\\s*/?>\", b\" \")\n",
    "    Z = tf.strings.regex_replace(Z, b\"[^a-z]\", b\" \")\n",
    "    Z = tf.strings.split(Z)\n",
    "    # 输出每个位置一个单词的向量，空的地方填充pad\n",
    "    return Z.to_tensor(shape=shape, default_value=b\"<pad>\")\n",
    "\n",
    "X_example = tf.constant([\"It's a great, great movie! I loved it.\", \"It was terrible, run away!!!\"])\n",
    "preprocess(X_example)"
   ]
  },
  {
   "cell_type": "code",
   "execution_count": 35,
   "metadata": {},
   "outputs": [
    {
     "data": {
      "text/plain": [
       "[b'<pad>',\n",
       " b'it',\n",
       " b'great',\n",
       " b's',\n",
       " b'a',\n",
       " b'movie',\n",
       " b'i',\n",
       " b'loved',\n",
       " b'was',\n",
       " b'terrible',\n",
       " b'run',\n",
       " b'away']"
      ]
     },
     "execution_count": 35,
     "metadata": {},
     "output_type": "execute_result"
    }
   ],
   "source": [
    "# 接下来对于这些句子，统计最常出现的词\n",
    "from collections import Counter\n",
    "\n",
    "def get_vocabulary(data, max_size = 1000):\n",
    "    pre_result = preprocess(data).numpy()    # 取出预处理生产的array\n",
    "    counter = Counter() #初始化计数器\n",
    "    for words in pre_result: # 对每个句子进行遍历\n",
    "        for word in words: # 对这个句子中的每个词进行循环\n",
    "            if word != b'<pad>':\n",
    "                counter[word] += 1 # 计数\n",
    "    # 在一定范围内输出最多的词\n",
    "    return [b'<pad>'] + [word for word,count in counter.most_common(max_size)]\n",
    "\n",
    "get_vocabulary(X_example)"
   ]
  },
  {
   "cell_type": "markdown",
   "metadata": {},
   "source": [
    "#### 建立词向量处理层"
   ]
  },
  {
   "cell_type": "code",
   "execution_count": 38,
   "metadata": {},
   "outputs": [],
   "source": [
    "# 将上面实现的两个功能集成到一个神经网络层中去\n",
    "class TextVectorization(keras.layers.Layer):\n",
    "\n",
    "    def __init__(self, max_vocabulary_size=1000, n_oov_buckets=100, dtype=tf.string, **kwargs):\n",
    "        super().__init__(dtype=dtype, **kwargs)\n",
    "        # 基础设置，设定最多出现的词数以及空位的数量\n",
    "        self.max_vocabulary_size = max_vocabulary_size\n",
    "        self.n_oov_buckets = n_oov_buckets\n",
    "\n",
    "    def adapt(self, data_sample):\n",
    "        self.vocab = get_vocabulary(data_sample, self.max_vocabulary_size)\n",
    "        # 通过已经实现的方法对于词数进行统计，生成对应的查询table\n",
    "        words = tf.constant(self.vocab)\n",
    "        word_ids = tf.range(len(self.vocab), dtype=tf.int64)\n",
    "        vocab_init = tf.lookup.KeyValueTensorInitializer(words, word_ids)\n",
    "        self.table = tf.lookup.StaticVocabularyTable(vocab_init, self.n_oov_buckets)\n",
    "        \n",
    "    def call(self, inputs):\n",
    "        # 对于输入的句子，经过加工后将词替换为该词的编号\n",
    "        preprocessed_inputs = preprocess(inputs)\n",
    "        return self.table.lookup(preprocessed_inputs)"
   ]
  },
  {
   "cell_type": "code",
   "execution_count": 39,
   "metadata": {},
   "outputs": [
    {
     "data": {
      "text/plain": [
       "<tf.Tensor: shape=(2, 50), dtype=int64, numpy=\n",
       "array([[ 1,  3,  4,  2,  2,  5,  6,  7,  1,  0,  0,  0,  0,  0,  0,  0,\n",
       "         0,  0,  0,  0,  0,  0,  0,  0,  0,  0,  0,  0,  0,  0,  0,  0,\n",
       "         0,  0,  0,  0,  0,  0,  0,  0,  0,  0,  0,  0,  0,  0,  0,  0,\n",
       "         0,  0],\n",
       "       [ 1,  8,  9, 10, 11,  0,  0,  0,  0,  0,  0,  0,  0,  0,  0,  0,\n",
       "         0,  0,  0,  0,  0,  0,  0,  0,  0,  0,  0,  0,  0,  0,  0,  0,\n",
       "         0,  0,  0,  0,  0,  0,  0,  0,  0,  0,  0,  0,  0,  0,  0,  0,\n",
       "         0,  0]])>"
      ]
     },
     "execution_count": 39,
     "metadata": {},
     "output_type": "execute_result"
    }
   ],
   "source": [
    "text_vectorization = TextVectorization()\n",
    "\n",
    "text_vectorization.adapt(X_example)\n",
    "text_vectorization(X_example)"
   ]
  },
  {
   "cell_type": "code",
   "execution_count": 47,
   "metadata": {},
   "outputs": [],
   "source": [
    "# 对于训练集使用该方法，计算词频率，确定table\n",
    "max_vocabulary_size = 1000\n",
    "n_oov_buckets = 100\n",
    "\n",
    "sample_review_batches = train_set.map(lambda review, label: review)\n",
    "sample_reviews = np.concatenate(list(sample_review_batches.as_numpy_iterator()),\n",
    "                                axis=0)\n",
    "\n",
    "text_vectorization = TextVectorization(max_vocabulary_size, n_oov_buckets,\n",
    "                                       input_shape=[])\n",
    "text_vectorization.adapt(sample_reviews)"
   ]
  },
  {
   "cell_type": "code",
   "execution_count": 48,
   "metadata": {},
   "outputs": [
    {
     "data": {
      "text/plain": [
       "<tf.Tensor: shape=(2, 50), dtype=int64, numpy=\n",
       "array([[  9,  14,   2,  64,  64,  12,   5, 256,   9,   0,   0,   0,   0,\n",
       "          0,   0,   0,   0,   0,   0,   0,   0,   0,   0,   0,   0,   0,\n",
       "          0,   0,   0,   0,   0,   0,   0,   0,   0,   0,   0,   0,   0,\n",
       "          0,   0,   0,   0,   0,   0,   0,   0,   0,   0,   0],\n",
       "       [  9,  13, 269, 531, 334,   0,   0,   0,   0,   0,   0,   0,   0,\n",
       "          0,   0,   0,   0,   0,   0,   0,   0,   0,   0,   0,   0,   0,\n",
       "          0,   0,   0,   0,   0,   0,   0,   0,   0,   0,   0,   0,   0,\n",
       "          0,   0,   0,   0,   0,   0,   0,   0,   0,   0,   0]])>"
      ]
     },
     "execution_count": 48,
     "metadata": {},
     "output_type": "execute_result"
    }
   ],
   "source": [
    "text_vectorization(X_example)"
   ]
  },
  {
   "cell_type": "code",
   "execution_count": 49,
   "metadata": {},
   "outputs": [
    {
     "data": {
      "text/plain": [
       "<tf.Tensor: shape=(2, 4), dtype=float32, numpy=\n",
       "array([[2., 2., 0., 1.],\n",
       "       [3., 0., 2., 0.]], dtype=float32)>"
      ]
     },
     "execution_count": 49,
     "metadata": {},
     "output_type": "execute_result"
    }
   ],
   "source": [
    "# 完成了word到序号的转换后，我们需要将这种信息整合起来，利用词袋模型，统计在一个句子中一个词出现的次数\n",
    "# 比如这个例子，在第一个句子中，0出现了两次，1出现了两次，3出现了一次，所以最终为[2,2,0,1]\n",
    "simple_example = tf.constant([[1, 3, 1, 0, 0], [2, 2, 0, 0, 0]])\n",
    "tf.reduce_sum(tf.one_hot(simple_example, 4), axis=1)"
   ]
  },
  {
   "cell_type": "code",
   "execution_count": 50,
   "metadata": {},
   "outputs": [
    {
     "data": {
      "text/plain": [
       "<tf.Tensor: shape=(2, 5, 4), dtype=float32, numpy=\n",
       "array([[[0., 1., 0., 0.],\n",
       "        [0., 0., 0., 1.],\n",
       "        [0., 1., 0., 0.],\n",
       "        [1., 0., 0., 0.],\n",
       "        [1., 0., 0., 0.]],\n",
       "\n",
       "       [[0., 0., 1., 0.],\n",
       "        [0., 0., 1., 0.],\n",
       "        [1., 0., 0., 0.],\n",
       "        [1., 0., 0., 0.],\n",
       "        [1., 0., 0., 0.]]], dtype=float32)>"
      ]
     },
     "execution_count": 50,
     "metadata": {},
     "output_type": "execute_result"
    }
   ],
   "source": [
    "tf.one_hot(simple_example, 4)"
   ]
  },
  {
   "cell_type": "code",
   "execution_count": 54,
   "metadata": {},
   "outputs": [],
   "source": [
    "# 编写一个词袋层\n",
    "class BagOfWords(keras.layers.Layer):\n",
    "    def __init__(self, n_tokens, dtype=tf.int32, **kwargs):\n",
    "        super().__init__(dtype=dtype, **kwargs)\n",
    "        # 设置需要保存的token数\n",
    "        self.n_tokens = n_tokens\n",
    "    \n",
    "    def call(self, inputs):\n",
    "        one_hot = tf.one_hot(inputs, self.n_tokens)\n",
    "        return tf.reduce_sum(one_hot, axis=1)[:, 1:]   # 注意是在第二个轴相加\n",
    "        #这里之所以剔除第一列的计数，也就是0号词，是因为这个词是default填充"
   ]
  },
  {
   "cell_type": "code",
   "execution_count": 55,
   "metadata": {},
   "outputs": [],
   "source": [
    "n_tokens = max_vocabulary_size + n_oov_buckets + 1 # add 1 for <pad>\n",
    "bag_of_words = BagOfWords(n_tokens)"
   ]
  },
  {
   "cell_type": "markdown",
   "metadata": {},
   "source": [
    "#### 万事具备，建立模型"
   ]
  },
  {
   "cell_type": "code",
   "execution_count": 58,
   "metadata": {},
   "outputs": [
    {
     "name": "stdout",
     "output_type": "stream",
     "text": [
      "Epoch 1/7\n",
      "782/782 [==============================] - 5s 5ms/step - loss: 0.5852 - accuracy: 0.6780 - val_loss: 0.5284 - val_accuracy: 0.7239\n",
      "Epoch 2/7\n",
      "782/782 [==============================] - 4s 4ms/step - loss: 0.4678 - accuracy: 0.7716 - val_loss: 0.5041 - val_accuracy: 0.7476\n",
      "Epoch 3/7\n",
      "782/782 [==============================] - 4s 5ms/step - loss: 0.4082 - accuracy: 0.8149 - val_loss: 0.5124 - val_accuracy: 0.7435\n",
      "Epoch 4/7\n",
      "782/782 [==============================] - 4s 4ms/step - loss: 0.3360 - accuracy: 0.8623 - val_loss: 0.5377 - val_accuracy: 0.7441\n",
      "Epoch 5/7\n",
      "782/782 [==============================] - 4s 5ms/step - loss: 0.2479 - accuracy: 0.9171 - val_loss: 0.6005 - val_accuracy: 0.7282\n",
      "Epoch 6/7\n",
      "782/782 [==============================] - 4s 5ms/step - loss: 0.1731 - accuracy: 0.9538 - val_loss: 0.6608 - val_accuracy: 0.7261\n",
      "Epoch 7/7\n",
      "782/782 [==============================] - 4s 5ms/step - loss: 0.1015 - accuracy: 0.9842 - val_loss: 0.7000 - val_accuracy: 0.7300\n"
     ]
    },
    {
     "data": {
      "text/plain": [
       "<tensorflow.python.keras.callbacks.History at 0x7fd32ee24790>"
      ]
     },
     "execution_count": 58,
     "metadata": {},
     "output_type": "execute_result"
    }
   ],
   "source": [
    "model = keras.models.Sequential([\n",
    "    text_vectorization, # 将输入词语向量化\n",
    "    bag_of_words,       # 装入词袋\n",
    "    keras.layers.Dense(100, activation=\"relu\"),\n",
    "    keras.layers.Dense(1, activation=\"sigmoid\"),\n",
    "])\n",
    "model.compile(loss=\"binary_crossentropy\", optimizer=\"nadam\",\n",
    "              metrics=[\"accuracy\"])\n",
    "model.fit(train_set, epochs=7, validation_data=valid_set)"
   ]
  },
  {
   "cell_type": "markdown",
   "metadata": {},
   "source": [
    "## COOL !!"
   ]
  },
  {
   "cell_type": "markdown",
   "metadata": {},
   "source": [
    "What I have done SO FAR:\n",
    "* 将评论和对应0，1标签对应\n",
    "* 清洗每一条评论，包括大小写，标点等，仅仅挑选出有效的词语，将句子转化为词语组成的list\n",
    "* 对于语句list，统计测试集中出现频率最高的1000个词，为这些词打上编号\n",
    "* 将语句list转换为编号list，统计每个词出现的次数，最终将句子转化为词语出现频率的vector\n",
    "* 将vector作为input feature，情绪好坏 0 & 1 作为 y 训练神经网络"
   ]
  },
  {
   "cell_type": "markdown",
   "metadata": {},
   "source": [
    "# 2021.11.21\n",
    "## 知识点：\n",
    "* RNN\n",
    "* 深度RNN\n",
    "* 预测N个步长\n",
    "* layer norm层实现\n",
    "* LSTM\n",
    "* 卷积RNN"
   ]
  },
  {
   "cell_type": "markdown",
   "metadata": {},
   "source": [
    "## 搭建一个简单的RNN"
   ]
  },
  {
   "cell_type": "code",
   "execution_count": 8,
   "metadata": {},
   "outputs": [],
   "source": [
    "# 首先产生一个时间序列样本\n",
    "def generate_time_series(batch_size, n_steps):\n",
    "    \"\"\"\n",
    "    batch_size ：产生数据的数量\n",
    "    n_steps：产生序列的长度\n",
    "    最终输出一个batch_size * n_steps * 1的矩阵，也即这里的数据特征为1维\n",
    "    \"\"\"\n",
    "    freq1, freq2, offsets1, offsets2 = np.random.rand(4, batch_size, 1)\n",
    "    time = np.linspace(0, 1, n_steps)\n",
    "    series = 0.5 * np.sin((time - offsets1) * (freq1 * 10 + 10))  #   wave 1\n",
    "    series += 0.2 * np.sin((time - offsets2) * (freq2 * 20 + 20)) # + wave 2\n",
    "    series += 0.1 * (np.random.rand(batch_size, n_steps) - 0.5)   # + noise\n",
    "\n",
    "    # x[...]代表全选，np.newaxis代表为数据添加一个新的轴\n",
    "    return series[..., np.newaxis].astype(np.float32)"
   ]
  },
  {
   "cell_type": "code",
   "execution_count": 9,
   "metadata": {},
   "outputs": [],
   "source": [
    "# 产生训练样本：\n",
    "# * 7000个训练样本， 2000个验证样本，1000个测试样本\n",
    "\n",
    "np.random.seed(42)\n",
    "\n",
    "n_steps = 50\n",
    "series = generate_time_series(10000, n_steps + 1)\n",
    "X_train, y_train = series[:7000, :n_steps], series[:7000, -1]\n",
    "X_valid, y_valid = series[7000:9000, :n_steps], series[7000:9000, -1]\n",
    "X_test, y_test = series[9000:, :n_steps], series[9000:, -1]"
   ]
  },
  {
   "cell_type": "code",
   "execution_count": 12,
   "metadata": {},
   "outputs": [
    {
     "data": {
      "text/plain": [
       "(50, 1)"
      ]
     },
     "execution_count": 12,
     "metadata": {},
     "output_type": "execute_result"
    }
   ],
   "source": [
    "X_train[0].shape"
   ]
  },
  {
   "cell_type": "code",
   "execution_count": 15,
   "metadata": {},
   "outputs": [
    {
     "name": "stdout",
     "output_type": "stream",
     "text": [
      "Epoch 1/20\n",
      "219/219 [==============================] - 2s 5ms/step - loss: 0.1554 - val_loss: 0.0489\n",
      "Epoch 2/20\n",
      "219/219 [==============================] - 1s 4ms/step - loss: 0.0409 - val_loss: 0.0296\n",
      "Epoch 3/20\n",
      "219/219 [==============================] - 1s 4ms/step - loss: 0.0277 - val_loss: 0.0218\n",
      "Epoch 4/20\n",
      "219/219 [==============================] - 1s 4ms/step - loss: 0.0208 - val_loss: 0.0177\n",
      "Epoch 5/20\n",
      "219/219 [==============================] - 1s 5ms/step - loss: 0.0174 - val_loss: 0.0151\n",
      "Epoch 6/20\n",
      "219/219 [==============================] - 1s 6ms/step - loss: 0.0146 - val_loss: 0.0134\n",
      "Epoch 7/20\n",
      "219/219 [==============================] - 1s 6ms/step - loss: 0.0138 - val_loss: 0.0123\n",
      "Epoch 8/20\n",
      "219/219 [==============================] - 1s 6ms/step - loss: 0.0128 - val_loss: 0.0116\n",
      "Epoch 9/20\n",
      "219/219 [==============================] - 1s 4ms/step - loss: 0.0118 - val_loss: 0.0112\n",
      "Epoch 10/20\n",
      "219/219 [==============================] - 1s 4ms/step - loss: 0.0117 - val_loss: 0.0110\n",
      "Epoch 11/20\n",
      "219/219 [==============================] - 1s 4ms/step - loss: 0.0112 - val_loss: 0.0109\n",
      "Epoch 12/20\n",
      "219/219 [==============================] - 1s 4ms/step - loss: 0.0115 - val_loss: 0.0109\n",
      "Epoch 13/20\n",
      "219/219 [==============================] - 1s 6ms/step - loss: 0.0114 - val_loss: 0.0109\n",
      "Epoch 14/20\n",
      "219/219 [==============================] - 1s 5ms/step - loss: 0.0114 - val_loss: 0.0109\n",
      "Epoch 15/20\n",
      "219/219 [==============================] - 1s 4ms/step - loss: 0.0113 - val_loss: 0.0109\n",
      "Epoch 16/20\n",
      "219/219 [==============================] - 1s 4ms/step - loss: 0.0114 - val_loss: 0.0109\n",
      "Epoch 17/20\n",
      "219/219 [==============================] - 1s 4ms/step - loss: 0.0114 - val_loss: 0.0109\n",
      "Epoch 18/20\n",
      "219/219 [==============================] - 1s 4ms/step - loss: 0.0115 - val_loss: 0.0109\n",
      "Epoch 19/20\n",
      "219/219 [==============================] - 1s 5ms/step - loss: 0.0115 - val_loss: 0.0109\n",
      "Epoch 20/20\n",
      "219/219 [==============================] - 1s 4ms/step - loss: 0.0116 - val_loss: 0.0109\n"
     ]
    }
   ],
   "source": [
    "# 搭建一个简单的RNN\n",
    "np.random.seed(42)\n",
    "tf.random.set_seed(42)\n",
    "\n",
    "# 创建一个模型，只有一层一个简单的RNN神经元，这里input shape是None，1是因为神经网络可以处理任意长度的步长\n",
    "# 这里的输入是一个 batch * step * features的方式，所以每次取出一个样本，维度就是step * feature\n",
    "# 注意到这里的RNN实际上只有3个参数：Wx，Wy，b\n",
    "model = keras.models.Sequential([\n",
    "    keras.layers.SimpleRNN(1, input_shape = [None, 1])\n",
    "])\n",
    "\n",
    "optimizer = keras.optimizers.Adam(learning_rate=0.005)\n",
    "model.compile(loss = 'mse', optimizer = optimizer)\n",
    "history = model.fit(X_train, y_train, epochs = 20, validation_data = (X_valid, y_valid))"
   ]
  },
  {
   "cell_type": "markdown",
   "metadata": {},
   "source": [
    "## 深度RNN"
   ]
  },
  {
   "cell_type": "code",
   "execution_count": null,
   "metadata": {},
   "outputs": [],
   "source": [
    "model = keras.models.Sequential([\n",
    "    # 这里的20指的是每一步RNN都将1维的数据变为20维，并且将这个输出传给下一步\n",
    "    # 另一个注意的点是：如果RNN后要跟RNN，则必须要求其返回整个序列输出，这个序列3D数据要作为输入传给下一层RNN\n",
    "    keras.layers.SimpleRNN(20， return_sequences=True, input_shape = [None,1]),\n",
    "    # 由于这一层之后是一个Dense，只用接受一步的数据，所以这里按照默认将最后一步的输出传给dense，同样是20维\n",
    "    keras.layers.SimpleRNN(20)\n",
    "    keras.layers.Dense(1)\n",
    "])\n",
    "\n",
    "model.compile(loss ='mse', optimizer='adam')\n",
    "history = model.fit(X_train,y_train, epochs=20, validation_data=(X_valid, y_valid))"
   ]
  },
  {
   "cell_type": "markdown",
   "metadata": {},
   "source": [
    "## 同时预测N个步长"
   ]
  },
  {
   "cell_type": "code",
   "execution_count": 17,
   "metadata": {},
   "outputs": [],
   "source": [
    "np.random.seed(42)\n",
    "# 假设这里我们预测是10步，创建一个尺寸跟刚才一样的数据集\n",
    "n_steps = 50\n",
    "series = generate_time_series(10000, n_steps + 10)\n",
    "X_train, Y_train = series[:7000, :n_steps], series[:7000, -10:, 0]\n",
    "X_valid, Y_valid = series[7000:9000, :n_steps], series[7000:9000, -10:, 0]\n",
    "X_test, Y_test = series[9000:, :n_steps], series[9000:, -10:, 0]"
   ]
  },
  {
   "cell_type": "markdown",
   "metadata": {},
   "source": [
    "搭建一个序列到序列的RNN"
   ]
  },
  {
   "cell_type": "markdown",
   "metadata": {},
   "source": [
    "假设我们想让模型在每个时刻都预测下10个时刻的数据，即在t=0时预测1-10，....。此时的标签数据应该是在每个时刻，都有一个10 * feature的数据预测"
   ]
  },
  {
   "cell_type": "code",
   "execution_count": 18,
   "metadata": {},
   "outputs": [
    {
     "data": {
      "text/plain": [
       "(10000, 60, 1)"
      ]
     },
     "execution_count": 18,
     "metadata": {},
     "output_type": "execute_result"
    }
   ],
   "source": [
    "series.shape"
   ]
  },
  {
   "cell_type": "code",
   "execution_count": 19,
   "metadata": {},
   "outputs": [],
   "source": [
    "Y = np.empty((10000, n_steps, 10))\n",
    "for step_ahead in range(1, 10 + 1):\n",
    "    # Y[..., step_ahead -1]是10000个样本，在50个时刻，向前step_ahead的预测，是一个10000 * 50 * 1矩阵\n",
    "    # series[..., step_ahead:step_ahead + n_steps, 0]是10000个样本，从step_ahead开始，到50+ahead的所有预测，是10000 * 50 * 1的 \n",
    "    # 相当于将数据从0-50向前平移ahead步，就是每个时刻ahead步的预测\n",
    "    Y[..., step_ahead - 1] = series[..., step_ahead:step_ahead + n_steps, 0]\n",
    "\n",
    "Y_train = Y[:7000]\n",
    "Y_valid = Y[7000:9000]\n",
    "Y_test = Y[9000:]"
   ]
  },
  {
   "cell_type": "code",
   "execution_count": 20,
   "metadata": {},
   "outputs": [
    {
     "data": {
      "text/plain": [
       "((7000, 50, 1), (7000, 50, 10))"
      ]
     },
     "execution_count": 20,
     "metadata": {},
     "output_type": "execute_result"
    }
   ],
   "source": [
    "X_train.shape, Y_train.shape"
   ]
  },
  {
   "cell_type": "markdown",
   "metadata": {},
   "source": [
    "### 创建一个序列到序列的RNN训练这个任务"
   ]
  },
  {
   "cell_type": "code",
   "execution_count": null,
   "metadata": {},
   "outputs": [],
   "source": [
    "np.random.seed(42)\n",
    "tf.random.set_seed(42)\n",
    "\n",
    "model = keras.models.Sequential([\n",
    "    keras.layers.SimpleRNN(20, return_sequences=True, input_shape=[None, 1]),\n",
    "    keras.layers.SimpleRNN(20, return_sequences=True), # 这里的输出是10000 * 50 * 20的矩阵\n",
    "    keras.layers.TimeDistributed(keras.layers.Dense(10)) # 这里的Dense对每一步的数据进行作用\n",
    "    # TimeDistributed可以接受所有layer\n",
    "    # Dense的处理从原来的[batch , outputdim] 变为 [batch * time, ouputdim], 计算完成后重新变为三维\n",
    "    # 这样就成功的将序列数据转换为序列数据\n",
    "])  \n",
    "\n",
    "def last_time_step_mse(Y_true, Y_pred):\n",
    "    return keras.metrics.mean_squared_error(Y_true[:, -1], Y_pred[:, -1])\n",
    "\n",
    "model.compile(loss=\"mse\", optimizer=keras.optimizers.Adam(learning_rate=0.01), metrics=[last_time_step_mse])\n",
    "history = model.fit(X_train, Y_train, epochs=20,\n",
    "                    validation_data=(X_valid, Y_valid))"
   ]
  },
  {
   "cell_type": "markdown",
   "metadata": {},
   "source": [
    "## Layer Norm"
   ]
  },
  {
   "cell_type": "markdown",
   "metadata": {},
   "source": [
    "keras.layers.SimpleRNNCell和keras.layers.SimpleRNN的区别是，cell只执行每一步的操作，即获取state，input后，计算其线性组合，然后输出新的state和output。而SimpleRNN则是集成了cell的功能，按照顺序进行循环。这里的Layer norm是要在线性组合之后，激活函数之前，所以这里对于cell进行自定义。"
   ]
  },
  {
   "cell_type": "code",
   "execution_count": 21,
   "metadata": {},
   "outputs": [],
   "source": [
    "from tensorflow.keras.layers import LayerNormalization"
   ]
  },
  {
   "cell_type": "code",
   "execution_count": null,
   "metadata": {},
   "outputs": [],
   "source": [
    "class LNSimpleRNNCell(keras.layers.Layer):\n",
    "    def __init__(self, units, activation=\"tanh\", **kwargs):\n",
    "\n",
    "        super().__init__(**kwargs)\n",
    "        self.state_size = units #输出下一时刻要使用的state的维度\n",
    "        self.output_size = units # 输出维度\n",
    "        # 创建一个简单的线性cell，activation设置为none，因为需要在进入act之前进行Norm\n",
    "        self.simple_rnn_cell = keras.layers.SimpleRNNCell(units,\n",
    "                                                          activation=None)\n",
    "        self.layer_norm = LayerNormalization()\n",
    "        self.activation = keras.activations.get(activation)\n",
    "    \n",
    "    # 获取第一个时刻的state，即按照形状进行0初始化\n",
    "    def get_initial_state(self, inputs=None, batch_size=None, dtype=None):\n",
    "        if inputs is not None:\n",
    "            batch_size = tf.shape(inputs)[0]\n",
    "            dtype = inputs.dtype\n",
    "        return [tf.zeros([batch_size, self.state_size], dtype=dtype)]\n",
    "    \n",
    "    # 当t时刻调用cell时：接受两个参数，input，上一阶段state\n",
    "    def call(self, inputs, states):\n",
    "        # 进入simple cell进行加工，产出新的output和state\n",
    "        outputs, new_states = self.simple_rnn_cell(inputs, states)\n",
    "        # 在进入act之前进行laynorm\n",
    "        norm_outputs = self.activation(self.layer_norm(outputs))\n",
    "        return norm_outputs, [norm_outputs] # 输出output + states "
   ]
  },
  {
   "cell_type": "markdown",
   "metadata": {},
   "source": [
    "调用cell时，只需要将其传给RNN layer即可"
   ]
  },
  {
   "cell_type": "code",
   "execution_count": null,
   "metadata": {},
   "outputs": [],
   "source": [
    "np.random.seed(42)\n",
    "tf.random.set_seed(42)\n",
    "\n",
    "model = keras.models.Sequential([\n",
    "    keras.layers.RNN(LNSimpleRNNCell(20), return_sequences=True,\n",
    "                     input_shape=[None, 1]),\n",
    "    keras.layers.RNN(LNSimpleRNNCell(20), return_sequences=True),\n",
    "    keras.layers.TimeDistributed(keras.layers.Dense(10))\n",
    "])\n",
    "\n",
    "model.compile(loss=\"mse\", optimizer=\"adam\", metrics=[last_time_step_mse])\n",
    "history = model.fit(X_train, Y_train, epochs=20,\n",
    "                    validation_data=(X_valid, Y_valid))"
   ]
  },
  {
   "cell_type": "markdown",
   "metadata": {},
   "source": [
    "事实上，可以自己构造一个RNN层来看看这种循环关系："
   ]
  },
  {
   "cell_type": "code",
   "execution_count": null,
   "metadata": {},
   "outputs": [],
   "source": [
    "class MyRNN(keras.layers.Layer):\n",
    "    \n",
    "    def __init__(self, cell, return_sequences=False, **kwargs):\n",
    "        super().__init__(**kwargs)\n",
    "        # RNN循环的基本单元：\n",
    "        self.cell = cell\n",
    "        # 是否返回sequences\n",
    "        self.return_sequences = return_sequences\n",
    "        # 查看cell中是否定义了get_initial_state，如果没有就定义一个\n",
    "        self.get_initial_state = getattr(\n",
    "            self.cell, \"get_initial_state\", self.fallback_initial_state)\n",
    "    \n",
    "    def fallback_initial_state(self, inputs):\n",
    "        batch_size = tf.shape(inputs)[0]\n",
    "        # 通过获取cell中的state维度，创建初始state（注意在前面定义过的基本cell中，state_size = unit）\n",
    "        return [tf.zeros([batch_size, self.cell.state_size], dtype=inputs.dtype)]\n",
    "    \n",
    "    @tf.function\n",
    "    def call(self, inputs):\n",
    "        # 第一次循环前，获取初始state\n",
    "        states = self.get_initial_state(inputs)\n",
    "        # 获取输入shape\n",
    "        shape = tf.shape(inputs)\n",
    "        batch_size = shape[0] # 样本数 \n",
    "        n_steps = shape[1]    # 序列长度\n",
    "        # 根据序列长度创建array\n",
    "        sequences = tf.TensorArray(\n",
    "            inputs.dtype, size=(n_steps if self.return_sequences else 0)) \n",
    "        # 根据cell中的output size初始化输出\n",
    "        outputs = tf.zeros(shape=[batch_size, self.cell.output_size], dtype=inputs.dtype)\n",
    "        # 开始每一步的迭代：\n",
    "        for step in tf.range(n_steps):\n",
    "            outputs, states = self.cell(inputs[:, step], states)\n",
    "            # 储存每一步的输出\n",
    "            if self.return_sequences:\n",
    "                sequences = sequences.write(step, outputs)\n",
    "        # 因为储存每一步的输出是按照 t bacth feature，现在修改为batch t feature\n",
    "        if self.return_sequences:\n",
    "            return tf.transpose(sequences.stack(), [1, 0, 2])\n",
    "        else:\n",
    "            return outputs"
   ]
  },
  {
   "cell_type": "code",
   "execution_count": null,
   "metadata": {},
   "outputs": [],
   "source": [
    "np.random.seed(42)\n",
    "tf.random.set_seed(42)\n",
    "\n",
    "model = keras.models.Sequential([\n",
    "    MyRNN(LNSimpleRNNCell(20), return_sequences=True,\n",
    "          input_shape=[None, 1]),\n",
    "    MyRNN(LNSimpleRNNCell(20), return_sequences=True),\n",
    "    keras.layers.TimeDistributed(keras.layers.Dense(10))\n",
    "])\n",
    "\n",
    "model.compile(loss=\"mse\", optimizer=\"adam\", metrics=[last_time_step_mse])\n",
    "history = model.fit(X_train, Y_train, epochs=20,\n",
    "                    validation_data=(X_valid, Y_valid))"
   ]
  },
  {
   "cell_type": "markdown",
   "metadata": {},
   "source": [
    "## LSTM"
   ]
  },
  {
   "cell_type": "code",
   "execution_count": null,
   "metadata": {},
   "outputs": [],
   "source": [
    "np.random.seed(42)\n",
    "tf.random.set_seed(42)\n",
    "\n",
    "model = keras.models.Sequential([\n",
    "    keras.layers.LSTM(20, return_sequences=True, input_shape=[None, 1]),\n",
    "    keras.layers.LSTM(20, return_sequences=True),\n",
    "    keras.layers.TimeDistributed(keras.layers.Dense(10))\n",
    "])\n",
    "\n",
    "model.compile(loss=\"mse\", optimizer=\"adam\", metrics=[last_time_step_mse])\n",
    "history = model.fit(X_train, Y_train, epochs=20,\n",
    "                    validation_data=(X_valid, Y_valid))"
   ]
  },
  {
   "cell_type": "code",
   "execution_count": null,
   "metadata": {},
   "outputs": [],
   "source": [
    "np.random.seed(42)\n",
    "tf.random.set_seed(42)\n",
    "\n",
    "model = keras.models.Sequential([\n",
    "    keras.layers.GRU(20, return_sequences=True, input_shape=[None, 1]),\n",
    "    keras.layers.GRU(20, return_sequences=True),\n",
    "    keras.layers.TimeDistributed(keras.layers.Dense(10))\n",
    "])\n",
    "\n",
    "model.compile(loss=\"mse\", optimizer=\"adam\", metrics=[last_time_step_mse])\n",
    "history = model.fit(X_train, Y_train, epochs=20,\n",
    "                    validation_data=(X_valid, Y_valid))"
   ]
  },
  {
   "cell_type": "markdown",
   "metadata": {},
   "source": [
    "## 在时间序列中加入卷积信息"
   ]
  },
  {
   "cell_type": "code",
   "execution_count": null,
   "metadata": {},
   "outputs": [],
   "source": [
    "np.random.seed(42)\n",
    "tf.random.set_seed(42)\n",
    "\n",
    "model = keras.models.Sequential([\n",
    "    keras.layers.Conv1D(filters=20, kernel_size=4, strides=2, padding=\"valid\",\n",
    "                        input_shape=[None, 1]),\n",
    "    keras.layers.GRU(20, return_sequences=True),\n",
    "    keras.layers.GRU(20, return_sequences=True),\n",
    "    keras.layers.TimeDistributed(keras.layers.Dense(10))\n",
    "])\n",
    "\n",
    "model.compile(loss=\"mse\", optimizer=\"adam\", metrics=[last_time_step_mse])\n",
    "history = model.fit(X_train, Y_train[:, 3::2], epochs=20,\n",
    "                    validation_data=(X_valid, Y_valid[:, 3::2]))"
   ]
  },
  {
   "cell_type": "markdown",
   "metadata": {},
   "source": [
    "```\n",
    "1D conv layer with kernel size 4, stride 2, VALID padding:\n",
    "\n",
    "              |-----2-----|     |-----5---...------|     |-----23----|\n",
    "        |-----1-----|     |-----4-----|   ...      |-----22----|\n",
    "  |-----0----|      |-----3-----|     |---...|-----21----|\n",
    "X: 0  1  2  3  4  5  6  7  8  9  10 11 12 ... 42 43 44 45 46 47 48 49\n",
    "Y: 1  2  3  4  5  6  7  8  9  10 11 12 13 ... 43 44 45 46 47 48 49 50\n",
    "  /10 11 12 13 14 15 16 17 18 19 20 21 22 ... 52 53 54 55 56 57 58 59\n",
    "\n",
    "Output:\n",
    "\n",
    "X:     0/3   2/5   4/7   6/9   8/11 10/13 .../43 42/45 44/47 46/49\n",
    "Y:     4/13  6/15  8/17 10/19 12/21 14/23 .../53 46/55 48/57 50/59\n",
    "```"
   ]
  },
  {
   "cell_type": "markdown",
   "metadata": {},
   "source": [
    "# 2021.11.22\n",
    "## 知识点\n",
    "* 莎士比亚文本预测器\n",
    "* 情感分析\n",
    "* Transformer\n",
    "* seq2seq练习：时间字符串转换"
   ]
  },
  {
   "cell_type": "markdown",
   "metadata": {},
   "source": [
    "## 创建一个莎士比亚文本预测器"
   ]
  },
  {
   "cell_type": "markdown",
   "metadata": {},
   "source": [
    "### 下载和准备数据"
   ]
  },
  {
   "cell_type": "code",
   "execution_count": 22,
   "metadata": {},
   "outputs": [
    {
     "name": "stdout",
     "output_type": "stream",
     "text": [
      "Downloading data from https://raw.githubusercontent.com/karpathy/char-rnn/master/data/tinyshakespeare/input.txt\n",
      "1122304/1115394 [==============================] - 0s 0us/step\n"
     ]
    }
   ],
   "source": [
    "shakespeare_url = \"https://raw.githubusercontent.com/karpathy/char-rnn/master/data/tinyshakespeare/input.txt\"\n",
    "filepath = keras.utils.get_file(\"shakespeare.txt\", shakespeare_url)\n",
    "with open(filepath) as f:\n",
    "    shakespeare_text = f.read()"
   ]
  },
  {
   "cell_type": "code",
   "execution_count": 25,
   "metadata": {},
   "outputs": [
    {
     "name": "stdout",
     "output_type": "stream",
     "text": [
      "First Citizen:\n",
      "Before we proceed any further, hear me speak.\n",
      "\n",
      "All:\n",
      "Speak, speak.\n",
      "\n",
      "First Citizen:\n",
      "You are all resolved rather to die than to famish?\n",
      "\n",
      "All:\n",
      "Resolved. resolved.\n",
      "\n",
      "First Citizen:\n",
      "First, you know Caius Marcius is chief enemy to the people.\n",
      "\n",
      "All:\n",
      "We know't, we know't.\n",
      "\n",
      "First Citizen:\n",
      "Let us kill him, and we'll have corn at our own price.\n",
      "Is't a verdict?\n",
      "\n",
      "All:\n",
      "No more talking on't; let it be done: away, away!\n",
      "\n",
      "Second Citizen:\n",
      "One word, good citizens.\n",
      "\n",
      "First Citizen:\n",
      "We are accounted poor citizens, the patricians good.\n",
      "What authority surfeits on would relieve us: if they\n",
      "would yield us but the superfluity, while it were\n",
      "wholesome, we might guess they relieved us humanely;\n",
      "but they think we are too dear: the leanness that\n",
      "afflicts us, the object of our misery, is as an\n",
      "inventory to particularise their abundance; our\n",
      "sufferance is a gain to them Let us revenge this with\n",
      "our pikes, ere we become rakes: for the gods know I\n",
      "speak this in hunger for bread, not in thirst for revenge.\n",
      "\n",
      "\n"
     ]
    }
   ],
   "source": [
    "print(shakespeare_text[:1000])"
   ]
  },
  {
   "cell_type": "code",
   "execution_count": 26,
   "metadata": {},
   "outputs": [],
   "source": [
    "# 将数据集tokenized\n",
    "tokenizer = keras.preprocessing.text.Tokenizer(char_level=True)\n",
    "tokenizer.fit_on_texts(shakespeare_text)"
   ]
  },
  {
   "cell_type": "code",
   "execution_count": 27,
   "metadata": {},
   "outputs": [
    {
     "data": {
      "text/plain": [
       "['f i r s t']"
      ]
     },
     "execution_count": 27,
     "metadata": {},
     "output_type": "execute_result"
    }
   ],
   "source": [
    "tokenizer.sequences_to_texts([[20, 6, 9, 8, 3]])"
   ]
  },
  {
   "cell_type": "code",
   "execution_count": 28,
   "metadata": {},
   "outputs": [
    {
     "name": "stdout",
     "output_type": "stream",
     "text": [
      "39\n",
      "1115394\n"
     ]
    }
   ],
   "source": [
    "max_id = len(tokenizer.word_index) # number of distinct characters\n",
    "dataset_size = tokenizer.document_count # total number of characters\n",
    "print(max_id)\n",
    "print(dataset_size)"
   ]
  },
  {
   "cell_type": "code",
   "execution_count": 56,
   "metadata": {},
   "outputs": [],
   "source": [
    "[encoded] = np.array(tokenizer.texts_to_sequences([shakespeare_text])) - 1 #创建一个储存有所有字符的array\n",
    "# 选择90%作为训练集\n",
    "train_size = dataset_size * 90 // 100\n",
    "# 创建data set\n",
    "dataset = tf.data.Dataset.from_tensor_slices(encoded[:train_size])"
   ]
  },
  {
   "cell_type": "code",
   "execution_count": 57,
   "metadata": {},
   "outputs": [],
   "source": [
    "n_steps = 100\n",
    "window_length = n_steps + 1 # target = input shifted 1 character ahead\n",
    "# 利用window参数将数据集分为101个元素的小数据集：\n",
    "dataset = dataset.window(window_length, \n",
    "                         shift=1, # 默认数据集之间没有交集，这里设置为1代表两个数据集之间有101-1个交集\n",
    "                         drop_remainder=True) # 如果不drop，最后几个数据集就会从101个逐渐减少到1"
   ]
  },
  {
   "cell_type": "markdown",
   "metadata": {},
   "source": [
    "值得注意的是，使用了window之后的dataset，是一个嵌套的dataset，其内部是一个个小的dataset"
   ]
  },
  {
   "cell_type": "code",
   "execution_count": 44,
   "metadata": {},
   "outputs": [
    {
     "name": "stdout",
     "output_type": "stream",
     "text": [
      "<class 'tensorflow.python.data.ops.dataset_ops._VariantDataset'>\n",
      "[19, 5, 8, 7, 2, 0, 18, 5, 2, 5, 35, 1, 9, 23, 10, 21, 1, 19, 3, 8, 1, 0, 16, 1, 0, 22, 8, 3, 18, 1, 1, 12, 0, 4, 9, 15, 0, 19, 13, 8, 2, 6, 1, 8, 17, 0, 6, 1, 4, 8, 0, 14, 1, 0, 7, 22, 1, 4, 24, 26, 10, 10, 4, 11, 11, 23, 10, 7, 22, 1, 4, 24, 17, 0, 7, 22, 1, 4, 24, 26, 10, 10, 19, 5, 8, 7, 2, 0, 18, 5, 2, 5, 35, 1, 9, 23, 10, 15, 3, 13, 0]\n"
     ]
    }
   ],
   "source": [
    "for index,ds in enumerate(dataset):\n",
    "    if index ==1:\n",
    "        break\n",
    "    print(type(ds))\n",
    "    print(list(ds.as_numpy_iterator()))"
   ]
  },
  {
   "cell_type": "code",
   "execution_count": 58,
   "metadata": {},
   "outputs": [],
   "source": [
    "# 这里使用flatmap，首先对于每个data set里的数据map，然后展开为一个dataset\n",
    "dataset = dataset.flat_map(lambda window: window.batch(window_length))\n",
    "# 这里的batch将每个dataset分为一个batch，因为每个dataset的数据量就是windowlenth"
   ]
  },
  {
   "cell_type": "code",
   "execution_count": 59,
   "metadata": {},
   "outputs": [],
   "source": [
    "np.random.seed(42)\n",
    "tf.random.set_seed(42)"
   ]
  },
  {
   "cell_type": "code",
   "execution_count": 60,
   "metadata": {},
   "outputs": [],
   "source": [
    "batch_size = 32\n",
    "dataset = dataset.shuffle(buffer_size=10000).batch(batch_size)"
   ]
  },
  {
   "cell_type": "code",
   "execution_count": 63,
   "metadata": {},
   "outputs": [
    {
     "data": {
      "text/plain": [
       "(32, 101)"
      ]
     },
     "execution_count": 63,
     "metadata": {},
     "output_type": "execute_result"
    }
   ],
   "source": [
    "list(dataset.take(3))[0].numpy().shape"
   ]
  },
  {
   "cell_type": "code",
   "execution_count": 64,
   "metadata": {},
   "outputs": [],
   "source": [
    "dataset = dataset.map(lambda x: (x[:,:-1], x[:, 1:]))"
   ]
  },
  {
   "cell_type": "code",
   "execution_count": null,
   "metadata": {},
   "outputs": [],
   "source": [
    "# 将x加工为one hot\n",
    "dataset = dataset.map(\n",
    "          lambda X_batch, Y_batch: (tf.one_hot(X_batch, depth=max_id), Y_batch))"
   ]
  },
  {
   "cell_type": "code",
   "execution_count": 68,
   "metadata": {},
   "outputs": [
    {
     "data": {
      "text/plain": [
       "array([[[0., 0., 0., ..., 0., 0., 0.],\n",
       "        [1., 0., 0., ..., 0., 0., 0.],\n",
       "        [0., 0., 0., ..., 0., 0., 0.],\n",
       "        ...,\n",
       "        [0., 0., 0., ..., 0., 0., 0.],\n",
       "        [0., 0., 0., ..., 0., 0., 0.],\n",
       "        [0., 0., 0., ..., 0., 0., 0.]],\n",
       "\n",
       "       [[1., 0., 0., ..., 0., 0., 0.],\n",
       "        [0., 0., 0., ..., 0., 0., 0.],\n",
       "        [0., 0., 0., ..., 0., 0., 0.],\n",
       "        ...,\n",
       "        [0., 0., 1., ..., 0., 0., 0.],\n",
       "        [1., 0., 0., ..., 0., 0., 0.],\n",
       "        [0., 0., 0., ..., 0., 0., 0.]],\n",
       "\n",
       "       [[0., 0., 0., ..., 0., 0., 0.],\n",
       "        [0., 0., 0., ..., 0., 0., 0.],\n",
       "        [0., 0., 1., ..., 0., 0., 0.],\n",
       "        ...,\n",
       "        [0., 0., 0., ..., 0., 0., 0.],\n",
       "        [0., 0., 0., ..., 0., 0., 0.],\n",
       "        [0., 1., 0., ..., 0., 0., 0.]],\n",
       "\n",
       "       ...,\n",
       "\n",
       "       [[0., 0., 0., ..., 0., 0., 0.],\n",
       "        [0., 0., 0., ..., 0., 0., 0.],\n",
       "        [1., 0., 0., ..., 0., 0., 0.],\n",
       "        ...,\n",
       "        [0., 0., 0., ..., 0., 0., 0.],\n",
       "        [0., 0., 0., ..., 0., 0., 0.],\n",
       "        [0., 0., 0., ..., 0., 0., 0.]],\n",
       "\n",
       "       [[0., 0., 0., ..., 0., 0., 0.],\n",
       "        [0., 0., 0., ..., 0., 0., 0.],\n",
       "        [0., 0., 0., ..., 0., 0., 0.],\n",
       "        ...,\n",
       "        [0., 0., 0., ..., 0., 0., 0.],\n",
       "        [0., 0., 0., ..., 0., 0., 0.],\n",
       "        [0., 0., 0., ..., 0., 0., 0.]],\n",
       "\n",
       "       [[0., 0., 0., ..., 0., 0., 0.],\n",
       "        [0., 0., 0., ..., 0., 0., 0.],\n",
       "        [0., 0., 0., ..., 0., 0., 0.],\n",
       "        ...,\n",
       "        [0., 0., 0., ..., 0., 0., 0.],\n",
       "        [0., 1., 0., ..., 0., 0., 0.],\n",
       "        [0., 0., 0., ..., 0., 0., 0.]]], dtype=float32)"
      ]
     },
     "execution_count": 68,
     "metadata": {},
     "output_type": "execute_result"
    }
   ],
   "source": [
    "list(dataset.take(3))[0][0].numpy()"
   ]
  },
  {
   "cell_type": "code",
   "execution_count": 69,
   "metadata": {},
   "outputs": [],
   "source": [
    "dataset = dataset.prefetch(1)"
   ]
  },
  {
   "cell_type": "code",
   "execution_count": 70,
   "metadata": {},
   "outputs": [
    {
     "name": "stdout",
     "output_type": "stream",
     "text": [
      "(32, 100, 39) (32, 100)\n"
     ]
    }
   ],
   "source": [
    "for X_batch, Y_batch in dataset.take(1):\n",
    "    print(X_batch.shape, Y_batch.shape)"
   ]
  },
  {
   "cell_type": "markdown",
   "metadata": {},
   "source": [
    "### 利用清洗好的数据训练模型"
   ]
  },
  {
   "cell_type": "code",
   "execution_count": 76,
   "metadata": {},
   "outputs": [],
   "source": [
    "model = keras.models.Sequential([\n",
    "    keras.layers.GRU(128, return_sequences=True, input_shape = [None, max_id],\n",
    "                     dropout = 0.2, recurrent_dropout = 0.2), \n",
    "    keras.layers.GRU(128, return_sequences=True, input_shape = [None, max_id],\n",
    "                     dropout = 0.2, recurrent_dropout = 0.2),\n",
    "    keras.layers.TimeDistributed(keras.layers.Dense(max_id, activation='softmax'))\n",
    "])\n",
    "\n",
    "#model.compile(loss='sparse_categorical_crossentropy', optimizer='adam')\n",
    "#history = model.fit(dataset, epochs=10)"
   ]
  },
  {
   "cell_type": "code",
   "execution_count": 87,
   "metadata": {},
   "outputs": [
    {
     "data": {
      "text/plain": [
       "TensorShape([1, 10, 39])"
      ]
     },
     "execution_count": 87,
     "metadata": {},
     "output_type": "execute_result"
    }
   ],
   "source": [
    "# 使用模型产生一些句子。产生的方法是，给模型的一个字母，让其预测下一个，然后从给出的概率中进行随机的采样\n",
    "# 将采样的字母添加到句子中，继续这个过程。\n",
    "def preprocess(texts):\n",
    "    \"\"\"\n",
    "    将一个输入的字符串转换为onehot\n",
    "    \"\"\"\n",
    "    X = np.array(tokenizer.texts_to_sequences(texts)) - 1\n",
    "    return tf.one_hot(X, max_id)\n",
    "\n",
    "X_test = preprocess(['How are yo']) #注意这里要用[句子]的方式，这样整句话会被视为一个样本\n",
    "X_test.shape"
   ]
  },
  {
   "cell_type": "code",
   "execution_count": 88,
   "metadata": {},
   "outputs": [
    {
     "data": {
      "text/plain": [
       "'c'"
      ]
     },
     "execution_count": 88,
     "metadata": {},
     "output_type": "execute_result"
    }
   ],
   "source": [
    "y_pred = np.argmax(model(X_test), axis = -1)\n",
    "tokenizer.sequences_to_texts(y_pred + 1)[0][-1] # 第一个样本的最后一个预测"
   ]
  },
  {
   "cell_type": "code",
   "execution_count": 89,
   "metadata": {},
   "outputs": [],
   "source": [
    "def next_char(text, temperature=1):\n",
    "    X_new = preprocess([text]) # 输入 1 * t * max_id的矩阵\n",
    "    y_proba = model(X_new)[0, -1:, :] # 取第一个样本最后一个预测的概率向量\n",
    "    rescaled_logits = tf.math.log(y_proba) / temperature #生产一个概率分布\n",
    "    # categorcial会根据输入的概率分布和num从中进行取样，这里取出的就是一个序号\n",
    "    char_id = tf.random.categorical(rescaled_logits, num_samples=1) + 1\n",
    "    # 返回序号对应的字符\n",
    "    return tokenizer.sequences_to_texts(char_id.numpy())[0]"
   ]
  },
  {
   "cell_type": "code",
   "execution_count": 90,
   "metadata": {},
   "outputs": [
    {
     "name": "stdout",
     "output_type": "stream",
     "text": [
      "tfik pua!&q. kphgr&;ubltfpzhp:'nvkcx3z!$ piup:q.n$o\n"
     ]
    }
   ],
   "source": [
    "def complete_text(text, n_chars=50, temperature=1):\n",
    "    for _ in range(n_chars):\n",
    "        text += next_char(text, temperature)\n",
    "    return text\n",
    "\n",
    "print(complete_text(\"t\", temperature=0.2))"
   ]
  },
  {
   "cell_type": "markdown",
   "metadata": {},
   "source": [
    "### 使用有状态的RNN"
   ]
  },
  {
   "cell_type": "markdown",
   "metadata": {},
   "source": [
    "之前训练的模型，在进入每个训练迭代前，模型都从一个充满0的隐藏状态开始，然后在每个时间更新这个状体，在步长的最后将其丢弃，如果能过告诉RNN在处理了一个训练批次后保留这一最终状态并且用在下一个批次的训练中，这样就可以学习到更长的模式。\n",
    "* 需要注意的是，只有每个批次的开始都是上一个批次的结束时，这样的处理才有意义"
   ]
  },
  {
   "cell_type": "code",
   "execution_count": null,
   "metadata": {},
   "outputs": [],
   "source": [
    "# 为了符合上述要求，我们需要重新创建数据集：\n",
    "dataset = tf.data.Dataset.from_tensor_slices(encoded[:train_size])\n",
    "### 注意这里的shift变为了序列长度，这样每个batch之前就不会重叠，并且这里删除了shuffle\n",
    "dataset = dataset.window(window_length, shift=n_steps, drop_remainder=True)\n",
    "dataset = dataset.flat_map(lambda window: window.batch(window_length))\n",
    "dataset = dataset.batch(1)\n",
    "dataset = dataset.map(lambda windows: (windows[:, :-1], windows[:, 1:]))\n",
    "dataset = dataset.map(\n",
    "    lambda X_batch, Y_batch: (tf.one_hot(X_batch, depth=max_id), Y_batch))\n",
    "dataset = dataset.prefetch(1)"
   ]
  },
  {
   "cell_type": "code",
   "execution_count": 92,
   "metadata": {},
   "outputs": [],
   "source": [
    "model = keras.models.Sequential([\n",
    "    # 设置stateful=True，代表让RNN在batch之前保留状态，但是同时要输入batch input size才可以\n",
    "    keras.layers.GRU(128, return_sequences=True, stateful=True,\n",
    "                     dropout=0.2, recurrent_dropout=0.2,\n",
    "                     batch_input_shape=[batch_size, None, max_id]),\n",
    "    keras.layers.GRU(128, return_sequences=True, stateful=True,\n",
    "                     dropout=0.2, recurrent_dropout=0.2),\n",
    "    keras.layers.TimeDistributed(keras.layers.Dense(max_id,\n",
    "                                                    activation=\"softmax\"))\n",
    "])\n",
    "\n",
    "# 不仅如此，这样的设置下，模型会在每个batch数量的样本中保留状态，但是不会在epoch之前重置状态，所以需要\n",
    "# 写一个callback"
   ]
  },
  {
   "cell_type": "code",
   "execution_count": 91,
   "metadata": {},
   "outputs": [],
   "source": [
    "class ResetStatesCallback(keras.callbacks.Callback):\n",
    "    def on_epoch_begin(self, epoch, logs):\n",
    "        self.model.reset_states()"
   ]
  },
  {
   "cell_type": "code",
   "execution_count": null,
   "metadata": {},
   "outputs": [],
   "source": [
    "model.compile(loss=\"sparse_categorical_crossentropy\", optimizer=\"adam\")\n",
    "history = model.fit(dataset, epochs=50,\n",
    "                    callbacks=[ResetStatesCallback()])"
   ]
  },
  {
   "cell_type": "markdown",
   "metadata": {},
   "source": [
    "## 情感分析"
   ]
  },
  {
   "cell_type": "markdown",
   "metadata": {},
   "source": [
    "### 情感分析的一般过程\n",
    "* 数据集：（x，y）\n",
    "    * 评论string\n",
    "    * 情感得分：1 & 0\n",
    "* 步骤：\n",
    "    * 将数据集中的string进行处理，利用正则表达式以及split的方式将字符串变为词组成的列表\n",
    "    * 计算数据集中词频率，取出最常见的n个词，为这些词赋予编号，将句子向量化\n",
    "    * 将词向量变为onehot编码，准备进入网络训练\n",
    "    * "
   ]
  },
  {
   "cell_type": "code",
   "execution_count": 4,
   "metadata": {},
   "outputs": [],
   "source": [
    "import tensorflow_datasets as tfds\n",
    "datasets, info = tfds.load(\"imdb_reviews\", as_supervised=True, with_info=True)"
   ]
  },
  {
   "cell_type": "code",
   "execution_count": 5,
   "metadata": {},
   "outputs": [
    {
     "data": {
      "text/plain": [
       "dict_keys(['test', 'train', 'unsupervised'])"
      ]
     },
     "execution_count": 5,
     "metadata": {},
     "output_type": "execute_result"
    }
   ],
   "source": [
    "datasets.keys()"
   ]
  },
  {
   "cell_type": "code",
   "execution_count": 6,
   "metadata": {},
   "outputs": [
    {
     "data": {
      "text/plain": [
       "tfds.core.DatasetInfo(\n",
       "    name='imdb_reviews',\n",
       "    version=1.0.0,\n",
       "    description='Large Movie Review Dataset.\n",
       "This is a dataset for binary sentiment classification containing substantially more data than previous benchmark datasets. We provide a set of 25,000 highly polar movie reviews for training, and 25,000 for testing. There is additional unlabeled data for use as well.',\n",
       "    homepage='http://ai.stanford.edu/~amaas/data/sentiment/',\n",
       "    features=FeaturesDict({\n",
       "        'label': ClassLabel(shape=(), dtype=tf.int64, num_classes=2),\n",
       "        'text': Text(shape=(), dtype=tf.string),\n",
       "    }),\n",
       "    total_num_examples=100000,\n",
       "    splits={\n",
       "        'test': 25000,\n",
       "        'train': 25000,\n",
       "        'unsupervised': 50000,\n",
       "    },\n",
       "    supervised_keys=('text', 'label'),\n",
       "    citation=\"\"\"@InProceedings{maas-EtAl:2011:ACL-HLT2011,\n",
       "      author    = {Maas, Andrew L.  and  Daly, Raymond E.  and  Pham, Peter T.  and  Huang, Dan  and  Ng, Andrew Y.  and  Potts, Christopher},\n",
       "      title     = {Learning Word Vectors for Sentiment Analysis},\n",
       "      booktitle = {Proceedings of the 49th Annual Meeting of the Association for Computational Linguistics: Human Language Technologies},\n",
       "      month     = {June},\n",
       "      year      = {2011},\n",
       "      address   = {Portland, Oregon, USA},\n",
       "      publisher = {Association for Computational Linguistics},\n",
       "      pages     = {142--150},\n",
       "      url       = {http://www.aclweb.org/anthology/P11-1015}\n",
       "    }\"\"\",\n",
       "    redistribution_info=,\n",
       ")"
      ]
     },
     "execution_count": 6,
     "metadata": {},
     "output_type": "execute_result"
    }
   ],
   "source": [
    "info"
   ]
  },
  {
   "cell_type": "code",
   "execution_count": 7,
   "metadata": {},
   "outputs": [
    {
     "name": "stdout",
     "output_type": "stream",
     "text": [
      "(<tf.Tensor: shape=(), dtype=string, numpy=b\"This was an absolutely terrible movie. Don't be lured in by Christopher Walken or Michael Ironside. Both are great actors, but this must simply be their worst role in history. Even their great acting could not redeem this movie's ridiculous storyline. This movie is an early nineties US propaganda piece. The most pathetic scenes were those when the Columbian rebels were making their cases for revolutions. Maria Conchita Alonso appeared phony, and her pseudo-love affair with Walken was nothing but a pathetic emotional plug in a movie that was devoid of any real meaning. I am disappointed that there are movies like this, ruining actor's like Christopher Walken's good name. I could barely sit through it.\">, <tf.Tensor: shape=(), dtype=int64, numpy=0>)\n"
     ]
    }
   ],
   "source": [
    "for i in datasets['train'].take(1):\n",
    "    print(i)"
   ]
  },
  {
   "cell_type": "code",
   "execution_count": 31,
   "metadata": {},
   "outputs": [],
   "source": [
    "def preprocess(X_batch, y_batch):\n",
    "    X_batch = tf.strings.substr(X_batch, 0, 300) #截断前300位\n",
    "    # 正则表达式去除一些字符和标点\n",
    "    X_batch = tf.strings.regex_replace(X_batch, rb\"<br\\s*/?>\", b\" \")\n",
    "    X_batch = tf.strings.regex_replace(X_batch, b\"[^a-zA-Z']\", b\" \")\n",
    "    # split成列表格式\n",
    "    X_batch = tf.strings.split(X_batch)\n",
    "    # 注意处理之后的tensor是一个ragged tensor,即一个形状不确定的tensor（各行的长度不同）\n",
    "    # 要使用to_tensor转换为一个形状规则的tensor\n",
    "    # 注意只有2维以上的tensor才能变为ragged tensor，如果输入的batch size =1，无法使用这种运算\n",
    "    # 所以这个函数只能针对batch进行运算\n",
    "    return X_batch.to_tensor(default_value=b\"<pad>\"), y_batch"
   ]
  },
  {
   "cell_type": "code",
   "execution_count": 32,
   "metadata": {},
   "outputs": [],
   "source": [
    "from collections import Counter\n",
    "# 使用counter对于词汇进行计数\n",
    "vocabulary = Counter()\n",
    "for X, y in datasets['train'].batch(32).map(preprocess):\n",
    "    for review in X:\n",
    "        vocabulary.update(list(review.numpy()))"
   ]
  },
  {
   "cell_type": "code",
   "execution_count": 33,
   "metadata": {},
   "outputs": [],
   "source": [
    "vocab_size = 10000 # 要保留的最大词数\n",
    "truncated_vocabulary = [\n",
    "    word for word, count in vocabulary.most_common()[:vocab_size]\n",
    "]\n",
    "word_to_id = {word: index for index,word in enumerate(truncated_vocabulary)}"
   ]
  },
  {
   "cell_type": "code",
   "execution_count": 35,
   "metadata": {},
   "outputs": [],
   "source": [
    "# 使用tf创建一个查询表\n",
    "words = tf.constant(truncated_vocabulary)\n",
    "word_ids = tf.range(len(truncated_vocabulary), dtype=tf.int64)\n",
    "vocab_init = tf.lookup.KeyValueTensorInitializer(words, word_ids)\n",
    "num_oov_buckets = 1000\n",
    "table = tf.lookup.StaticVocabularyTable(vocab_init, num_oov_buckets)"
   ]
  },
  {
   "cell_type": "code",
   "execution_count": 36,
   "metadata": {},
   "outputs": [
    {
     "data": {
      "text/plain": [
       "<tf.Tensor: shape=(1, 4), dtype=int64, numpy=array([[   22,    12,    11, 10053]])>"
      ]
     },
     "execution_count": 36,
     "metadata": {},
     "output_type": "execute_result"
    }
   ],
   "source": [
    "table.lookup(tf.constant([b\"This movie was faaaaaantastic\".split()]))"
   ]
  },
  {
   "cell_type": "code",
   "execution_count": 38,
   "metadata": {},
   "outputs": [],
   "source": [
    "def encode(X,y):\n",
    "    return (table.lookup(X), y)\n",
    "\n",
    "train_set = datasets['train'].batch(32).map(preprocess)\n",
    "train_set = train_set.map(encode).prefetch(1)"
   ]
  },
  {
   "cell_type": "code",
   "execution_count": 39,
   "metadata": {},
   "outputs": [
    {
     "name": "stdout",
     "output_type": "stream",
     "text": [
      "tf.Tensor(\n",
      "[[  22   11   28 ...    0    0    0]\n",
      " [   6   21   70 ...    0    0    0]\n",
      " [4099 6881    1 ...    0    0    0]\n",
      " ...\n",
      " [  22   12  118 ...  331 1047    0]\n",
      " [1757 4101  451 ...    0    0    0]\n",
      " [3365 4392    6 ...    0    0    0]], shape=(32, 60), dtype=int64)\n",
      "tf.Tensor([0 0 0 1 1 1 0 0 0 0 0 1 1 0 1 0 1 1 1 0 1 1 1 1 1 0 0 0 1 0 0 0], shape=(32,), dtype=int64)\n"
     ]
    }
   ],
   "source": [
    "for x,y in train_set.take(1):\n",
    "    print(x)\n",
    "    print(y)"
   ]
  },
  {
   "cell_type": "code",
   "execution_count": null,
   "metadata": {},
   "outputs": [],
   "source": [
    "### 创建一个深度RNN和embedding层进行训练\n",
    "embedding_size = 128\n",
    "model = keras.models.Sequential([\n",
    "    keras.layers.Embedding(\n",
    "        input_dim = vocab_size + num_oov_buckets,\n",
    "        output_dim = embedding_size,\n",
    "        mask_zero = True,\n",
    "        input_shape = [None],\n",
    "        return_sequence = True\n",
    "    ),\n",
    "    keras.layers.GRU(128, return_sequences=True),\n",
    "    keras.layers.GRU(128),\n",
    "    keras.layers.TimeDistributed(\n",
    "        keras.layers.Dense(1, activation='sigmoid')\n",
    "    )\n",
    "])\n",
    "\n",
    "model.compile(loss = 'binary_crossentropy', optimizer = 'adam', metrics = ['accuracy'])\n",
    "history = model.fit(train_set, epochs = 5)"
   ]
  },
  {
   "cell_type": "markdown",
   "metadata": {},
   "source": [
    "## Transformer"
   ]
  },
  {
   "cell_type": "markdown",
   "metadata": {},
   "source": [
    "### Positional Encoding"
   ]
  },
  {
   "cell_type": "code",
   "execution_count": 40,
   "metadata": {},
   "outputs": [],
   "source": [
    "class PositionalEncoding(keras.layers.Layer):\n",
    "    def __init__(self, max_steps, max_dims, dtype=tf.float32, **kwargs):\n",
    "        super().__init__(dtype=dtype, **kwargs)\n",
    "        if max_dims % 2 == 1: max_dims += 1 # max_dims must be even\n",
    "        p, i = np.meshgrid(np.arange(max_steps), np.arange(max_dims // 2))\n",
    "        pos_emb = np.empty((1, max_steps, max_dims))\n",
    "        pos_emb[0, :, ::2] = np.sin(p / 10000**(2 * i / max_dims)).T\n",
    "        pos_emb[0, :, 1::2] = np.cos(p / 10000**(2 * i / max_dims)).T\n",
    "        self.positional_embedding = tf.constant(pos_emb.astype(self.dtype))\n",
    "    def call(self, inputs):\n",
    "        shape = tf.shape(inputs)\n",
    "        return inputs + self.positional_embedding[:, :shape[-2], :shape[-1]]"
   ]
  },
  {
   "cell_type": "code",
   "execution_count": 41,
   "metadata": {},
   "outputs": [],
   "source": [
    "max_steps = 201\n",
    "max_dims = 512\n",
    "pos_emb = PositionalEncoding(max_steps, max_dims)\n",
    "PE = pos_emb(np.zeros((1, max_steps, max_dims), np.float32))[0].numpy()"
   ]
  },
  {
   "cell_type": "code",
   "execution_count": 44,
   "metadata": {},
   "outputs": [
    {
     "data": {
      "image/png": "[encoded data removed]",
      "text/plain": [
       "<Figure size 648x360 with 2 Axes>"
      ]
     },
     "metadata": {
      "needs_background": "light"
     },
     "output_type": "display_data"
    }
   ],
   "source": [
    "import matplotlib.pyplot as plt\n",
    "i1, i2, crop_i = 100, 101, 150\n",
    "p1, p2, p3 = 22, 60, 35\n",
    "\n",
    "fig, (ax1, ax2) = plt.subplots(nrows=2, ncols=1, sharex=True, figsize=(9, 5))\n",
    "\n",
    "ax1.plot([p1, p1], [-1, 1], \"k--\", label=\"$p = {}$\".format(p1))\n",
    "ax1.plot([p2, p2], [-1, 1], \"k--\", label=\"$p = {}$\".format(p2), alpha=0.5)\n",
    "ax1.plot(p3, PE[p3, i1], \"bx\", label=\"$p = {}$\".format(p3))\n",
    "ax1.plot(PE[:,i1], \"b-\", label=\"$i = {}$\".format(i1))\n",
    "ax1.plot(PE[:,i2], \"r-\", label=\"$i = {}$\".format(i2))\n",
    "ax1.plot([p1, p2], [PE[p1, i1], PE[p2, i1]], \"bo\")\n",
    "ax1.plot([p1, p2], [PE[p1, i2], PE[p2, i2]], \"ro\")\n",
    "ax1.legend(loc=\"center right\", fontsize=14, framealpha=0.95)\n",
    "ax1.set_ylabel(\"$P_{(p,i)}$\", rotation=0, fontsize=16)\n",
    "ax1.grid(True, alpha=0.3)\n",
    "ax1.hlines(0, 0, max_steps - 1, color=\"k\", linewidth=1, alpha=0.3)\n",
    "ax1.axis([0, max_steps - 1, -1, 1])\n",
    "\n",
    "ax2.imshow(PE.T[:crop_i], cmap=\"gray\", interpolation=\"bilinear\", aspect=\"auto\")\n",
    "ax2.hlines(i1, 0, max_steps - 1, color=\"b\")\n",
    "cheat = 2 # need to raise the red line a bit, or else it hides the blue one\n",
    "ax2.hlines(i2+cheat, 0, max_steps - 1, color=\"r\")\n",
    "ax2.plot([p1, p1], [0, crop_i], \"k--\")\n",
    "ax2.plot([p2, p2], [0, crop_i], \"k--\", alpha=0.5)\n",
    "ax2.plot([p1, p2], [i2+cheat, i2+cheat], \"ro\")\n",
    "ax2.plot([p1, p2], [i1, i1], \"bo\")\n",
    "ax2.axis([0, max_steps - 1, 0, crop_i])\n",
    "ax2.set_xlabel(\"$p$\", fontsize=16)\n",
    "ax2.set_ylabel(\"$i$\", rotation=0, fontsize=16)\n",
    "\n",
    "plt.show()"
   ]
  },
  {
   "cell_type": "markdown",
   "metadata": {},
   "source": [
    "### Multi-head Attention"
   ]
  },
  {
   "cell_type": "code",
   "execution_count": null,
   "metadata": {},
   "outputs": [],
   "source": [
    "K = keras.backend\n",
    "\n",
    "class MultiHeadAttention(keras.layers.Layer):\n",
    "    \n",
    "    __doc__= \"\"\"实现 Transformer 的 multi-head 自注意力机制\n",
    "    \"\"\"\n",
    "    \n",
    "    def __init__(self, n_heads, causal=False, use_scale=False, **kwargs):\n",
    "        # 一些参数的初始化\n",
    "        self.n_heads = n_heads\n",
    "        self.causal = causal\n",
    "        self.use_scale = use_scale\n",
    "        super().__init__(**kwargs)\n",
    "    \n",
    "    def build(self, batch_input_shape):\n",
    "        # 由于输入的是Q，K，V三个相同维度的3D矩阵，所以这里取出一个进行计算\n",
    "        self.dims = batch_input_shape[0][-1] # 取出最后一个维度\n",
    "        self.q_dims, self.v_dims, self.k_dims = [self.dims // self.n_heads] * 3 # 计算每个头的维度，可以设置为超参数\n",
    "        # 这里的一维卷积投影，一次投影直接将n个头的结果全部计算出来了，即投影到了 n_head * proj_dim\n",
    "        self.q_linear = keras.layers.Conv1D(self.n_heads * self.q_dims, kernel_size=1, use_bias=False) # 1维卷积投影，和时序Dense作用相同\n",
    "        self.v_linear = keras.layers.Conv1D(self.n_heads * self.v_dims, kernel_size=1, use_bias=False) # 1维卷积投影\n",
    "        self.k_linear = keras.layers.Conv1D(self.n_heads * self.k_dims, kernel_size=1, use_bias=False) # 1维卷积投影\n",
    "        self.attention = keras.layers.Attention(causal=self.causal, use_scale=self.use_scale)  # 点积attention\n",
    "        self.out_linear = keras.layers.Conv1D(self.dims, kernel_size=1, use_bias=False) # 重新投影回去\n",
    "        super().build(batch_input_shape) \n",
    "    \n",
    "    def _multi_head_linear(self, inputs, linear):\n",
    "        \"\"\"\n",
    "        将输入经过多头投影，返回多个头经过堆叠的结果 [batch_size * n_head, t, dim]\n",
    "        \"\"\"\n",
    "        # shape = [batch_size, t] + [n_heads, -1] = [batch_size, t, n_head, -1]\n",
    "        shape = K.concatenate([K.shape(inputs)[:-1], [self.n_heads, -1]])\n",
    "        \n",
    "        # linear(input).shape = [batch_size, t, n_head * dim]\n",
    "        # projected.shape = [batch_size, t, n_head, dim] 恰好分开了每个头的结果\n",
    "        projected = K.reshape(linear(inputs), shape)\n",
    "        \n",
    "        # 调换后 perm.shape = [batch_size, n_head, t, dim]\n",
    "        perm = K.permute_dimensions(projected, [0, 2, 1, 3])\n",
    "        \n",
    "        # 输出的shape = [batch_size * n_head, t, dim]\n",
    "        return K.reshape(perm, [shape[0] * self.n_heads, shape[1], -1])\n",
    "    \n",
    "    def call(self, inputs):\n",
    "        \n",
    "        q = inputs[0]\n",
    "        v = inputs[1]\n",
    "        k = inputs[2] if len(inputs) > 2 else v\n",
    "        \n",
    "        shape = K.shape(q)\n",
    "        \n",
    "        q_proj = self._multi_head_linear(q, self.q_linear)\n",
    "        v_proj = self._multi_head_linear(v, self.v_linear)\n",
    "        k_proj = self._multi_head_linear(k, self.k_linear) # shape = [batch_size * n_head, t, dim]，相当于把多个头的结果堆叠起来\n",
    "        \n",
    "        #之所以将矩阵后两维变为t，dim就是为了attention点积\n",
    "        multi_attended = self.attention([q_proj, v_proj, k_proj]) # 张量矩阵乘法后的shape = [batch_size * n_head, t, dim]\n",
    "        shape_attended = K.shape(multi_attended) # [batch_size * n_head, t, dim]\n",
    "        reshaped_attended = K.reshape(multi_attended, [shape[0], self.n_heads, shape_attended[1], shape_attended[2]]) #[batch_size , n_head, t, dim]\n",
    "        perm = K.permute_dimensions(reshaped_attended, [0, 2, 1, 3]) # [batch_size, t, n_head, dim]\n",
    "        concat = K.reshape(perm, [shape[0], shape_attended[1], -1]) # [batch_size, t, n_head * dim]\n",
    "        \n",
    "        return self.out_linear(concat) # 经过新的线性变换后：[batch_size, t, dim]"
   ]
  },
  {
   "cell_type": "markdown",
   "metadata": {},
   "source": [
    "## Seq2Seq练习：时间字符串转换网络"
   ]
  },
  {
   "cell_type": "markdown",
   "metadata": {},
   "source": [
    "Train an Encoder–Decoder model that can convert a date string from one format to another (e.g., from \"April 22, 2019\" to \"2019-04-22\")"
   ]
  },
  {
   "cell_type": "markdown",
   "metadata": {},
   "source": [
    "#### 生产数据集"
   ]
  },
  {
   "cell_type": "code",
   "execution_count": 46,
   "metadata": {},
   "outputs": [],
   "source": [
    "# 随机生成一些在1000-01-01 到9999-12-31的日期\n",
    "from datetime import date\n",
    "\n",
    "# cannot use strftime()'s %B format since it depends on the locale\n",
    "MONTHS = [\"January\", \"February\", \"March\", \"April\", \"May\", \"June\",\n",
    "          \"July\", \"August\", \"September\", \"October\", \"November\", \"December\"]\n",
    "\n",
    "def random_dates(n_dates):\n",
    "    min_date = date(1000, 1, 1).toordinal()\n",
    "    max_date = date(9999, 12, 31).toordinal()\n",
    "\n",
    "    # 获取max和min的顺序编号，在这个区间内产生随机产生整数\n",
    "    ordinals = np.random.randint(max_date - min_date, size=n_dates) + min_date\n",
    "    dates = [date.fromordinal(ordinal) for ordinal in ordinals]\n",
    "\n",
    "    x = [MONTHS[dt.month - 1] + \" \" + dt.strftime(\"%d, %Y\") for dt in dates]\n",
    "    y = [dt.isoformat() for dt in dates]\n",
    "    return x, y"
   ]
  },
  {
   "cell_type": "code",
   "execution_count": 47,
   "metadata": {},
   "outputs": [
    {
     "name": "stdout",
     "output_type": "stream",
     "text": [
      "Input                    Target                   \n",
      "--------------------------------------------------\n",
      "September 20, 7075       7075-09-20               \n",
      "May 15, 8579             8579-05-15               \n",
      "January 11, 7103         7103-01-11               \n"
     ]
    }
   ],
   "source": [
    "np.random.seed(42)\n",
    "\n",
    "n_dates = 3\n",
    "x_example, y_example = random_dates(n_dates)\n",
    "print(\"{:25s}{:25s}\".format(\"Input\", \"Target\")) #{:25s}代表填充到25个空格\n",
    "print(\"-\" * 50)\n",
    "for idx in range(n_dates):\n",
    "    print(\"{:25s}{:25s}\".format(x_example[idx], y_example[idx]))"
   ]
  },
  {
   "cell_type": "markdown",
   "metadata": {},
   "source": [
    "#### 转换为词向量\n",
    "由于输入的字符串和输出的字符串实际上只限制在几个字母（月份和数字），所以不用像电影评论一样进行计数，只需要直接计算出其中unique的字符串即可"
   ]
  },
  {
   "cell_type": "code",
   "execution_count": 48,
   "metadata": {},
   "outputs": [
    {
     "data": {
      "text/plain": [
       "' ,0123456789ADFJMNOSabceghilmnoprstuvy'"
      ]
     },
     "execution_count": 48,
     "metadata": {},
     "output_type": "execute_result"
    }
   ],
   "source": [
    "# 可能出现的只可能在月份和数字，以及逗号中\n",
    "INPUT_CHARS = \"\".join(sorted(set(\"\".join(MONTHS) + \"0123456789, \")))\n",
    "INPUT_CHARS"
   ]
  },
  {
   "cell_type": "code",
   "execution_count": 50,
   "metadata": {},
   "outputs": [],
   "source": [
    "# 可能的输出只有数字和斜杠\n",
    "OUTPUT_CHARS = \"0123456789-\""
   ]
  },
  {
   "cell_type": "code",
   "execution_count": 51,
   "metadata": {},
   "outputs": [],
   "source": [
    "# 定义一个将日期字符串转换为id的函数\n",
    "def date_str_to_ids(date_str, chars=INPUT_CHARS):\n",
    "    return [chars.index(c) for c in date_str]"
   ]
  },
  {
   "cell_type": "code",
   "execution_count": 52,
   "metadata": {},
   "outputs": [
    {
     "data": {
      "text/plain": [
       "[19, 23, 31, 34, 23, 28, 21, 23, 32, 0, 4, 2, 1, 0, 9, 2, 9, 7]"
      ]
     },
     "execution_count": 52,
     "metadata": {},
     "output_type": "execute_result"
    }
   ],
   "source": [
    "# 测试一下\n",
    "date_str_to_ids(x_example[0], INPUT_CHARS)"
   ]
  },
  {
   "cell_type": "code",
   "execution_count": 55,
   "metadata": {},
   "outputs": [],
   "source": [
    "def prepare_date_strs(date_strs, chars = INPUT_CHARS):\n",
    "    X_ids = [date_str_to_ids(dt, chars) for dt in date_strs]\n",
    "    X = tf.ragged.constant(X_ids, ragged_rank=1) #由于生成的字符串可能长度不一，所以在1轴的方向生成一个ragged rank\n",
    "    return (X + 1).to_tensor() #由于ragged tensor的defualt填充值为0，所以这里+1，将0作为padding ID\n",
    "\n",
    "def create_dataset(n_dates):\n",
    "   x,y = random_dates(n_dates)\n",
    "   return prepare_date_strs(x, INPUT_CHARS), prepare_date_strs(y, OUTPUT_CHARS) "
   ]
  },
  {
   "cell_type": "code",
   "execution_count": 56,
   "metadata": {},
   "outputs": [],
   "source": [
    "np.random.seed(42)\n",
    "\n",
    "X_train, Y_train = create_dataset(10000)\n",
    "X_valid, Y_valid = create_dataset(2000)\n",
    "X_test, Y_test = create_dataset(2000)"
   ]
  },
  {
   "cell_type": "code",
   "execution_count": 57,
   "metadata": {},
   "outputs": [
    {
     "data": {
      "text/plain": [
       "<tf.Tensor: shape=(10,), dtype=int32, numpy=array([ 8,  1,  8,  6, 11,  1, 10, 11,  3,  1], dtype=int32)>"
      ]
     },
     "execution_count": 57,
     "metadata": {},
     "output_type": "execute_result"
    }
   ],
   "source": [
    "Y_train[0]"
   ]
  },
  {
   "cell_type": "markdown",
   "metadata": {},
   "source": [
    "#### Model V1\n",
    "\n",
    "we feed in the input sequence, which first goes through the encoder (an embedding layer followed by a single LSTM layer), which outputs a vector, then it goes through a decoder (a single LSTM layer, followed by a dense output layer), which outputs a sequence of vectors, each representing the estimated probabilities for all possible output character.\n",
    "\n",
    "Since the decoder expects a sequence as input, we repeat the vector (which is output by the decoder) as many times as the longest possible output sequence."
   ]
  },
  {
   "cell_type": "code",
   "execution_count": null,
   "metadata": {},
   "outputs": [],
   "source": [
    "embedding_size = 32 #embedding size\n",
    "max_output_length = Y_train.shape[1] #最长的Y序列长度，用于扩展encoder输出的一维向量为seq\n",
    "\n",
    "np.random.seed(42)\n",
    "tf.random.set_seed(42)\n",
    "\n",
    "# encoder，一个简单的LSTM单元，输出的128维的向量，不是序列\n",
    "encoder = keras.models.Sequential([\n",
    "    keras.layers.Embedding(input_dim=len(INPUT_CHARS) + 1,\n",
    "                           output_dim=embedding_size,\n",
    "                           input_shape=[None]),\n",
    "    keras.layers.LSTM(128)\n",
    "])\n",
    "\n",
    "# decoder：接收encoder输出的被扩展后的t*128的矩阵，输出一个seq\n",
    "decoder = keras.models.Sequential([\n",
    "    keras.layers.LSTM(128, return_sequences=True),\n",
    "    keras.layers.Dense(len(OUTPUT_CHARS) + 1, activation=\"softmax\")\n",
    "])\n",
    "\n",
    "# 主模型\n",
    "model = keras.models.Sequential([\n",
    "    encoder,\n",
    "    keras.layers.RepeatVector(max_output_length), #重复vector为seq\n",
    "    decoder\n",
    "])\n",
    "\n",
    "optimizer = keras.optimizers.Nadam()\n",
    "model.compile(loss=\"sparse_categorical_crossentropy\", optimizer=optimizer,\n",
    "              metrics=[\"accuracy\"])\n",
    "history = model.fit(X_train, Y_train, epochs=20,\n",
    "                    validation_data=(X_valid, Y_valid))"
   ]
  },
  {
   "cell_type": "markdown",
   "metadata": {},
   "source": [
    "由于这里的训练数据使用了ragged tensor，所以长度都是18（最长日期字符串的长度），但是当输入的长度比较小的时候表现比较差，所以需要将输入同样填充为最长字符串的长度"
   ]
  },
  {
   "cell_type": "code",
   "execution_count": 58,
   "metadata": {},
   "outputs": [],
   "source": [
    "max_input_length = X_train.shape[1]\n",
    "\n",
    "def prepare_date_strs_padded(date_strs):\n",
    "    X = prepare_date_strs(date_strs)\n",
    "    if X.shape[1] < max_input_length:\n",
    "        X = tf.pad(X, [[0, 0], [0, max_input_length - X.shape[1]]])\n",
    "    return X\n",
    "\n",
    "def convert_date_strs(date_strs):\n",
    "    X = prepare_date_strs_padded(date_strs)\n",
    "    #ids = model.predict_classes(X)\n",
    "    ids = np.argmax(model.predict(X), axis=-1)\n",
    "    return ids_to_date_strs(ids)"
   ]
  },
  {
   "cell_type": "markdown",
   "metadata": {},
   "source": [
    "#### ModelV2：将Y shift作为信息输入encoder"
   ]
  },
  {
   "cell_type": "markdown",
   "metadata": {},
   "source": [
    "* Instead of feeding the decoder a simple repetition of the encoder's output vector\n",
    "    * we can feed it the target sequence, shifted by one time step to the right\n",
    "    * at each time step the decoder will know what the previous target character was. This should help is tackle more complex sequence-to-sequence problems.\n",
    "\n",
    "* Since the first output character of each target sequence has no previous character, we will need a new token to represent the start-of-sequence (sos).\n",
    "\n",
    "* During inference, we won't know the target, so what will we feed the decoder? \n",
    "    * We can just predict one character at a time, starting with an sos token, then feeding the decoder all the characters that were predicted so far \n",
    "\n",
    "* But if the decoder's LSTM expects to get the previous target as input at each step, how shall we pass it it the vector output by the encoder? \n",
    "    * Well, one option is to ignore the output vector, and instead use the encoder's LSTM state as the initial state of the decoder's LSTM (which requires that encoder's LSTM must have the same number of units as the decoder's LSTM).\n",
    "\n",
    "Now let's create the decoder's inputs (for training, validation and testing). The sos token will be represented using the last possible output character's ID + 1."
   ]
  },
  {
   "cell_type": "code",
   "execution_count": 59,
   "metadata": {},
   "outputs": [],
   "source": [
    "# 用最长的长度的后一位代表SOS token\n",
    "sos_id = len(OUTPUT_CHARS) + 1\n",
    "\n",
    "def shifted_output_sequences(Y):\n",
    "    sos_tokens = tf.fill(dims=(len(Y), 1), value=sos_id) # 产生一个batch * 1的vector，sos \n",
    "    return tf.concat([sos_tokens, Y[:, :-1]], axis=1) # 去除Y的最后一个token，将sos拼在开始位置\n",
    "\n",
    "# 加工为decoder输入的Y数据，这些Y数据保证在预测t的时候decoder只能看到t-1以及之前的数据，看不到t之后的数据\n",
    "X_train_decoder = shifted_output_sequences(Y_train)\n",
    "X_valid_decoder = shifted_output_sequences(Y_valid)\n",
    "X_test_decoder = shifted_output_sequences(Y_test)"
   ]
  },
  {
   "cell_type": "code",
   "execution_count": 60,
   "metadata": {},
   "outputs": [
    {
     "data": {
      "text/plain": [
       "<tf.Tensor: shape=(10000, 10), dtype=int32, numpy=\n",
       "array([[12,  8,  1, ..., 10, 11,  3],\n",
       "       [12,  9,  6, ...,  6, 11,  2],\n",
       "       [12,  8,  2, ...,  2, 11,  2],\n",
       "       ...,\n",
       "       [12, 10,  8, ...,  2, 11,  4],\n",
       "       [12,  2,  2, ...,  3, 11,  3],\n",
       "       [12,  8,  9, ...,  8, 11,  3]], dtype=int32)>"
      ]
     },
     "execution_count": 60,
     "metadata": {},
     "output_type": "execute_result"
    }
   ],
   "source": [
    "X_train_decoder"
   ]
  },
  {
   "cell_type": "code",
   "execution_count": 61,
   "metadata": {},
   "outputs": [],
   "source": [
    "# 建立这个较为复杂的模型\n",
    "\n",
    "# 设置初始参数\n",
    "encoder_embedding_size = 32\n",
    "decoder_embedding_size = 32\n",
    "lstm_units = 128\n",
    "\n",
    "# seed\n",
    "np.random.seed(42)\n",
    "tf.random.set_seed(42)\n",
    "\n",
    "# encoder部分\n",
    "encoder_input = keras.layers.Input(shape=[None], dtype=tf.int32) # 初始化input\n",
    "\n",
    "encoder_embedding = keras.layers.Embedding(\n",
    "    input_dim=len(INPUT_CHARS) + 1,\n",
    "    output_dim=encoder_embedding_size)(encoder_input)            # 将input输入embedding\n",
    "\n",
    "_, encoder_state_h, encoder_state_c = keras.layers.LSTM(        # 输入LSTM，保留其state\n",
    "    lstm_units, return_state=True)(encoder_embedding)\n",
    "\n",
    "encoder_state = [encoder_state_h, encoder_state_c] # 保留encoder的LSTM的state，后续作为encoder的信息输入给decoder\n",
    "\n",
    "# decoder部分\n",
    "decoder_input = keras.layers.Input(shape=[None], dtype=tf.int32)\n",
    "\n",
    "decoder_embedding = keras.layers.Embedding(\n",
    "    input_dim=len(OUTPUT_CHARS) + 2,\n",
    "    output_dim=decoder_embedding_size)(decoder_input)\n",
    "## ---- 将LSTM的初始条件设置为encoder的，然后输入embedding的数据\n",
    "decoder_lstm_output = keras.layers.LSTM(lstm_units, return_sequences=True)(\n",
    "    decoder_embedding, initial_state=encoder_state)\n",
    "## ---- 预测\n",
    "decoder_output = keras.layers.Dense(len(OUTPUT_CHARS) + 1,\n",
    "                                    activation=\"softmax\")(decoder_lstm_output)\n",
    "\n",
    "# 模型定义\n",
    "model = keras.models.Model(inputs=[encoder_input, decoder_input],\n",
    "                           outputs=[decoder_output])\n",
    "\n",
    "# 模型编译\n",
    "optimizer = keras.optimizers.Nadam()\n",
    "model.compile(loss=\"sparse_categorical_crossentropy\", optimizer=optimizer,\n",
    "              metrics=[\"accuracy\"])\n",
    "history = model.fit([X_train, X_train_decoder], Y_train, epochs=10,\n",
    "                    validation_data=([X_valid, X_valid_decoder], Y_valid))"
   ]
  },
  {
   "cell_type": "code",
   "execution_count": null,
   "metadata": {},
   "outputs": [],
   "source": [
    "# 在进行预测时候，我们将一个一个预测\n",
    "sos_id = len(OUTPUT_CHARS) + 1\n",
    "\n",
    "def predict_date_strs(date_strs):\n",
    "    \"\"\"\n",
    "    逐步预测str dates\n",
    "    \"\"\"\n",
    "    # 先将输入的X转为token，形状为batch * t * 1\n",
    "    X = prepare_date_strs_padded(date_strs)\n",
    "    # 初始化Y_pred，第一个预测是sos，此时的形状为batch * 1 * 1\n",
    "    Y_pred = tf.fill(dims=(len(X), 1), value=sos_id)\n",
    "    # 沿着时间进行遍历\n",
    "    for index in range(max_output_length):\n",
    "        # 计算此时应该对Y_pred的填充\n",
    "        pad_size = max_output_length - Y_pred.shape[1]\n",
    "        # 合成为decoder输入的信息\n",
    "        X_decoder = tf.pad(Y_pred, [[0, 0], [0, pad_size]])\n",
    "        # 使用模型预测下一个字符，取出，形状为batch * 1 * 1\n",
    "        Y_probas_next = model.predict([X, X_decoder])[:, index:index+1]\n",
    "        # 转换为token\n",
    "        Y_pred_next = tf.argmax(Y_probas_next, axis=-1, output_type=tf.int32)\n",
    "        # concat到Y_pred上，进入下一个预测\n",
    "        Y_pred = tf.concat([Y_pred, Y_pred_next], axis=1)\n",
    "        \n",
    "    return ids_to_date_strs(Y_pred[:, 1:])"
   ]
  },
  {
   "cell_type": "markdown",
   "metadata": {},
   "source": [
    "以上实例是我们手动的执行了每一步的sample和predict，但是tfa实际上已经将这些功能集成在了decoder类和sampler类中，可以直接调用实现。下面就使用tfa的接口定义了一个和上面完全相同的模型。"
   ]
  },
  {
   "cell_type": "code",
   "execution_count": null,
   "metadata": {},
   "outputs": [],
   "source": [
    "import tensorflow_addons as tfa\n",
    "# 设置一些模型参数\n",
    "np.random.seed(42)\n",
    "tf.random.set_seed(42)\n",
    "\n",
    "encoder_embedding_size = 32\n",
    "decoder_embedding_size = 32\n",
    "units = 128\n",
    "\n",
    "# 定义模型的输入\n",
    "encoder_inputs = keras.layers.Input(shape=[None], dtype=np.int32)\n",
    "decoder_inputs = keras.layers.Input(shape=[None], dtype=np.int32)\n",
    "sequence_lengths = keras.layers.Input(shape=[], dtype=np.int32)\n",
    "\n",
    "# 设置embedding层  \n",
    "encoder_embeddings = keras.layers.Embedding(\n",
    "    len(INPUT_CHARS) + 1, encoder_embedding_size)(encoder_inputs)\n",
    "\n",
    "decoder_embedding_layer = keras.layers.Embedding(\n",
    "    len(OUTPUT_CHARS) + 2, decoder_embedding_size)\n",
    "decoder_embeddings = decoder_embedding_layer(decoder_inputs)\n",
    "\n",
    "# 设置encoder，获取最终输出和state，并且保存作为输入\n",
    "encoder = keras.layers.LSTM(units, return_state=True)\n",
    "encoder_outputs, state_h, state_c = encoder(encoder_embeddings)\n",
    "encoder_state = [state_h, state_c]\n",
    "\n",
    "# 定义一个简单的sampler，帮助我们挨个喂入数据\n",
    "sampler = tfa.seq2seq.sampler.TrainingSampler()\n",
    "\n",
    "# 定义decoder\n",
    "decoder_cell = keras.layers.LSTMCell(units)\n",
    "output_layer = keras.layers.Dense(len(OUTPUT_CHARS) + 1)\n",
    "\n",
    "decoder = tfa.seq2seq.basic_decoder.BasicDecoder(decoder_cell, #cell\n",
    "                                                 sampler,      # sampler\n",
    "                                                 output_layer=output_layer)#输出\n",
    "# 定义最终的输出\n",
    "final_outputs, final_state, final_sequence_lengths = decoder(\n",
    "    decoder_embeddings,\n",
    "    initial_state=encoder_state)\n",
    "# 最终输出softmax\n",
    "Y_proba = keras.layers.Activation(\"softmax\")(final_outputs.rnn_output)\n",
    "# 模型定义\n",
    "model = keras.models.Model(inputs=[encoder_inputs, decoder_inputs],\n",
    "                           outputs=[Y_proba])\n",
    "\n",
    "# 模型的编译和拟合\n",
    "optimizer = keras.optimizers.Nadam()\n",
    "model.compile(loss=\"sparse_categorical_crossentropy\", optimizer=optimizer,\n",
    "              metrics=[\"accuracy\"])\n",
    "history = model.fit([X_train, X_train_decoder], Y_train, epochs=15,\n",
    "                    validation_data=([X_valid, X_valid_decoder], Y_valid))"
   ]
  },
  {
   "cell_type": "markdown",
   "metadata": {},
   "source": [
    "However, there's a much more efficient way to perform inference. Until now, during inference, we've run the model once for each new character. Instead, we can create a new decoder, based on the previously trained layers, but using a `GreedyEmbeddingSampler` instead of a `TrainingSampler`.\n",
    "\n",
    "At each time step, the `GreedyEmbeddingSampler` will compute the argmax of the decoder's outputs, and run the resulting token IDs through the decoder's embedding layer. Then it will feed the resulting embeddings to the decoder's LSTM cell at the next time step. This way, we only need to run the decoder once to get the full prediction."
   ]
  },
  {
   "cell_type": "markdown",
   "metadata": {},
   "source": [
    "在训练时候，定义了一个sampler来帮助我们喂入数据，而在预测时候，我们可以通过调用已经训练好的模型，改变一个自动化的sampler来帮助我们逐步进行推理"
   ]
  },
  {
   "cell_type": "markdown",
   "metadata": {},
   "source": [
    "A few notes:\n",
    "* The `GreedyEmbeddingSampler` needs the `start_tokens` (a vector containing the start-of-sequence ID for each decoder sequence), and the `end_token` (the decoder will stop decoding a sequence once the model outputs this token).\n",
    "* We must set `maximum_iterations` when creating the `BasicDecoder`, or else it may run into an infinite loop (if the model never outputs the end token for at least one of the sequences). This would force you would to restart the Jupyter kernel.\n",
    "* The decoder inputs are not needed anymore, since all the decoder inputs are generated dynamically based on the outputs from the previous time step.\n",
    "* The model's outputs are `final_outputs.sample_id` instead of the softmax of `final_outputs.rnn_outputs`. This allows us to directly get the argmax of the model's outputs. If you prefer to have access to the logits, you can replace `final_outputs.sample_id` with `final_outputs.rnn_outputs`."
   ]
  },
  {
   "cell_type": "markdown",
   "metadata": {},
   "source": [
    "https://tensorflow.google.cn/addons/api_docs/python/tfa/seq2seq/Sampler"
   ]
  },
  {
   "cell_type": "code",
   "execution_count": null,
   "metadata": {},
   "outputs": [],
   "source": [
    "# 初始化sampler，sampler会将输出经过embedding fn处理，然后输入下一个step\n",
    "inference_sampler = tfa.seq2seq.sampler.GreedyEmbeddingSampler(\n",
    "    embedding_fn=decoder_embedding_layer)\n",
    "# 使用已经训练好的模型，重新定义一个decoder\n",
    "inference_decoder = tfa.seq2seq.basic_decoder.BasicDecoder(\n",
    "    decoder_cell, inference_sampler, output_layer=output_layer,\n",
    "    maximum_iterations=max_output_length)\n",
    "\n",
    "# 为模型传入初始状态后，就可以自动进行逐步推断\n",
    "batch_size = tf.shape(encoder_inputs)[:1]\n",
    "start_tokens = tf.fill(dims=batch_size, value=sos_id)\n",
    "final_outputs, final_state, final_sequence_lengths = inference_decoder(\n",
    "    start_tokens,\n",
    "    initial_state=encoder_state,\n",
    "    start_tokens=start_tokens,\n",
    "    end_token=0)\n",
    "\n",
    "inference_model = keras.models.Model(inputs=[encoder_inputs],\n",
    "                                     outputs=[final_outputs.sample_id])"
   ]
  },
  {
   "cell_type": "code",
   "execution_count": null,
   "metadata": {},
   "outputs": [],
   "source": [
    "def fast_predict_date_strs(date_strs):\n",
    "    X = prepare_date_strs_padded(date_strs)\n",
    "    Y_pred = inference_model.predict(X)\n",
    "    return ids_to_date_strs(Y_pred)"
   ]
  },
  {
   "cell_type": "markdown",
   "metadata": {},
   "source": [
    "# 2021.11.27\n",
    "## 知识点：\n",
    "* 线性autoencoder：PCA\n",
    "* 深层AE\n",
    "* 重用weight的AE\n",
    "* 卷积AE & 循环AE\n",
    "* 去躁AE\n",
    "* 稀疏AE\n",
    "* 变分AE\n",
    "* GAN"
   ]
  },
  {
   "cell_type": "code",
   "execution_count": 10,
   "metadata": {},
   "outputs": [],
   "source": [
    "import numpy as np \n",
    "import pandas as pd\n",
    "import matplotlib.pyplot as plt\n",
    "\n",
    "import sklearn\n",
    "assert sklearn.__version__ >= \"0.20\"\n",
    "\n",
    "# TensorFlow ≥2.0 is required\n",
    "import tensorflow as tf\n",
    "from tensorflow import keras\n",
    "assert tf.__version__ >= \"2.0\"\n",
    "\n",
    "import sys\n",
    "assert sys.version_info >= (3, 5)"
   ]
  },
  {
   "cell_type": "markdown",
   "metadata": {},
   "source": [
    "## AutoEncoder"
   ]
  },
  {
   "cell_type": "markdown",
   "metadata": {},
   "source": [
    "### PCA：线性AutoEncoder"
   ]
  },
  {
   "cell_type": "code",
   "execution_count": 4,
   "metadata": {},
   "outputs": [],
   "source": [
    "# 使用MSE以及简单线性层的AE实际上实现了PCA算法\n",
    "\n",
    "# 这里用3D数据作为示例\n",
    "np.random.seed(4)\n",
    "\n",
    "def generate_3d_data(m, w1=0.1, w2=0.3, noise=0.1):\n",
    "    angles = np.random.rand(m) * 3 * np.pi / 2 - 0.5\n",
    "    data = np.empty((m, 3))\n",
    "    data[:, 0] = np.cos(angles) + np.sin(angles)/2 + noise * np.random.randn(m) / 2\n",
    "    data[:, 1] = np.sin(angles) * 0.7 + noise * np.random.randn(m) / 2\n",
    "    data[:, 2] = data[:, 0] * w1 + data[:, 1] * w2 + noise * np.random.randn(m)\n",
    "    return data\n",
    "\n",
    "X_train = generate_3d_data(60)\n",
    "X_train = X_train - X_train.mean(axis=0, keepdims=0)"
   ]
  },
  {
   "cell_type": "code",
   "execution_count": 6,
   "metadata": {},
   "outputs": [
    {
     "name": "stdout",
     "output_type": "stream",
     "text": [
      "Epoch 1/20\n",
      "2/2 [==============================] - 0s 3ms/step - loss: 0.3081\n",
      "Epoch 2/20\n",
      "2/2 [==============================] - 0s 1ms/step - loss: 0.1598\n",
      "Epoch 3/20\n",
      "2/2 [==============================] - 0s 1ms/step - loss: 0.0485\n",
      "Epoch 4/20\n",
      "2/2 [==============================] - 0s 1ms/step - loss: 0.0419\n",
      "Epoch 5/20\n",
      "2/2 [==============================] - 0s 1ms/step - loss: 0.0617\n",
      "Epoch 6/20\n",
      "2/2 [==============================] - 0s 1ms/step - loss: 0.0756\n",
      "Epoch 7/20\n",
      "2/2 [==============================] - 0s 2ms/step - loss: 0.1092\n",
      "Epoch 8/20\n",
      "2/2 [==============================] - 0s 1ms/step - loss: 0.0465\n",
      "Epoch 9/20\n",
      "2/2 [==============================] - 0s 1ms/step - loss: 0.0154\n",
      "Epoch 10/20\n",
      "2/2 [==============================] - 0s 1ms/step - loss: 0.0084\n",
      "Epoch 11/20\n",
      "2/2 [==============================] - 0s 2ms/step - loss: 0.0058\n",
      "Epoch 12/20\n",
      "2/2 [==============================] - 0s 1ms/step - loss: 0.0049\n",
      "Epoch 13/20\n",
      "2/2 [==============================] - 0s 1ms/step - loss: 0.0046\n",
      "Epoch 14/20\n",
      "2/2 [==============================] - 0s 1ms/step - loss: 0.0045\n",
      "Epoch 15/20\n",
      "2/2 [==============================] - 0s 1ms/step - loss: 0.0043\n",
      "Epoch 16/20\n",
      "2/2 [==============================] - 0s 1ms/step - loss: 0.0043\n",
      "Epoch 17/20\n",
      "2/2 [==============================] - 0s 1ms/step - loss: 0.0040\n",
      "Epoch 18/20\n",
      "2/2 [==============================] - 0s 2ms/step - loss: 0.0039\n",
      "Epoch 19/20\n",
      "2/2 [==============================] - 0s 1ms/step - loss: 0.0038\n",
      "Epoch 20/20\n",
      "2/2 [==============================] - 0s 1ms/step - loss: 0.0041\n"
     ]
    }
   ],
   "source": [
    "encoder = keras.models.Sequential([keras.layers.Dense(2, input_shape = [3])])\n",
    "decoder = keras.models.Sequential([keras.layers.Dense(3, input_shape = [2])])\n",
    "autoencoder = keras.models.Sequential([encoder, decoder])\n",
    "\n",
    "autoencoder.compile(loss = 'mse', optimizer = keras.optimizers.SGD(learning_rate=1.5))\n",
    "history = autoencoder.fit(X_train, X_train, epochs = 20)"
   ]
  },
  {
   "cell_type": "code",
   "execution_count": 7,
   "metadata": {},
   "outputs": [],
   "source": [
    "coding = encoder.predict(X_train)"
   ]
  },
  {
   "cell_type": "code",
   "execution_count": 13,
   "metadata": {},
   "outputs": [
    {
     "data": {
      "image/png": "[encoded data removed]",
      "text/plain": [
       "<Figure size 288x216 with 1 Axes>"
      ]
     },
     "metadata": {
      "needs_background": "light"
     },
     "output_type": "display_data"
    }
   ],
   "source": [
    "fig = plt.figure(figsize=(4,3))\n",
    "plt.plot(coding[:,0], coding[:, 1], \"b.\")\n",
    "plt.xlabel(\"$z_1$\", fontsize=18)\n",
    "plt.ylabel(\"$z_2$\", fontsize=18, rotation=0)\n",
    "plt.grid(True)\n",
    "plt.show()"
   ]
  },
  {
   "cell_type": "markdown",
   "metadata": {},
   "source": [
    "## 搭建更深层的AutoEncoder\n",
    "\n",
    "值得注意的是，在建立AE时，可以在encoding端搭建更深层次的网络结构，但是在decodong端不能搭建过深，因为decoder的能力变强意味着encoder的能力变弱。"
   ]
  },
  {
   "cell_type": "code",
   "execution_count": 15,
   "metadata": {},
   "outputs": [
    {
     "name": "stdout",
     "output_type": "stream",
     "text": [
      "Downloading data from https://storage.googleapis.com/tensorflow/tf-keras-datasets/t10k-images-idx3-ubyte.gz\n",
      "4423680/4422102 [==============================] - 0s 0us/step\n"
     ]
    }
   ],
   "source": [
    "(X_train_full, y_train_full), (X_test, y_test) = keras.datasets.fashion_mnist.load_data()\n",
    "X_train_full = X_train_full.astype(np.float32) / 255    # 将像素数值归一化0-1\n",
    "X_test = X_test.astype(np.float32) / 255\n",
    "X_train, X_valid = X_train_full[:-5000], X_train_full[-5000:]\n",
    "y_train, y_valid = y_train_full[:-5000], y_train_full[-5000:]"
   ]
  },
  {
   "cell_type": "code",
   "execution_count": 16,
   "metadata": {},
   "outputs": [],
   "source": [
    "# 假设这里要训练对于一个28 * 28的图片进行降维\n",
    "# 对于图片像素的灰度，我们使用二元预测的方式进行评估，即输出的数字为像素黑色的概率\n",
    "\n",
    "def rounded_accuracy(y_true, y_pred):\n",
    "    return keras.metrics.binary_accuracy(tf.round(y_true), tf.round(y_pred))"
   ]
  },
  {
   "cell_type": "code",
   "execution_count": 17,
   "metadata": {},
   "outputs": [
    {
     "name": "stdout",
     "output_type": "stream",
     "text": [
      "Epoch 1/20\n",
      "1719/1719 [==============================] - 3s 2ms/step - loss: 0.3814 - rounded_accuracy: 0.8487 - val_loss: 0.3173 - val_rounded_accuracy: 0.8989\n",
      "Epoch 2/20\n",
      "1719/1719 [==============================] - 3s 1ms/step - loss: 0.3083 - rounded_accuracy: 0.9126 - val_loss: 0.3020 - val_rounded_accuracy: 0.9199\n",
      "Epoch 3/20\n",
      "1719/1719 [==============================] - 3s 2ms/step - loss: 0.2998 - rounded_accuracy: 0.9203 - val_loss: 0.2986 - val_rounded_accuracy: 0.9197\n",
      "Epoch 4/20\n",
      "1719/1719 [==============================] - 3s 2ms/step - loss: 0.2959 - rounded_accuracy: 0.9240 - val_loss: 0.2938 - val_rounded_accuracy: 0.9285\n",
      "Epoch 5/20\n",
      "1719/1719 [==============================] - 3s 2ms/step - loss: 0.2928 - rounded_accuracy: 0.9268 - val_loss: 0.2919 - val_rounded_accuracy: 0.9284\n",
      "Epoch 6/20\n",
      "1719/1719 [==============================] - 3s 2ms/step - loss: 0.2920 - rounded_accuracy: 0.9283 - val_loss: 0.2914 - val_rounded_accuracy: 0.9306\n",
      "Epoch 7/20\n",
      "1719/1719 [==============================] - 3s 2ms/step - loss: 0.2899 - rounded_accuracy: 0.9297 - val_loss: 0.2906 - val_rounded_accuracy: 0.9281\n",
      "Epoch 8/20\n",
      "1719/1719 [==============================] - 3s 2ms/step - loss: 0.2875 - rounded_accuracy: 0.9314 - val_loss: 0.2970 - val_rounded_accuracy: 0.9276\n",
      "Epoch 9/20\n",
      "1719/1719 [==============================] - 3s 2ms/step - loss: 0.2878 - rounded_accuracy: 0.9316 - val_loss: 0.2907 - val_rounded_accuracy: 0.9256\n",
      "Epoch 10/20\n",
      "1719/1719 [==============================] - 3s 2ms/step - loss: 0.2860 - rounded_accuracy: 0.9329 - val_loss: 0.2879 - val_rounded_accuracy: 0.9306\n",
      "Epoch 11/20\n",
      "1719/1719 [==============================] - 3s 2ms/step - loss: 0.2859 - rounded_accuracy: 0.9330 - val_loss: 0.2866 - val_rounded_accuracy: 0.9348\n",
      "Epoch 12/20\n",
      "1719/1719 [==============================] - 3s 2ms/step - loss: 0.2845 - rounded_accuracy: 0.9343 - val_loss: 0.2854 - val_rounded_accuracy: 0.9357\n",
      "Epoch 13/20\n",
      "1719/1719 [==============================] - 3s 2ms/step - loss: 0.2838 - rounded_accuracy: 0.9343 - val_loss: 0.2846 - val_rounded_accuracy: 0.9352\n",
      "Epoch 14/20\n",
      "1719/1719 [==============================] - 3s 2ms/step - loss: 0.2830 - rounded_accuracy: 0.9353 - val_loss: 0.2844 - val_rounded_accuracy: 0.9365\n",
      "Epoch 15/20\n",
      "1719/1719 [==============================] - 3s 2ms/step - loss: 0.2827 - rounded_accuracy: 0.9354 - val_loss: 0.2841 - val_rounded_accuracy: 0.9351\n",
      "Epoch 16/20\n",
      "1719/1719 [==============================] - 3s 2ms/step - loss: 0.2831 - rounded_accuracy: 0.9356 - val_loss: 0.2847 - val_rounded_accuracy: 0.9353\n",
      "Epoch 17/20\n",
      "1719/1719 [==============================] - 3s 2ms/step - loss: 0.2827 - rounded_accuracy: 0.9358 - val_loss: 0.2835 - val_rounded_accuracy: 0.9363\n",
      "Epoch 18/20\n",
      "1719/1719 [==============================] - 3s 2ms/step - loss: 0.2815 - rounded_accuracy: 0.9366 - val_loss: 0.2831 - val_rounded_accuracy: 0.9363\n",
      "Epoch 19/20\n",
      "1719/1719 [==============================] - 3s 2ms/step - loss: 0.2813 - rounded_accuracy: 0.9371 - val_loss: 0.2827 - val_rounded_accuracy: 0.9375\n",
      "Epoch 20/20\n",
      "1719/1719 [==============================] - 3s 2ms/step - loss: 0.2806 - rounded_accuracy: 0.9371 - val_loss: 0.2839 - val_rounded_accuracy: 0.9369\n"
     ]
    }
   ],
   "source": [
    "tf.random.set_seed(42)\n",
    "np.random.seed(42)\n",
    "\n",
    "stacked_encoder = keras.models.Sequential([\n",
    "    keras.layers.Flatten(input_shape=[28, 28]),\n",
    "    keras.layers.Dense(100, activation=\"selu\"),\n",
    "    keras.layers.Dense(30, activation=\"selu\"),\n",
    "])\n",
    "\n",
    "stacked_decoder = keras.models.Sequential([\n",
    "    keras.layers.Dense(100, activation=\"selu\", input_shape=[30]),\n",
    "    keras.layers.Dense(28 * 28, activation=\"sigmoid\"),\n",
    "    keras.layers.Reshape([28, 28])\n",
    "])\n",
    "\n",
    "stacked_ae = keras.models.Sequential([stacked_encoder, stacked_decoder])\n",
    "stacked_ae.compile(loss=\"binary_crossentropy\",\n",
    "                   optimizer=keras.optimizers.SGD(learning_rate=1.5), metrics=[rounded_accuracy])\n",
    "history = stacked_ae.fit(X_train, X_train, epochs=20,\n",
    "                         validation_data=(X_valid, X_valid))"
   ]
  },
  {
   "cell_type": "code",
   "execution_count": 19,
   "metadata": {},
   "outputs": [
    {
     "data": {
      "image/png": "[encoded data removed]",
      "text/plain": [
       "<Figure size 540x216 with 10 Axes>"
      ]
     },
     "metadata": {
      "needs_background": "light"
     },
     "output_type": "display_data"
    }
   ],
   "source": [
    "def plot_image(image):\n",
    "    plt.imshow(image, cmap=\"binary\")\n",
    "    plt.axis(\"off\")\n",
    "\n",
    "def show_reconstructions(model, images=X_valid, n_images=5):\n",
    "    reconstructions = model.predict(images[:n_images])\n",
    "    fig = plt.figure(figsize=(n_images * 1.5, 3))\n",
    "    for image_index in range(n_images):\n",
    "        plt.subplot(2, n_images, 1 + image_index)\n",
    "        plot_image(images[image_index])\n",
    "        plt.subplot(2, n_images, 1 + n_images + image_index)\n",
    "        plot_image(reconstructions[image_index])\n",
    "\n",
    "show_reconstructions(stacked_ae)"
   ]
  },
  {
   "cell_type": "markdown",
   "metadata": {},
   "source": [
    "对于AE来说，一个重要的应用就是先用AE对于数据进行无监督预学习，尽可能的将数据中的重要特征提取出来，然后用着这些重要的特征对于数据进行分类或者在小部分具有标签的数据上进行模型的训练。"
   ]
  },
  {
   "cell_type": "code",
   "execution_count": 20,
   "metadata": {},
   "outputs": [
    {
     "data": {
      "image/png": "[encoded data removed]",
      "text/plain": [
       "<Figure size 432x288 with 1 Axes>"
      ]
     },
     "metadata": {
      "needs_background": "light"
     },
     "output_type": "display_data"
    }
   ],
   "source": [
    "np.random.seed(42)\n",
    "\n",
    "from sklearn.manifold import TSNE\n",
    "\n",
    "# 数据预处理\n",
    "X_valid_compressed = stacked_encoder.predict(X_valid)\n",
    "# 用预处理的数据进行分类\n",
    "tsne = TSNE()\n",
    "X_valid_2D = tsne.fit_transform(X_valid_compressed)\n",
    "X_valid_2D = (X_valid_2D - X_valid_2D.min()) / (X_valid_2D.max() - X_valid_2D.min())\n",
    "# 可视化\n",
    "plt.scatter(X_valid_2D[:, 0], X_valid_2D[:, 1], c=y_valid, s=10, cmap=\"tab10\")\n",
    "plt.axis(\"off\")\n",
    "plt.show()"
   ]
  },
  {
   "cell_type": "markdown",
   "metadata": {},
   "source": [
    "## Tying weights\n",
    "如果我们想构建一个完全对称的AE，一个可行的方法是让这个网络共享Encoder和Decoder的权重，这样可以避免过拟合，因为训练参数几乎减小了一半"
   ]
  },
  {
   "cell_type": "code",
   "execution_count": 21,
   "metadata": {},
   "outputs": [],
   "source": [
    "# 创建一个 “对称Dense”：输入和输出的维度与参数dense相反，并且直接使用dense的维度\n",
    "class DenseTranspose(keras.layers.Layer):\n",
    "    def __init__(self, dense, activation=None, **kwargs):\n",
    "        self.dense = dense\n",
    "        self.activation = keras.activations.get(activation)\n",
    "        super().__init__(**kwargs)\n",
    "\n",
    "    def build(self, batch_input_shape):\n",
    "        # 虽然使用旧的weight，但是使用新的bias\n",
    "        self.biases = self.add_weight(name=\"bias\",\n",
    "                                      shape=[self.dense.input_shape[-1]],\n",
    "                                      initializer=\"zeros\")\n",
    "                    \n",
    "        super().build(batch_input_shape)\n",
    "    def call(self, inputs):\n",
    "\n",
    "        z = tf.matmul(inputs, self.dense.weights[0], transpose_b=True)\n",
    "        \n",
    "        return self.activation(z + self.biases)"
   ]
  },
  {
   "cell_type": "code",
   "execution_count": null,
   "metadata": {},
   "outputs": [],
   "source": [
    "keras.backend.clear_session()\n",
    "tf.random.set_seed(42)\n",
    "np.random.seed(42)\n",
    "\n",
    "dense_1 = keras.layers.Dense(100, activation=\"selu\")\n",
    "dense_2 = keras.layers.Dense(30, activation=\"selu\")\n",
    "\n",
    "tied_encoder = keras.models.Sequential([\n",
    "    keras.layers.Flatten(input_shape=[28, 28]),\n",
    "    dense_1,\n",
    "    dense_2\n",
    "])\n",
    "\n",
    "tied_decoder = keras.models.Sequential([\n",
    "    DenseTranspose(dense_2, activation=\"selu\"),\n",
    "    DenseTranspose(dense_1, activation=\"sigmoid\"),\n",
    "    keras.layers.Reshape([28, 28])\n",
    "])\n",
    "\n",
    "tied_ae = keras.models.Sequential([tied_encoder, tied_decoder])\n",
    "\n",
    "tied_ae.compile(loss=\"binary_crossentropy\",\n",
    "                optimizer=keras.optimizers.SGD(learning_rate=1.5), metrics=[rounded_accuracy])\n",
    "history = tied_ae.fit(X_train, X_train, epochs=10,\n",
    "                      validation_data=(X_valid, X_valid))"
   ]
  },
  {
   "cell_type": "markdown",
   "metadata": {},
   "source": [
    "## 卷积自编码和循环自编码"
   ]
  },
  {
   "cell_type": "code",
   "execution_count": null,
   "metadata": {},
   "outputs": [],
   "source": [
    "# 卷积\n",
    "tf.random.set_seed(42)\n",
    "np.random.seed(42)\n",
    "\n",
    "conv_encoder = keras.models.Sequential([\n",
    "    keras.layers.Reshape([28, 28, 1], input_shape=[28, 28]),\n",
    "    keras.layers.Conv2D(16, kernel_size=3, padding=\"SAME\", activation=\"selu\"),\n",
    "    keras.layers.MaxPool2D(pool_size=2),\n",
    "    keras.layers.Conv2D(32, kernel_size=3, padding=\"SAME\", activation=\"selu\"),\n",
    "    keras.layers.MaxPool2D(pool_size=2),\n",
    "    keras.layers.Conv2D(64, kernel_size=3, padding=\"SAME\", activation=\"selu\"),\n",
    "    keras.layers.MaxPool2D(pool_size=2)\n",
    "])\n",
    "conv_decoder = keras.models.Sequential([\n",
    "    keras.layers.Conv2DTranspose(32, kernel_size=3, strides=2, padding=\"VALID\", activation=\"selu\",\n",
    "                                 input_shape=[3, 3, 64]),\n",
    "    keras.layers.Conv2DTranspose(16, kernel_size=3, strides=2, padding=\"SAME\", activation=\"selu\"),\n",
    "    keras.layers.Conv2DTranspose(1, kernel_size=3, strides=2, padding=\"SAME\", activation=\"sigmoid\"),\n",
    "    keras.layers.Reshape([28, 28])\n",
    "])\n",
    "conv_ae = keras.models.Sequential([conv_encoder, conv_decoder])\n",
    "\n",
    "conv_ae.compile(loss=\"binary_crossentropy\", optimizer=keras.optimizers.SGD(learning_rate=1.0),\n",
    "                metrics=[rounded_accuracy])\n",
    "history = conv_ae.fit(X_train, X_train, epochs=5,\n",
    "                      validation_data=(X_valid, X_valid))"
   ]
  },
  {
   "cell_type": "code",
   "execution_count": null,
   "metadata": {},
   "outputs": [],
   "source": [
    "# 循环\n",
    "recurrent_encoder = keras.models.Sequential([\n",
    "    keras.layers.LSTM(100, return_sequences=True, input_shape=[28, 28]),\n",
    "    keras.layers.LSTM(30)\n",
    "])\n",
    "recurrent_decoder = keras.models.Sequential([\n",
    "    keras.layers.RepeatVector(28, input_shape=[30]), # 把batch * 30 变成 batch * 28 * 30\n",
    "    keras.layers.LSTM(100, return_sequences=True), # batch * 28 * 100\n",
    "    keras.layers.TimeDistributed(keras.layers.Dense(28, activation=\"sigmoid\")) # batch*28*28\n",
    "])\n",
    "recurrent_ae = keras.models.Sequential([recurrent_encoder, recurrent_decoder])\n",
    "recurrent_ae.compile(loss=\"binary_crossentropy\", optimizer=keras.optimizers.SGD(0.1),\n",
    "                     metrics=[rounded_accuracy])"
   ]
  },
  {
   "cell_type": "markdown",
   "metadata": {},
   "source": [
    "## 去噪自编码（&dropout）"
   ]
  },
  {
   "cell_type": "markdown",
   "metadata": {},
   "source": [
    "这类自编码在encoding前加入高斯噪音，就算encoding维度没有降低，训练也会逼迫网络学习数据中有用的特征"
   ]
  },
  {
   "cell_type": "code",
   "execution_count": null,
   "metadata": {},
   "outputs": [],
   "source": [
    "tf.random.set_seed(42)\n",
    "np.random.seed(42)\n",
    "\n",
    "denoising_encoder = keras.models.Sequential([\n",
    "    keras.layers.Flatten(input_shape=[28, 28]),\n",
    "    keras.layers.GaussianNoise(0.2), #只有在训练时候才会加入\n",
    "    keras.layers.Dense(100, activation=\"selu\"),\n",
    "    keras.layers.Dense(30, activation=\"selu\")\n",
    "])\n",
    "\n",
    "denoising_decoder = keras.models.Sequential([\n",
    "    keras.layers.Dense(100, activation=\"selu\", input_shape=[30]),\n",
    "    keras.layers.Dense(28 * 28, activation=\"sigmoid\"),\n",
    "    keras.layers.Reshape([28, 28])\n",
    "])\n",
    "\n",
    "denoising_ae = keras.models.Sequential([denoising_encoder, denoising_decoder])\n",
    "\n",
    "denoising_ae.compile(loss=\"binary_crossentropy\", optimizer=keras.optimizers.SGD(learning_rate=1.0),\n",
    "                     metrics=[rounded_accuracy])\n",
    "\n",
    "history = denoising_ae.fit(X_train, X_train, epochs=10,\n",
    "                           validation_data=(X_valid, X_valid))"
   ]
  },
  {
   "cell_type": "markdown",
   "metadata": {},
   "source": [
    "或者使用dropout，在训练时强迫神经元部分关闭，使得部分样本缺失，而尝试让网络修复这些缺失的样本，在这个过程中学习到样本中的重要数据特征"
   ]
  },
  {
   "cell_type": "code",
   "execution_count": null,
   "metadata": {},
   "outputs": [],
   "source": [
    "tf.random.set_seed(42)\n",
    "np.random.seed(42)\n",
    "\n",
    "dropout_encoder = keras.models.Sequential([\n",
    "    keras.layers.Flatten(input_shape=[28, 28]),\n",
    "    keras.layers.Dropout(0.5),\n",
    "    keras.layers.Dense(100, activation=\"selu\"),\n",
    "    keras.layers.Dense(30, activation=\"selu\")\n",
    "])\n",
    "\n",
    "dropout_decoder = keras.models.Sequential([\n",
    "    keras.layers.Dense(100, activation=\"selu\", input_shape=[30]),\n",
    "    keras.layers.Dense(28 * 28, activation=\"sigmoid\"),\n",
    "    keras.layers.Reshape([28, 28])\n",
    "])\n",
    "\n",
    "dropout_ae = keras.models.Sequential([dropout_encoder, dropout_decoder])\n",
    "dropout_ae.compile(loss=\"binary_crossentropy\", optimizer=keras.optimizers.SGD(learning_rate=1.0),\n",
    "                   metrics=[rounded_accuracy])\n",
    "\n",
    "history = dropout_ae.fit(X_train, X_train, epochs=10,\n",
    "                         validation_data=(X_valid, X_valid))"
   ]
  },
  {
   "cell_type": "markdown",
   "metadata": {},
   "source": [
    "## 稀疏自动编码器\n",
    "\n",
    "通过在loss中直接加入模型输出的l1范数来强迫模型减少输出（eg 输出都为0），但是同时loss会要求模型尽可能的还原数据，所以这时模型只能在有限的输出中尽可能的输出对于还原有用的重要信息，也就同时学习到了数据的重要特征。"
   ]
  },
  {
   "cell_type": "code",
   "execution_count": null,
   "metadata": {},
   "outputs": [],
   "source": [
    "tf.random.set_seed(42)\n",
    "np.random.seed(42)\n",
    "\n",
    "sparse_l1_encoder = keras.models.Sequential([\n",
    "    keras.layers.Flatten(input_shape=[28, 28]),\n",
    "    keras.layers.Dense(100, activation=\"selu\"),\n",
    "    keras.layers.Dense(300, activation=\"sigmoid\"),\n",
    "    keras.layers.ActivityRegularization(l1=1e-3)  # Alternatively, you could add\n",
    "                                                  # activity_regularizer=keras.regularizers.l1(1e-3)\n",
    "                                                  # to the previous layer.\n",
    "])\n",
    "sparse_l1_decoder = keras.models.Sequential([\n",
    "    keras.layers.Dense(100, activation=\"selu\", input_shape=[300]),\n",
    "    keras.layers.Dense(28 * 28, activation=\"sigmoid\"),\n",
    "    keras.layers.Reshape([28, 28])\n",
    "])\n",
    "sparse_l1_ae = keras.models.Sequential([sparse_l1_encoder, sparse_l1_decoder])\n",
    "sparse_l1_ae.compile(loss=\"binary_crossentropy\", optimizer=keras.optimizers.SGD(learning_rate=1.0),\n",
    "                     metrics=[rounded_accuracy])\n",
    "history = sparse_l1_ae.fit(X_train, X_train, epochs=10,\n",
    "                           validation_data=(X_valid, X_valid))"
   ]
  },
  {
   "cell_type": "markdown",
   "metadata": {},
   "source": [
    "上面的网络使用了ActivityRegularization来限制输出，使得神经元的输出激活比例变低。另外一种方式就是指定一个目标的激活比例，计算现在激活比例和目标激活比例的差距，使用这个差距作为ActivityRegularization的系数对于模型进行惩罚。这里的“差距”定义为目前激活比例与目标激活比例的KL散度。"
   ]
  },
  {
   "cell_type": "code",
   "execution_count": 24,
   "metadata": {},
   "outputs": [
    {
     "data": {
      "text/plain": [
       "(0.0, 1.0, 0.0, 0.95)"
      ]
     },
     "execution_count": 24,
     "metadata": {},
     "output_type": "execute_result"
    },
    {
     "data": {
      "image/png": "[encoded data removed]",
      "text/plain": [
       "<Figure size 432x288 with 1 Axes>"
      ]
     },
     "metadata": {
      "needs_background": "light"
     },
     "output_type": "display_data"
    }
   ],
   "source": [
    "p = 0.1\n",
    "q = np.linspace(0.001, 0.999, 500)\n",
    "kl_div = p * np.log(p / q) + (1 - p) * np.log((1 - p) / (1 - q))\n",
    "mse = (p - q)**2\n",
    "mae = np.abs(p - q)\n",
    "plt.plot([p, p], [0, 0.3], \"k:\")\n",
    "plt.text(0.05, 0.32, \"Target\\nsparsity\", fontsize=14)\n",
    "plt.plot(q, kl_div, \"b-\", label=\"KL divergence\")\n",
    "plt.plot(q, mae, \"g--\", label=r\"MAE ($\\ell_1$)\")\n",
    "plt.plot(q, mse, \"r--\", linewidth=1, label=r\"MSE ($\\ell_2$)\")\n",
    "plt.legend(loc=\"upper left\", fontsize=14)\n",
    "plt.xlabel(\"Actual sparsity\")\n",
    "plt.ylabel(\"Cost\", rotation=0)\n",
    "plt.axis([0, 1, 0, 0.95])\n"
   ]
  },
  {
   "cell_type": "code",
   "execution_count": 26,
   "metadata": {},
   "outputs": [],
   "source": [
    "K = keras.backend\n",
    "kl_divergence = keras.losses.kullback_leibler_divergence\n",
    "\n",
    "class KLDivergenceRegularizer(keras.regularizers.Regularizer):\n",
    "    def __init__(self, weight, target=0.1):\n",
    "        # weight决定了我们取多少比例的惩罚加入最终的loss\n",
    "        self.weight = weight\n",
    "        self.target = target\n",
    "    \n",
    "    def __call__(self, inputs):\n",
    "        # 值得注意的是，这里使用mean作为激活的比例，是因为encoder的最后一层输出是sigmoid\n",
    "        mean_activities = K.mean(inputs, axis=0) # 为什么axis=0呢？\n",
    "        #因为这里是求出每个fearture的平均值而不是每个样本所有feature的平均值，\n",
    "        #我们想看的是有多少神经元被激活\n",
    "        return self.weight * (\n",
    "            kl_divergence(self.target, mean_activities) +\n",
    "            kl_divergence(1. - self.target, 1. - mean_activities))"
   ]
  },
  {
   "cell_type": "code",
   "execution_count": null,
   "metadata": {},
   "outputs": [],
   "source": [
    "tf.random.set_seed(42)\n",
    "np.random.seed(42)\n",
    "\n",
    "kld_reg = KLDivergenceRegularizer(weight=0.05, target=0.1)\n",
    "sparse_kl_encoder = keras.models.Sequential([\n",
    "    keras.layers.Flatten(input_shape=[28, 28]),\n",
    "    keras.layers.Dense(100, activation=\"selu\"),\n",
    "    keras.layers.Dense(300, activation=\"sigmoid\", activity_regularizer=kld_reg) # 注意这里是activity_regularizer\n",
    "                                                                                # 对于参数的reg是kernel_regularizer\n",
    "])\n",
    "\n",
    "sparse_kl_decoder = keras.models.Sequential([\n",
    "    keras.layers.Dense(100, activation=\"selu\", input_shape=[300]),\n",
    "    keras.layers.Dense(28 * 28, activation=\"sigmoid\"),\n",
    "    keras.layers.Reshape([28, 28])\n",
    "])\n",
    "\n",
    "sparse_kl_ae = keras.models.Sequential([sparse_kl_encoder, sparse_kl_decoder])\n",
    "\n",
    "sparse_kl_ae.compile(loss=\"binary_crossentropy\", optimizer=keras.optimizers.SGD(learning_rate=1.0),\n",
    "              metrics=[rounded_accuracy])\n",
    "\n",
    "history = sparse_kl_ae.fit(X_train, X_train, epochs=10,\n",
    "                           validation_data=(X_valid, X_valid))"
   ]
  },
  {
   "cell_type": "markdown",
   "metadata": {},
   "source": [
    "## 变分自编码\n",
    "变分自编码器将样本特征投影到一个高斯分布的高维空间中去，分别计算这个高维向量的均值向量以及std，这是encoder做的事。而对于decoder，它要解码的不是均值向量，而是在这个均值向量喝std向量生成的随机高斯分布中的一个样本点，用这个样本点（同样是一个高维向量）进行还原。\n",
    "\n",
    "### 两点值得注意：\n",
    "    * 由于decoder解码的是采样点，需要设计采样过程，无法使用sequential模型\n",
    "    * 由于目标是将输入向量的复杂分布映射到一个高斯分布上去，所以要有一个单独的损失函数惩罚映射后的点是否符合高斯分布"
   ]
  },
  {
   "cell_type": "code",
   "execution_count": 27,
   "metadata": {},
   "outputs": [],
   "source": [
    "# 采样\n",
    "class Sampling(keras.layers.Layer):\n",
    "    def call(self, inputs):\n",
    "        mean, log_var = inputs\n",
    "        return K.random_normal(tf.shape(log_var)) * K.exp(log_var / 2) + mean "
   ]
  },
  {
   "cell_type": "code",
   "execution_count": null,
   "metadata": {},
   "outputs": [],
   "source": [
    "tf.random.set_seed(42)\n",
    "np.random.seed(42)\n",
    "\n",
    "codings_size = 10\n",
    "\n",
    "# encoder\n",
    "inputs = keras.layers.Input(shape=[28, 28])\n",
    "\n",
    "z = keras.layers.Flatten()(inputs)\n",
    "z = keras.layers.Dense(150, activation=\"selu\")(z)\n",
    "z = keras.layers.Dense(100, activation=\"selu\")(z)\n",
    "### 产生mean和log（std）\n",
    "codings_mean = keras.layers.Dense(codings_size)(z)\n",
    "codings_log_var = keras.layers.Dense(codings_size)(z)\n",
    "### 采样\n",
    "codings = Sampling()([codings_mean, codings_log_var])\n",
    "### 拼接encoder\n",
    "variational_encoder = keras.models.Model(\n",
    "    inputs=[inputs], outputs=[codings_mean, codings_log_var, codings])\n",
    "\n",
    "# decoder\n",
    "decoder_inputs = keras.layers.Input(shape=[codings_size])\n",
    "x = keras.layers.Dense(100, activation=\"selu\")(decoder_inputs)\n",
    "x = keras.layers.Dense(150, activation=\"selu\")(x)\n",
    "x = keras.layers.Dense(28 * 28, activation=\"sigmoid\")(x)\n",
    "outputs = keras.layers.Reshape([28, 28])(x)\n",
    "variational_decoder = keras.models.Model(inputs=[decoder_inputs], outputs=[outputs])\n",
    "\n",
    "# 最终模型\n",
    "_, _, codings = variational_encoder(inputs)\n",
    "reconstructions = variational_decoder(codings)\n",
    "variational_ae = keras.models.Model(inputs=[inputs], outputs=[reconstructions])\n",
    "\n",
    "# 映射到高斯分布带来的损失(数学细节参考书本章节)\n",
    "latent_loss = -0.5 * K.sum(\n",
    "    1 + codings_log_var - K.exp(codings_log_var) - K.square(codings_mean),\n",
    "    axis=-1)\n",
    "# 注意这里处以784是因为kears计算损失的时候(binary_crossentropy)是平均到每个像素的\n",
    "variational_ae.add_loss(K.mean(latent_loss) / 784.)\n",
    "# 编译模型\n",
    "variational_ae.compile(loss=\"binary_crossentropy\", optimizer=\"rmsprop\", metrics=[rounded_accuracy])\n",
    "history = variational_ae.fit(X_train, X_train, epochs=25, batch_size=128,\n",
    "                             validation_data=(X_valid, X_valid))"
   ]
  },
  {
   "cell_type": "markdown",
   "metadata": {},
   "source": [
    "## GAN"
   ]
  },
  {
   "cell_type": "code",
   "execution_count": null,
   "metadata": {},
   "outputs": [],
   "source": [
    "np.random.seed(42)\n",
    "tf.random.set_seed(42)\n",
    "\n",
    "codings_size = 30\n",
    "# 分别创建一个生成器，一个辨别器\n",
    "\n",
    "generator = keras.models.Sequential([\n",
    "    keras.layers.Dense(100, activation=\"selu\", input_shape=[codings_size]),\n",
    "    keras.layers.Dense(150, activation=\"selu\"),\n",
    "    keras.layers.Dense(28 * 28, activation=\"sigmoid\"),\n",
    "    keras.layers.Reshape([28, 28])\n",
    "])\n",
    "\n",
    "discriminator = keras.models.Sequential([\n",
    "    keras.layers.Flatten(input_shape=[28, 28]),\n",
    "    keras.layers.Dense(150, activation=\"selu\"),\n",
    "    keras.layers.Dense(100, activation=\"selu\"),\n",
    "    keras.layers.Dense(1, activation=\"sigmoid\")\n",
    "])\n",
    "\n",
    "gan = keras.models.Sequential([generator, discriminator])"
   ]
  },
  {
   "cell_type": "code",
   "execution_count": null,
   "metadata": {},
   "outputs": [],
   "source": [
    "# 编译模型，第一步要将辨别器设置为不可训练\n",
    "discriminator.compile(loss=\"binary_crossentropy\", optimizer=\"rmsprop\")\n",
    "discriminator.trainable = False\n",
    "gan.compile(loss=\"binary_crossentropy\", optimizer=\"rmsprop\")"
   ]
  },
  {
   "cell_type": "code",
   "execution_count": null,
   "metadata": {},
   "outputs": [],
   "source": [
    "batch_size = 32\n",
    "dataset = tf.data.Dataset.from_tensor_slices(X_train).shuffle(1000)\n",
    "dataset = dataset.batch(batch_size, drop_remainder=True).prefetch(1)"
   ]
  },
  {
   "cell_type": "code",
   "execution_count": null,
   "metadata": {},
   "outputs": [],
   "source": [
    "def plot_multiple_images(images, n_cols=None):\n",
    "    n_cols = n_cols or len(images)\n",
    "    n_rows = (len(images) - 1) // n_cols + 1\n",
    "    if images.shape[-1] == 1:\n",
    "        images = np.squeeze(images, axis=-1)\n",
    "    plt.figure(figsize=(n_cols, n_rows))\n",
    "    for index, image in enumerate(images):\n",
    "        plt.subplot(n_rows, n_cols, index + 1)\n",
    "        plt.imshow(image, cmap=\"binary\")\n",
    "        plt.axis(\"off\")"
   ]
  },
  {
   "cell_type": "code",
   "execution_count": null,
   "metadata": {},
   "outputs": [],
   "source": [
    "def train_gan(gan, dataset, batch_size, codings_size, n_epochs=50):\n",
    "    # 取出提前定义好的layer\n",
    "    generator, discriminator = gan.layers\n",
    "    for epoch in range(n_epochs):\n",
    "        # 进入一个epoch\n",
    "        print(\"Epoch {}/{}\".format(epoch + 1, n_epochs))              \n",
    "        # 进入一个batch\n",
    "        for X_batch in dataset:\n",
    "            \n",
    "            # phase 1 - training the discriminator\n",
    "            noise = tf.random.normal(shape=[batch_size, codings_size])  # 生成随机噪音\n",
    "            generated_images = generator(noise)                         # 生成图片\n",
    "            X_fake_and_real = tf.concat([generated_images, X_batch], axis=0) # 将真实图片和虚假图片拼接成2*batch的大小\n",
    "            y1 = tf.constant([[0.]] * batch_size + [[1.]] * batch_size) # 生成y\n",
    "            discriminator.trainable = True                              # 设置辨别器可训练\n",
    "            discriminator.train_on_batch(X_fake_and_real, y1)           # 在batch上对辨别器进行训练\n",
    "            \n",
    "            # phase 2 - training the generator\n",
    "            noise = tf.random.normal(shape=[batch_size, codings_size])  # 再次生成随机噪音\n",
    "            y2 = tf.constant([[1.]] * batch_size)                       # 对于这些噪音的y都取1\n",
    "            discriminator.trainable = False                             # 固定辨别器\n",
    "            # 这里实际上是固定辨别器，让生成器产生图片，这些图片的标签都是1，所以为了减小损失，生成器被迫产生逼真的图片\n",
    "            gan.train_on_batch(noise, y2)                               # 训练生成器\n",
    "            \n",
    "        plot_multiple_images(generated_images, 8)                 \n",
    "        plt.show()    "
   ]
  },
  {
   "cell_type": "markdown",
   "metadata": {},
   "source": [
    "## 练习"
   ]
  },
  {
   "cell_type": "markdown",
   "metadata": {},
   "source": [
    "### 使用二元自编码器进行Hash编码"
   ]
  },
  {
   "cell_type": "markdown",
   "metadata": {},
   "source": [
    "这里我们仍然使用minist数据集，目的是为每个图片产生其独特的hash编码"
   ]
  },
  {
   "cell_type": "code",
   "execution_count": 28,
   "metadata": {},
   "outputs": [],
   "source": [
    "(X_train_full, y_train_full), (X_test, y_test) = keras.datasets.fashion_mnist.load_data()\n",
    "X_train_full = X_train_full.astype(np.float32) / 255\n",
    "X_test = X_test.astype(np.float32) / 255\n",
    "X_train, X_valid = X_train_full[:-5000], X_train_full[-5000:]\n",
    "y_train, y_valid = y_train_full[:-5000], y_train_full[-5000:]"
   ]
  },
  {
   "cell_type": "markdown",
   "metadata": {},
   "source": [
    "我们的编码一共有16位，要实现这一点，我们需要构建一个具有16位输出的AE，并且为了保证输出是二元的，使用sigmiod激活。在sigmoid层之前，我们加入一个非常大的高斯噪音，这会迫使噪音前的layer输出尽可能大的值，不然输出就会被噪音消灭，而大的输出会使得sigmoid的值非常接近0或1，这是我们想要达到的效果。"
   ]
  },
  {
   "cell_type": "markdown",
   "metadata": {},
   "source": [
    "如果训练成果的话，对于相似的图片，编码器会给出相同的编码。"
   ]
  },
  {
   "cell_type": "code",
   "execution_count": 29,
   "metadata": {},
   "outputs": [
    {
     "name": "stdout",
     "output_type": "stream",
     "text": [
      "Epoch 1/10\n",
      "1719/1719 [==============================] - 5s 2ms/step - loss: 0.4462 - rounded_accuracy: 0.7827 - val_loss: 0.3881 - val_rounded_accuracy: 0.8251\n",
      "Epoch 2/10\n",
      "1719/1719 [==============================] - 4s 2ms/step - loss: 0.3712 - rounded_accuracy: 0.8455 - val_loss: 0.3706 - val_rounded_accuracy: 0.8402\n",
      "Epoch 3/10\n",
      "1719/1719 [==============================] - 4s 2ms/step - loss: 0.3587 - rounded_accuracy: 0.8567 - val_loss: 0.3619 - val_rounded_accuracy: 0.8514\n",
      "Epoch 4/10\n",
      "1719/1719 [==============================] - 4s 2ms/step - loss: 0.3532 - rounded_accuracy: 0.8631 - val_loss: 0.3559 - val_rounded_accuracy: 0.8614\n",
      "Epoch 5/10\n",
      "1719/1719 [==============================] - 4s 2ms/step - loss: 0.3486 - rounded_accuracy: 0.8680 - val_loss: 0.3472 - val_rounded_accuracy: 0.8689\n",
      "Epoch 6/10\n",
      "1719/1719 [==============================] - 4s 2ms/step - loss: 0.3467 - rounded_accuracy: 0.8704 - val_loss: 0.3448 - val_rounded_accuracy: 0.8747\n",
      "Epoch 7/10\n",
      "1719/1719 [==============================] - 4s 2ms/step - loss: 0.3435 - rounded_accuracy: 0.8734 - val_loss: 0.3419 - val_rounded_accuracy: 0.8750\n",
      "Epoch 8/10\n",
      "1719/1719 [==============================] - 4s 2ms/step - loss: 0.3411 - rounded_accuracy: 0.8756 - val_loss: 0.3398 - val_rounded_accuracy: 0.8821\n",
      "Epoch 9/10\n",
      "1719/1719 [==============================] - 4s 2ms/step - loss: 0.3408 - rounded_accuracy: 0.8761 - val_loss: 0.3360 - val_rounded_accuracy: 0.8864\n",
      "Epoch 10/10\n",
      "1719/1719 [==============================] - 4s 2ms/step - loss: 0.3386 - rounded_accuracy: 0.8783 - val_loss: 0.3382 - val_rounded_accuracy: 0.8809\n"
     ]
    }
   ],
   "source": [
    "tf.random.set_seed(42)\n",
    "np.random.seed(42)\n",
    "\n",
    "hashing_encoder = keras.models.Sequential([\n",
    "    keras.layers.Flatten(input_shape=[28, 28]),\n",
    "    keras.layers.Dense(100, activation=\"selu\"),\n",
    "    keras.layers.GaussianNoise(15.),            # 量级很大的高斯噪音\n",
    "    keras.layers.Dense(16, activation=\"sigmoid\"),\n",
    "])\n",
    "\n",
    "hashing_decoder = keras.models.Sequential([\n",
    "    keras.layers.Dense(100, activation=\"selu\", input_shape=[16]),\n",
    "    keras.layers.Dense(28 * 28, activation=\"sigmoid\"),\n",
    "    keras.layers.Reshape([28, 28])\n",
    "])\n",
    "\n",
    "hashing_ae = keras.models.Sequential([hashing_encoder, hashing_decoder])\n",
    "\n",
    "hashing_ae.compile(loss=\"binary_crossentropy\", optimizer=keras.optimizers.Nadam(),\n",
    "                   metrics=[rounded_accuracy])\n",
    "\n",
    "history = hashing_ae.fit(X_train, X_train, epochs=10,\n",
    "                         validation_data=(X_valid, X_valid))"
   ]
  },
  {
   "cell_type": "code",
   "execution_count": 36,
   "metadata": {},
   "outputs": [
    {
     "name": "stdout",
     "output_type": "stream",
     "text": [
      "0000100101011011\n",
      "0000100100110011\n",
      "0100100100011011\n",
      "0001100111001010\n",
      "0001010100110000\n",
      "...\n"
     ]
    }
   ],
   "source": [
    "# 使用训练好的encoder对于实例进行编码\n",
    "hashes = np.round(hashing_encoder.predict(X_valid)).astype(np.int32)\n",
    "# 将编码从2进制转换为10进制\n",
    "hashes *= np.array([[2**bit for bit in range(16)]])\n",
    "hashes = hashes.sum(axis=1)\n",
    "# 查看10进制数的2进制数\n",
    "for h in hashes[:5]:\n",
    "    print(\"{:016b}\".format(h))\n",
    "print(\"...\")"
   ]
  },
  {
   "cell_type": "code",
   "execution_count": 37,
   "metadata": {},
   "outputs": [
    {
     "data": {
      "image/png": "[encoded data removed]",
      "text/plain": [
       "<Figure size 576x720 with 80 Axes>"
      ]
     },
     "metadata": {
      "needs_background": "light"
     },
     "output_type": "display_data"
    }
   ],
   "source": [
    "# 查看最常见的一些hash值以及其对应的一些图片实例\n",
    "from collections import Counter\n",
    "\n",
    "n_hashes = 10\n",
    "n_images = 8\n",
    "\n",
    "top_hashes = Counter(hashes).most_common(n_hashes)\n",
    "\n",
    "plt.figure(figsize=(n_images, n_hashes))\n",
    "for hash_index, (image_hash, hash_count) in enumerate(top_hashes):\n",
    "    indices = (hashes == image_hash)\n",
    "    for index, image in enumerate(X_valid[indices][:n_images]):\n",
    "        plt.subplot(n_hashes, n_images, hash_index * n_images + index + 1)\n",
    "        plt.imshow(image, cmap=\"binary\")\n",
    "        plt.axis(\"off\")"
   ]
  },
  {
   "cell_type": "markdown",
   "metadata": {},
   "source": []
  }
 ],
 "metadata": {
  "interpreter": {
   "hash": "fa8a06d36b279aff12d291b533b6cacfb1c25632eb9ec6576ca956c889e04cc7"
  },
  "kernelspec": {
   "display_name": "Python 3.7.10 64-bit ('tf2': conda)",
   "name": "python3"
  },
  "language_info": {
   "codemirror_mode": {
    "name": "ipython",
    "version": 3
   },
   "file_extension": ".py",
   "mimetype": "text/x-python",
   "name": "python",
   "nbconvert_exporter": "python",
   "pygments_lexer": "ipython3",
   "version": "3.7.10"
  },
  "orig_nbformat": 4
 },
 "nbformat": 4,
 "nbformat_minor": 2
}
